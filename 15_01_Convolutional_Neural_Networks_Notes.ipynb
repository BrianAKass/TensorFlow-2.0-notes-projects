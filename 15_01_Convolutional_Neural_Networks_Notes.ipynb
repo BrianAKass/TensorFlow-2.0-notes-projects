{
  "nbformat": 4,
  "nbformat_minor": 0,
  "metadata": {
    "colab": {
      "name": "15-01 Convolutional Neural Networks Notes.ipynb",
      "version": "0.3.2",
      "provenance": []
    },
    "kernelspec": {
      "name": "python3",
      "display_name": "Python 3"
    }
  },
  "cells": [
    {
      "cell_type": "markdown",
      "metadata": {
        "id": "CfuzbZo81ca5",
        "colab_type": "text"
      },
      "source": [
        "# What are Convolutional Neural Networks?\n",
        "\n",
        "What do you see? is the person looking front or right?\n",
        "\n",
        "![alt text](https://i.imgur.com/VwafbE2.png)\n",
        "\n",
        "Images like that tell us how our brain does it's best to interpret two conflicting features based on what we know in our realities. You Have seen many optical illusions that work along this principle. Ultimately your brain is doing the best it can to sort the visual information given based on real world interactions. But images are not limited by these things and can be distorted to create images that challenge these fundumenatal things we have instinctually applied in our lives. \n",
        "\n",
        "This is the underlining challenge we give Convolutional Neural Networks.  Here are some examples we give in a test set. \n",
        "\n",
        "![alt text](https://i.imgur.com/oQ4DEUm.png)\n",
        "\n",
        "And now here is how it determines the images. \n",
        "\n",
        "![alt text](https://i.imgur.com/88lcWmb.png)\n",
        "\n",
        "on the last image, it became diffficult for the neural network to determine a more clear cut answer. \n",
        "\n",
        "This remakable technology has gained popularity in recent years due to it's approach or problem solving. Outstaging artifical neural networks. \n",
        "\n",
        "So how do they work? \n",
        "\n",
        "Lets start with the input image, CNN, and the output label aka Image class.\n",
        "\n",
        "\n",
        "![alt text](https://i.imgur.com/Via2QEH.png)\n",
        "\n",
        "And in said images we are trying to figure out if somone is happy or sad. So how would a Neural network determine this?\n",
        "\n",
        "Lets say we have two images one is black and white and the other is in color. both are 2x2px the black an white image is a 2d array to the CNN because remember the Neural netowrk looks at values between 0 and 255 and since we are only seeing in black and white it's 2 dimensional. So in contrast the colored image is seen as 3 dimensional. classic rgb layers and what not\n",
        "\n",
        "\n",
        "![alt text](https://i.imgur.com/TWVxkQ7.png)\n",
        "\n",
        "\n",
        "so when we look at the image of a happy person or a sad person its really checking the values of the image. This is why we typically remove the 255 values when we are training images.\n",
        "\n",
        "![alt text](https://i.imgur.com/ilaTPuw.png)\n",
        "\n",
        "\n",
        "\n",
        "Additional reading \n",
        "\n",
        "Gradient Based Learning Applied to Document Recognition\n",
        "\n",
        "By Yann LeCun et al. (1998)\n",
        "\n",
        "Link:\n",
        "\n",
        "http://vision.stanford.edu/cs598_spring07/papers/Lecun98.pdf"
      ]
    },
    {
      "cell_type": "markdown",
      "metadata": {
        "id": "LXEyNAGp1chj",
        "colab_type": "text"
      },
      "source": [
        ""
      ]
    },
    {
      "cell_type": "markdown",
      "metadata": {
        "id": "IHPAGNZy1ckX",
        "colab_type": "text"
      },
      "source": [
        ""
      ]
    },
    {
      "cell_type": "markdown",
      "metadata": {
        "id": "q-XgCnHp1cm9",
        "colab_type": "text"
      },
      "source": [
        ""
      ]
    },
    {
      "cell_type": "markdown",
      "metadata": {
        "id": "Cg2URooN1cpc",
        "colab_type": "text"
      },
      "source": [
        ""
      ]
    },
    {
      "cell_type": "markdown",
      "metadata": {
        "id": "Z5PsFvdN1csR",
        "colab_type": "text"
      },
      "source": [
        ""
      ]
    },
    {
      "cell_type": "markdown",
      "metadata": {
        "id": "a0bD5tJB1cvD",
        "colab_type": "text"
      },
      "source": [
        ""
      ]
    },
    {
      "cell_type": "markdown",
      "metadata": {
        "id": "LIqsOfEY1cx0",
        "colab_type": "text"
      },
      "source": [
        ""
      ]
    },
    {
      "cell_type": "markdown",
      "metadata": {
        "id": "maDL6z2J1c0-",
        "colab_type": "text"
      },
      "source": [
        ""
      ]
    },
    {
      "cell_type": "markdown",
      "metadata": {
        "id": "aNEjvTGl1c4A",
        "colab_type": "text"
      },
      "source": [
        ""
      ]
    },
    {
      "cell_type": "markdown",
      "metadata": {
        "id": "Do9kJwwn1dEd",
        "colab_type": "text"
      },
      "source": [
        ""
      ]
    },
    {
      "cell_type": "markdown",
      "metadata": {
        "id": "Zz8YAzlm1dPd",
        "colab_type": "text"
      },
      "source": [
        ""
      ]
    }
  ]
}