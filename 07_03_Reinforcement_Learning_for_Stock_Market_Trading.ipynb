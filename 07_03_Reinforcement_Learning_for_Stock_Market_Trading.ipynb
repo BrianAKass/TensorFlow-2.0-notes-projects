{
  "nbformat": 4,
  "nbformat_minor": 0,
  "metadata": {
    "colab": {
      "name": "07-03 Reinforcement Learning for Stock Market Trading.ipynb",
      "version": "0.3.2",
      "provenance": []
    },
    "kernelspec": {
      "name": "python3",
      "display_name": "Python 3"
    },
    "accelerator": "GPU"
  },
  "cells": [
    {
      "cell_type": "markdown",
      "metadata": {
        "id": "7BW67to5SwJa",
        "colab_type": "text"
      },
      "source": [
        "## Stage 1: Installing dependencies and enviornment setup for stock trading. "
      ]
    },
    {
      "cell_type": "code",
      "metadata": {
        "id": "jGx3o9GVSgpC",
        "colab_type": "code",
        "colab": {
          "base_uri": "https://localhost:8080/",
          "height": 258
        },
        "outputId": "7848990a-3a74-4edb-f16d-c33c3b913978"
      },
      "source": [
        "## Google just rolled out a new successor to 2.0.0 beta colab only.\n",
        "#might have to fix this later to get things working. \n",
        "# version still outpusts to 2.0.0-beta 1 so ill stick with the standard pip for now.\n",
        "# that way i can send it in theory to jupyter later if need be. \n",
        "\n",
        "try:\n",
        "  #%tensorflow_version 2.x  # Colab only. \n",
        "  !pip install -q tensorflow-gpu==2.0.0-beta1\n",
        "except Exception:\n",
        "  pass\n",
        "import tensorflow as tf\n",
        "!pip install pandas-datareader"
      ],
      "execution_count": 1,
      "outputs": [
        {
          "output_type": "stream",
          "text": [
            "Requirement already satisfied: pandas-datareader in /usr/local/lib/python3.6/dist-packages (0.7.4)\n",
            "Requirement already satisfied: wrapt in /usr/local/lib/python3.6/dist-packages (from pandas-datareader) (1.11.2)\n",
            "Requirement already satisfied: requests>=2.3.0 in /usr/local/lib/python3.6/dist-packages (from pandas-datareader) (2.21.0)\n",
            "Requirement already satisfied: lxml in /usr/local/lib/python3.6/dist-packages (from pandas-datareader) (4.2.6)\n",
            "Requirement already satisfied: pandas>=0.19.2 in /usr/local/lib/python3.6/dist-packages (from pandas-datareader) (0.24.2)\n",
            "Requirement already satisfied: chardet<3.1.0,>=3.0.2 in /usr/local/lib/python3.6/dist-packages (from requests>=2.3.0->pandas-datareader) (3.0.4)\n",
            "Requirement already satisfied: certifi>=2017.4.17 in /usr/local/lib/python3.6/dist-packages (from requests>=2.3.0->pandas-datareader) (2019.6.16)\n",
            "Requirement already satisfied: urllib3<1.25,>=1.21.1 in /usr/local/lib/python3.6/dist-packages (from requests>=2.3.0->pandas-datareader) (1.24.3)\n",
            "Requirement already satisfied: idna<2.9,>=2.5 in /usr/local/lib/python3.6/dist-packages (from requests>=2.3.0->pandas-datareader) (2.8)\n",
            "Requirement already satisfied: python-dateutil>=2.5.0 in /usr/local/lib/python3.6/dist-packages (from pandas>=0.19.2->pandas-datareader) (2.5.3)\n",
            "Requirement already satisfied: pytz>=2011k in /usr/local/lib/python3.6/dist-packages (from pandas>=0.19.2->pandas-datareader) (2018.9)\n",
            "Requirement already satisfied: numpy>=1.12.0 in /usr/local/lib/python3.6/dist-packages (from pandas>=0.19.2->pandas-datareader) (1.16.4)\n",
            "Requirement already satisfied: six>=1.5 in /usr/local/lib/python3.6/dist-packages (from python-dateutil>=2.5.0->pandas>=0.19.2->pandas-datareader) (1.12.0)\n"
          ],
          "name": "stdout"
        }
      ]
    },
    {
      "cell_type": "markdown",
      "metadata": {
        "id": "KIOnd7hpVAe0",
        "colab_type": "text"
      },
      "source": [
        "## Step 2 Import Dependencies. "
      ]
    },
    {
      "cell_type": "code",
      "metadata": {
        "id": "jtOZbTs-TIMm",
        "colab_type": "code",
        "colab": {
          "base_uri": "https://localhost:8080/",
          "height": 34
        },
        "outputId": "e83802cf-a070-46d5-fcf9-26c6162aa6e9"
      },
      "source": [
        "import math #need for sigmoid functions\n",
        "import random # generating random numbers\n",
        "import numpy as np # helps with arrays and matrices\n",
        "import pandas as pd #reading dataframes and reading the csv we will use\n",
        "import tensorflow as tf # the big guns\n",
        "import matplotlib.pyplot as plt #data visualization\n",
        "import pandas_datareader as data_reader #download and use stock info\n",
        "\n",
        "from tqdm import tqdm_notebook, tqdm #visualizes our progress\n",
        "from collections import deque # implements experience replay.\n",
        "tf.__version__"
      ],
      "execution_count": 2,
      "outputs": [
        {
          "output_type": "execute_result",
          "data": {
            "text/plain": [
              "'2.0.0-beta1'"
            ]
          },
          "metadata": {
            "tags": []
          },
          "execution_count": 2
        }
      ]
    },
    {
      "cell_type": "markdown",
      "metadata": {
        "id": "ibSFprJscpvR",
        "colab_type": "text"
      },
      "source": [
        "## Step 3 building an AI network"
      ]
    },
    {
      "cell_type": "code",
      "metadata": {
        "id": "yAA8VBemUELt",
        "colab_type": "code",
        "colab": {}
      },
      "source": [
        "class AI_Trader():\n",
        "  \n",
        "  def __init__(self, state_size, action_space = 3, model_name = \"AITrader\"): #Three actions: Stay, Buy, and Sell\n",
        "    \n",
        "    self.state_size = state_size\n",
        "    self.action_space = action_space\n",
        "    \n",
        "    #more model realted params\n",
        "    #experience replay memory\n",
        "    self.memory = deque(maxlen=2000) # how many elements we can store inside experience replay\n",
        "    self.inventory = [] # Blank list to hold all our stocks\n",
        "    self.model_name = model_name\n",
        "    \n",
        "    #see reinforcement learning notes to jog memory of these formulas \n",
        "    self.gamma = 0.95 # maximizes current reward over longtime reward\n",
        "    self.epsilon = 1.0 # determines whether to choose random action, or model. We choose random before trained in this case\n",
        "    self.epsilon_final = 0.01 #when equal to or less we will stop decreasing it.\n",
        "    self.epsilon_decay = 0.995 #must be less than 1\n",
        "    \n",
        "    self.model = self.model_builder()\n",
        "  \n",
        "  def model_builder(self):\n",
        "    \n",
        "    model = tf.keras.models.Sequential() #models not model get the syntax right\n",
        "    \n",
        "    # hidden layers\n",
        "    \n",
        "    model.add(tf.keras.layers.Dense(units = 32, activation='relu', input_dim = self.state_size))\n",
        "    \n",
        "    model.add(tf.keras.layers.Dense(units = 64, activation='relu'))\n",
        "    \n",
        "    model.add(tf.keras.layers.Dense(units = 128, activation='relu'))\n",
        "    \n",
        "    # output layer\n",
        "    \n",
        "    model.add(tf.keras.layers.Dense(units = self.action_space, activation = 'linear')) #change acivation to linear for mean squared error\n",
        "    \n",
        "    #compile\n",
        "    # since this is regression and not classification, cant use accuracy as metric, we leave that empty\n",
        "    model.compile(loss='mse', optimizer = tf.keras.optimizers.Adam(lr=0.001)) #lr = learning rate\n",
        "    \n",
        "    return model\n",
        "  \n",
        "  #build trade function that takes state and performs an action based on it. \n",
        "  def trade(self,state):\n",
        "    \n",
        "    if random.random() <= self.epsilon:\n",
        "      #returns random action\n",
        "      return random.randrange(self.action_space)\n",
        "    #if random number is bigger than epsilon we use our model to choose an action to perform\n",
        "    actions = self.model.predict(state)\n",
        "    return np.argmax(actions[0])\n",
        "  \n",
        "  #train the model in batches\n",
        "  def batch_train(self, batch_size):\n",
        "    #select data from experiance replay memory\n",
        "    batch = []\n",
        "    #iteration time append recent stock memory to batch\n",
        "    for i in range (len(self.memory) - batch_size + 1, len(self.memory)):\n",
        "      batch.append(self.memory[i])\n",
        "      \n",
        "    #iterate the batch\n",
        "    \n",
        "    #remember the variable s to the temporal differential equation in the previous notes. \n",
        "    for state, action, reward, next_state, done in batch:\n",
        "      #if agent is in a terminal state we will use current reward as reward\n",
        "      reward = reward\n",
        "      if not done: #not in terminal state and there are a few more actions to be played\n",
        "        # if not in terminal state and there are few more actions to be played calculate discounted terminal reward as reward        \n",
        "        reward = reward + self.gamma * np.amax(self.model.predict(next_state)[0])\n",
        "      \n",
        "      target = self.model.predict(state) #just an action. must modify with current reward\n",
        "      target[0][action] = reward\n",
        "      \n",
        "      #feed the model\n",
        "      self.model.fit(state, target, epochs=1, verbose=0)\n",
        "      \n",
        "    #decrease epsilon param to stop performing random actions eventaully \n",
        "    if self.epsilon > self.epsilon_final:\n",
        "      self.epsilon *= self.epsilon_decay"
      ],
      "execution_count": 0,
      "outputs": []
    },
    {
      "cell_type": "markdown",
      "metadata": {
        "id": "3VqE1I5JvKa0",
        "colab_type": "text"
      },
      "source": [
        "## Step 4 Dataset Preprocessing"
      ]
    },
    {
      "cell_type": "markdown",
      "metadata": {
        "id": "-8TnQvcGvTGr",
        "colab_type": "text"
      },
      "source": [
        "### Sigmoid"
      ]
    },
    {
      "cell_type": "code",
      "metadata": {
        "id": "oB72Ywi2uD-U",
        "colab_type": "code",
        "colab": {}
      },
      "source": [
        "#scales to either 0 or 1 for binary classification\n",
        "def sigmoid(x):\n",
        "  # scale prices to compare and gather real differneces between each day\n",
        "  return 1 / (1+math.exp(-x))"
      ],
      "execution_count": 0,
      "outputs": []
    },
    {
      "cell_type": "markdown",
      "metadata": {
        "id": "08ZDmqzOB1Np",
        "colab_type": "text"
      },
      "source": [
        "### Price format function"
      ]
    },
    {
      "cell_type": "code",
      "metadata": {
        "id": "QMSlHnvaB4aA",
        "colab_type": "code",
        "colab": {}
      },
      "source": [
        "def stocks_price_format(n):\n",
        "  if n < 0 :\n",
        "  #returns positive or negative\n",
        "    return \"- $ {0:2f}\".format(abs(n))\n",
        "  else:\n",
        "    return \"$ {0:2f}\".format(abs(n))"
      ],
      "execution_count": 0,
      "outputs": []
    },
    {
      "cell_type": "markdown",
      "metadata": {
        "id": "fEVQQBc5B4vh",
        "colab_type": "text"
      },
      "source": [
        "### Dataset loader"
      ]
    },
    {
      "cell_type": "code",
      "metadata": {
        "id": "1E0XdiTKDoZB",
        "colab_type": "code",
        "colab": {}
      },
      "source": [
        "#dataset = data_reader.DataReader(\"AAPL\", data_source='yahoo')"
      ],
      "execution_count": 0,
      "outputs": []
    },
    {
      "cell_type": "code",
      "metadata": {
        "id": "7m3JWZEbB7_U",
        "colab_type": "code",
        "colab": {}
      },
      "source": [
        "def dataset_loader(stock_name):\n",
        "  \n",
        "  dataset = data_reader.DataReader(stock_name, data_source='yahoo')\n",
        "  \n",
        "  start_date = str(dataset.index[0]).split()[0]\n",
        "  end_date = str(dataset.index[-1]).split()[0]\n",
        "  \n",
        "  close = dataset['Close']\n",
        "  \n",
        "  return close"
      ],
      "execution_count": 0,
      "outputs": []
    },
    {
      "cell_type": "code",
      "metadata": {
        "id": "FVLS7g2v-Rx6",
        "colab_type": "code",
        "colab": {
          "base_uri": "https://localhost:8080/",
          "height": 235
        },
        "outputId": "44e0e743-da97-48b6-85e1-16fe49942027"
      },
      "source": [
        "dataset = data_reader.DataReader(\"AAPL\", data_source='yahoo')\n",
        "dataset.head()"
      ],
      "execution_count": 8,
      "outputs": [
        {
          "output_type": "execute_result",
          "data": {
            "text/html": [
              "<div>\n",
              "<style scoped>\n",
              "    .dataframe tbody tr th:only-of-type {\n",
              "        vertical-align: middle;\n",
              "    }\n",
              "\n",
              "    .dataframe tbody tr th {\n",
              "        vertical-align: top;\n",
              "    }\n",
              "\n",
              "    .dataframe thead th {\n",
              "        text-align: right;\n",
              "    }\n",
              "</style>\n",
              "<table border=\"1\" class=\"dataframe\">\n",
              "  <thead>\n",
              "    <tr style=\"text-align: right;\">\n",
              "      <th></th>\n",
              "      <th>High</th>\n",
              "      <th>Low</th>\n",
              "      <th>Open</th>\n",
              "      <th>Close</th>\n",
              "      <th>Volume</th>\n",
              "      <th>Adj Close</th>\n",
              "    </tr>\n",
              "    <tr>\n",
              "      <th>Date</th>\n",
              "      <th></th>\n",
              "      <th></th>\n",
              "      <th></th>\n",
              "      <th></th>\n",
              "      <th></th>\n",
              "      <th></th>\n",
              "    </tr>\n",
              "  </thead>\n",
              "  <tbody>\n",
              "    <tr>\n",
              "      <th>2010-01-04</th>\n",
              "      <td>30.642857</td>\n",
              "      <td>30.340000</td>\n",
              "      <td>30.490000</td>\n",
              "      <td>30.572857</td>\n",
              "      <td>123432400.0</td>\n",
              "      <td>26.681330</td>\n",
              "    </tr>\n",
              "    <tr>\n",
              "      <th>2010-01-05</th>\n",
              "      <td>30.798571</td>\n",
              "      <td>30.464285</td>\n",
              "      <td>30.657143</td>\n",
              "      <td>30.625713</td>\n",
              "      <td>150476200.0</td>\n",
              "      <td>26.727465</td>\n",
              "    </tr>\n",
              "    <tr>\n",
              "      <th>2010-01-06</th>\n",
              "      <td>30.747143</td>\n",
              "      <td>30.107143</td>\n",
              "      <td>30.625713</td>\n",
              "      <td>30.138571</td>\n",
              "      <td>138040000.0</td>\n",
              "      <td>26.302330</td>\n",
              "    </tr>\n",
              "    <tr>\n",
              "      <th>2010-01-07</th>\n",
              "      <td>30.285715</td>\n",
              "      <td>29.864286</td>\n",
              "      <td>30.250000</td>\n",
              "      <td>30.082857</td>\n",
              "      <td>119282800.0</td>\n",
              "      <td>26.253704</td>\n",
              "    </tr>\n",
              "    <tr>\n",
              "      <th>2010-01-08</th>\n",
              "      <td>30.285715</td>\n",
              "      <td>29.865715</td>\n",
              "      <td>30.042856</td>\n",
              "      <td>30.282858</td>\n",
              "      <td>111902700.0</td>\n",
              "      <td>26.428249</td>\n",
              "    </tr>\n",
              "  </tbody>\n",
              "</table>\n",
              "</div>"
            ],
            "text/plain": [
              "                 High        Low       Open      Close       Volume  Adj Close\n",
              "Date                                                                          \n",
              "2010-01-04  30.642857  30.340000  30.490000  30.572857  123432400.0  26.681330\n",
              "2010-01-05  30.798571  30.464285  30.657143  30.625713  150476200.0  26.727465\n",
              "2010-01-06  30.747143  30.107143  30.625713  30.138571  138040000.0  26.302330\n",
              "2010-01-07  30.285715  29.864286  30.250000  30.082857  119282800.0  26.253704\n",
              "2010-01-08  30.285715  29.865715  30.042856  30.282858  111902700.0  26.428249"
            ]
          },
          "metadata": {
            "tags": []
          },
          "execution_count": 8
        }
      ]
    },
    {
      "cell_type": "markdown",
      "metadata": {
        "id": "H1kctAdzcIY5",
        "colab_type": "text"
      },
      "source": [
        "### State creator"
      ]
    },
    {
      "cell_type": "code",
      "metadata": {
        "id": "nW_lIY2WZGZM",
        "colab_type": "code",
        "colab": {}
      },
      "source": [
        "def state_creator(data, timestep, window_size):\n",
        "  \n",
        "  starting_id = timestep - window_size + 1\n",
        "  \n",
        "  if starting_id >= 0:\n",
        "    windowed_data = data[starting_id: timestep+1]\n",
        "  else:\n",
        "    windowed_data = - starting_id * [data[0]] + list(data[0:timestep+1])\n",
        "    \n",
        "  state = []\n",
        "  for i in range(window_size - 1):\n",
        "    state.append(sigmoid(windowed_data[i+1] - windowed_data[i]))\n",
        "    \n",
        "  return np.array([state])"
      ],
      "execution_count": 0,
      "outputs": []
    },
    {
      "cell_type": "markdown",
      "metadata": {
        "id": "v6lYyDDAy5RH",
        "colab_type": "text"
      },
      "source": [
        "### Loading a dataset"
      ]
    },
    {
      "cell_type": "code",
      "metadata": {
        "id": "CuLkhuZHZ04E",
        "colab_type": "code",
        "colab": {}
      },
      "source": [
        "stock_name = \"AAPL\"\n",
        "data = dataset_loader(stock_name)"
      ],
      "execution_count": 0,
      "outputs": []
    },
    {
      "cell_type": "markdown",
      "metadata": {
        "id": "OrgV_1lY-mdI",
        "colab_type": "text"
      },
      "source": [
        "## Stage 5: Training the AI Trader"
      ]
    },
    {
      "cell_type": "markdown",
      "metadata": {
        "id": "NPRq8TbJrAiX",
        "colab_type": "text"
      },
      "source": [
        "### Setting hyper parameters"
      ]
    },
    {
      "cell_type": "code",
      "metadata": {
        "id": "0kR86BfI-_LB",
        "colab_type": "code",
        "colab": {}
      },
      "source": [
        "window_size = 10 # previous number of of days to predict the current \n",
        "episodes = 1000 #same as epochs\n",
        "\n",
        "batch_size = 32\n",
        "data_samples = len(data) - 1 "
      ],
      "execution_count": 0,
      "outputs": []
    },
    {
      "cell_type": "markdown",
      "metadata": {
        "id": "XREqz2VR-6pG",
        "colab_type": "text"
      },
      "source": [
        "### Defining the Trader model."
      ]
    },
    {
      "cell_type": "code",
      "metadata": {
        "id": "rxVFu8AI_A1E",
        "colab_type": "code",
        "colab": {}
      },
      "source": [
        "#aka assigning the big class we wrote Just need to specify state_size which is our window_size\n",
        "trader = AI_Trader(window_size)"
      ],
      "execution_count": 0,
      "outputs": []
    },
    {
      "cell_type": "code",
      "metadata": {
        "id": "hZiTkW_sB9VR",
        "colab_type": "code",
        "colab": {
          "base_uri": "https://localhost:8080/",
          "height": 289
        },
        "outputId": "99d40e7c-cb42-45b7-d29d-fdf5ac885acf"
      },
      "source": [
        "trader.model.summary()"
      ],
      "execution_count": 13,
      "outputs": [
        {
          "output_type": "stream",
          "text": [
            "Model: \"sequential\"\n",
            "_________________________________________________________________\n",
            "Layer (type)                 Output Shape              Param #   \n",
            "=================================================================\n",
            "dense (Dense)                (None, 32)                352       \n",
            "_________________________________________________________________\n",
            "dense_1 (Dense)              (None, 64)                2112      \n",
            "_________________________________________________________________\n",
            "dense_2 (Dense)              (None, 128)               8320      \n",
            "_________________________________________________________________\n",
            "dense_3 (Dense)              (None, 3)                 387       \n",
            "=================================================================\n",
            "Total params: 11,171\n",
            "Trainable params: 11,171\n",
            "Non-trainable params: 0\n",
            "_________________________________________________________________\n"
          ],
          "name": "stdout"
        }
      ]
    },
    {
      "cell_type": "markdown",
      "metadata": {
        "id": "fg2KbySBD8WP",
        "colab_type": "text"
      },
      "source": [
        "### Training Loop"
      ]
    },
    {
      "cell_type": "code",
      "metadata": {
        "id": "tf9Guq79CAWD",
        "colab_type": "code",
        "colab": {
          "base_uri": "https://localhost:8080/",
          "height": 663
        },
        "outputId": "3bd11bd2-217e-4d5e-956f-70f68c2674a0"
      },
      "source": [
        "for episode in range(episodes+1):  \n",
        "  \n",
        "  print(f\"Episode: {episode}/{episodes}\")\n",
        "  \n",
        "  #current timestep is 0\n",
        "  state = state_creator(data, 0, window_size + 1)\n",
        "  \n",
        "  total_profit = 0\n",
        "  #empty list to append all stocks bought\n",
        "  trader.inventory = []\n",
        "  \n",
        "  # define our timestamp \n",
        "  #tqdm is used to visualize the progress bar\n",
        "  for t in tqdm(range(data_samples)):\n",
        "    #access action taken by the model\n",
        "    action = trader.trade(state)\n",
        "    \n",
        "    next_state = state_creator(data, t+1, window_size + 1)\n",
        "    \n",
        "    reward = 0\n",
        "    \n",
        "    if action == 1: #buying\n",
        "      trader.inventory.append(data[t]) #current stock added to inventory\n",
        "      print(\"AI Trader bought: \", stocks_price_format(data[t]))\n",
        "      \n",
        "    elif action == 2 and len(trader.inventory) > 0: #selling \n",
        "      buy_price = trader.inventory.pop(0)\n",
        "      print(\"AI Trader sold: \", stocks_price_format(data[t]), \" Profit: \" + stocks_price_format(data[t] - buy_price) )\n",
        "      \n",
        "      \n",
        "      reward = max(data[t] - buy_price, 0)\n",
        "      total_profit += data[t] - buy_price\n",
        "    if t == data_samples - 1:\n",
        "      done = True\n",
        "    else:\n",
        "      done = False\n",
        "    \n",
        "    #append \n",
        "    trader.memory.append((state, action, reward, next_state, done))\n",
        "    \n",
        "    #change the state to the next state\n",
        "    \n",
        "    state = next_state\n",
        "    \n",
        "    if done:\n",
        "      print(\"######################\")\n",
        "      print(f\"TOTAL PROFIT: {total_profit}\")\n",
        "      print(\"######################\")\n",
        "      \n",
        "    if len(trader.memory) > batch_size:\n",
        "      trader.batch_train(batch_size)\n",
        "  if episode % 10 == 0:\n",
        "    trader.model.save(f\"ai_trader_{episode}.h5 \")"
      ],
      "execution_count": 0,
      "outputs": [
        {
          "output_type": "stream",
          "text": [
            "\r  0%|          | 0/2416 [00:00<?, ?it/s]"
          ],
          "name": "stderr"
        },
        {
          "output_type": "stream",
          "text": [
            "Episode: 0/1000\n",
            "AI Trader bought:  $ 30.082857\n",
            "AI Trader sold:  $ 30.282858  Profit: $ 0.200001\n",
            "AI Trader bought:  $ 29.918571\n",
            "AI Trader bought:  $ 29.418571\n",
            "AI Trader sold:  $ 30.719999  Profit: $ 0.801428\n",
            "AI Trader bought:  $ 30.247143\n",
            "AI Trader sold:  $ 28.250000  Profit: - $ 1.168571\n",
            "AI Trader sold:  $ 29.010000  Profit: - $ 1.237143\n",
            "AI Trader bought:  $ 29.697144\n",
            "AI Trader bought:  $ 28.469999\n",
            "AI Trader sold:  $ 28.461428  Profit: - $ 1.235716\n",
            "AI Trader sold:  $ 27.435715  Profit: - $ 1.034285\n",
            "AI Trader bought:  $ 27.922857\n",
            "AI Trader sold:  $ 28.935715  Profit: $ 1.012857\n"
          ],
          "name": "stdout"
        },
        {
          "output_type": "stream",
          "text": [
            "  1%|▏         | 34/2416 [00:01<03:44, 10.63it/s]"
          ],
          "name": "stderr"
        },
        {
          "output_type": "stream",
          "text": [
            "AI Trader bought:  $ 28.151428\n"
          ],
          "name": "stdout"
        },
        {
          "output_type": "stream",
          "text": [
            "\r  1%|▏         | 35/2416 [00:01<05:23,  7.37it/s]"
          ],
          "name": "stderr"
        },
        {
          "output_type": "stream",
          "text": [
            "AI Trader sold:  $ 28.665714  Profit: $ 0.514286\n"
          ],
          "name": "stdout"
        },
        {
          "output_type": "stream",
          "text": [
            "  2%|▏         | 38/2416 [00:02<07:51,  5.04it/s]"
          ],
          "name": "stderr"
        },
        {
          "output_type": "stream",
          "text": [
            "AI Trader bought:  $ 29.855715\n"
          ],
          "name": "stdout"
        },
        {
          "output_type": "stream",
          "text": [
            "  2%|▏         | 40/2416 [00:02<08:42,  4.55it/s]"
          ],
          "name": "stderr"
        },
        {
          "output_type": "stream",
          "text": [
            "AI Trader sold:  $ 29.904285  Profit: $ 0.048571\n"
          ],
          "name": "stdout"
        },
        {
          "output_type": "stream",
          "text": [
            "  2%|▏         | 42/2416 [00:03<08:57,  4.42it/s]"
          ],
          "name": "stderr"
        },
        {
          "output_type": "stream",
          "text": [
            "AI Trader bought:  $ 31.278572\n"
          ],
          "name": "stdout"
        },
        {
          "output_type": "stream",
          "text": [
            "\r  2%|▏         | 43/2416 [00:03<08:58,  4.40it/s]"
          ],
          "name": "stderr"
        },
        {
          "output_type": "stream",
          "text": [
            "AI Trader bought:  $ 31.297142\n"
          ],
          "name": "stdout"
        },
        {
          "output_type": "stream",
          "text": [
            "  2%|▏         | 45/2416 [00:03<09:06,  4.34it/s]"
          ],
          "name": "stderr"
        },
        {
          "output_type": "stream",
          "text": [
            "AI Trader bought:  $ 32.119999\n"
          ],
          "name": "stdout"
        },
        {
          "output_type": "stream",
          "text": [
            "\r  2%|▏         | 46/2416 [00:04<09:08,  4.32it/s]"
          ],
          "name": "stderr"
        },
        {
          "output_type": "stream",
          "text": [
            "AI Trader bought:  $ 32.214287\n"
          ],
          "name": "stdout"
        },
        {
          "output_type": "stream",
          "text": [
            "\r  2%|▏         | 47/2416 [00:04<09:07,  4.32it/s]"
          ],
          "name": "stderr"
        },
        {
          "output_type": "stream",
          "text": [
            "AI Trader sold:  $ 32.371429  Profit: $ 1.092857\n"
          ],
          "name": "stdout"
        },
        {
          "output_type": "stream",
          "text": [
            "\r  2%|▏         | 48/2416 [00:04<09:12,  4.29it/s]"
          ],
          "name": "stderr"
        },
        {
          "output_type": "stream",
          "text": [
            "AI Trader sold:  $ 31.977142  Profit: $ 0.680000\n"
          ],
          "name": "stdout"
        },
        {
          "output_type": "stream",
          "text": [
            "\r  2%|▏         | 49/2416 [00:04<09:19,  4.23it/s]"
          ],
          "name": "stderr"
        },
        {
          "output_type": "stream",
          "text": [
            "AI Trader sold:  $ 32.064285  Profit: - $ 0.055714\n"
          ],
          "name": "stdout"
        },
        {
          "output_type": "stream",
          "text": [
            "\r  2%|▏         | 50/2416 [00:05<09:25,  4.18it/s]"
          ],
          "name": "stderr"
        },
        {
          "output_type": "stream",
          "text": [
            "AI Trader sold:  $ 32.017143  Profit: - $ 0.197144\n"
          ],
          "name": "stdout"
        },
        {
          "output_type": "stream",
          "text": [
            "\r  2%|▏         | 51/2416 [00:05<09:18,  4.24it/s]"
          ],
          "name": "stderr"
        },
        {
          "output_type": "stream",
          "text": [
            "AI Trader bought:  $ 32.092857\n"
          ],
          "name": "stdout"
        },
        {
          "output_type": "stream",
          "text": [
            "\r  2%|▏         | 52/2416 [00:05<09:13,  4.27it/s]"
          ],
          "name": "stderr"
        },
        {
          "output_type": "stream",
          "text": [
            "AI Trader sold:  $ 31.750000  Profit: - $ 0.342857\n"
          ],
          "name": "stdout"
        },
        {
          "output_type": "stream",
          "text": [
            "\r  2%|▏         | 53/2416 [00:05<09:15,  4.26it/s]"
          ],
          "name": "stderr"
        },
        {
          "output_type": "stream",
          "text": [
            "AI Trader bought:  $ 32.107143\n"
          ],
          "name": "stdout"
        },
        {
          "output_type": "stream",
          "text": [
            "\r  2%|▏         | 54/2416 [00:06<09:11,  4.29it/s]"
          ],
          "name": "stderr"
        },
        {
          "output_type": "stream",
          "text": [
            "AI Trader sold:  $ 32.622856  Profit: $ 0.515713\n"
          ],
          "name": "stdout"
        },
        {
          "output_type": "stream",
          "text": [
            "\r  2%|▏         | 55/2416 [00:06<09:11,  4.28it/s]"
          ],
          "name": "stderr"
        },
        {
          "output_type": "stream",
          "text": [
            "AI Trader bought:  $ 32.767143\n"
          ],
          "name": "stdout"
        },
        {
          "output_type": "stream",
          "text": [
            "\r  2%|▏         | 56/2416 [00:06<09:09,  4.29it/s]"
          ],
          "name": "stderr"
        },
        {
          "output_type": "stream",
          "text": [
            "AI Trader sold:  $ 32.378571  Profit: - $ 0.388573\n"
          ],
          "name": "stdout"
        },
        {
          "output_type": "stream",
          "text": [
            "  3%|▎         | 61/2416 [00:07<09:13,  4.26it/s]"
          ],
          "name": "stderr"
        },
        {
          "output_type": "stream",
          "text": [
            "AI Trader bought:  $ 33.709999\n"
          ],
          "name": "stdout"
        },
        {
          "output_type": "stream",
          "text": [
            "  3%|▎         | 64/2416 [00:08<09:09,  4.28it/s]"
          ],
          "name": "stderr"
        },
        {
          "output_type": "stream",
          "text": [
            "AI Trader bought:  $ 34.371429\n"
          ],
          "name": "stdout"
        },
        {
          "output_type": "stream",
          "text": [
            "\r  3%|▎         | 65/2416 [00:08<09:05,  4.31it/s]"
          ],
          "name": "stderr"
        },
        {
          "output_type": "stream",
          "text": [
            "AI Trader bought:  $ 34.278572\n"
          ],
          "name": "stdout"
        },
        {
          "output_type": "stream",
          "text": [
            "  3%|▎         | 67/2416 [00:09<09:05,  4.30it/s]"
          ],
          "name": "stderr"
        },
        {
          "output_type": "stream",
          "text": [
            "AI Trader sold:  $ 34.612858  Profit: $ 0.902859\n"
          ],
          "name": "stdout"
        },
        {
          "output_type": "stream",
          "text": [
            "\r  3%|▎         | 68/2416 [00:09<09:06,  4.30it/s]"
          ],
          "name": "stderr"
        }
      ]
    },
    {
      "cell_type": "code",
      "metadata": {
        "id": "KbnlZFixLidM",
        "colab_type": "code",
        "colab": {}
      },
      "source": [
        ""
      ],
      "execution_count": 0,
      "outputs": []
    }
  ]
}