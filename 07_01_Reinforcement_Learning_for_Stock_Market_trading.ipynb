{
  "nbformat": 4,
  "nbformat_minor": 0,
  "metadata": {
    "colab": {
      "name": "07-01 Reinforcement Learning for Stock Market trading.ipynb",
      "version": "0.3.2",
      "provenance": []
    },
    "kernelspec": {
      "name": "python3",
      "display_name": "Python 3"
    },
    "accelerator": "GPU"
  },
  "cells": [
    {
      "cell_type": "markdown",
      "metadata": {
        "id": "-Ujw8Vz34_9x",
        "colab_type": "text"
      },
      "source": [
        "#### Installing Dependencies & Enviornment Setup"
      ]
    },
    {
      "cell_type": "code",
      "metadata": {
        "id": "atrrh1Fv4YKV",
        "colab_type": "code",
        "colab": {}
      },
      "source": [
        "!pip install -q tensorflow-gpu==2.0.0-beta1"
      ],
      "execution_count": 0,
      "outputs": []
    },
    {
      "cell_type": "code",
      "metadata": {
        "id": "G-RgelIk49-V",
        "colab_type": "code",
        "outputId": "7240c3da-8894-4770-826e-821c87e335d1",
        "colab": {
          "base_uri": "https://localhost:8080/",
          "height": 267
        }
      },
      "source": [
        "!pip install pandas-datareader"
      ],
      "execution_count": 2,
      "outputs": [
        {
          "output_type": "stream",
          "text": [
            "Requirement already satisfied: pandas-datareader in /usr/local/lib/python3.6/dist-packages (0.7.4)\n",
            "Requirement already satisfied: requests>=2.3.0 in /usr/local/lib/python3.6/dist-packages (from pandas-datareader) (2.21.0)\n",
            "Requirement already satisfied: wrapt in /usr/local/lib/python3.6/dist-packages (from pandas-datareader) (1.11.2)\n",
            "Requirement already satisfied: lxml in /usr/local/lib/python3.6/dist-packages (from pandas-datareader) (4.2.6)\n",
            "Requirement already satisfied: pandas>=0.19.2 in /usr/local/lib/python3.6/dist-packages (from pandas-datareader) (0.24.2)\n",
            "Requirement already satisfied: idna<2.9,>=2.5 in /usr/local/lib/python3.6/dist-packages (from requests>=2.3.0->pandas-datareader) (2.8)\n",
            "Requirement already satisfied: urllib3<1.25,>=1.21.1 in /usr/local/lib/python3.6/dist-packages (from requests>=2.3.0->pandas-datareader) (1.24.3)\n",
            "Requirement already satisfied: chardet<3.1.0,>=3.0.2 in /usr/local/lib/python3.6/dist-packages (from requests>=2.3.0->pandas-datareader) (3.0.4)\n",
            "Requirement already satisfied: certifi>=2017.4.17 in /usr/local/lib/python3.6/dist-packages (from requests>=2.3.0->pandas-datareader) (2019.6.16)\n",
            "Requirement already satisfied: python-dateutil>=2.5.0 in /usr/local/lib/python3.6/dist-packages (from pandas>=0.19.2->pandas-datareader) (2.5.3)\n",
            "Requirement already satisfied: numpy>=1.12.0 in /usr/local/lib/python3.6/dist-packages (from pandas>=0.19.2->pandas-datareader) (1.16.4)\n",
            "Requirement already satisfied: pytz>=2011k in /usr/local/lib/python3.6/dist-packages (from pandas>=0.19.2->pandas-datareader) (2018.9)\n",
            "Requirement already satisfied: six>=1.5 in /usr/local/lib/python3.6/dist-packages (from python-dateutil>=2.5.0->pandas>=0.19.2->pandas-datareader) (1.12.0)\n"
          ],
          "name": "stdout"
        }
      ]
    },
    {
      "cell_type": "markdown",
      "metadata": {
        "id": "WEdZZjtc63Ul",
        "colab_type": "text"
      },
      "source": [
        "### Importing Project Dependencies"
      ]
    },
    {
      "cell_type": "code",
      "metadata": {
        "id": "IL1U-nG95NpH",
        "colab_type": "code",
        "colab": {}
      },
      "source": [
        "import math\n",
        "import random\n",
        "import numpy as np\n",
        "import pandas as pd\n",
        "import tensorflow as tf\n",
        "import matplotlib.pyplot as plt\n",
        "import pandas_datareader as data_reader\n",
        "\n",
        "from tqdm import tqdm_notebook, tqdm\n",
        "from collections import deque"
      ],
      "execution_count": 0,
      "outputs": []
    },
    {
      "cell_type": "code",
      "metadata": {
        "id": "PY7Uf-PM7PJE",
        "colab_type": "code",
        "outputId": "a8cfbd0a-6e7c-420d-8237-ca4913a69150",
        "colab": {
          "base_uri": "https://localhost:8080/",
          "height": 34
        }
      },
      "source": [
        "tf.__version__"
      ],
      "execution_count": 4,
      "outputs": [
        {
          "output_type": "execute_result",
          "data": {
            "text/plain": [
              "'2.0.0-beta1'"
            ]
          },
          "metadata": {
            "tags": []
          },
          "execution_count": 4
        }
      ]
    },
    {
      "cell_type": "markdown",
      "metadata": {
        "id": "PWcOPED27dCN",
        "colab_type": "text"
      },
      "source": [
        "### Building the AI Trader network"
      ]
    },
    {
      "cell_type": "code",
      "metadata": {
        "id": "GLQLIaWN7axW",
        "colab_type": "code",
        "colab": {}
      },
      "source": [
        "class AI_Trader():\n",
        "\n",
        "  def __init__(self, state_size, action_space=3, model_name =\"AITrader\"): #Stay, Buy, Sell\n",
        "    \n",
        "    self.state_size = state_size\n",
        "    self.action_space = action_space\n",
        "    self.memory = deque(maxlen=2000)\n",
        "    self.inventory = []\n",
        "    self.model_name = model_name\n",
        "    \n",
        "    self.gamma = 0.95\n",
        "    self.epsilon = 1.0\n",
        "    self.epsilon_final = 0.01\n",
        "    self.epsilon_decay = 0.995\n",
        "    \n",
        "    self.model = self.model_builder()\n",
        "    \n",
        "  def model_builder(self):\n",
        "\n",
        "    model = tf.keras.models.Sequential()\n",
        "    \n",
        "    model.add(tf.keras.layers.Dense(units = 32, activation = 'relu', input_dim = self.state_size))\n",
        "    \n",
        "    model.add(tf.keras.layers.Dense(units = 64, activation = 'relu'))\n",
        "    \n",
        "    model.add(tf.keras.layers.Dense(units = 128, activation = 'relu'))\n",
        "    \n",
        "    model.add(tf.keras.layers.Dense(units = self.action_space, activation = 'linear'))\n",
        "    \n",
        "    model.compile(loss = \"mse\", optimizer = tf.keras.optimizers.Adam(lr = 0.001))\n",
        "    \n",
        "    return model\n",
        "  \n",
        "  def trade(self, state):\n",
        "\n",
        "    if random.random() <= self.epsilon:\n",
        "      random.randrange(self.action_space)\n",
        "    \n",
        "    actions = self.model.predict(state)\n",
        "    return np.argmax(actions[0])\n",
        "  \n",
        "  \n",
        "  def batch_trade(self, batch_size):\n",
        "    \n",
        "    batch = []\n",
        "    for i in range(len(self.memory) - batch_size + 1, len(self.memory)):\n",
        "      batch.append(self.memory[i])\n",
        "    \n",
        "    for state, action, reward, next_state, done in batch:\n",
        "      reward = reward\n",
        "      if not done:\n",
        "        reward = reward + self.gamma + np.amax(self.model.predict(next_state)[0])\n",
        "        \n",
        "      target = self.model.predict(state)\n",
        "      target[0][action] = reward\n",
        "      \n",
        "      self.model.fit(state, target, epochs=1, verbose = 0)\n",
        "      \n",
        "    if self.epsilon > self.epsilon_final:\n",
        "      self.epsilon *= self.epsilon_decay\n",
        "      \n",
        "      "
      ],
      "execution_count": 0,
      "outputs": []
    },
    {
      "cell_type": "markdown",
      "metadata": {
        "id": "494KzsMuSXIu",
        "colab_type": "text"
      },
      "source": [
        "## Dataset Preprocessing"
      ]
    },
    {
      "cell_type": "markdown",
      "metadata": {
        "id": "Jy49II-GZuHP",
        "colab_type": "text"
      },
      "source": [
        "### Defining helper function"
      ]
    },
    {
      "cell_type": "markdown",
      "metadata": {
        "id": "jWv7qDWwZykw",
        "colab_type": "text"
      },
      "source": [
        "**Sigmoid**"
      ]
    },
    {
      "cell_type": "code",
      "metadata": {
        "id": "sXqXQsCBSWbO",
        "colab_type": "code",
        "colab": {}
      },
      "source": [
        "def sigmoid(x):\n",
        "  return 1 / (1 + math.exp(-x))"
      ],
      "execution_count": 0,
      "outputs": []
    },
    {
      "cell_type": "markdown",
      "metadata": {
        "id": "FflB8J7zaJwC",
        "colab_type": "text"
      },
      "source": [
        "### Price format function"
      ]
    },
    {
      "cell_type": "code",
      "metadata": {
        "id": "A3gt0lmIaO2p",
        "colab_type": "code",
        "colab": {}
      },
      "source": [
        "def stocks_price_format(n):\n",
        "  if n < 0:\n",
        "    return \"- $ (0:2f)\".format(abs(n))\n",
        "  else:\n",
        "    return \"$ (02f)\".format(abs(n))"
      ],
      "execution_count": 0,
      "outputs": []
    },
    {
      "cell_type": "markdown",
      "metadata": {
        "id": "h89VC4q3a0vS",
        "colab_type": "text"
      },
      "source": [
        "### Dataset loader "
      ]
    },
    {
      "cell_type": "code",
      "metadata": {
        "id": "r7jzSjGobJ98",
        "colab_type": "code",
        "colab": {}
      },
      "source": [
        "def dataset_loader(stock_name):\n",
        "  \n",
        "  #Complete the dataset loader function\n",
        "  dataset = data_reader.DataReader(stock_name, data_source=\"yahoo\")\n",
        "  start_date = str(dataset.index[0]).split()[0]\n",
        "  end_date = str(dataset.index[-1]).split()[0]\n",
        "  \n",
        "  close = dataset[\"Close\"]\n",
        "  \n",
        "  return close"
      ],
      "execution_count": 0,
      "outputs": []
    },
    {
      "cell_type": "markdown",
      "metadata": {
        "id": "pelLZN4Jm0Yz",
        "colab_type": "text"
      },
      "source": [
        "### State Creator"
      ]
    },
    {
      "cell_type": "code",
      "metadata": {
        "id": "ccJwdNYFgAzY",
        "colab_type": "code",
        "colab": {}
      },
      "source": [
        "def state_creator(data, timestep, window_size):\n",
        "  \n",
        "  starting_id = timestep - window_size + 1\n",
        "  \n",
        "  if starting_id >= 0:\n",
        "    windowed_data = data[starting_id:timestep+1]\n",
        "  else:\n",
        "    windowed_data = - starting_id * [data[0]] + list(data[0:timestep+1])\n",
        "    \n",
        "  state = []\n",
        "  for i in range(window_size-1):\n",
        "    state.append(sigmoid(windowed_data[i+1])-windowed_data[i])\n",
        "    \n",
        "  return np.array([state])"
      ],
      "execution_count": 0,
      "outputs": []
    },
    {
      "cell_type": "markdown",
      "metadata": {
        "id": "NuOVmNbmrxjb",
        "colab_type": "text"
      },
      "source": [
        "### Loading a dataset"
      ]
    },
    {
      "cell_type": "code",
      "metadata": {
        "id": "2U2cXUDFr0Ac",
        "colab_type": "code",
        "colab": {}
      },
      "source": [
        "stock_name = \"AAPL\"\n",
        "data = dataset_loader(stock_name)"
      ],
      "execution_count": 0,
      "outputs": []
    },
    {
      "cell_type": "markdown",
      "metadata": {
        "id": "Krl5dfzO7Lub",
        "colab_type": "text"
      },
      "source": [
        "##Stage 5: Training the AI Trader "
      ]
    },
    {
      "cell_type": "markdown",
      "metadata": {
        "id": "_r9pxweu7Rov",
        "colab_type": "text"
      },
      "source": [
        "###Setting Hyper Parameters"
      ]
    },
    {
      "cell_type": "code",
      "metadata": {
        "id": "uNX1elhTzPCZ",
        "colab_type": "code",
        "colab": {}
      },
      "source": [
        "window_size = 10 \n",
        "episodes = 1000\n",
        "\n",
        "batch_size = 32\n",
        "data_samples = len(data) - 1"
      ],
      "execution_count": 0,
      "outputs": []
    },
    {
      "cell_type": "markdown",
      "metadata": {
        "id": "n4d_bfrH7u_U",
        "colab_type": "text"
      },
      "source": [
        "### Defining the Trader Model"
      ]
    },
    {
      "cell_type": "code",
      "metadata": {
        "id": "9IqPOrkk8fvD",
        "colab_type": "code",
        "colab": {}
      },
      "source": [
        "trader = AI_Trader(window_size)"
      ],
      "execution_count": 0,
      "outputs": []
    },
    {
      "cell_type": "code",
      "metadata": {
        "id": "4kMUEEdC9_X7",
        "colab_type": "code",
        "colab": {
          "base_uri": "https://localhost:8080/",
          "height": 301
        },
        "outputId": "e48b1f23-0a4f-48fb-eb84-3595f561b87d"
      },
      "source": [
        "trader.model.summary()"
      ],
      "execution_count": 13,
      "outputs": [
        {
          "output_type": "stream",
          "text": [
            "Model: \"sequential\"\n",
            "_________________________________________________________________\n",
            "Layer (type)                 Output Shape              Param #   \n",
            "=================================================================\n",
            "dense (Dense)                (None, 32)                352       \n",
            "_________________________________________________________________\n",
            "dense_1 (Dense)              (None, 64)                2112      \n",
            "_________________________________________________________________\n",
            "dense_2 (Dense)              (None, 128)               8320      \n",
            "_________________________________________________________________\n",
            "dense_3 (Dense)              (None, 3)                 387       \n",
            "=================================================================\n",
            "Total params: 11,171\n",
            "Trainable params: 11,171\n",
            "Non-trainable params: 0\n",
            "_________________________________________________________________\n"
          ],
          "name": "stdout"
        }
      ]
    },
    {
      "cell_type": "markdown",
      "metadata": {
        "id": "yjfiBVvnAFy0",
        "colab_type": "text"
      },
      "source": [
        "### Training Loop"
      ]
    },
    {
      "cell_type": "code",
      "metadata": {
        "id": "1fRV7dEE-Ctr",
        "colab_type": "code",
        "colab": {
          "base_uri": "https://localhost:8080/",
          "height": 158
        },
        "outputId": "7d3d1d0d-74dd-4a0e-9fa9-903ae2823729"
      },
      "source": [
        "for episode in range(1, episodes + 1):\n",
        "  print(f\"Episode: {episode}/{episodes}\")\n",
        "  \n",
        "  state = state_creator(data, 0, window_size +1)\n",
        "  \n",
        "  total_proft = 0\n",
        "  trader.inventory = []\n",
        "  \n",
        "  for t in tqdm(range(data_samples)):\n",
        "    \n",
        "    action = trader.trade(state)\n",
        "    \n",
        "    next_state = state_creator(data, t+1, window_size + 1)\n",
        "    reward = 0\n",
        "    \n",
        "    if action == 1: #buying\n",
        "      trader.inventory.append(data[t])\n",
        "      print(\"AI Trader bought: \", stocks_price_format(data[t]))\n",
        "      \n",
        "    elif action == 2 and len(trader.inventory) > 0: #selling\n",
        "      buy_price = trader.inventory.pop(0)\n",
        "      \n",
        "      reward = max(data[t] - buy_price, 0)\n",
        "      total_profit += data[t] - buy_price\n",
        "      print(\"AI Trader sold: \", stocks_price_format(data[t]), \"Profit: \" + stocks_price_format(data[t]-buy_price) )\n",
        "      \n",
        "      if t == data_samples - 1:\n",
        "        done = True\n",
        "      else:\n",
        "        done = False\n",
        "        \n",
        "      trader.memory.append((state, action, reward, next_state, done))\n",
        "      \n",
        "      state = next_state\n",
        "      \n",
        "      if done:\n",
        "        \n",
        "        print('########################')\n",
        "        print(f'TOTAL PROFIT : {total_profit}')\n",
        "        print('########################')\n",
        "        \n",
        "      if len(trader.memory) > batch_size:\n",
        "        trader.batch_train(batch_size)\n",
        "        \n",
        "    if episode % 10 == 0:\n",
        "      trader.model.save(\"ai_trader_{}.h5\".format(episode))"
      ],
      "execution_count": 0,
      "outputs": [
        {
          "output_type": "stream",
          "text": [
            "\r  0%|          | 0/2414 [00:00<?, ?it/s]"
          ],
          "name": "stderr"
        },
        {
          "output_type": "stream",
          "text": [
            "Episode: 1/1000\n"
          ],
          "name": "stdout"
        },
        {
          "output_type": "stream",
          "text": [
            "100%|██████████| 2414/2414 [00:05<00:00, 437.26it/s]\n",
            "  2%|▏         | 51/2414 [00:00<00:04, 504.22it/s]"
          ],
          "name": "stderr"
        },
        {
          "output_type": "stream",
          "text": [
            "Episode: 2/1000\n"
          ],
          "name": "stdout"
        },
        {
          "output_type": "stream",
          "text": [
            "100%|██████████| 2414/2414 [00:05<00:00, 464.10it/s]\n",
            "  2%|▏         | 49/2414 [00:00<00:04, 488.13it/s]"
          ],
          "name": "stderr"
        },
        {
          "output_type": "stream",
          "text": [
            "Episode: 3/1000\n"
          ],
          "name": "stdout"
        },
        {
          "output_type": "stream",
          "text": [
            "100%|██████████| 2414/2414 [00:05<00:00, 465.93it/s]\n",
            "  2%|▏         | 50/2414 [00:00<00:04, 496.44it/s]"
          ],
          "name": "stderr"
        },
        {
          "output_type": "stream",
          "text": [
            "Episode: 4/1000\n"
          ],
          "name": "stdout"
        },
        {
          "output_type": "stream",
          "text": [
            " 21%|██▏       | 518/2414 [00:01<00:04, 464.42it/s]"
          ],
          "name": "stderr"
        }
      ]
    },
    {
      "cell_type": "code",
      "metadata": {
        "id": "Zk7GpNZZEflm",
        "colab_type": "code",
        "colab": {}
      },
      "source": [
        ""
      ],
      "execution_count": 0,
      "outputs": []
    },
    {
      "cell_type": "code",
      "metadata": {
        "id": "oI4_x6wCKAT6",
        "colab_type": "code",
        "colab": {}
      },
      "source": [
        ""
      ],
      "execution_count": 0,
      "outputs": []
    }
  ]
}