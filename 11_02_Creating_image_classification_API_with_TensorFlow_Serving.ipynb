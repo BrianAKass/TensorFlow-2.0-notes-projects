{
  "nbformat": 4,
  "nbformat_minor": 0,
  "metadata": {
    "colab": {
      "name": "11-02 Creating image classification API with TensorFlow Serving.ipynb",
      "version": "0.3.2",
      "provenance": []
    },
    "kernelspec": {
      "name": "python3",
      "display_name": "Python 3"
    },
    "accelerator": "GPU"
  },
  "cells": [
    {
      "cell_type": "markdown",
      "metadata": {
        "id": "KMna0CAEBbfi",
        "colab_type": "text"
      },
      "source": [
        "## Install dependencies and setting up GPU Env"
      ]
    },
    {
      "cell_type": "code",
      "metadata": {
        "id": "CE_sdq3qBUk3",
        "colab_type": "code",
        "colab": {
          "base_uri": "https://localhost:8080/",
          "height": 122
        },
        "outputId": "e9caa4cf-edb6-48c5-cf86-04fd8979c899"
      },
      "source": [
        "!echo \"deb [arch=amd64] http://storage.googleapis.com/tensorflow-serving-apt stable tensorflow-model-server tensorflow-model-server-universal\" | sudo tee /etc/apt/sources.list.d/tensorflow-serving.list && curl https://storage.googleapis.com/tensorflow-serving-apt/tensorflow-serving.release.pub.gpg | sudo apt-key add -"
      ],
      "execution_count": 1,
      "outputs": [
        {
          "output_type": "stream",
          "text": [
            "deb [arch=amd64] http://storage.googleapis.com/tensorflow-serving-apt stable tensorflow-model-server tensorflow-model-server-universal\n",
            "  % Total    % Received % Xferd  Average Speed   Time    Time     Time  Current\n",
            "                                 Dload  Upload   Total   Spent    Left  Speed\n",
            "\r  0     0    0     0    0     0      0      0 --:--:-- --:--:-- --:--:--     0\r100  2943  100  2943    0     0   136k      0 --:--:-- --:--:-- --:--:--  136k\n",
            "OK\n"
          ],
          "name": "stdout"
        }
      ]
    },
    {
      "cell_type": "code",
      "metadata": {
        "id": "snI4EqHEBtI1",
        "colab_type": "code",
        "colab": {
          "base_uri": "https://localhost:8080/",
          "height": 425
        },
        "outputId": "4e77fddb-a3cd-4a8d-89d8-200e79483572"
      },
      "source": [
        "!apt-get update & apt-get install tensorflow-model-server"
      ],
      "execution_count": 2,
      "outputs": [
        {
          "output_type": "stream",
          "text": [
            "\rReading package lists... 0%\r\r0% [Working]\rReading package lists... 0%\r\rReading package lists... 0%\r\r            \rHit:1 http://ppa.launchpad.net/graphics-drivers/ppa/ubuntu bionic InRelease\n",
            "\r0% [Connecting to archive.ubuntu.com (91.189.88.31)] [Waiting for headers] [Con\r                                                                               \rHit:2 http://archive.ubuntu.com/ubuntu bionic InRelease\n",
            "\r                                                                               \rGet:3 http://archive.ubuntu.com/ubuntu bionic-updates InRelease [88.7 kB]\n",
            "\r                                                                               \rGet:4 http://security.ubuntu.com/ubuntu bionic-security InRelease [88.7 kB]\n",
            "\r                                                                               \rGet:5 http://ppa.launchpad.net/marutter/c2d4u3.5/ubuntu bionic InRelease [15.4 kB]\n",
            "\r0% [3 InRelease 8,393 B/88.7 kB 9%] [4 InRelease 79.3 kB/88.7 kB 89%] [Connecte\r0% [3 InRelease 14.2 kB/88.7 kB 16%] [Connected to cloud.r-project.org (99.86.8\r0% [1 InRelease gpgv 21.3 kB] [3 InRelease 14.2 kB/88.7 kB 16%] [Waiting for he\r                                                                               \rHit:6 https://cloud.r-project.org/bin/linux/ubuntu bionic-cran35/ InRelease\n",
            "\r0% [1 InRelease gpgv 21.3 kB] [3 InRelease 20.0 kB/88.7 kB 23%] [Waiting for he\r                                                                               \r0% [1 InRelease gpgv 21.3 kB] [Waiting for headers] [Waiting for headers]\r                                                                         \rGet:7 http://archive.ubuntu.com/ubuntu bionic-backports InRelease [74.6 kB]\n",
            "\r0% [1 InRelease gpgv 21.3 kB] [7 InRelease 11.3 kB/74.6 kB 15%] [Waiting for he\r                                                                               \r0% [1 InRelease gpgv 21.3 kB] [Waiting for headers] [Waiting for headers]\rReading package lists... 7%\r\rReading package lists... 7%\r\r                                                                         \rHit:8 http://storage.googleapis.com/tensorflow-serving-apt stable InRelease\n",
            "\r                                                                         \r0% [1 InRelease gpgv 21.3 kB] [Waiting for headers]\rReading package lists... 7%\r\rReading package lists... 7%\r\r                                                   \rIgn:9 https://developer.download.nvidia.com/compute/cuda/repos/ubuntu1804/x86_64  InRelease\n",
            "\r0% [1 InRelease gpgv 21.3 kB] [Waiting for headers]\r                                                   \r0% [Waiting for headers]\r0% [2 InRelease gpgv 242 kB] [Waiting for headers]\r                                                  \rIgn:10 https://developer.download.nvidia.com/compute/machine-learning/repos/ubuntu1804/x86_64  InRelease\n",
            "\r                                                  \r0% [2 InRelease gpgv 242 kB]\r                            \rHit:11 https://developer.download.nvidia.com/compute/cuda/repos/ubuntu1804/x86_64  Release\n",
            "Hit:12 https://developer.download.nvidia.com/compute/machine-learning/repos/ubuntu1804/x86_64  Release\n",
            "Get:13 http://ppa.launchpad.net/marutter/c2d4u3.5/ubuntu bionic/main Sources [1,676 kB]\n",
            "Get:14 http://ppa.launchpad.net/marutter/c2d4u3.5/ubuntu bionic/main amd64 Packages [805 kB]\n",
            "Reading package lists... Done\n",
            "Building dependency tree       \n",
            "Reading state information... Done\n",
            "tensorflow-model-server is already the newest version (1.14.0).\n",
            "0% [8 InRelease gpgv 3,012 B]The following package was automatically installed and is no longer required:\n",
            "  libnvidia-common-410\n",
            "Use 'apt autoremove' to remove it.\n",
            "0 upgraded, 0 newly installed, 0 to remove and 41 not upgraded.\n",
            "Fetched 2,748 kB in 3s (957 kB/s)\n",
            "Reading package lists... Done\n"
          ],
          "name": "stdout"
        }
      ]
    },
    {
      "cell_type": "code",
      "metadata": {
        "id": "2pXEyuFMB0e9",
        "colab_type": "code",
        "colab": {
          "base_uri": "https://localhost:8080/",
          "height": 360
        },
        "outputId": "f9d9b158-aa25-4dc7-d488-c1ec9692cf79"
      },
      "source": [
        "!pip install tensorflow-gpu==1.13.1"
      ],
      "execution_count": 3,
      "outputs": [
        {
          "output_type": "stream",
          "text": [
            "Requirement already satisfied: tensorflow-gpu==1.13.1 in /usr/local/lib/python3.6/dist-packages (1.13.1)\n",
            "Requirement already satisfied: protobuf>=3.6.1 in /usr/local/lib/python3.6/dist-packages (from tensorflow-gpu==1.13.1) (3.7.1)\n",
            "Requirement already satisfied: tensorflow-estimator<1.14.0rc0,>=1.13.0 in /usr/local/lib/python3.6/dist-packages (from tensorflow-gpu==1.13.1) (1.13.0)\n",
            "Requirement already satisfied: absl-py>=0.1.6 in /usr/local/lib/python3.6/dist-packages (from tensorflow-gpu==1.13.1) (0.7.1)\n",
            "Requirement already satisfied: wheel>=0.26 in /usr/local/lib/python3.6/dist-packages (from tensorflow-gpu==1.13.1) (0.33.4)\n",
            "Requirement already satisfied: astor>=0.6.0 in /usr/local/lib/python3.6/dist-packages (from tensorflow-gpu==1.13.1) (0.8.0)\n",
            "Requirement already satisfied: grpcio>=1.8.6 in /usr/local/lib/python3.6/dist-packages (from tensorflow-gpu==1.13.1) (1.15.0)\n",
            "Requirement already satisfied: six>=1.10.0 in /usr/local/lib/python3.6/dist-packages (from tensorflow-gpu==1.13.1) (1.12.0)\n",
            "Requirement already satisfied: termcolor>=1.1.0 in /usr/local/lib/python3.6/dist-packages (from tensorflow-gpu==1.13.1) (1.1.0)\n",
            "Requirement already satisfied: gast>=0.2.0 in /usr/local/lib/python3.6/dist-packages (from tensorflow-gpu==1.13.1) (0.2.2)\n",
            "Requirement already satisfied: tensorboard<1.14.0,>=1.13.0 in /usr/local/lib/python3.6/dist-packages (from tensorflow-gpu==1.13.1) (1.13.1)\n",
            "Requirement already satisfied: numpy>=1.13.3 in /usr/local/lib/python3.6/dist-packages (from tensorflow-gpu==1.13.1) (1.16.4)\n",
            "Requirement already satisfied: keras-applications>=1.0.6 in /usr/local/lib/python3.6/dist-packages (from tensorflow-gpu==1.13.1) (1.0.8)\n",
            "Requirement already satisfied: keras-preprocessing>=1.0.5 in /usr/local/lib/python3.6/dist-packages (from tensorflow-gpu==1.13.1) (1.1.0)\n",
            "Requirement already satisfied: setuptools in /usr/local/lib/python3.6/dist-packages (from protobuf>=3.6.1->tensorflow-gpu==1.13.1) (41.0.1)\n",
            "Requirement already satisfied: mock>=2.0.0 in /usr/local/lib/python3.6/dist-packages (from tensorflow-estimator<1.14.0rc0,>=1.13.0->tensorflow-gpu==1.13.1) (3.0.5)\n",
            "Requirement already satisfied: markdown>=2.6.8 in /usr/local/lib/python3.6/dist-packages (from tensorboard<1.14.0,>=1.13.0->tensorflow-gpu==1.13.1) (3.1.1)\n",
            "Requirement already satisfied: werkzeug>=0.11.15 in /usr/local/lib/python3.6/dist-packages (from tensorboard<1.14.0,>=1.13.0->tensorflow-gpu==1.13.1) (0.15.5)\n",
            "Requirement already satisfied: h5py in /usr/local/lib/python3.6/dist-packages (from keras-applications>=1.0.6->tensorflow-gpu==1.13.1) (2.8.0)\n"
          ],
          "name": "stdout"
        }
      ]
    },
    {
      "cell_type": "code",
      "metadata": {
        "id": "j2oEsIDTB_Rd",
        "colab_type": "code",
        "colab": {
          "base_uri": "https://localhost:8080/",
          "height": 122
        },
        "outputId": "5f93b9c8-ec41-4a37-c339-abbf284e6bda"
      },
      "source": [
        "!pip install requests"
      ],
      "execution_count": 4,
      "outputs": [
        {
          "output_type": "stream",
          "text": [
            "Requirement already satisfied: requests in /usr/local/lib/python3.6/dist-packages (2.21.0)\n",
            "Requirement already satisfied: idna<2.9,>=2.5 in /usr/local/lib/python3.6/dist-packages (from requests) (2.8)\n",
            "Requirement already satisfied: certifi>=2017.4.17 in /usr/local/lib/python3.6/dist-packages (from requests) (2019.6.16)\n",
            "Requirement already satisfied: chardet<3.1.0,>=3.0.2 in /usr/local/lib/python3.6/dist-packages (from requests) (3.0.4)\n",
            "Requirement already satisfied: urllib3<1.25,>=1.21.1 in /usr/local/lib/python3.6/dist-packages (from requests) (1.24.3)\n"
          ],
          "name": "stdout"
        }
      ]
    },
    {
      "cell_type": "markdown",
      "metadata": {
        "id": "hpG_HP-EDIqY",
        "colab_type": "text"
      },
      "source": [
        "## Imports"
      ]
    },
    {
      "cell_type": "code",
      "metadata": {
        "id": "k8Q0xv5JDHls",
        "colab_type": "code",
        "colab": {
          "base_uri": "https://localhost:8080/",
          "height": 34
        },
        "outputId": "d6e4a9d9-d81f-4520-ae1b-46f7af8fd696"
      },
      "source": [
        "import os\n",
        "import json\n",
        "import random\n",
        "import requests\n",
        "import subprocess\n",
        "import numpy as np\n",
        "import tensorflow as tf\n",
        "import matplotlib.pyplot as plt\n",
        "\n",
        "from tensorflow.keras.datasets import cifar10\n",
        "\n",
        "%matplotlib inline\n",
        "tf.__version__"
      ],
      "execution_count": 5,
      "outputs": [
        {
          "output_type": "execute_result",
          "data": {
            "text/plain": [
              "'1.13.1'"
            ]
          },
          "metadata": {
            "tags": []
          },
          "execution_count": 5
        }
      ]
    },
    {
      "cell_type": "markdown",
      "metadata": {
        "id": "j44AL6HkRYjE",
        "colab_type": "text"
      },
      "source": [
        "## Dataset Preprocessing"
      ]
    },
    {
      "cell_type": "markdown",
      "metadata": {
        "id": "FC7pAklSRcPh",
        "colab_type": "text"
      },
      "source": [
        "load the dataset"
      ]
    },
    {
      "cell_type": "code",
      "metadata": {
        "id": "YvTJT7n7Doos",
        "colab_type": "code",
        "colab": {}
      },
      "source": [
        "(X_train,y_train), (X_test, y_test) = cifar10.load_data()"
      ],
      "execution_count": 0,
      "outputs": []
    },
    {
      "cell_type": "code",
      "metadata": {
        "id": "gznRB30AUd_q",
        "colab_type": "code",
        "colab": {}
      },
      "source": [
        "class_names = ['airplane', 'automobile', 'bird', 'cat', 'deer', 'dog', 'frog', 'horse', 'ship', 'truck']"
      ],
      "execution_count": 0,
      "outputs": []
    },
    {
      "cell_type": "markdown",
      "metadata": {
        "id": "Am7MRu_6NXEX",
        "colab_type": "text"
      },
      "source": [
        "### Image normalization"
      ]
    },
    {
      "cell_type": "code",
      "metadata": {
        "id": "i4YQ9J3TNaFS",
        "colab_type": "code",
        "colab": {}
      },
      "source": [
        "X_train = X_train / 255.0\n",
        "X_test = X_test / 255.0"
      ],
      "execution_count": 0,
      "outputs": []
    },
    {
      "cell_type": "code",
      "metadata": {
        "id": "54UcvqZzNhfW",
        "colab_type": "code",
        "colab": {
          "base_uri": "https://localhost:8080/",
          "height": 34
        },
        "outputId": "c9cee10f-809d-4e36-aec1-3e6f5240a2bc"
      },
      "source": [
        "X_train.shape"
      ],
      "execution_count": 9,
      "outputs": [
        {
          "output_type": "execute_result",
          "data": {
            "text/plain": [
              "(50000, 32, 32, 3)"
            ]
          },
          "metadata": {
            "tags": []
          },
          "execution_count": 9
        }
      ]
    },
    {
      "cell_type": "markdown",
      "metadata": {
        "id": "760CbdmYVmFu",
        "colab_type": "text"
      },
      "source": [
        "## Defining the model\n",
        "Using \n"
      ]
    },
    {
      "cell_type": "code",
      "metadata": {
        "id": "haBTXWnEa7Kj",
        "colab_type": "code",
        "colab": {
          "base_uri": "https://localhost:8080/",
          "height": 88
        },
        "outputId": "5d50dbba-59fd-4f4e-bbd0-4f036d93783c"
      },
      "source": [
        "model = tf.keras.models.Sequential()\n",
        "model.add(tf.keras.layers.Conv2D(filters = 32, kernel_size = 3, padding = \"same\", activation = \"relu\", input_shape = [32, 32 , 3]))\n",
        "model.add(tf.keras.layers.Conv2D(filters = 32, kernel_size = 3, padding = \"same\", activation = \"relu\"))\n",
        "model.add(tf.keras.layers.MaxPool2D(pool_size = 2, strides = 2, padding = \"valid\"))\n",
        "model.add(tf.keras.layers.Conv2D(filters = 64, kernel_size = 3, padding = \"same\", activation = \"relu\"))\n",
        "model.add(tf.keras.layers.Conv2D(filters = 64, kernel_size = 3, padding = \"same\", activation = \"relu\"))\n",
        "model.add(tf.keras.layers.MaxPool2D(pool_size = 2, strides = 2, padding = \"valid\"))\n",
        "model.add(tf.keras.layers.Flatten())\n",
        "model.add(tf.keras.layers.Dense(units=128, activation=\"relu\"))\n",
        "model.add(tf.keras.layers.Dense(units=10, activation=\"softmax\"))"
      ],
      "execution_count": 10,
      "outputs": [
        {
          "output_type": "stream",
          "text": [
            "WARNING:tensorflow:From /usr/local/lib/python3.6/dist-packages/tensorflow/python/ops/resource_variable_ops.py:435: colocate_with (from tensorflow.python.framework.ops) is deprecated and will be removed in a future version.\n",
            "Instructions for updating:\n",
            "Colocations handled automatically by placer.\n"
          ],
          "name": "stdout"
        }
      ]
    },
    {
      "cell_type": "code",
      "metadata": {
        "id": "KSeHdWsJe08q",
        "colab_type": "code",
        "colab": {
          "base_uri": "https://localhost:8080/",
          "height": 442
        },
        "outputId": "065adf59-4d35-444f-809e-ff7c16c13c12"
      },
      "source": [
        "model.summary()"
      ],
      "execution_count": 11,
      "outputs": [
        {
          "output_type": "stream",
          "text": [
            "_________________________________________________________________\n",
            "Layer (type)                 Output Shape              Param #   \n",
            "=================================================================\n",
            "conv2d (Conv2D)              (None, 32, 32, 32)        896       \n",
            "_________________________________________________________________\n",
            "conv2d_1 (Conv2D)            (None, 32, 32, 32)        9248      \n",
            "_________________________________________________________________\n",
            "max_pooling2d (MaxPooling2D) (None, 16, 16, 32)        0         \n",
            "_________________________________________________________________\n",
            "conv2d_2 (Conv2D)            (None, 16, 16, 64)        18496     \n",
            "_________________________________________________________________\n",
            "conv2d_3 (Conv2D)            (None, 16, 16, 64)        36928     \n",
            "_________________________________________________________________\n",
            "max_pooling2d_1 (MaxPooling2 (None, 8, 8, 64)          0         \n",
            "_________________________________________________________________\n",
            "flatten (Flatten)            (None, 4096)              0         \n",
            "_________________________________________________________________\n",
            "dense (Dense)                (None, 128)               524416    \n",
            "_________________________________________________________________\n",
            "dense_1 (Dense)              (None, 10)                1290      \n",
            "=================================================================\n",
            "Total params: 591,274\n",
            "Trainable params: 591,274\n",
            "Non-trainable params: 0\n",
            "_________________________________________________________________\n"
          ],
          "name": "stdout"
        }
      ]
    },
    {
      "cell_type": "markdown",
      "metadata": {
        "id": "MPU6Ud7lcghB",
        "colab_type": "text"
      },
      "source": [
        "## Compiling the model"
      ]
    },
    {
      "cell_type": "code",
      "metadata": {
        "id": "Lb57eK_Rceo5",
        "colab_type": "code",
        "colab": {}
      },
      "source": [
        "model.compile(optimizer = 'Adam',\n",
        "             loss = 'sparse_categorical_crossentropy',\n",
        "             metrics = ['sparse_categorical_accuracy'])"
      ],
      "execution_count": 0,
      "outputs": []
    },
    {
      "cell_type": "markdown",
      "metadata": {
        "id": "H5_V7aiIdDlT",
        "colab_type": "text"
      },
      "source": [
        "### Training model"
      ]
    },
    {
      "cell_type": "code",
      "metadata": {
        "id": "sNSjgirFdCvQ",
        "colab_type": "code",
        "colab": {
          "base_uri": "https://localhost:8080/",
          "height": 394
        },
        "outputId": "b7da5eb9-57a8-40c1-a717-45821f665785"
      },
      "source": [
        "model.fit(X_train, y_train, batch_size = 128, epochs = 10)"
      ],
      "execution_count": 13,
      "outputs": [
        {
          "output_type": "stream",
          "text": [
            "Epoch 1/10\n",
            "50000/50000 [==============================] - 13s 262us/sample - loss: 1.4819 - sparse_categorical_accuracy: 0.4642\n",
            "Epoch 2/10\n",
            "50000/50000 [==============================] - 12s 230us/sample - loss: 1.0504 - sparse_categorical_accuracy: 0.6294\n",
            "Epoch 3/10\n",
            "50000/50000 [==============================] - 11s 229us/sample - loss: 0.8676 - sparse_categorical_accuracy: 0.6966\n",
            "Epoch 4/10\n",
            "50000/50000 [==============================] - 11s 227us/sample - loss: 0.7436 - sparse_categorical_accuracy: 0.7414\n",
            "Epoch 5/10\n",
            "50000/50000 [==============================] - 11s 229us/sample - loss: 0.6363 - sparse_categorical_accuracy: 0.7788\n",
            "Epoch 6/10\n",
            "50000/50000 [==============================] - 11s 229us/sample - loss: 0.5444 - sparse_categorical_accuracy: 0.8101\n",
            "Epoch 7/10\n",
            "50000/50000 [==============================] - 11s 229us/sample - loss: 0.4649 - sparse_categorical_accuracy: 0.8371\n",
            "Epoch 8/10\n",
            "50000/50000 [==============================] - 11s 229us/sample - loss: 0.3820 - sparse_categorical_accuracy: 0.8646\n",
            "Epoch 9/10\n",
            "50000/50000 [==============================] - 11s 228us/sample - loss: 0.3145 - sparse_categorical_accuracy: 0.8895\n",
            "Epoch 10/10\n",
            "50000/50000 [==============================] - 11s 227us/sample - loss: 0.2465 - sparse_categorical_accuracy: 0.9125\n"
          ],
          "name": "stdout"
        },
        {
          "output_type": "execute_result",
          "data": {
            "text/plain": [
              "<tensorflow.python.keras.callbacks.History at 0x7f311e46e320>"
            ]
          },
          "metadata": {
            "tags": []
          },
          "execution_count": 13
        }
      ]
    },
    {
      "cell_type": "markdown",
      "metadata": {
        "id": "RTTOmIGKduhT",
        "colab_type": "text"
      },
      "source": [
        "### model evaluation"
      ]
    },
    {
      "cell_type": "code",
      "metadata": {
        "id": "JO-QnL1TdKKY",
        "colab_type": "code",
        "colab": {
          "base_uri": "https://localhost:8080/",
          "height": 54
        },
        "outputId": "5da16e70-1778-4a8e-f227-e37801c869d6"
      },
      "source": [
        "test_loss, test_accuracy = model.evaluate(X_test, y_test)"
      ],
      "execution_count": 14,
      "outputs": [
        {
          "output_type": "stream",
          "text": [
            "10000/10000 [==============================] - 2s 151us/sample - loss: 0.9999 - sparse_categorical_accuracy: 0.7359\n"
          ],
          "name": "stdout"
        }
      ]
    },
    {
      "cell_type": "code",
      "metadata": {
        "id": "JIu1G-Cnd3u2",
        "colab_type": "code",
        "colab": {
          "base_uri": "https://localhost:8080/",
          "height": 34
        },
        "outputId": "c0a15b01-61d6-4b61-ca8e-52300511e44d"
      },
      "source": [
        "print(f\"test accuracy : {test_accuracy*100}%\")"
      ],
      "execution_count": 15,
      "outputs": [
        {
          "output_type": "stream",
          "text": [
            "test accuracy : 73.58999848365784%\n"
          ],
          "name": "stdout"
        }
      ]
    },
    {
      "cell_type": "markdown",
      "metadata": {
        "id": "hnp7S3f4fn5O",
        "colab_type": "text"
      },
      "source": [
        "## Saving Model for Production"
      ]
    },
    {
      "cell_type": "markdown",
      "metadata": {
        "id": "sHlUrmv5fuCK",
        "colab_type": "text"
      },
      "source": [
        "###Creating the directory for the model"
      ]
    },
    {
      "cell_type": "code",
      "metadata": {
        "id": "pxWxAGoPeBZo",
        "colab_type": "code",
        "colab": {}
      },
      "source": [
        "MODEL_DIR = \"model/\"\n",
        "version = 1"
      ],
      "execution_count": 0,
      "outputs": []
    },
    {
      "cell_type": "code",
      "metadata": {
        "id": "Uvt8Y44xg26O",
        "colab_type": "code",
        "colab": {
          "base_uri": "https://localhost:8080/",
          "height": 34
        },
        "outputId": "4421a7e4-d6b6-45fe-db90-7936b8cd4df6"
      },
      "source": [
        "export_path = os.path.join(MODEL_DIR, str(version))\n",
        "export_path"
      ],
      "execution_count": 17,
      "outputs": [
        {
          "output_type": "execute_result",
          "data": {
            "text/plain": [
              "'model/1'"
            ]
          },
          "metadata": {
            "tags": []
          },
          "execution_count": 17
        }
      ]
    },
    {
      "cell_type": "code",
      "metadata": {
        "id": "zu0I8KJ7hIy-",
        "colab_type": "code",
        "colab": {}
      },
      "source": [
        "if os.path.isdir(export_path):\n",
        "  !rm -r {export_path}"
      ],
      "execution_count": 0,
      "outputs": []
    },
    {
      "cell_type": "markdown",
      "metadata": {
        "id": "6WJfR2zchRlH",
        "colab_type": "text"
      },
      "source": [
        "### Saving the model for the TensorFlow Serving"
      ]
    },
    {
      "cell_type": "code",
      "metadata": {
        "id": "PpEf0w6ahQV_",
        "colab_type": "code",
        "colab": {
          "base_uri": "https://localhost:8080/",
          "height": 190
        },
        "outputId": "e0d1942d-f9a7-484a-f88f-7b863b7f0d32"
      },
      "source": [
        "tf.saved_model.simple_save(tf.keras.backend.get_session(), export_dir=export_path, inputs={\"input_image\":model.input}, outputs={t.name:t for t in model.outputs})"
      ],
      "execution_count": 19,
      "outputs": [
        {
          "output_type": "stream",
          "text": [
            "WARNING:tensorflow:From <ipython-input-19-f70a5d463003>:1: simple_save (from tensorflow.python.saved_model.simple_save) is deprecated and will be removed in a future version.\n",
            "Instructions for updating:\n",
            "This function will only be available through the v1 compatibility library as tf.compat.v1.saved_model.simple_save.\n",
            "WARNING:tensorflow:From /usr/local/lib/python3.6/dist-packages/tensorflow/python/saved_model/signature_def_utils_impl.py:205: build_tensor_info (from tensorflow.python.saved_model.utils_impl) is deprecated and will be removed in a future version.\n",
            "Instructions for updating:\n",
            "This function will only be available through the v1 compatibility library as tf.compat.v1.saved_model.utils.build_tensor_info or tf.compat.v1.saved_model.build_tensor_info.\n",
            "INFO:tensorflow:Assets added to graph.\n",
            "INFO:tensorflow:No assets to write.\n",
            "INFO:tensorflow:SavedModel written to: model/1/saved_model.pb\n"
          ],
          "name": "stdout"
        }
      ]
    },
    {
      "cell_type": "markdown",
      "metadata": {
        "id": "IoIiTWpQzBVr",
        "colab_type": "text"
      },
      "source": [
        "##Setting up the production environment "
      ]
    },
    {
      "cell_type": "markdown",
      "metadata": {
        "id": "uPdKBuP1zGw2",
        "colab_type": "text"
      },
      "source": [
        "### Exporing the MODEL_DIR to enviornment variables. "
      ]
    },
    {
      "cell_type": "code",
      "metadata": {
        "id": "4ovvM6QRjqvm",
        "colab_type": "code",
        "colab": {}
      },
      "source": [
        "os.environ['MODEL_DIR'] = os.path.abspath(MODEL_DIR)"
      ],
      "execution_count": 0,
      "outputs": []
    },
    {
      "cell_type": "markdown",
      "metadata": {
        "id": "arDZrHHY5PdB",
        "colab_type": "text"
      },
      "source": [
        "###Running TensorFlow Serving REST API"
      ]
    },
    {
      "cell_type": "code",
      "metadata": {
        "id": "mgdLpFDe5a2w",
        "colab_type": "code",
        "colab": {
          "base_uri": "https://localhost:8080/",
          "height": 34
        },
        "outputId": "423241d5-bccb-40ab-daf1-df85cc8b4cff"
      },
      "source": [
        "%%bash --bg\n",
        "nohup tensorflow_model_server --rest_api_port=8501 --model_name=cifar10 --model_base_path=\"${MODEL_DIR}\" >server.log 2>&1"
      ],
      "execution_count": 21,
      "outputs": [
        {
          "output_type": "stream",
          "text": [
            "Starting job # 0 in a separate thread.\n"
          ],
          "name": "stdout"
        }
      ]
    },
    {
      "cell_type": "code",
      "metadata": {
        "id": "RChV_e8I557a",
        "colab_type": "code",
        "colab": {
          "base_uri": "https://localhost:8080/",
          "height": 207
        },
        "outputId": "771a4e3a-ac46-4a6b-be4f-62c69339ba1f"
      },
      "source": [
        "!tail server.log"
      ],
      "execution_count": 22,
      "outputs": [
        {
          "output_type": "stream",
          "text": [
            "\u0000\u0000\u0000\u0000\u0000\u0000\u0000\u0000\u0000\u0000\u0000\u0000\u0000\u0000\u0000\u0000\u0000\u0000\u0000\u0000\u0000\u0000\u0000\u0000\u0000\u0000\u0000\u0000\u0000\u0000\u0000\u0000\u0000\u0000\u0000\u0000\u0000\u0000\u0000\u0000\u0000\u0000\u0000\u0000\u0000\u0000\u0000\u0000\u0000\u0000\u0000\u0000\u0000\u0000\u0000\u0000\u0000\u0000\u0000\u0000\u0000\u0000\u0000\u0000\u0000\u0000\u0000\u0000\u0000\u0000\u0000\u0000\u0000\u0000\u0000\u0000\u0000\u0000\u0000\u0000\u0000\u0000\u0000\u0000\u0000\u0000\u0000\u0000\u0000\u0000\u0000\u0000\u0000\u0000\u0000\u0000\u0000\u0000\u0000\u0000\u0000\u0000\u0000\u0000\u0000\u0000\u0000\u0000\u0000\u0000\u0000\u0000\u0000\u0000\u0000\u0000\u0000\u0000\u0000\u0000\u0000\u0000\u0000\u0000\u0000\u0000\u0000\u0000\u0000\u0000\u0000\u0000\u0000\u0000\u0000\u0000\u0000\u0000\u0000\u0000\u0000\u0000\u0000\u0000\u0000\u0000\u0000\u0000\u0000\u0000\u0000\u0000\u0000\u0000\u0000\u0000\u0000\u0000\u0000\u0000\u0000\u0000\u0000\u0000\u0000\u0000\u0000\u0000\u0000\u0000\u0000\u0000\u0000\u0000\u0000\u0000\u0000\u0000\u0000\u0000\u0000\u0000\u0000\u0000\u0000\u0000\u0000\u0000\u0000\u0000\u0000\u0000\u0000\u0000\u0000\u0000\u0000\u0000\u0000\u0000\u0000\u0000\u0000\u0000\u0000\u0000\u0000\u0000\u0000\u0000\u0000\u0000\u0000\u0000\u0000\u0000\u0000\u0000\u0000\u0000\u0000\u0000\u0000\u0000\u0000\u0000\u0000\u0000\u0000\u0000\u0000\u0000\u0000\u0000\u0000\u0000\u0000\u0000\u0000\u0000\u0000\u0000\u0000\u0000\u0000\u0000\u0000\u0000\u0000\u0000\u0000\u0000\u0000\u0000\u0000\u0000\u0000\u0000\u0000\u0000\u0000\u0000\u0000\u0000\u0000\u0000\u0000\u0000\u0000\u0000\u0000\u0000\u0000\u0000\u0000\u0000\u0000\u0000\u0000\u0000\u0000\u0000\u0000\u0000\u0000\u0000\u0000\u0000\u0000\u0000\u0000\u0000\u0000\u0000\u0000\u0000\u0000\u0000\u0000\u0000\u0000\u0000\u0000\u0000\u0000\u0000\u0000\u0000\u0000\u0000\u0000\u0000\u0000\u0000\u0000\u0000\u0000\u0000\u0000\u0000\u0000\u0000\u0000\u0000\u0000\u0000\u0000\u0000\u0000\u0000\u0000\u0000\u0000\u0000\u0000\u0000\u0000\u0000\u0000\u0000\u0000\u0000\u0000\u0000\u0000\u0000\u0000\u0000\u0000\u0000\u0000\u0000\u0000\u0000\u0000\u0000\u0000\u0000\u0000\u0000\u0000\u0000\u0000\u0000\u0000\u0000\u0000\u0000\u0000\u0000\u0000\u0000\u0000\u0000\u0000\u0000\u0000\u0000\u0000\u0000\u0000\u0000\u0000\u0000\u0000\u0000\u0000\u0000\u0000\u0000\u0000\u0000\u0000\u0000\u0000\u0000\u0000\u0000\u0000\u0000\u0000\u0000\u0000\u0000\u0000\u0000\u0000\u0000\u0000\u0000\u0000\u0000\u0000\u0000\u0000\u0000\u0000\u0000\u0000\u0000\u0000\u0000\u0000\u0000\u0000\u0000\u0000\u0000\u0000\u0000\u0000\u0000\u0000\u0000\u0000\u0000\u0000\u0000\u0000\u0000\u0000\u0000\u0000\u0000\u0000\u0000\u0000\u0000\u0000\u0000\u0000\u0000\u0000\u0000\u0000\u0000\u0000\u0000\u0000\u0000\u0000\u0000\u0000\u0000\u0000\u0000\u0000\u0000\u0000\u0000\u0000\u0000\u0000\u0000\u0000\u0000\u0000\u0000\u0000\u0000\u0000\u0000\u0000\u0000\u0000\u0000\u0000\u0000\u0000\u0000\u0000\u0000\u0000\u0000\u0000\u0000\u0000\u0000\u0000\u0000\u0000\u0000\u0000\u0000\u0000\u0000\u0000\u0000\u0000\u0000\u0000\u0000\u0000\u0000\u0000\u0000\u0000\u0000\u0000\u0000\u0000\u0000\u0000\u0000\u0000\u0000\u0000\u0000\u0000\u0000\u0000\u0000\u0000\u0000\u0000\u0000\u0000\u0000\u0000\u0000\u0000\u0000\u0000\u0000\u0000\u0000\u0000\u0000\u0000\u0000\u0000\u0000\u0000\u0000\u0000\u0000\u0000\u0000\u0000\u0000\u0000\u0000\u0000\u0000\u0000\u0000\u0000\u0000\u0000\u0000\u0000\u0000\u0000\u0000\u0000\u0000\u0000\u0000\u0000\u0000\u0000\u0000\u0000\u0000\u0000\u0000\u0000\u0000\u0000\u0000\u0000\u0000\u0000\u0000\u0000\u0000\u0000\u0000\u0000\u0000\u0000\u0000\u0000\u0000\u0000\u0000\u0000\u0000\u0000\u0000\u0000\u0000\u0000\u0000\u0000\u0000\u0000\u0000\u0000\u0000\u0000\u0000\u0000\u0000\u0000\u0000\u0000\u0000\u0000\u0000\u0000\u0000\u0000\u0000\u0000\u0000\u0000\u0000\u0000\u0000\u0000\u0000\u0000\u0000\u0000\u0000\u0000\u0000\u0000\u0000\u0000\u0000\u0000\u0000\u0000\u0000\u0000\u0000\u0000\u0000\u0000\u0000\u0000\u0000\u0000\u0000\u0000\u0000\u0000\u0000\u0000\u0000\u0000\u0000\u0000\u0000\u0000\u0000\u0000\u0000\u0000\u0000\u0000\u0000\u0000\u0000\u0000\u0000\u0000\u0000\u0000\u0000\u0000\u0000\u0000\u0000\u0000\u0000\u0000\u0000\u0000\u0000\u0000\u0000\u0000\u0000\u0000\u0000\u0000\u0000\u0000\u0000\u0000\u0000\u0000\u0000\u0000\u0000\u0000\u0000\u0000\u0000\u0000\u0000\u0000\u0000\u0000\u0000\u0000\u0000\u0000\u0000\u0000\u0000\u0000\u0000\u0000\u0000\u0000\u0000\u0000\u0000\u0000\u0000\u0000\u0000\u0000\u0000\u0000\u0000\u0000\u0000\u0000\u0000\u0000\u0000\u0000\u0000\u0000\u0000\u0000\u0000\u0000\u0000\u0000\u0000\u0000\u0000\u0000\u0000\u0000\u0000\u0000\u0000\u0000\u0000\u0000\u0000\u0000\u0000\u0000\u0000\u0000\u0000\u0000\u0000\u0000\u0000\u0000\u0000\u0000\u0000\u0000\u0000\u0000\u0000\u0000\u0000\u0000\u0000\u0000\u0000\u0000\u0000\u0000\u0000\u0000\u0000\u0000\u0000\u0000\u0000\u0000\u0000\u0000\u0000\u0000\u0000\u0000\u0000\u0000\u0000\u0000\u0000\u0000\u0000\u0000\u0000\u0000\u0000\u0000\u0000\u0000\u0000\u0000\u0000\u0000\u0000\u0000\u0000\u0000\u0000\u0000\u0000\u0000\u0000\u0000\u0000\u0000\u0000\u0000\u0000\u0000\u0000\u0000\u0000\u0000\u0000\u0000\u0000\u0000\u0000\u0000\u0000\u0000\u0000\u0000\u0000\u0000\u0000\u0000\u0000\u0000\u0000\u0000\u0000\u0000\u0000\u0000\u0000\u0000\u0000\u0000\u0000\u0000\u0000\u0000\u0000\u0000\u0000\u0000\u0000\u0000\u0000\u0000\u0000\u0000\u0000\u0000\u0000\u0000\u0000\u0000\u0000\u0000\u0000\u0000\u0000\u0000\u0000\u0000\u0000\u0000\u0000\u0000\u0000\u0000\u0000\u0000\u0000\u0000\u0000\u0000\u0000\u0000\u0000\u0000\u0000\u0000\u0000\u0000\u0000\u0000\u0000\u0000\u0000\u0000\u0000\u0000\u0000\u0000\u0000\u0000\u0000\u0000\u0000\u0000\u0000\u0000\u0000\u0000\u0000\u0000\u0000\u0000\u0000\u0000\u0000\u0000\u0000\u0000\u0000\u0000\u0000\u0000\u0000\u0000\u0000\u0000\u0000\u0000\u0000\u0000\u0000\u0000\u0000\u0000\u0000\u0000\u0000\u0000\u0000\u0000\u0000\u0000\u0000\u0000\u0000\u0000\u0000\u0000\u00002019-08-10 02:36:07.317379: I tensorflow_serving/core/basic_manager.cc:739] Successfully reserved resources to load servable {name: cifar10 version: 1}\n",
            "2019-08-10 02:36:07.317429: I tensorflow_serving/core/loader_harness.cc:66] Approving load for servable version {name: cifar10 version: 1}\n",
            "2019-08-10 02:36:07.317443: I tensorflow_serving/core/loader_harness.cc:74] Loading servable version {name: cifar10 version: 1}\n",
            "2019-08-10 02:36:07.317469: I external/org_tensorflow/tensorflow/contrib/session_bundle/bundle_shim.cc:363] Attempting to load native SavedModelBundle in bundle-shim from: /content/model/1\n",
            "2019-08-10 02:36:07.317481: I external/org_tensorflow/tensorflow/cc/saved_model/reader.cc:31] Reading SavedModel from: /content/model/1\n",
            "2019-08-10 02:36:07.320605: I external/org_tensorflow/tensorflow/cc/saved_model/reader.cc:54] Reading meta graph with tags { serve }\n",
            "2019-08-10 02:36:07.334177: I external/org_tensorflow/tensorflow/cc/saved_model/loader.cc:202] Restoring SavedModel bundle.\n",
            "2019-08-10 02:36:07.368919: I external/org_tensorflow/tensorflow/cc/saved_model/loader.cc:311] SavedModel load for tags { serve }; Status: success. Took 51429 microseconds.\n",
            "2019-08-10 02:36:07.368997: I tensorflow_serving/servables/tensorflow/saved_model_warmup.cc:103] No warmup data file found at /content/model/1/assets.extra/tf_serving_warmup_requests\n",
            "2019-08-10 02:36:07.369096: I tensorflow_serving/core/loader_harness.cc:86] Successfully loaded servable version {name: cifar10 version: 1}\n"
          ],
          "name": "stdout"
        }
      ]
    },
    {
      "cell_type": "markdown",
      "metadata": {
        "id": "tVmKESB_7ts5",
        "colab_type": "text"
      },
      "source": [
        "## Create the first POST request"
      ]
    },
    {
      "cell_type": "code",
      "metadata": {
        "id": "FMA8x_BJ58n0",
        "colab_type": "code",
        "colab": {
          "base_uri": "https://localhost:8080/",
          "height": 34
        },
        "outputId": "83a04ef8-302d-4fd9-9e0d-9a44f6175149"
      },
      "source": [
        "random_image = np.random.randint(0,len(X_test))\n",
        "random_image"
      ],
      "execution_count": 23,
      "outputs": [
        {
          "output_type": "execute_result",
          "data": {
            "text/plain": [
              "3362"
            ]
          },
          "metadata": {
            "tags": []
          },
          "execution_count": 23
        }
      ]
    },
    {
      "cell_type": "markdown",
      "metadata": {
        "id": "MX444UAF8CGe",
        "colab_type": "text"
      },
      "source": [
        "### Creating the JSON data object"
      ]
    },
    {
      "cell_type": "code",
      "metadata": {
        "id": "woRwof8I8FfA",
        "colab_type": "code",
        "colab": {}
      },
      "source": [
        "data = json.dumps({\"signature_name\":\"serving_default\", \"instances\":[X_test[random_image].tolist()]})"
      ],
      "execution_count": 0,
      "outputs": []
    },
    {
      "cell_type": "code",
      "metadata": {
        "id": "daLOfQIXCHmk",
        "colab_type": "code",
        "colab": {
          "base_uri": "https://localhost:8080/",
          "height": 54
        },
        "outputId": "8d6db324-c3a1-4640-d0b4-553eccc46d57"
      },
      "source": [
        "data"
      ],
      "execution_count": 25,
      "outputs": [
        {
          "output_type": "execute_result",
          "data": {
            "text/plain": [
              "'{\"signature_name\": \"serving_default\", \"instances\": [[[[0.08235294117647059, 0.03137254901960784, 0.09019607843137255], [0.07450980392156863, 0.043137254901960784, 0.09411764705882353], [0.050980392156862744, 0.03529411764705882, 0.0784313725490196], [0.06274509803921569, 0.08235294117647059, 0.15294117647058825], [0.07450980392156863, 0.11764705882352941, 0.23529411764705882], [0.10196078431372549, 0.13725490196078433, 0.27450980392156865], [0.09019607843137255, 0.12156862745098039, 0.23137254901960785], [0.09803921568627451, 0.1411764705882353, 0.25882352941176473], [0.10980392156862745, 0.1411764705882353, 0.2784313725490196], [0.06666666666666667, 0.06274509803921569, 0.16862745098039217], [0.08627450980392157, 0.10980392156862745, 0.24705882352941178], [0.08627450980392157, 0.15294117647058825, 0.30980392156862746], [0.058823529411764705, 0.09803921568627451, 0.1803921568627451], [0.08235294117647059, 0.09803921568627451, 0.20392156862745098], [0.09411764705882353, 0.09411764705882353, 0.20784313725490197], [0.08627450980392157, 0.0784313725490196, 0.16862745098039217], [0.07450980392156863, 0.07058823529411765, 0.16862745098039217], [0.10196078431372549, 0.09411764705882353, 0.18823529411764706], [0.0784313725490196, 0.06666666666666667, 0.13333333333333333], [0.08235294117647059, 0.06274509803921569, 0.10980392156862745], [0.06666666666666667, 0.03529411764705882, 0.07450980392156863], [0.08235294117647059, 0.043137254901960784, 0.08627450980392157], [0.07058823529411765, 0.03529411764705882, 0.07450980392156863], [0.06274509803921569, 0.027450980392156862, 0.06666666666666667], [0.07058823529411765, 0.03137254901960784, 0.07450980392156863], [0.06274509803921569, 0.023529411764705882, 0.06666666666666667], [0.06666666666666667, 0.027450980392156862, 0.07058823529411765], [0.058823529411764705, 0.0196078431372549, 0.06274509803921569], [0.058823529411764705, 0.0196078431372549, 0.06274509803921569], [0.06666666666666667, 0.027450980392156862, 0.07058823529411765], [0.06666666666666667, 0.027450980392156862, 0.07058823529411765], [0.08235294117647059, 0.043137254901960784, 0.08627450980392157]], [[0.06274509803921569, 0.01568627450980392, 0.07058823529411765], [0.06274509803921569, 0.03137254901960784, 0.08235294117647059], [0.043137254901960784, 0.027450980392156862, 0.07058823529411765], [0.047058823529411764, 0.058823529411764705, 0.12156862745098039], [0.08235294117647059, 0.10588235294117647, 0.21176470588235294], [0.10980392156862745, 0.13725490196078433, 0.2627450980392157], [0.07450980392156863, 0.10980392156862745, 0.2235294117647059], [0.07058823529411765, 0.11764705882352941, 0.23137254901960785], [0.08235294117647059, 0.10588235294117647, 0.23529411764705882], [0.058823529411764705, 0.047058823529411764, 0.1450980392156863], [0.09019607843137255, 0.10588235294117647, 0.23529411764705882], [0.08627450980392157, 0.1450980392156863, 0.2980392156862745], [0.06274509803921569, 0.10196078431372549, 0.1803921568627451], [0.08235294117647059, 0.10196078431372549, 0.20784313725490197], [0.09019607843137255, 0.09411764705882353, 0.20392156862745098], [0.0784313725490196, 0.07450980392156863, 0.1607843137254902], [0.06666666666666667, 0.06274509803921569, 0.1607843137254902], [0.09019607843137255, 0.08627450980392157, 0.17647058823529413], [0.07058823529411765, 0.058823529411764705, 0.12549019607843137], [0.058823529411764705, 0.0392156862745098, 0.08627450980392157], [0.06274509803921569, 0.03137254901960784, 0.07058823529411765], [0.07450980392156863, 0.03529411764705882, 0.0784313725490196], [0.09411764705882353, 0.054901960784313725, 0.09803921568627451], [0.08235294117647059, 0.043137254901960784, 0.08627450980392157], [0.0784313725490196, 0.0392156862745098, 0.08235294117647059], [0.08627450980392157, 0.047058823529411764, 0.09019607843137255], [0.09019607843137255, 0.050980392156862744, 0.09411764705882353], [0.07058823529411765, 0.03529411764705882, 0.07450980392156863], [0.06666666666666667, 0.027450980392156862, 0.07058823529411765], [0.06274509803921569, 0.023529411764705882, 0.06666666666666667], [0.07058823529411765, 0.03137254901960784, 0.07450980392156863], [0.0784313725490196, 0.0392156862745098, 0.08235294117647059]], [[0.08235294117647059, 0.03529411764705882, 0.09411764705882353], [0.10196078431372549, 0.07058823529411765, 0.11764705882352941], [0.08627450980392157, 0.07058823529411765, 0.11372549019607843], [0.09411764705882353, 0.09019607843137255, 0.1411764705882353], [0.08235294117647059, 0.08627450980392157, 0.17254901960784313], [0.08235294117647059, 0.09803921568627451, 0.2196078431372549], [0.06666666666666667, 0.10196078431372549, 0.21568627450980393], [0.06666666666666667, 0.11372549019607843, 0.23137254901960785], [0.09019607843137255, 0.10588235294117647, 0.22745098039215686], [0.06274509803921569, 0.0392156862745098, 0.13333333333333333], [0.10980392156862745, 0.11764705882352941, 0.23921568627450981], [0.12549019607843137, 0.1843137254901961, 0.32941176470588235], [0.06666666666666667, 0.10196078431372549, 0.1803921568627451], [0.0784313725490196, 0.09803921568627451, 0.20392156862745098], [0.09019607843137255, 0.09411764705882353, 0.20392156862745098], [0.07450980392156863, 0.07058823529411765, 0.1607843137254902], [0.07058823529411765, 0.06666666666666667, 0.16470588235294117], [0.08627450980392157, 0.0784313725490196, 0.17254901960784313], [0.09019607843137255, 0.07450980392156863, 0.1450980392156863], [0.06666666666666667, 0.047058823529411764, 0.09411764705882353], [0.03529411764705882, 0.00392156862745098, 0.043137254901960784], [0.07058823529411765, 0.03137254901960784, 0.07450980392156863], [0.08235294117647059, 0.043137254901960784, 0.08627450980392157], [0.09411764705882353, 0.054901960784313725, 0.09803921568627451], [0.12156862745098039, 0.08235294117647059, 0.12549019607843137], [0.10588235294117647, 0.06666666666666667, 0.10980392156862745], [0.10196078431372549, 0.06274509803921569, 0.10588235294117647], [0.10588235294117647, 0.06666666666666667, 0.10980392156862745], [0.08235294117647059, 0.043137254901960784, 0.08627450980392157], [0.08627450980392157, 0.047058823529411764, 0.09019607843137255], [0.07058823529411765, 0.03137254901960784, 0.07450980392156863], [0.07450980392156863, 0.03529411764705882, 0.0784313725490196]], [[0.10588235294117647, 0.058823529411764705, 0.11372549019607843], [0.13333333333333333, 0.09803921568627451, 0.14901960784313725], [0.08627450980392157, 0.06666666666666667, 0.11372549019607843], [0.08235294117647059, 0.06274509803921569, 0.10196078431372549], [0.06274509803921569, 0.047058823529411764, 0.11764705882352941], [0.09019607843137255, 0.09803921568627451, 0.21176470588235294], [0.08235294117647059, 0.12156862745098039, 0.23529411764705882], [0.06274509803921569, 0.10980392156862745, 0.2235294117647059], [0.09411764705882353, 0.09803921568627451, 0.2196078431372549], [0.07058823529411765, 0.03529411764705882, 0.12549019607843137], [0.10196078431372549, 0.09803921568627451, 0.21568627450980393], [0.10980392156862745, 0.1607843137254902, 0.2980392156862745], [0.07058823529411765, 0.10196078431372549, 0.1843137254901961], [0.08235294117647059, 0.09803921568627451, 0.20392156862745098], [0.09411764705882353, 0.09803921568627451, 0.20784313725490197], [0.08235294117647059, 0.07450980392156863, 0.16470588235294117], [0.08235294117647059, 0.0784313725490196, 0.17647058823529413], [0.09019607843137255, 0.08627450980392157, 0.17254901960784313], [0.09019607843137255, 0.07450980392156863, 0.1411764705882353], [0.0784313725490196, 0.058823529411764705, 0.10588235294117647], [0.043137254901960784, 0.011764705882352941, 0.050980392156862744], [0.07450980392156863, 0.03529411764705882, 0.0784313725490196], [0.08235294117647059, 0.043137254901960784, 0.08627450980392157], [0.09019607843137255, 0.050980392156862744, 0.09411764705882353], [0.09803921568627451, 0.058823529411764705, 0.10196078431372549], [0.08235294117647059, 0.043137254901960784, 0.08627450980392157], [0.0784313725490196, 0.0392156862745098, 0.08235294117647059], [0.08235294117647059, 0.047058823529411764, 0.08627450980392157], [0.06666666666666667, 0.027450980392156862, 0.07058823529411765], [0.06666666666666667, 0.027450980392156862, 0.07058823529411765], [0.06666666666666667, 0.027450980392156862, 0.07058823529411765], [0.06666666666666667, 0.03137254901960784, 0.07058823529411765]], [[0.09803921568627451, 0.06274509803921569, 0.11372549019607843], [0.12549019607843137, 0.10196078431372549, 0.15294117647058825], [0.06274509803921569, 0.050980392156862744, 0.10196078431372549], [0.0784313725490196, 0.058823529411764705, 0.10980392156862745], [0.0784313725490196, 0.058823529411764705, 0.1411764705882353], [0.10196078431372549, 0.10588235294117647, 0.22745098039215686], [0.09019607843137255, 0.11764705882352941, 0.24313725490196078], [0.07450980392156863, 0.10980392156862745, 0.23529411764705882], [0.09411764705882353, 0.10196078431372549, 0.21568627450980393], [0.07450980392156863, 0.043137254901960784, 0.12156862745098039], [0.07450980392156863, 0.07450980392156863, 0.1843137254901961], [0.07058823529411765, 0.12549019607843137, 0.26666666666666666], [0.06274509803921569, 0.10588235294117647, 0.18823529411764706], [0.07450980392156863, 0.10196078431372549, 0.2], [0.08235294117647059, 0.09019607843137255, 0.18823529411764706], [0.07450980392156863, 0.07450980392156863, 0.15294117647058825], [0.08235294117647059, 0.0784313725490196, 0.1843137254901961], [0.09019607843137255, 0.08235294117647059, 0.19607843137254902], [0.08627450980392157, 0.07450980392156863, 0.1568627450980392], [0.07450980392156863, 0.058823529411764705, 0.10196078431372549], [0.06274509803921569, 0.03137254901960784, 0.06274509803921569], [0.09411764705882353, 0.058823529411764705, 0.09411764705882353], [0.09019607843137255, 0.06274509803921569, 0.10196078431372549], [0.09411764705882353, 0.06666666666666667, 0.10588235294117647], [0.09803921568627451, 0.06666666666666667, 0.10588235294117647], [0.07058823529411765, 0.0392156862745098, 0.08235294117647059], [0.06666666666666667, 0.03137254901960784, 0.07450980392156863], [0.058823529411764705, 0.0196078431372549, 0.06274509803921569], [0.054901960784313725, 0.011764705882352941, 0.058823529411764705], [0.06274509803921569, 0.0196078431372549, 0.06274509803921569], [0.07058823529411765, 0.027450980392156862, 0.07450980392156863], [0.06666666666666667, 0.03137254901960784, 0.07450980392156863]], [[0.07450980392156863, 0.054901960784313725, 0.10980392156862745], [0.11372549019607843, 0.10588235294117647, 0.1607843137254902], [0.06666666666666667, 0.06666666666666667, 0.13333333333333333], [0.07450980392156863, 0.07450980392156863, 0.14901960784313725], [0.0784313725490196, 0.0784313725490196, 0.17254901960784313], [0.08627450980392157, 0.09803921568627451, 0.2235294117647059], [0.0784313725490196, 0.09019607843137255, 0.2235294117647059], [0.0784313725490196, 0.09803921568627451, 0.23137254901960785], [0.09803921568627451, 0.10196078431372549, 0.21176470588235294], [0.0784313725490196, 0.0392156862745098, 0.10980392156862745], [0.0784313725490196, 0.06666666666666667, 0.16862745098039217], [0.07058823529411765, 0.12156862745098039, 0.2627450980392157], [0.0784313725490196, 0.12156862745098039, 0.2196078431372549], [0.0784313725490196, 0.10196078431372549, 0.19215686274509805], [0.09411764705882353, 0.09803921568627451, 0.17647058823529413], [0.09019607843137255, 0.09019607843137255, 0.1568627450980392], [0.0784313725490196, 0.08235294117647059, 0.16862745098039217], [0.08627450980392157, 0.08627450980392157, 0.1843137254901961], [0.08627450980392157, 0.0784313725490196, 0.16862745098039217], [0.07450980392156863, 0.06666666666666667, 0.12549019607843137], [0.06274509803921569, 0.043137254901960784, 0.0784313725490196], [0.08627450980392157, 0.08235294117647059, 0.11764705882352941], [0.07450980392156863, 0.08627450980392157, 0.13333333333333333], [0.06666666666666667, 0.07058823529411765, 0.11764705882352941], [0.08235294117647059, 0.07058823529411765, 0.10980392156862745], [0.06274509803921569, 0.043137254901960784, 0.09019607843137255], [0.06666666666666667, 0.03529411764705882, 0.08627450980392157], [0.06666666666666667, 0.0196078431372549, 0.07450980392156863], [0.06666666666666667, 0.01568627450980392, 0.07058823529411765], [0.07450980392156863, 0.023529411764705882, 0.07450980392156863], [0.0784313725490196, 0.0392156862745098, 0.08235294117647059], [0.06666666666666667, 0.0392156862745098, 0.08235294117647059]], [[0.06666666666666667, 0.050980392156862744, 0.10196078431372549], [0.10588235294117647, 0.10196078431372549, 0.1568627450980392], [0.06666666666666667, 0.07058823529411765, 0.13725490196078433], [0.0784313725490196, 0.09411764705882353, 0.15294117647058825], [0.06666666666666667, 0.09411764705882353, 0.15294117647058825], [0.07058823529411765, 0.10196078431372549, 0.1843137254901961], [0.09411764705882353, 0.13725490196078433, 0.23921568627450981], [0.09411764705882353, 0.12156862745098039, 0.25098039215686274], [0.10980392156862745, 0.08627450980392157, 0.21176470588235294], [0.08627450980392157, 0.03137254901960784, 0.12941176470588237], [0.09803921568627451, 0.07450980392156863, 0.19215686274509805], [0.09019607843137255, 0.11764705882352941, 0.27450980392156865], [0.09019607843137255, 0.10588235294117647, 0.2549019607843137], [0.09019607843137255, 0.09019607843137255, 0.22745098039215686], [0.09411764705882353, 0.08235294117647059, 0.21176470588235294], [0.08235294117647059, 0.07058823529411765, 0.1843137254901961], [0.054901960784313725, 0.07450980392156863, 0.12549019607843137], [0.058823529411764705, 0.09019607843137255, 0.09411764705882353], [0.0784313725490196, 0.09019607843137255, 0.11764705882352941], [0.09803921568627451, 0.08235294117647059, 0.19607843137254902], [0.10980392156862745, 0.09803921568627451, 0.20784313725490197], [0.06666666666666667, 0.09019607843137255, 0.1843137254901961], [0.09803921568627451, 0.13725490196078433, 0.24705882352941178], [0.06666666666666667, 0.09019607843137255, 0.1843137254901961], [0.050980392156862744, 0.050980392156862744, 0.11764705882352941], [0.058823529411764705, 0.043137254901960784, 0.09019607843137255], [0.07450980392156863, 0.0392156862745098, 0.09019607843137255], [0.06666666666666667, 0.0196078431372549, 0.0784313725490196], [0.0784313725490196, 0.023529411764705882, 0.08235294117647059], [0.08235294117647059, 0.027450980392156862, 0.0784313725490196], [0.09411764705882353, 0.050980392156862744, 0.09411764705882353], [0.06666666666666667, 0.0392156862745098, 0.08235294117647059]], [[0.09411764705882353, 0.0784313725490196, 0.12941176470588237], [0.13725490196078433, 0.13333333333333333, 0.18823529411764706], [0.07058823529411765, 0.07058823529411765, 0.13725490196078433], [0.07450980392156863, 0.09411764705882353, 0.17647058823529413], [0.07058823529411765, 0.09411764705882353, 0.1843137254901961], [0.0784313725490196, 0.10588235294117647, 0.21176470588235294], [0.1411764705882353, 0.20392156862745098, 0.34901960784313724], [0.10196078431372549, 0.17254901960784313, 0.36470588235294116], [0.09411764705882353, 0.12941176470588237, 0.34509803921568627], [0.11764705882352941, 0.13725490196078433, 0.3333333333333333], [0.12941176470588237, 0.17254901960784313, 0.38823529411764707], [0.13333333333333333, 0.20784313725490197, 0.45098039215686275], [0.1450980392156863, 0.21176470588235294, 0.47058823529411764], [0.1607843137254902, 0.2196078431372549, 0.47843137254901963], [0.16470588235294117, 0.22745098039215686, 0.4823529411764706], [0.17647058823529413, 0.23529411764705882, 0.49019607843137253], [0.20784313725490197, 0.25882352941176473, 0.4745098039215686], [0.16470588235294117, 0.21568627450980393, 0.3333333333333333], [0.06666666666666667, 0.10196078431372549, 0.17254901960784313], [0.12549019607843137, 0.12549019607843137, 0.2627450980392157], [0.17647058823529413, 0.18823529411764706, 0.3411764705882353], [0.06666666666666667, 0.11372549019607843, 0.27450980392156865], [0.12156862745098039, 0.17254901960784313, 0.3568627450980392], [0.12156862745098039, 0.14901960784313725, 0.30196078431372547], [0.07058823529411765, 0.07058823529411765, 0.15294117647058825], [0.0392156862745098, 0.023529411764705882, 0.07058823529411765], [0.06274509803921569, 0.03137254901960784, 0.08235294117647059], [0.0784313725490196, 0.03137254901960784, 0.08627450980392157], [0.08235294117647059, 0.027450980392156862, 0.08627450980392157], [0.07450980392156863, 0.0196078431372549, 0.07058823529411765], [0.07058823529411765, 0.027450980392156862, 0.07058823529411765], [0.06666666666666667, 0.0392156862745098, 0.08235294117647059]], [[0.10196078431372549, 0.08627450980392157, 0.13725490196078433], [0.12549019607843137, 0.11764705882352941, 0.17254901960784313], [0.050980392156862744, 0.050980392156862744, 0.11764705882352941], [0.0784313725490196, 0.09019607843137255, 0.2], [0.08627450980392157, 0.08235294117647059, 0.21176470588235294], [0.10588235294117647, 0.09803921568627451, 0.24313725490196078], [0.12156862745098039, 0.17254901960784313, 0.3764705882352941], [0.09019607843137255, 0.19607843137254902, 0.4627450980392157], [0.10980392156862745, 0.2235294117647059, 0.5176470588235295], [0.12941176470588237, 0.24705882352941178, 0.5372549019607843], [0.1411764705882353, 0.27450980392156865, 0.5764705882352941], [0.15294117647058825, 0.30196078431372547, 0.6196078431372549], [0.1411764705882353, 0.2901960784313726, 0.6274509803921569], [0.16862745098039217, 0.3176470588235294, 0.6666666666666666], [0.19607843137254902, 0.3568627450980392, 0.7098039215686275], [0.21568627450980393, 0.3764705882352941, 0.7450980392156863], [0.3058823529411765, 0.4117647058823529, 0.8196078431372549], [0.3411764705882353, 0.4235294117647059, 0.7568627450980392], [0.1607843137254902, 0.22745098039215686, 0.43529411764705883], [0.10588235294117647, 0.14901960784313725, 0.2980392156862745], [0.1843137254901961, 0.23137254901960785, 0.3686274509803922], [0.0784313725490196, 0.13725490196078433, 0.3215686274509804], [0.12941176470588237, 0.1803921568627451, 0.396078431372549], [0.12156862745098039, 0.1411764705882353, 0.29411764705882354], [0.07450980392156863, 0.06666666666666667, 0.1411764705882353], [0.07450980392156863, 0.058823529411764705, 0.10196078431372549], [0.0784313725490196, 0.047058823529411764, 0.09803921568627451], [0.0784313725490196, 0.03137254901960784, 0.08627450980392157], [0.07450980392156863, 0.0196078431372549, 0.0784313725490196], [0.07058823529411765, 0.01568627450980392, 0.06666666666666667], [0.0784313725490196, 0.03529411764705882, 0.08235294117647059], [0.07450980392156863, 0.047058823529411764, 0.08627450980392157]], [[0.10980392156862745, 0.09411764705882353, 0.14901960784313725], [0.10980392156862745, 0.10196078431372549, 0.1607843137254902], [0.0392156862745098, 0.043137254901960784, 0.10588235294117647], [0.07450980392156863, 0.0784313725490196, 0.15294117647058825], [0.09019607843137255, 0.06274509803921569, 0.12941176470588237], [0.13725490196078433, 0.10588235294117647, 0.1803921568627451], [0.12941176470588237, 0.17254901960784313, 0.3254901960784314], [0.12941176470588237, 0.23137254901960785, 0.47058823529411764], [0.10980392156862745, 0.22745098039215686, 0.5058823529411764], [0.10196078431372549, 0.23529411764705882, 0.5254901960784314], [0.11764705882352941, 0.25882352941176473, 0.5529411764705883], [0.13333333333333333, 0.2784313725490196, 0.5764705882352941], [0.13725490196078433, 0.2823529411764706, 0.596078431372549], [0.1568627450980392, 0.3137254901960784, 0.6431372549019608], [0.1843137254901961, 0.3607843137254902, 0.7019607843137254], [0.17254901960784313, 0.3607843137254902, 0.7058823529411765], [0.20784313725490197, 0.3843137254901961, 0.7294117647058823], [0.27450980392156865, 0.4196078431372549, 0.792156862745098], [0.2901960784313726, 0.396078431372549, 0.7254901960784313], [0.1568627450980392, 0.24313725490196078, 0.44313725490196076], [0.1568627450980392, 0.2235294117647059, 0.33725490196078434], [0.07058823529411765, 0.12549019607843137, 0.2901960784313726], [0.11372549019607843, 0.14901960784313725, 0.3568627450980392], [0.07450980392156863, 0.07450980392156863, 0.20392156862745098], [0.07058823529411765, 0.054901960784313725, 0.10196078431372549], [0.09411764705882353, 0.0784313725490196, 0.12549019607843137], [0.07450980392156863, 0.043137254901960784, 0.09411764705882353], [0.058823529411764705, 0.011764705882352941, 0.07058823529411765], [0.06666666666666667, 0.011764705882352941, 0.07058823529411765], [0.0784313725490196, 0.023529411764705882, 0.0784313725490196], [0.09411764705882353, 0.050980392156862744, 0.09411764705882353], [0.07058823529411765, 0.043137254901960784, 0.08235294117647059]], [[0.12941176470588237, 0.09411764705882353, 0.1411764705882353], [0.17647058823529413, 0.14901960784313725, 0.16470588235294117], [0.1450980392156863, 0.12941176470588237, 0.09411764705882353], [0.24313725490196078, 0.2196078431372549, 0.11764705882352941], [0.35294117647058826, 0.3058823529411765, 0.13333333333333333], [0.5176470588235295, 0.4823529411764706, 0.34509803921568627], [0.2235294117647059, 0.23921568627450981, 0.3137254901960784], [0.20784313725490197, 0.2627450980392157, 0.4588235294117647], [0.3607843137254902, 0.4117647058823529, 0.49019607843137253], [0.3568627450980392, 0.39215686274509803, 0.39215686274509803], [0.3803921568627451, 0.403921568627451, 0.43137254901960786], [0.43137254901960786, 0.4745098039215686, 0.4627450980392157], [0.35294117647058826, 0.41568627450980394, 0.5215686274509804], [0.20392156862745098, 0.2901960784313726, 0.5882352941176471], [0.3411764705882353, 0.4745098039215686, 0.7333333333333333], [0.23137254901960785, 0.3764705882352941, 0.6196078431372549], [0.15294117647058825, 0.3215686274509804, 0.6], [0.19607843137254902, 0.3568627450980392, 0.6862745098039216], [0.25098039215686274, 0.3843137254901961, 0.7411764705882353], [0.23529411764705882, 0.3686274509803922, 0.6588235294117647], [0.11764705882352941, 0.19215686274509805, 0.3686274509803922], [0.22745098039215686, 0.2549019607843137, 0.3411764705882353], [0.22745098039215686, 0.23137254901960785, 0.3176470588235294], [0.050980392156862744, 0.043137254901960784, 0.12156862745098039], [0.047058823529411764, 0.043137254901960784, 0.09803921568627451], [0.06274509803921569, 0.054901960784313725, 0.09803921568627451], [0.07450980392156863, 0.047058823529411764, 0.0784313725490196], [0.06274509803921569, 0.0196078431372549, 0.08627450980392157], [0.054901960784313725, 0.011764705882352941, 0.11764705882352941], [0.07450980392156863, 0.0196078431372549, 0.09411764705882353], [0.0784313725490196, 0.03137254901960784, 0.09019607843137255], [0.07450980392156863, 0.047058823529411764, 0.09411764705882353]], [[0.12941176470588237, 0.08235294117647059, 0.08235294117647059], [0.29411764705882354, 0.25098039215686274, 0.17647058823529413], [0.40784313725490196, 0.3686274509803922, 0.23137254901960785], [0.40784313725490196, 0.35294117647058826, 0.17254901960784313], [0.4627450980392157, 0.39215686274509803, 0.1411764705882353], [0.5647058823529412, 0.5137254901960784, 0.27450980392156865], [0.2823529411764706, 0.2627450980392157, 0.2235294117647059], [0.25882352941176473, 0.25882352941176473, 0.3686274509803922], [0.5019607843137255, 0.4823529411764706, 0.47843137254901963], [0.6, 0.5254901960784314, 0.4117647058823529], [0.7019607843137254, 0.6, 0.5137254901960784], [0.7372549019607844, 0.6745098039215687, 0.4627450980392157], [0.5764705882352941, 0.5490196078431373, 0.4392156862745098], [0.38823529411764707, 0.39215686274509803, 0.5803921568627451], [0.4666666666666667, 0.5372549019607843, 0.6509803921568628], [0.4117647058823529, 0.47843137254901963, 0.611764705882353], [0.3568627450980392, 0.41568627450980394, 0.6235294117647059], [0.3843137254901961, 0.4470588235294118, 0.6509803921568628], [0.396078431372549, 0.4549019607843137, 0.6588235294117647], [0.41568627450980394, 0.4745098039215686, 0.6823529411764706], [0.35294117647058826, 0.3686274509803922, 0.4745098039215686], [0.6, 0.5764705882352941, 0.48627450980392156], [0.6235294117647059, 0.5764705882352941, 0.47843137254901963], [0.14901960784313725, 0.09411764705882353, 0.12156862745098039], [0.12156862745098039, 0.10196078431372549, 0.13725490196078433], [0.1411764705882353, 0.12156862745098039, 0.09803921568627451], [0.13725490196078433, 0.08627450980392157, 0.050980392156862744], [0.08235294117647059, 0.027450980392156862, 0.043137254901960784], [0.058823529411764705, 0.01568627450980392, 0.09803921568627451], [0.07450980392156863, 0.0196078431372549, 0.09411764705882353], [0.0784313725490196, 0.03137254901960784, 0.09019607843137255], [0.07450980392156863, 0.047058823529411764, 0.09803921568627451]], [[0.23137254901960785, 0.19607843137254902, 0.12549019607843137], [0.5137254901960784, 0.4745098039215686, 0.3215686274509804], [0.6, 0.5411764705882353, 0.4117647058823529], [0.6666666666666666, 0.6039215686274509, 0.5215686274509804], [0.6470588235294118, 0.5803921568627451, 0.48627450980392156], [0.5019607843137255, 0.43137254901960786, 0.2901960784313726], [0.3843137254901961, 0.33725490196078434, 0.16470588235294117], [0.34901960784313724, 0.32941176470588235, 0.20392156862745098], [0.4196078431372549, 0.3843137254901961, 0.3176470588235294], [0.5529411764705883, 0.4627450980392157, 0.403921568627451], [0.6980392156862745, 0.5843137254901961, 0.49019607843137253], [0.8352941176470589, 0.7411764705882353, 0.47843137254901963], [0.8627450980392157, 0.7803921568627451, 0.5529411764705883], [0.8156862745098039, 0.7529411764705882, 0.6705882352941176], [0.7843137254901961, 0.7568627450980392, 0.6588235294117647], [0.7568627450980392, 0.7176470588235294, 0.7215686274509804], [0.7333333333333333, 0.6862745098039216, 0.6862745098039216], [0.7647058823529411, 0.7098039215686275, 0.6549019607843137], [0.8156862745098039, 0.7372549019607844, 0.6666666666666666], [0.8235294117647058, 0.7176470588235294, 0.6352941176470588], [0.8117647058823529, 0.7176470588235294, 0.5058823529411764], [0.8549019607843137, 0.7725490196078432, 0.3843137254901961], [0.8235294117647058, 0.7254901960784313, 0.3686274509803922], [0.6039215686274509, 0.5019607843137255, 0.25882352941176473], [0.596078431372549, 0.5176470588235295, 0.3176470588235294], [0.6274509803921569, 0.5490196078431373, 0.36470588235294116], [0.6274509803921569, 0.5294117647058824, 0.33725490196078434], [0.5058823529411764, 0.41568627450980394, 0.27058823529411763], [0.2235294117647059, 0.1607843137254902, 0.10196078431372549], [0.06274509803921569, 0.01568627450980392, 0.027450980392156862], [0.08627450980392157, 0.047058823529411764, 0.0784313725490196], [0.06666666666666667, 0.0392156862745098, 0.09019607843137255]], [[0.2196078431372549, 0.18823529411764706, 0.10980392156862745], [0.4588235294117647, 0.41568627450980394, 0.24705882352941178], [0.5176470588235295, 0.4392156862745098, 0.2980392156862745], [0.5843137254901961, 0.5137254901960784, 0.38823529411764707], [0.6823529411764706, 0.6235294117647059, 0.5137254901960784], [0.6862745098039216, 0.611764705882353, 0.5137254901960784], [0.5686274509803921, 0.4823529411764706, 0.3058823529411765], [0.4117647058823529, 0.3607843137254902, 0.10980392156862745], [0.30196078431372547, 0.27450980392156865, 0.09411764705882353], [0.43137254901960786, 0.3607843137254902, 0.22745098039215686], [0.5254901960784314, 0.43529411764705883, 0.17647058823529413], [0.7176470588235294, 0.6196078431372549, 0.2196078431372549], [0.9176470588235294, 0.796078431372549, 0.4470588235294118], [0.9686274509803922, 0.8470588235294118, 0.5176470588235295], [0.984313725490196, 0.8705882352941177, 0.5686274509803921], [0.9764705882352941, 0.8627450980392157, 0.6941176470588235], [0.9137254901960784, 0.8196078431372549, 0.6274509803921569], [0.8431372549019608, 0.7411764705882353, 0.49411764705882355], [0.8823529411764706, 0.7450980392156863, 0.4745098039215686], [0.9764705882352941, 0.807843137254902, 0.5137254901960784], [0.996078431372549, 0.8274509803921568, 0.5490196078431373], [0.9921568627450981, 0.8509803921568627, 0.49019607843137253], [0.9882352941176471, 0.8549019607843137, 0.4745098039215686], [0.9764705882352941, 0.8470588235294118, 0.4745098039215686], [0.9372549019607843, 0.8156862745098039, 0.44313725490196076], [0.9215686274509803, 0.796078431372549, 0.4823529411764706], [0.9647058823529412, 0.8274509803921568, 0.5058823529411764], [0.984313725490196, 0.8705882352941177, 0.5568627450980392], [0.7843137254901961, 0.7176470588235294, 0.47843137254901963], [0.23921568627450981, 0.2, 0.13725490196078433], [0.0784313725490196, 0.043137254901960784, 0.050980392156862744], [0.07450980392156863, 0.047058823529411764, 0.09019607843137255]], [[0.12941176470588237, 0.08627450980392157, 0.07058823529411765], [0.24313725490196078, 0.17254901960784313, 0.07450980392156863], [0.39215686274509803, 0.2980392156862745, 0.11764705882352941], [0.403921568627451, 0.30980392156862746, 0.08627450980392157], [0.41568627450980394, 0.33725490196078434, 0.13725490196078433], [0.44313725490196076, 0.3686274509803922, 0.21176470588235294], [0.47843137254901963, 0.3843137254901961, 0.20392156862745098], [0.33725490196078434, 0.25098039215686274, 0.09803921568627451], [0.09019607843137255, 0.047058823529411764, 0.0392156862745098], [0.26666666666666666, 0.21176470588235294, 0.1803921568627451], [0.49019607843137253, 0.41568627450980394, 0.2], [0.5294117647058824, 0.4196078431372549, 0.11764705882352941], [0.6941176470588235, 0.5725490196078431, 0.18823529411764706], [0.8901960784313725, 0.7372549019607844, 0.3176470588235294], [0.9725490196078431, 0.803921568627451, 0.4196078431372549], [0.9921568627450981, 0.8431372549019608, 0.5098039215686274], [0.9882352941176471, 0.8666666666666667, 0.5411764705882353], [0.9686274509803922, 0.8470588235294118, 0.5058823529411764], [0.9372549019607843, 0.796078431372549, 0.4392156862745098], [0.9529411764705882, 0.796078431372549, 0.43137254901960786], [0.9921568627450981, 0.8117647058823529, 0.5058823529411764], [1.0, 0.8470588235294118, 0.5098039215686274], [0.9921568627450981, 0.8823529411764706, 0.5411764705882353], [0.996078431372549, 0.8980392156862745, 0.5215686274509804], [0.984313725490196, 0.8823529411764706, 0.47058823529411764], [0.9764705882352941, 0.8588235294117647, 0.5137254901960784], [0.9607843137254902, 0.8352941176470589, 0.4980392156862745], [0.9647058823529412, 0.8745098039215686, 0.5176470588235295], [1.0, 0.9647058823529412, 0.6352941176470588], [0.7647058823529411, 0.7490196078431373, 0.6039215686274509], [0.22745098039215686, 0.19607843137254902, 0.17647058823529413], [0.07058823529411765, 0.043137254901960784, 0.08235294117647059]], [[0.1803921568627451, 0.12941176470588237, 0.17254901960784313], [0.2627450980392157, 0.17647058823529413, 0.15294117647058825], [0.3568627450980392, 0.2549019607843137, 0.043137254901960784], [0.39215686274509803, 0.27058823529411763, 0.03137254901960784], [0.3843137254901961, 0.28627450980392155, 0.06274509803921569], [0.34901960784313724, 0.28627450980392155, 0.050980392156862744], [0.3764705882352941, 0.29411764705882354, 0.050980392156862744], [0.25882352941176473, 0.17647058823529413, 0.050980392156862744], [0.06666666666666667, 0.03137254901960784, 0.10196078431372549], [0.15294117647058825, 0.12941176470588237, 0.11764705882352941], [0.45098039215686275, 0.4, 0.17254901960784313], [0.5137254901960784, 0.4117647058823529, 0.1568627450980392], [0.5176470588235295, 0.4196078431372549, 0.043137254901960784], [0.7098039215686275, 0.5607843137254902, 0.1411764705882353], [0.8941176470588236, 0.7137254901960784, 0.30980392156862746], [0.9411764705882353, 0.7803921568627451, 0.3333333333333333], [0.9725490196078431, 0.807843137254902, 0.3686274509803922], [1.0, 0.8274509803921568, 0.40784313725490196], [1.0, 0.8352941176470589, 0.4117647058823529], [0.9882352941176471, 0.8196078431372549, 0.4], [0.9921568627450981, 0.8274509803921568, 0.40784313725490196], [0.9764705882352941, 0.8549019607843137, 0.43137254901960786], [0.8941176470588236, 0.8156862745098039, 0.47843137254901963], [0.8980392156862745, 0.8196078431372549, 0.5176470588235295], [0.9803921568627451, 0.8980392156862745, 0.5529411764705883], [1.0, 0.9019607843137255, 0.5764705882352941], [1.0, 0.9058823529411765, 0.5843137254901961], [0.9686274509803922, 0.9137254901960784, 0.5686274509803921], [0.9568627450980393, 0.9490196078431372, 0.6078431372549019], [1.0, 1.0, 0.8156862745098039], [0.6274509803921569, 0.6078431372549019, 0.5647058823529412], [0.12156862745098039, 0.09803921568627451, 0.13333333333333333]], [[0.1607843137254902, 0.1450980392156863, 0.21176470588235294], [0.2196078431372549, 0.17254901960784313, 0.20392156862745098], [0.3568627450980392, 0.2784313725490196, 0.043137254901960784], [0.4, 0.2901960784313726, 0.07450980392156863], [0.3764705882352941, 0.2901960784313726, 0.050980392156862744], [0.3686274509803922, 0.2901960784313726, 0.0196078431372549], [0.37254901960784315, 0.27450980392156865, 0.01568627450980392], [0.23529411764705882, 0.1568627450980392, 0.043137254901960784], [0.10196078431372549, 0.10196078431372549, 0.1843137254901961], [0.1411764705882353, 0.13333333333333333, 0.14901960784313725], [0.3843137254901961, 0.2980392156862745, 0.09803921568627451], [0.5254901960784314, 0.42745098039215684, 0.1450980392156863], [0.4980392156862745, 0.40784313725490196, 0.10588235294117647], [0.5568627450980392, 0.44313725490196076, 0.047058823529411764], [0.7411764705882353, 0.592156862745098, 0.15294117647058825], [0.8549019607843137, 0.6901960784313725, 0.24313725490196078], [0.9137254901960784, 0.7294117647058823, 0.2901960784313726], [0.9568627450980393, 0.7647058823529411, 0.3254901960784314], [0.9764705882352941, 0.7843137254901961, 0.3254901960784314], [0.984313725490196, 0.788235294117647, 0.3176470588235294], [0.984313725490196, 0.807843137254902, 0.35294117647058826], [0.9803921568627451, 0.8313725490196079, 0.4117647058823529], [0.9019607843137255, 0.7725490196078432, 0.4196078431372549], [0.8627450980392157, 0.7490196078431373, 0.4470588235294118], [0.9803921568627451, 0.8941176470588236, 0.5686274509803921], [1.0, 0.9333333333333333, 0.5686274509803921], [1.0, 0.9450980392156862, 0.5764705882352941], [0.984313725490196, 0.9568627450980393, 0.6], [0.9764705882352941, 0.9686274509803922, 0.6745098039215687], [0.9882352941176471, 0.9921568627450981, 0.8509803921568627], [0.9294117647058824, 0.9215686274509803, 0.8823529411764706], [0.3176470588235294, 0.30980392156862746, 0.3254901960784314]], [[0.16862745098039217, 0.16470588235294117, 0.2627450980392157], [0.23137254901960785, 0.21176470588235294, 0.26666666666666666], [0.35294117647058826, 0.29411764705882354, 0.06274509803921569], [0.43137254901960786, 0.33725490196078434, 0.16470588235294117], [0.43529411764705883, 0.3568627450980392, 0.16862745098039217], [0.39215686274509803, 0.3058823529411765, 0.09019607843137255], [0.3686274509803922, 0.26666666666666666, 0.058823529411764705], [0.23529411764705882, 0.1607843137254902, 0.08235294117647059], [0.17647058823529413, 0.19607843137254902, 0.2980392156862745], [0.16470588235294117, 0.1607843137254902, 0.2196078431372549], [0.36470588235294116, 0.25882352941176473, 0.09803921568627451], [0.49411764705882355, 0.3843137254901961, 0.10980392156862745], [0.4980392156862745, 0.4, 0.17647058823529413], [0.5098039215686274, 0.39215686274509803, 0.12156862745098039], [0.5568627450980392, 0.4196078431372549, 0.07058823529411765], [0.6470588235294118, 0.49411764705882355, 0.10196078431372549], [0.7333333333333333, 0.5647058823529412, 0.17647058823529413], [0.8, 0.6274509803921569, 0.22745098039215686], [0.8509803921568627, 0.6666666666666666, 0.24705882352941178], [0.8823529411764706, 0.6901960784313725, 0.24705882352941178], [0.9098039215686274, 0.7137254901960784, 0.2823529411764706], [0.9215686274509803, 0.7294117647058823, 0.3137254901960784], [0.8980392156862745, 0.7176470588235294, 0.3137254901960784], [0.9098039215686274, 0.7490196078431373, 0.3568627450980392], [0.9568627450980393, 0.8588235294117647, 0.4666666666666667], [0.9607843137254902, 0.9176470588235294, 0.5098039215686274], [0.984313725490196, 0.9607843137254902, 0.5647058823529412], [1.0, 1.0, 0.6549019607843137], [1.0, 1.0, 0.7607843137254902], [1.0, 1.0, 0.9019607843137255], [1.0, 1.0, 0.9764705882352941], [0.5058823529411764, 0.5019607843137255, 0.5137254901960784]], [[0.24705882352941178, 0.23529411764705882, 0.3686274509803922], [0.25882352941176473, 0.24705882352941178, 0.3215686274509804], [0.2901960784313726, 0.23921568627450981, 0.050980392156862744], [0.34901960784313724, 0.26666666666666666, 0.12941176470588237], [0.4549019607843137, 0.3843137254901961, 0.23137254901960785], [0.5333333333333333, 0.4549019607843137, 0.2823529411764706], [0.44313725490196076, 0.35294117647058826, 0.1607843137254902], [0.24705882352941178, 0.19215686274509805, 0.12156862745098039], [0.21176470588235294, 0.24313725490196078, 0.3686274509803922], [0.18823529411764706, 0.18823529411764706, 0.2627450980392157], [0.3686274509803922, 0.2627450980392157, 0.10588235294117647], [0.45098039215686275, 0.3333333333333333, 0.06666666666666667], [0.403921568627451, 0.2823529411764706, 0.11764705882352941], [0.6313725490196078, 0.5019607843137255, 0.3843137254901961], [0.7254901960784313, 0.596078431372549, 0.4117647058823529], [0.5294117647058824, 0.403921568627451, 0.10980392156862745], [0.4470588235294118, 0.34901960784313724, 0.047058823529411764], [0.49411764705882355, 0.396078431372549, 0.09411764705882353], [0.5607843137254902, 0.4549019607843137, 0.12156862745098039], [0.6313725490196078, 0.5176470588235295, 0.1607843137254902], [0.7215686274509804, 0.5686274509803921, 0.21568627450980393], [0.7607843137254902, 0.5882352941176471, 0.23921568627450981], [0.7529411764705882, 0.592156862745098, 0.2235294117647059], [0.788235294117647, 0.6313725490196078, 0.24313725490196078], [0.9254901960784314, 0.8235294117647058, 0.43137254901960786], [0.9490196078431372, 0.9098039215686274, 0.5254901960784314], [0.9607843137254902, 0.9411764705882353, 0.5882352941176471], [0.9098039215686274, 0.9019607843137255, 0.6352941176470588], [0.8, 0.788235294117647, 0.6078431372549019], [0.7019607843137254, 0.6705882352941176, 0.5686274509803921], [0.8705882352941177, 0.8431372549019608, 0.803921568627451], [0.5019607843137255, 0.4823529411764706, 0.49019607843137253]], [[0.23921568627450981, 0.23137254901960785, 0.3568627450980392], [0.20784313725490197, 0.20784313725490197, 0.28627450980392155], [0.21176470588235294, 0.1803921568627451, 0.03529411764705882], [0.23921568627450981, 0.17647058823529413, 0.06274509803921569], [0.23137254901960785, 0.1843137254901961, 0.03529411764705882], [0.29411764705882354, 0.23529411764705882, 0.07058823529411765], [0.32941176470588235, 0.25882352941176473, 0.047058823529411764], [0.2784313725490196, 0.24705882352941178, 0.1607843137254902], [0.27450980392156865, 0.32941176470588235, 0.4823529411764706], [0.2196078431372549, 0.23137254901960785, 0.32941176470588235], [0.3215686274509804, 0.21176470588235294, 0.0784313725490196], [0.43137254901960786, 0.30980392156862746, 0.047058823529411764], [0.4117647058823529, 0.2823529411764706, 0.10980392156862745], [0.596078431372549, 0.47058823529411764, 0.37254901960784315], [0.7529411764705882, 0.6431372549019608, 0.5176470588235295], [0.4980392156862745, 0.40784313725490196, 0.23529411764705882], [0.20784313725490197, 0.1568627450980392, 0.08235294117647059], [0.15294117647058825, 0.11372549019607843, 0.06274509803921569], [0.16862745098039217, 0.11764705882352941, 0.03529411764705882], [0.2, 0.1450980392156863, 0.058823529411764705], [0.3333333333333333, 0.24705882352941178, 0.0784313725490196], [0.5568627450980392, 0.45098039215686275, 0.17254901960784313], [0.6666666666666666, 0.5607843137254902, 0.25882352941176473], [0.6980392156862745, 0.592156862745098, 0.26666666666666666], [0.8705882352941177, 0.7647058823529411, 0.42745098039215684], [0.9607843137254902, 0.8745098039215686, 0.5333333333333333], [0.8784313725490196, 0.807843137254902, 0.5019607843137255], [0.5882352941176471, 0.5333333333333333, 0.3176470588235294], [0.4823529411764706, 0.43529411764705883, 0.2823529411764706], [0.48627450980392156, 0.43137254901960786, 0.2784313725490196], [0.8235294117647058, 0.7803921568627451, 0.6862745098039216], [0.5294117647058824, 0.5019607843137255, 0.49411764705882355]], [[0.24705882352941178, 0.24705882352941178, 0.32941176470588235], [0.14901960784313725, 0.1607843137254902, 0.24313725490196078], [0.09019607843137255, 0.07058823529411765, 0.00784313725490196], [0.16470588235294117, 0.11372549019607843, 0.06274509803921569], [0.18823529411764706, 0.1450980392156863, 0.07450980392156863], [0.2, 0.1411764705882353, 0.058823529411764705], [0.24313725490196078, 0.1803921568627451, 0.023529411764705882], [0.2823529411764706, 0.27058823529411763, 0.21176470588235294], [0.35294117647058826, 0.42745098039215684, 0.6039215686274509], [0.21568627450980393, 0.23921568627450981, 0.3568627450980392], [0.27450980392156865, 0.1607843137254902, 0.03529411764705882], [0.42745098039215684, 0.29411764705882354, 0.023529411764705882], [0.42745098039215684, 0.30196078431372547, 0.058823529411764705], [0.43529411764705883, 0.32941176470588235, 0.12156862745098039], [0.403921568627451, 0.3215686274509804, 0.17254901960784313], [0.3686274509803922, 0.3058823529411765, 0.2], [0.33725490196078434, 0.2823529411764706, 0.16862745098039217], [0.3568627450980392, 0.29411764705882354, 0.14901960784313725], [0.34509803921568627, 0.27450980392156865, 0.10588235294117647], [0.32941176470588235, 0.25098039215686274, 0.0784313725490196], [0.3803921568627451, 0.28627450980392155, 0.058823529411764705], [0.4980392156862745, 0.3843137254901961, 0.09019607843137255], [0.5725490196078431, 0.4470588235294118, 0.1450980392156863], [0.615686274509804, 0.47843137254901963, 0.16862745098039217], [0.8196078431372549, 0.6627450980392157, 0.30196078431372547], [0.9607843137254902, 0.8, 0.3764705882352941], [0.9529411764705882, 0.8352941176470589, 0.4196078431372549], [0.9176470588235294, 0.8117647058823529, 0.4588235294117647], [0.9607843137254902, 0.8705882352941177, 0.5568627450980392], [0.9372549019607843, 0.8784313725490196, 0.5647058823529412], [0.6941176470588235, 0.6431372549019608, 0.4745098039215686], [0.4980392156862745, 0.4588235294117647, 0.4235294117647059]], [[0.11764705882352941, 0.11372549019607843, 0.15294117647058825], [0.03137254901960784, 0.0392156862745098, 0.09803921568627451], [0.01568627450980392, 0.00784313725490196, 0.0], [0.058823529411764705, 0.0196078431372549, 0.03529411764705882], [0.10980392156862745, 0.06666666666666667, 0.09019607843137255], [0.09803921568627451, 0.050980392156862744, 0.06274509803921569], [0.12549019607843137, 0.07450980392156863, 0.023529411764705882], [0.17647058823529413, 0.16862745098039217, 0.1803921568627451], [0.27450980392156865, 0.3411764705882353, 0.5215686274509804], [0.14901960784313725, 0.16862745098039217, 0.28627450980392155], [0.2, 0.10980392156862745, 0.03137254901960784], [0.3686274509803922, 0.24705882352941178, 0.050980392156862744], [0.3686274509803922, 0.25882352941176473, 0.027450980392156862], [0.37254901960784315, 0.2901960784313726, 0.043137254901960784], [0.2823529411764706, 0.2235294117647059, 0.06274509803921569], [0.2235294117647059, 0.16470588235294117, 0.08235294117647059], [0.3333333333333333, 0.2235294117647059, 0.09019607843137255], [0.4823529411764706, 0.34901960784313724, 0.13725490196078433], [0.4980392156862745, 0.3568627450980392, 0.12549019607843137], [0.49019607843137253, 0.3411764705882353, 0.09803921568627451], [0.47843137254901963, 0.33725490196078434, 0.06666666666666667], [0.47058823529411764, 0.3254901960784314, 0.047058823529411764], [0.4745098039215686, 0.30980392156862746, 0.047058823529411764], [0.4980392156862745, 0.3137254901960784, 0.06666666666666667], [0.6352941176470588, 0.4549019607843137, 0.1568627450980392], [0.7058823529411765, 0.5529411764705883, 0.16862745098039217], [0.6862745098039216, 0.5568627450980392, 0.16862745098039217], [0.7137254901960784, 0.596078431372549, 0.23137254901960785], [0.7411764705882353, 0.6352941176470588, 0.30196078431372547], [0.7568627450980392, 0.6901960784313725, 0.40784313725490196], [0.6470588235294118, 0.6, 0.4470588235294118], [0.5176470588235295, 0.4823529411764706, 0.45098039215686275]], [[0.06666666666666667, 0.058823529411764705, 0.09019607843137255], [0.047058823529411764, 0.043137254901960784, 0.06666666666666667], [0.03529411764705882, 0.03137254901960784, 0.03529411764705882], [0.03529411764705882, 0.0196078431372549, 0.0392156862745098], [0.027450980392156862, 0.00392156862745098, 0.03529411764705882], [0.0196078431372549, 0.00392156862745098, 0.0196078431372549], [0.0196078431372549, 0.0, 0.0], [0.047058823529411764, 0.047058823529411764, 0.09803921568627451], [0.22745098039215686, 0.2627450980392157, 0.4], [0.10980392156862745, 0.11372549019607843, 0.20784313725490197], [0.06274509803921569, 0.0196078431372549, 0.0392156862745098], [0.1568627450980392, 0.08235294117647059, 0.058823529411764705], [0.16470588235294117, 0.09019607843137255, 0.0392156862745098], [0.17647058823529413, 0.10980392156862745, 0.03529411764705882], [0.1803921568627451, 0.12549019607843137, 0.043137254901960784], [0.1843137254901961, 0.12156862745098039, 0.050980392156862744], [0.21568627450980393, 0.12156862745098039, 0.054901960784313725], [0.24313725490196078, 0.13333333333333333, 0.058823529411764705], [0.24313725490196078, 0.13333333333333333, 0.054901960784313725], [0.22745098039215686, 0.10980392156862745, 0.03529411764705882], [0.19215686274509805, 0.09803921568627451, 0.0196078431372549], [0.1803921568627451, 0.09803921568627451, 0.0196078431372549], [0.17647058823529413, 0.08627450980392157, 0.023529411764705882], [0.1803921568627451, 0.08627450980392157, 0.03529411764705882], [0.1803921568627451, 0.09803921568627451, 0.047058823529411764], [0.15294117647058825, 0.09411764705882353, 0.03137254901960784], [0.1450980392156863, 0.09019607843137255, 0.027450980392156862], [0.16862745098039217, 0.11372549019607843, 0.050980392156862744], [0.3607843137254902, 0.3058823529411765, 0.24705882352941178], [0.6078431372549019, 0.5686274509803921, 0.5294117647058824], [0.48627450980392156, 0.4588235294117647, 0.4470588235294118], [0.403921568627451, 0.39215686274509803, 0.40784313725490196]], [[0.08627450980392157, 0.07450980392156863, 0.1411764705882353], [0.08235294117647059, 0.07450980392156863, 0.12549019607843137], [0.0784313725490196, 0.07450980392156863, 0.10980392156862745], [0.07450980392156863, 0.06666666666666667, 0.10588235294117647], [0.058823529411764705, 0.047058823529411764, 0.08235294117647059], [0.047058823529411764, 0.03529411764705882, 0.058823529411764705], [0.027450980392156862, 0.0196078431372549, 0.027450980392156862], [0.0196078431372549, 0.01568627450980392, 0.054901960784313725], [0.11372549019607843, 0.11764705882352941, 0.19607843137254902], [0.050980392156862744, 0.050980392156862744, 0.10196078431372549], [0.011764705882352941, 0.0, 0.0196078431372549], [0.0392156862745098, 0.00784313725490196, 0.03529411764705882], [0.047058823529411764, 0.0, 0.058823529411764705], [0.043137254901960784, 0.0, 0.043137254901960784], [0.03529411764705882, 0.0, 0.0196078431372549], [0.03137254901960784, 0.0, 0.00784313725490196], [0.023529411764705882, 0.00392156862745098, 0.01568627450980392], [0.023529411764705882, 0.00784313725490196, 0.0196078431372549], [0.027450980392156862, 0.011764705882352941, 0.0196078431372549], [0.027450980392156862, 0.01568627450980392, 0.023529411764705882], [0.0196078431372549, 0.01568627450980392, 0.0196078431372549], [0.027450980392156862, 0.023529411764705882, 0.027450980392156862], [0.043137254901960784, 0.03529411764705882, 0.054901960784313725], [0.06274509803921569, 0.054901960784313725, 0.08627450980392157], [0.0784313725490196, 0.06666666666666667, 0.10196078431372549], [0.06274509803921569, 0.0392156862745098, 0.08235294117647059], [0.050980392156862744, 0.03137254901960784, 0.07058823529411765], [0.09803921568627451, 0.07450980392156863, 0.11372549019607843], [0.32941176470588235, 0.3058823529411765, 0.3411764705882353], [0.4627450980392157, 0.43137254901960786, 0.4627450980392157], [0.3764705882352941, 0.35294117647058826, 0.38823529411764707], [0.37254901960784315, 0.36470588235294116, 0.40784313725490196]], [[0.09019607843137255, 0.08235294117647059, 0.1803921568627451], [0.08627450980392157, 0.08235294117647059, 0.16470588235294117], [0.08627450980392157, 0.08235294117647059, 0.15294117647058825], [0.08627450980392157, 0.0784313725490196, 0.1411764705882353], [0.0784313725490196, 0.06666666666666667, 0.12156862745098039], [0.07058823529411765, 0.06274509803921569, 0.10588235294117647], [0.054901960784313725, 0.050980392156862744, 0.0784313725490196], [0.047058823529411764, 0.0392156862745098, 0.06666666666666667], [0.0392156862745098, 0.023529411764705882, 0.054901960784313725], [0.011764705882352941, 0.00784313725490196, 0.03137254901960784], [0.0, 0.00392156862745098, 0.0196078431372549], [0.00392156862745098, 0.00392156862745098, 0.027450980392156862], [0.011764705882352941, 0.0, 0.050980392156862744], [0.011764705882352941, 0.0, 0.043137254901960784], [0.00784313725490196, 0.0, 0.027450980392156862], [0.00784313725490196, 0.0, 0.01568627450980392], [0.00392156862745098, 0.00392156862745098, 0.0196078431372549], [0.00392156862745098, 0.00392156862745098, 0.0196078431372549], [0.00784313725490196, 0.011764705882352941, 0.027450980392156862], [0.0196078431372549, 0.027450980392156862, 0.043137254901960784], [0.0392156862745098, 0.0392156862745098, 0.050980392156862744], [0.050980392156862744, 0.047058823529411764, 0.058823529411764705], [0.054901960784313725, 0.054901960784313725, 0.06666666666666667], [0.07058823529411765, 0.07058823529411765, 0.08627450980392157], [0.11372549019607843, 0.10980392156862745, 0.11764705882352941], [0.13333333333333333, 0.12941176470588237, 0.12549019607843137], [0.16470588235294117, 0.1607843137254902, 0.1568627450980392], [0.19607843137254902, 0.19607843137254902, 0.19215686274509805], [0.25098039215686274, 0.23921568627450981, 0.24313725490196078], [0.3137254901960784, 0.2784313725490196, 0.3058823529411765], [0.3333333333333333, 0.3058823529411765, 0.34509803921568627], [0.33725490196078434, 0.3254901960784314, 0.3764705882352941]], [[0.09019607843137255, 0.09411764705882353, 0.20392156862745098], [0.08627450980392157, 0.09411764705882353, 0.1843137254901961], [0.08627450980392157, 0.09411764705882353, 0.17254901960784313], [0.09019607843137255, 0.08627450980392157, 0.16470588235294117], [0.08627450980392157, 0.0784313725490196, 0.15294117647058825], [0.08235294117647059, 0.0784313725490196, 0.13725490196078433], [0.08235294117647059, 0.0784313725490196, 0.12941176470588237], [0.08627450980392157, 0.07450980392156863, 0.10980392156862745], [0.08627450980392157, 0.06666666666666667, 0.09411764705882353], [0.054901960784313725, 0.047058823529411764, 0.07058823529411765], [0.03137254901960784, 0.03529411764705882, 0.050980392156862744], [0.023529411764705882, 0.03529411764705882, 0.043137254901960784], [0.023529411764705882, 0.03137254901960784, 0.027450980392156862], [0.03137254901960784, 0.03529411764705882, 0.027450980392156862], [0.03137254901960784, 0.0392156862745098, 0.027450980392156862], [0.043137254901960784, 0.047058823529411764, 0.03529411764705882], [0.07450980392156863, 0.050980392156862744, 0.047058823529411764], [0.09019607843137255, 0.054901960784313725, 0.054901960784313725], [0.10980392156862745, 0.07450980392156863, 0.07450980392156863], [0.13333333333333333, 0.09803921568627451, 0.09803921568627451], [0.16470588235294117, 0.12941176470588237, 0.13333333333333333], [0.1803921568627451, 0.14901960784313725, 0.1450980392156863], [0.20392156862745098, 0.17254901960784313, 0.1568627450980392], [0.23137254901960785, 0.19607843137254902, 0.17647058823529413], [0.27058823529411763, 0.25098039215686274, 0.21568627450980393], [0.2901960784313726, 0.28627450980392155, 0.23921568627450981], [0.2980392156862745, 0.29411764705882354, 0.24705882352941178], [0.30196078431372547, 0.2980392156862745, 0.25098039215686274], [0.32941176470588235, 0.3215686274509804, 0.2823529411764706], [0.36470588235294116, 0.3333333333333333, 0.3411764705882353], [0.35294117647058826, 0.32941176470588235, 0.35294117647058826], [0.34901960784313724, 0.3411764705882353, 0.37254901960784315]], [[0.21568627450980393, 0.22745098039215686, 0.3254901960784314], [0.2196078431372549, 0.23921568627450981, 0.3176470588235294], [0.2235294117647059, 0.24313725490196078, 0.3137254901960784], [0.22745098039215686, 0.23529411764705882, 0.3176470588235294], [0.2235294117647059, 0.2235294117647059, 0.30980392156862746], [0.2235294117647059, 0.2235294117647059, 0.2980392156862745], [0.2235294117647059, 0.22745098039215686, 0.28627450980392155], [0.2196078431372549, 0.2235294117647059, 0.2784313725490196], [0.21568627450980393, 0.21176470588235294, 0.26666666666666666], [0.21568627450980393, 0.20784313725490197, 0.25098039215686274], [0.21568627450980393, 0.20784313725490197, 0.23137254901960785], [0.21176470588235294, 0.20784313725490197, 0.21568627450980393], [0.2196078431372549, 0.21568627450980393, 0.20784313725490197], [0.22745098039215686, 0.2235294117647059, 0.21568627450980393], [0.23137254901960785, 0.2235294117647059, 0.2235294117647059], [0.24313725490196078, 0.23529411764705882, 0.23921568627450981], [0.26666666666666666, 0.23921568627450981, 0.24705882352941178], [0.28627450980392155, 0.25098039215686274, 0.25882352941176473], [0.2901960784313726, 0.2549019607843137, 0.2627450980392157], [0.30196078431372547, 0.26666666666666666, 0.27450980392156865], [0.3058823529411765, 0.28627450980392155, 0.30980392156862746], [0.2901960784313726, 0.2784313725490196, 0.3058823529411765], [0.30196078431372547, 0.29411764705882354, 0.2980392156862745], [0.3215686274509804, 0.3137254901960784, 0.30196078431372547], [0.3568627450980392, 0.33725490196078434, 0.3215686274509804], [0.3843137254901961, 0.34901960784313724, 0.34509803921568627], [0.3803921568627451, 0.3411764705882353, 0.33725490196078434], [0.3764705882352941, 0.3411764705882353, 0.33725490196078434], [0.403921568627451, 0.3686274509803922, 0.3607843137254902], [0.4117647058823529, 0.3843137254901961, 0.36470588235294116], [0.403921568627451, 0.38823529411764707, 0.3764705882352941], [0.3803921568627451, 0.3764705882352941, 0.3764705882352941]], [[0.3333333333333333, 0.3411764705882353, 0.42745098039215684], [0.3411764705882353, 0.35294117647058826, 0.43137254901960786], [0.3411764705882353, 0.35294117647058826, 0.42745098039215684], [0.3333333333333333, 0.34509803921568627, 0.4196078431372549], [0.32941176470588235, 0.33725490196078434, 0.41568627450980394], [0.32941176470588235, 0.33725490196078434, 0.4117647058823529], [0.3215686274509804, 0.3333333333333333, 0.4], [0.30980392156862746, 0.3215686274509804, 0.3843137254901961], [0.29411764705882354, 0.3058823529411765, 0.3686274509803922], [0.29411764705882354, 0.30196078431372547, 0.35294117647058826], [0.3058823529411765, 0.3058823529411765, 0.34509803921568627], [0.3137254901960784, 0.3058823529411765, 0.33725490196078434], [0.3137254901960784, 0.30196078431372547, 0.32941176470588235], [0.3254901960784314, 0.30980392156862746, 0.3411764705882353], [0.3176470588235294, 0.30196078431372547, 0.33725490196078434], [0.30980392156862746, 0.29411764705882354, 0.3333333333333333], [0.30196078431372547, 0.29411764705882354, 0.3254901960784314], [0.30980392156862746, 0.3058823529411765, 0.33725490196078434], [0.30980392156862746, 0.3058823529411765, 0.33725490196078434], [0.3137254901960784, 0.30980392156862746, 0.3411764705882353], [0.30980392156862746, 0.3176470588235294, 0.3607843137254902], [0.3137254901960784, 0.32941176470588235, 0.37254901960784315], [0.3254901960784314, 0.3411764705882353, 0.3686274509803922], [0.3333333333333333, 0.35294117647058826, 0.3607843137254902], [0.3764705882352941, 0.3686274509803922, 0.38823529411764707], [0.4235294117647059, 0.3764705882352941, 0.41568627450980394], [0.4117647058823529, 0.36470588235294116, 0.4], [0.42745098039215684, 0.3803921568627451, 0.4117647058823529], [0.42745098039215684, 0.3843137254901961, 0.40784313725490196], [0.42745098039215684, 0.39215686274509803, 0.40784313725490196], [0.4392156862745098, 0.41568627450980394, 0.4470588235294118], [0.36470588235294116, 0.34901960784313724, 0.403921568627451]], [[0.3176470588235294, 0.3215686274509804, 0.40784313725490196], [0.32941176470588235, 0.3333333333333333, 0.41568627450980394], [0.3215686274509804, 0.3254901960784314, 0.40784313725490196], [0.3137254901960784, 0.3176470588235294, 0.403921568627451], [0.3254901960784314, 0.33725490196078434, 0.41568627450980394], [0.3254901960784314, 0.33725490196078434, 0.4196078431372549], [0.3176470588235294, 0.32941176470588235, 0.4117647058823529], [0.3058823529411765, 0.3176470588235294, 0.39215686274509803], [0.30980392156862746, 0.3215686274509804, 0.3843137254901961], [0.30980392156862746, 0.3215686274509804, 0.3843137254901961], [0.3058823529411765, 0.3176470588235294, 0.3843137254901961], [0.30980392156862746, 0.3176470588235294, 0.3803921568627451], [0.3215686274509804, 0.3137254901960784, 0.37254901960784315], [0.3411764705882353, 0.32941176470588235, 0.38823529411764707], [0.33725490196078434, 0.3254901960784314, 0.3843137254901961], [0.3215686274509804, 0.3137254901960784, 0.37254901960784315], [0.30980392156862746, 0.3137254901960784, 0.36470588235294116], [0.30980392156862746, 0.3176470588235294, 0.3686274509803922], [0.3176470588235294, 0.3254901960784314, 0.3803921568627451], [0.3215686274509804, 0.32941176470588235, 0.3843137254901961], [0.3176470588235294, 0.3254901960784314, 0.3843137254901961], [0.3411764705882353, 0.34901960784313724, 0.403921568627451], [0.35294117647058826, 0.3607843137254902, 0.403921568627451], [0.3568627450980392, 0.3686274509803922, 0.39215686274509803], [0.35294117647058826, 0.35294117647058826, 0.38823529411764707], [0.36470588235294116, 0.3411764705882353, 0.396078431372549], [0.35294117647058826, 0.32941176470588235, 0.3843137254901961], [0.35294117647058826, 0.3333333333333333, 0.3764705882352941], [0.3568627450980392, 0.3333333333333333, 0.3843137254901961], [0.3411764705882353, 0.3137254901960784, 0.39215686274509803], [0.34509803921568627, 0.3215686274509804, 0.4235294117647059], [0.25882352941176473, 0.24705882352941178, 0.3764705882352941]], [[0.3333333333333333, 0.33725490196078434, 0.4196078431372549], [0.3333333333333333, 0.33725490196078434, 0.4196078431372549], [0.3254901960784314, 0.32941176470588235, 0.4117647058823529], [0.3176470588235294, 0.3215686274509804, 0.4196078431372549], [0.3215686274509804, 0.32941176470588235, 0.4392156862745098], [0.30196078431372547, 0.3058823529411765, 0.41568627450980394], [0.30980392156862746, 0.3176470588235294, 0.42745098039215684], [0.3176470588235294, 0.3215686274509804, 0.42745098039215684], [0.3215686274509804, 0.32941176470588235, 0.42745098039215684], [0.3215686274509804, 0.3254901960784314, 0.4235294117647059], [0.3058823529411765, 0.3137254901960784, 0.4117647058823529], [0.3137254901960784, 0.3176470588235294, 0.41568627450980394], [0.3254901960784314, 0.3176470588235294, 0.403921568627451], [0.3333333333333333, 0.3215686274509804, 0.40784313725490196], [0.3411764705882353, 0.32941176470588235, 0.41568627450980394], [0.32941176470588235, 0.3215686274509804, 0.40784313725490196], [0.3215686274509804, 0.3215686274509804, 0.403921568627451], [0.3215686274509804, 0.3254901960784314, 0.40784313725490196], [0.3333333333333333, 0.33725490196078434, 0.4196078431372549], [0.32941176470588235, 0.3333333333333333, 0.41568627450980394], [0.3333333333333333, 0.3333333333333333, 0.4235294117647059], [0.3411764705882353, 0.34509803921568627, 0.42745098039215684], [0.34901960784313724, 0.35294117647058826, 0.4235294117647059], [0.3411764705882353, 0.34901960784313724, 0.40784313725490196], [0.30980392156862746, 0.3176470588235294, 0.38823529411764707], [0.25098039215686274, 0.2549019607843137, 0.35294117647058826], [0.23137254901960785, 0.23137254901960785, 0.3333333333333333], [0.23137254901960785, 0.23137254901960785, 0.33725490196078434], [0.23529411764705882, 0.23529411764705882, 0.34509803921568627], [0.23137254901960785, 0.23137254901960785, 0.3411764705882353], [0.25098039215686274, 0.25882352941176473, 0.3843137254901961], [0.2235294117647059, 0.23921568627450981, 0.38823529411764707]], [[0.3333333333333333, 0.33725490196078434, 0.4196078431372549], [0.3254901960784314, 0.32941176470588235, 0.4117647058823529], [0.3176470588235294, 0.3215686274509804, 0.403921568627451], [0.3215686274509804, 0.3215686274509804, 0.42745098039215684], [0.3058823529411765, 0.30980392156862746, 0.43137254901960786], [0.3058823529411765, 0.3058823529411765, 0.42745098039215684], [0.3137254901960784, 0.3176470588235294, 0.43529411764705883], [0.3215686274509804, 0.3254901960784314, 0.4470588235294118], [0.3215686274509804, 0.3254901960784314, 0.4470588235294118], [0.3215686274509804, 0.3254901960784314, 0.4470588235294118], [0.3137254901960784, 0.3176470588235294, 0.43529411764705883], [0.3254901960784314, 0.32941176470588235, 0.4470588235294118], [0.3333333333333333, 0.32941176470588235, 0.43529411764705883], [0.3254901960784314, 0.3215686274509804, 0.43137254901960786], [0.33725490196078434, 0.3333333333333333, 0.4392156862745098], [0.32941176470588235, 0.3254901960784314, 0.43529411764705883], [0.3176470588235294, 0.3137254901960784, 0.4235294117647059], [0.3215686274509804, 0.3215686274509804, 0.42745098039215684], [0.34509803921568627, 0.34509803921568627, 0.45098039215686275], [0.34509803921568627, 0.34509803921568627, 0.45098039215686275], [0.33725490196078434, 0.33725490196078434, 0.45098039215686275], [0.3333333333333333, 0.3333333333333333, 0.4392156862745098], [0.3333333333333333, 0.3333333333333333, 0.42745098039215684], [0.33725490196078434, 0.3411764705882353, 0.4196078431372549], [0.2784313725490196, 0.28627450980392155, 0.3803921568627451], [0.20784313725490197, 0.2235294117647059, 0.34901960784313724], [0.2, 0.21568627450980393, 0.35294117647058826], [0.20784313725490197, 0.2196078431372549, 0.37254901960784315], [0.20392156862745098, 0.21176470588235294, 0.37254901960784315], [0.19215686274509805, 0.20784313725490197, 0.34901960784313724], [0.20784313725490197, 0.22745098039215686, 0.3764705882352941], [0.1843137254901961, 0.2196078431372549, 0.37254901960784315]], [[0.30980392156862746, 0.3137254901960784, 0.396078431372549], [0.30196078431372547, 0.3058823529411765, 0.38823529411764707], [0.2980392156862745, 0.30196078431372547, 0.3843137254901961], [0.3058823529411765, 0.30980392156862746, 0.403921568627451], [0.30196078431372547, 0.3058823529411765, 0.40784313725490196], [0.3176470588235294, 0.3215686274509804, 0.4235294117647059], [0.3058823529411765, 0.30980392156862746, 0.4117647058823529], [0.29411764705882354, 0.30196078431372547, 0.403921568627451], [0.3058823529411765, 0.30980392156862746, 0.4235294117647059], [0.3058823529411765, 0.30980392156862746, 0.4235294117647059], [0.2980392156862745, 0.3058823529411765, 0.4196078431372549], [0.3058823529411765, 0.3137254901960784, 0.4235294117647059], [0.3215686274509804, 0.32941176470588235, 0.42745098039215684], [0.3215686274509804, 0.3333333333333333, 0.42745098039215684], [0.3137254901960784, 0.3254901960784314, 0.4196078431372549], [0.3176470588235294, 0.32941176470588235, 0.4235294117647059], [0.3254901960784314, 0.3254901960784314, 0.4235294117647059], [0.3254901960784314, 0.32941176470588235, 0.42745098039215684], [0.32941176470588235, 0.32941176470588235, 0.42745098039215684], [0.33725490196078434, 0.33725490196078434, 0.43529411764705883], [0.3254901960784314, 0.3254901960784314, 0.42745098039215684], [0.3215686274509804, 0.3215686274509804, 0.4235294117647059], [0.3215686274509804, 0.3215686274509804, 0.40784313725490196], [0.33725490196078434, 0.3411764705882353, 0.4117647058823529], [0.3058823529411765, 0.3137254901960784, 0.39215686274509803], [0.24705882352941178, 0.2627450980392157, 0.3607843137254902], [0.21176470588235294, 0.2235294117647059, 0.34509803921568627], [0.20392156862745098, 0.20784313725490197, 0.3568627450980392], [0.1843137254901961, 0.18823529411764706, 0.35294117647058826], [0.1843137254901961, 0.18823529411764706, 0.3411764705882353], [0.1803921568627451, 0.19607843137254902, 0.34509803921568627], [0.16862745098039217, 0.19607843137254902, 0.3411764705882353]]]]}'"
            ]
          },
          "metadata": {
            "tags": []
          },
          "execution_count": 25
        }
      ]
    },
    {
      "cell_type": "markdown",
      "metadata": {
        "id": "4r2UYAdUCJ95",
        "colab_type": "text"
      },
      "source": [
        "Sending the first POST request to the model"
      ]
    },
    {
      "cell_type": "code",
      "metadata": {
        "id": "mjFUnOJGALm8",
        "colab_type": "code",
        "colab": {}
      },
      "source": [
        "headers = {\"content-type\":\"application/json\"}"
      ],
      "execution_count": 0,
      "outputs": []
    },
    {
      "cell_type": "code",
      "metadata": {
        "id": "teKSh4iDCUoX",
        "colab_type": "code",
        "colab": {}
      },
      "source": [
        "json_response = requests.post(url=\"http://localhost:8501/v1/models/cifar10:predict\", data=data, headers = headers)"
      ],
      "execution_count": 0,
      "outputs": []
    },
    {
      "cell_type": "code",
      "metadata": {
        "id": "DwO_sZm3DluZ",
        "colab_type": "code",
        "colab": {
          "base_uri": "https://localhost:8080/",
          "height": 34
        },
        "outputId": "4e59c390-3774-4428-eae3-00b4eb18ca8f"
      },
      "source": [
        "json_response"
      ],
      "execution_count": 28,
      "outputs": [
        {
          "output_type": "execute_result",
          "data": {
            "text/plain": [
              "<Response [200]>"
            ]
          },
          "metadata": {
            "tags": []
          },
          "execution_count": 28
        }
      ]
    },
    {
      "cell_type": "code",
      "metadata": {
        "id": "_Cx2YkbbDncO",
        "colab_type": "code",
        "colab": {}
      },
      "source": [
        "predictions = json.loads(json_response.text)['predictions']"
      ],
      "execution_count": 0,
      "outputs": []
    },
    {
      "cell_type": "code",
      "metadata": {
        "id": "-sAgHdSgDtrn",
        "colab_type": "code",
        "colab": {
          "base_uri": "https://localhost:8080/",
          "height": 187
        },
        "outputId": "e419e7fa-d45b-4d05-ee7d-8589d32cb1bd"
      },
      "source": [
        "predictions"
      ],
      "execution_count": 30,
      "outputs": [
        {
          "output_type": "execute_result",
          "data": {
            "text/plain": [
              "[[3.07771963e-09,\n",
              "  0.999990821,\n",
              "  1.14064693e-12,\n",
              "  1.36912495e-10,\n",
              "  2.60699059e-16,\n",
              "  3.65752086e-08,\n",
              "  1.21617927e-06,\n",
              "  6.08895e-14,\n",
              "  1.17857351e-08,\n",
              "  7.94131483e-06]]"
            ]
          },
          "metadata": {
            "tags": []
          },
          "execution_count": 30
        }
      ]
    },
    {
      "cell_type": "code",
      "metadata": {
        "id": "64J63apcDzaS",
        "colab_type": "code",
        "colab": {
          "base_uri": "https://localhost:8080/",
          "height": 187
        },
        "outputId": "ba0d47f2-84ed-4482-c567-43c170a76085"
      },
      "source": [
        "predictions"
      ],
      "execution_count": 31,
      "outputs": [
        {
          "output_type": "execute_result",
          "data": {
            "text/plain": [
              "[[3.07771963e-09,\n",
              "  0.999990821,\n",
              "  1.14064693e-12,\n",
              "  1.36912495e-10,\n",
              "  2.60699059e-16,\n",
              "  3.65752086e-08,\n",
              "  1.21617927e-06,\n",
              "  6.08895e-14,\n",
              "  1.17857351e-08,\n",
              "  7.94131483e-06]]"
            ]
          },
          "metadata": {
            "tags": []
          },
          "execution_count": 31
        }
      ]
    },
    {
      "cell_type": "code",
      "metadata": {
        "id": "v9cBmESEDvNL",
        "colab_type": "code",
        "colab": {
          "base_uri": "https://localhost:8080/",
          "height": 286
        },
        "outputId": "24fa10cd-3145-4b72-d791-350dd36d7608"
      },
      "source": [
        "plt.imshow(X_test[random_image])"
      ],
      "execution_count": 32,
      "outputs": [
        {
          "output_type": "execute_result",
          "data": {
            "text/plain": [
              "<matplotlib.image.AxesImage at 0x7f31161f1358>"
            ]
          },
          "metadata": {
            "tags": []
          },
          "execution_count": 32
        },
        {
          "output_type": "display_data",
          "data": {
            "image/png": "[encoded data removed]",
            "text/plain": [
              "<Figure size 432x288 with 1 Axes>"
            ]
          },
          "metadata": {
            "tags": []
          }
        }
      ]
    },
    {
      "cell_type": "code",
      "metadata": {
        "id": "jII1k5LxD7m-",
        "colab_type": "code",
        "colab": {
          "base_uri": "https://localhost:8080/",
          "height": 34
        },
        "outputId": "b8dd2c8a-cf56-4d49-97fe-ab2b40311a7a"
      },
      "source": [
        "class_names[np.argmax(predictions[0])]"
      ],
      "execution_count": 33,
      "outputs": [
        {
          "output_type": "execute_result",
          "data": {
            "text/plain": [
              "'automobile'"
            ]
          },
          "metadata": {
            "tags": []
          },
          "execution_count": 33
        }
      ]
    },
    {
      "cell_type": "markdown",
      "metadata": {
        "id": "gpeUMSI7EjC8",
        "colab_type": "text"
      },
      "source": [
        "## Sending POST request to a specific model"
      ]
    },
    {
      "cell_type": "code",
      "metadata": {
        "id": "JeHreF26EALb",
        "colab_type": "code",
        "colab": {}
      },
      "source": [
        "specific_json_response = requests.post(url=\"http://localhost:8501/v1/model/cifar10/versions/1:predict\",data=data,headers=headers)"
      ],
      "execution_count": 0,
      "outputs": []
    },
    {
      "cell_type": "code",
      "metadata": {
        "id": "P-4S9g4DE5jy",
        "colab_type": "code",
        "colab": {
          "base_uri": "https://localhost:8080/",
          "height": 34
        },
        "outputId": "bc3b33c4-7c4d-4746-dbc0-650270283535"
      },
      "source": [
        "specific_json_response"
      ],
      "execution_count": 35,
      "outputs": [
        {
          "output_type": "execute_result",
          "data": {
            "text/plain": [
              "<Response [400]>"
            ]
          },
          "metadata": {
            "tags": []
          },
          "execution_count": 35
        }
      ]
    }
  ]
}