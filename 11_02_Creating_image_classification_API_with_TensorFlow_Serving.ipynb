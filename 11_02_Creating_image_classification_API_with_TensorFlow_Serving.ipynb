{
  "nbformat": 4,
  "nbformat_minor": 0,
  "metadata": {
    "colab": {
      "name": "11-02 Creating image classification API with TensorFlow Serving.ipynb",
      "version": "0.3.2",
      "provenance": []
    },
    "kernelspec": {
      "name": "python3",
      "display_name": "Python 3"
    },
    "accelerator": "GPU"
  },
  "cells": [
    {
      "cell_type": "markdown",
      "metadata": {
        "id": "KMna0CAEBbfi",
        "colab_type": "text"
      },
      "source": [
        "## Install dependencies and setting up GPU Env"
      ]
    },
    {
      "cell_type": "code",
      "metadata": {
        "id": "CE_sdq3qBUk3",
        "colab_type": "code",
        "colab": {
          "base_uri": "https://localhost:8080/",
          "height": 125
        },
        "outputId": "26cfd230-2416-4f10-ec08-9cefcc7ffc71"
      },
      "source": [
        "!echo \"deb [arch=amd64] http://storage.googleapis.com/tensorflow-serving-apt stable tensorflow-model-server tensorflow-model-server-universal\" | sudo tee /etc/apt/sources.list.d/tensorflow-serving.list && curl https://storage.googleapis.com/tensorflow-serving-apt/tensorflow-serving.release.pub.gpg | sudo apt-key add -"
      ],
      "execution_count": 1,
      "outputs": [
        {
          "output_type": "stream",
          "text": [
            "deb [arch=amd64] http://storage.googleapis.com/tensorflow-serving-apt stable tensorflow-model-server tensorflow-model-server-universal\n",
            "  % Total    % Received % Xferd  Average Speed   Time    Time     Time  Current\n",
            "                                 Dload  Upload   Total   Spent    Left  Speed\n",
            "\r  0     0    0     0    0     0      0      0 --:--:-- --:--:-- --:--:--     0\r100  2943  100  2943    0     0   136k      0 --:--:-- --:--:-- --:--:--  136k\n",
            "OK\n"
          ],
          "name": "stdout"
        }
      ]
    },
    {
      "cell_type": "code",
      "metadata": {
        "id": "snI4EqHEBtI1",
        "colab_type": "code",
        "colab": {
          "base_uri": "https://localhost:8080/",
          "height": 676
        },
        "outputId": "ddd7b2a0-e945-49fd-f56b-e8948c0ec354"
      },
      "source": [
        "!apt-get update & apt-get install tensorflow-model-server"
      ],
      "execution_count": 2,
      "outputs": [
        {
          "output_type": "stream",
          "text": [
            "\rReading package lists... 0%\r\r0% [Working]\rReading package lists... 0%\r\rReading package lists... 0%\r\r            \rHit:1 http://storage.googleapis.com/tensorflow-serving-apt stable InRelease\n",
            "\r0% [Connecting to security.ubuntu.com (91.189.88.149)] [Connecting to cloud.r-p\r                                                                               \rHit:2 http://archive.ubuntu.com/ubuntu bionic InRelease\n",
            "\r                                                                               \rHit:3 http://archive.ubuntu.com/ubuntu bionic-updates InRelease\n",
            "\r                                                                               \rHit:4 http://security.ubuntu.com/ubuntu bionic-security InRelease\n",
            "\r                                                                               \rHit:5 http://ppa.launchpad.net/graphics-drivers/ppa/ubuntu bionic InRelease\n",
            "\r                                                                               \rHit:6 http://ppa.launchpad.net/marutter/c2d4u3.5/ubuntu bionic InRelease\n",
            "\r0% [Waiting for headers] [Connected to cloud.r-project.org (99.86.88.37)] [Wait\r                                                                               \rHit:7 http://archive.ubuntu.com/ubuntu bionic-backports InRelease\n",
            "\r                                                                               \r0% [Waiting for headers] [Waiting for headers]\r0% [1 InRelease gpgv 3,012 B] [Waiting for headers] [Waiting for headers]\r                                                                         \rGet:8 https://cloud.r-project.org/bin/linux/ubuntu bionic-cran35/ InRelease [3,626 B]\n",
            "\r                                                                         \r0% [1 InRelease gpgv 3,012 B] [Waiting for headers]\rReading package lists... 7%\r\rReading package lists... 7%\r\rReading package lists... 7%\r\rReading package lists... 7%\r\r                                                   \rIgn:9 https://developer.download.nvidia.com/compute/cuda/repos/ubuntu1804/x86_64  InRelease\n",
            "\r                                                   \r0% [1 InRelease gpgv 3,012 B]\r                             \rIgn:10 https://developer.download.nvidia.com/compute/machine-learning/repos/ubuntu1804/x86_64  InRelease\n",
            "\r0% [1 InRelease gpgv 3,012 B]\r                             \rHit:11 https://developer.download.nvidia.com/compute/cuda/repos/ubuntu1804/x86_64  Release\n",
            "\r0% [1 InRelease gpgv 3,012 B]\r                             \r0% [Working]\r0% [2 InRelease gpgv 242 kB] [Waiting for headers]\r                                                  \rGet:12 https://developer.download.nvidia.com/compute/machine-learning/repos/ubuntu1804/x86_64  Release [564 B]\n",
            "\r0% [2 InRelease gpgv 242 kB] [12 Release 564 B/564 B 100%]\r                                                          \r0% [2 InRelease gpgv 242 kB]\r                            \rGet:13 https://developer.download.nvidia.com/compute/cuda/repos/ubuntu1804/x86_64  Release.gpg [801 B]\n",
            "Get:14 https://developer.download.nvidia.com/compute/machine-learning/repos/ubuntu1804/x86_64  Release.gpg [833 B]\n",
            "Reading package lists... Done\n",
            "Building dependency tree       \n",
            "Reading state information... Done\n",
            "0% [8 InRelease gpgv 3,626 B]The following package was automatically installed and is no longer required:\n",
            "  libnvidia-common-410\n",
            "Use 'apt autoremove' to remove it.\n",
            "The following NEW packages will be installed:\n",
            "  tensorflow-model-server\n",
            "0 upgraded, 1 newly installed, 0 to remove and 38 not upgraded.\n",
            "Need to get 151 MB of archives.\n",
            "After this operation, 0 B of additional disk space will be used.\n",
            "Get:15 https://cloud.r-project.org/bin/linux/ubuntu bionic-cran35/ Packages [65.9 kB]\n",
            "Get:16 https://developer.download.nvidia.com/compute/machine-learning/repos/ubuntu1804/x86_64  Packages [12.3 kB]\n",
            "Fetched 84.0 kB in 3s (31.8 kB/s)\n",
            "Get:1 http://storage.googleapis.com/tensorflow-serving-apt stable/tensorflow-model-server amd64 tensorflow-model-server all 1.14.0 [151 MB]\n",
            "Reading package lists... Done\n",
            "Fetched 151 MB in 3s (46.1 MB/s)\n",
            "Selecting previously unselected package tensorflow-model-server.\n",
            "(Reading database ... 131289 files and directories currently installed.)\n",
            "Preparing to unpack .../tensorflow-model-server_1.14.0_all.deb ...\n",
            "Unpacking tensorflow-model-server (1.14.0) ...\n",
            "Setting up tensorflow-model-server (1.14.0) ...\n"
          ],
          "name": "stdout"
        }
      ]
    },
    {
      "cell_type": "code",
      "metadata": {
        "id": "2pXEyuFMB0e9",
        "colab_type": "code",
        "colab": {
          "base_uri": "https://localhost:8080/",
          "height": 676
        },
        "outputId": "b34c1fa6-5293-4f56-93d7-df523cde09fe"
      },
      "source": [
        "!pip install tensorflow-gpu==1.13.1"
      ],
      "execution_count": 3,
      "outputs": [
        {
          "output_type": "stream",
          "text": [
            "Collecting tensorflow-gpu==1.13.1\n",
            "\u001b[?25l  Downloading https://files.pythonhosted.org/packages/7b/b1/0ad4ae02e17ddd62109cd54c291e311c4b5fd09b4d0678d3d6ce4159b0f0/tensorflow_gpu-1.13.1-cp36-cp36m-manylinux1_x86_64.whl (345.2MB)\n",
            "\u001b[K     |████████████████████████████████| 345.2MB 55kB/s \n",
            "\u001b[?25hRequirement already satisfied: wheel>=0.26 in /usr/local/lib/python3.6/dist-packages (from tensorflow-gpu==1.13.1) (0.33.4)\n",
            "Requirement already satisfied: protobuf>=3.6.1 in /usr/local/lib/python3.6/dist-packages (from tensorflow-gpu==1.13.1) (3.7.1)\n",
            "Requirement already satisfied: gast>=0.2.0 in /usr/local/lib/python3.6/dist-packages (from tensorflow-gpu==1.13.1) (0.2.2)\n",
            "Requirement already satisfied: absl-py>=0.1.6 in /usr/local/lib/python3.6/dist-packages (from tensorflow-gpu==1.13.1) (0.7.1)\n",
            "Requirement already satisfied: numpy>=1.13.3 in /usr/local/lib/python3.6/dist-packages (from tensorflow-gpu==1.13.1) (1.16.4)\n",
            "Collecting tensorflow-estimator<1.14.0rc0,>=1.13.0 (from tensorflow-gpu==1.13.1)\n",
            "\u001b[?25l  Downloading https://files.pythonhosted.org/packages/bb/48/13f49fc3fa0fdf916aa1419013bb8f2ad09674c275b4046d5ee669a46873/tensorflow_estimator-1.13.0-py2.py3-none-any.whl (367kB)\n",
            "\u001b[K     |████████████████████████████████| 368kB 39.4MB/s \n",
            "\u001b[?25hCollecting tensorboard<1.14.0,>=1.13.0 (from tensorflow-gpu==1.13.1)\n",
            "\u001b[?25l  Downloading https://files.pythonhosted.org/packages/0f/39/bdd75b08a6fba41f098b6cb091b9e8c7a80e1b4d679a581a0ccd17b10373/tensorboard-1.13.1-py3-none-any.whl (3.2MB)\n",
            "\u001b[K     |████████████████████████████████| 3.2MB 40.9MB/s \n",
            "\u001b[?25hRequirement already satisfied: keras-applications>=1.0.6 in /usr/local/lib/python3.6/dist-packages (from tensorflow-gpu==1.13.1) (1.0.8)\n",
            "Requirement already satisfied: astor>=0.6.0 in /usr/local/lib/python3.6/dist-packages (from tensorflow-gpu==1.13.1) (0.8.0)\n",
            "Requirement already satisfied: six>=1.10.0 in /usr/local/lib/python3.6/dist-packages (from tensorflow-gpu==1.13.1) (1.12.0)\n",
            "Requirement already satisfied: keras-preprocessing>=1.0.5 in /usr/local/lib/python3.6/dist-packages (from tensorflow-gpu==1.13.1) (1.1.0)\n",
            "Requirement already satisfied: termcolor>=1.1.0 in /usr/local/lib/python3.6/dist-packages (from tensorflow-gpu==1.13.1) (1.1.0)\n",
            "Requirement already satisfied: grpcio>=1.8.6 in /usr/local/lib/python3.6/dist-packages (from tensorflow-gpu==1.13.1) (1.15.0)\n",
            "Requirement already satisfied: setuptools in /usr/local/lib/python3.6/dist-packages (from protobuf>=3.6.1->tensorflow-gpu==1.13.1) (41.0.1)\n",
            "Collecting mock>=2.0.0 (from tensorflow-estimator<1.14.0rc0,>=1.13.0->tensorflow-gpu==1.13.1)\n",
            "  Downloading https://files.pythonhosted.org/packages/05/d2/f94e68be6b17f46d2c353564da56e6fb89ef09faeeff3313a046cb810ca9/mock-3.0.5-py2.py3-none-any.whl\n",
            "Requirement already satisfied: markdown>=2.6.8 in /usr/local/lib/python3.6/dist-packages (from tensorboard<1.14.0,>=1.13.0->tensorflow-gpu==1.13.1) (3.1.1)\n",
            "Requirement already satisfied: werkzeug>=0.11.15 in /usr/local/lib/python3.6/dist-packages (from tensorboard<1.14.0,>=1.13.0->tensorflow-gpu==1.13.1) (0.15.5)\n",
            "Requirement already satisfied: h5py in /usr/local/lib/python3.6/dist-packages (from keras-applications>=1.0.6->tensorflow-gpu==1.13.1) (2.8.0)\n",
            "\u001b[31mERROR: tensorflow 1.14.0 has requirement tensorboard<1.15.0,>=1.14.0, but you'll have tensorboard 1.13.1 which is incompatible.\u001b[0m\n",
            "\u001b[31mERROR: tensorflow 1.14.0 has requirement tensorflow-estimator<1.15.0rc0,>=1.14.0rc0, but you'll have tensorflow-estimator 1.13.0 which is incompatible.\u001b[0m\n",
            "Installing collected packages: mock, tensorflow-estimator, tensorboard, tensorflow-gpu\n",
            "  Found existing installation: tensorflow-estimator 1.14.0\n",
            "    Uninstalling tensorflow-estimator-1.14.0:\n",
            "      Successfully uninstalled tensorflow-estimator-1.14.0\n",
            "  Found existing installation: tensorboard 1.14.0\n",
            "    Uninstalling tensorboard-1.14.0:\n",
            "      Successfully uninstalled tensorboard-1.14.0\n",
            "Successfully installed mock-3.0.5 tensorboard-1.13.1 tensorflow-estimator-1.13.0 tensorflow-gpu-1.13.1\n"
          ],
          "name": "stdout"
        }
      ]
    },
    {
      "cell_type": "code",
      "metadata": {
        "id": "j2oEsIDTB_Rd",
        "colab_type": "code",
        "colab": {
          "base_uri": "https://localhost:8080/",
          "height": 105
        },
        "outputId": "fee65bb0-7858-4b30-fb71-7eef4dfd0474"
      },
      "source": [
        "!pip install requests"
      ],
      "execution_count": 4,
      "outputs": [
        {
          "output_type": "stream",
          "text": [
            "Requirement already satisfied: requests in /usr/local/lib/python3.6/dist-packages (2.21.0)\n",
            "Requirement already satisfied: urllib3<1.25,>=1.21.1 in /usr/local/lib/python3.6/dist-packages (from requests) (1.24.3)\n",
            "Requirement already satisfied: certifi>=2017.4.17 in /usr/local/lib/python3.6/dist-packages (from requests) (2019.6.16)\n",
            "Requirement already satisfied: idna<2.9,>=2.5 in /usr/local/lib/python3.6/dist-packages (from requests) (2.8)\n",
            "Requirement already satisfied: chardet<3.1.0,>=3.0.2 in /usr/local/lib/python3.6/dist-packages (from requests) (3.0.4)\n"
          ],
          "name": "stdout"
        }
      ]
    },
    {
      "cell_type": "markdown",
      "metadata": {
        "id": "hpG_HP-EDIqY",
        "colab_type": "text"
      },
      "source": [
        "## Imports"
      ]
    },
    {
      "cell_type": "code",
      "metadata": {
        "id": "k8Q0xv5JDHls",
        "colab_type": "code",
        "colab": {
          "base_uri": "https://localhost:8080/",
          "height": 34
        },
        "outputId": "b03d9b1d-b99a-4ea2-c483-1e212ea73660"
      },
      "source": [
        "import os\n",
        "import json\n",
        "import random\n",
        "import requests\n",
        "import subprocess\n",
        "import numpy as np\n",
        "import tensorflow as tf\n",
        "import matplotlib.pyplot as plt\n",
        "\n",
        "from tensorflow.keras.datasets import cifar10\n",
        "\n",
        "%matplotlib inline\n",
        "tf.__version__"
      ],
      "execution_count": 5,
      "outputs": [
        {
          "output_type": "execute_result",
          "data": {
            "text/plain": [
              "'1.13.1'"
            ]
          },
          "metadata": {
            "tags": []
          },
          "execution_count": 5
        }
      ]
    },
    {
      "cell_type": "markdown",
      "metadata": {
        "id": "j44AL6HkRYjE",
        "colab_type": "text"
      },
      "source": [
        "## Dataset Preprocessing"
      ]
    },
    {
      "cell_type": "markdown",
      "metadata": {
        "id": "FC7pAklSRcPh",
        "colab_type": "text"
      },
      "source": [
        "load the dataset"
      ]
    },
    {
      "cell_type": "code",
      "metadata": {
        "id": "YvTJT7n7Doos",
        "colab_type": "code",
        "colab": {
          "base_uri": "https://localhost:8080/",
          "height": 52
        },
        "outputId": "11e51bbd-efd3-4d2b-a9e5-2c386e14b117"
      },
      "source": [
        "(X_train,y_train), (X_test, y_test) = cifar10.load_data()"
      ],
      "execution_count": 6,
      "outputs": [
        {
          "output_type": "stream",
          "text": [
            "Downloading data from https://www.cs.toronto.edu/~kriz/cifar-10-python.tar.gz\n",
            "170500096/170498071 [==============================] - 6s 0us/step\n"
          ],
          "name": "stdout"
        }
      ]
    },
    {
      "cell_type": "code",
      "metadata": {
        "id": "gznRB30AUd_q",
        "colab_type": "code",
        "colab": {}
      },
      "source": [
        "class_names = ['airplane', 'automobile', 'bird', 'cat', 'deer', 'dog', 'frog', 'horse', 'ship', 'truck']"
      ],
      "execution_count": 0,
      "outputs": []
    },
    {
      "cell_type": "markdown",
      "metadata": {
        "id": "760CbdmYVmFu",
        "colab_type": "text"
      },
      "source": [
        "## Defining the model\n",
        "Using \n"
      ]
    },
    {
      "cell_type": "code",
      "metadata": {
        "id": "haBTXWnEa7Kj",
        "colab_type": "code",
        "colab": {
          "base_uri": "https://localhost:8080/",
          "height": 90
        },
        "outputId": "b25c725b-b80d-4128-9a65-b70a745a45db"
      },
      "source": [
        "model = tf.keras.models.Sequential()\n",
        "model.add(tf.keras.layers.Conv2D(filters = 32, kernel_size = 3, padding = \"same\", activation = \"relu\", input_shape = [32, 32 , 3]))\n",
        "model.add(tf.keras.layers.Conv2D(filters = 32, kernel_size = 3, padding = \"same\", activation = \"relu\"))\n",
        "model.add(tf.keras.layers.MaxPool2D(pool_size = 2, strides = 2, padding = \"valid\"))\n",
        "model.add(tf.keras.layers.Conv2D(filters = 64, kernel_size = 3, padding = \"same\", activation = \"relu\"))\n",
        "model.add(tf.keras.layers.Conv2D(filters = 64, kernel_size = 3, padding = \"same\", activation = \"relu\"))\n",
        "model.add(tf.keras.layers.MaxPool2D(pool_size = 2, strides = 2, padding = \"valid\"))\n",
        "model.add(tf.keras.layers.Flatten())\n",
        "model.add(tf.keras.layers.Dense(units=128, activation=\"relu\"))\n",
        "model.add(tf.keras.layers.Dense(units=10, activation=\"softmax\"))"
      ],
      "execution_count": 8,
      "outputs": [
        {
          "output_type": "stream",
          "text": [
            "WARNING:tensorflow:From /usr/local/lib/python3.6/dist-packages/tensorflow/python/ops/resource_variable_ops.py:435: colocate_with (from tensorflow.python.framework.ops) is deprecated and will be removed in a future version.\n",
            "Instructions for updating:\n",
            "Colocations handled automatically by placer.\n"
          ],
          "name": "stdout"
        }
      ]
    },
    {
      "cell_type": "code",
      "metadata": {
        "id": "KSeHdWsJe08q",
        "colab_type": "code",
        "colab": {
          "base_uri": "https://localhost:8080/",
          "height": 461
        },
        "outputId": "14cd84af-c66e-41a7-fd0d-982f1cd356ee"
      },
      "source": [
        "model.summary()"
      ],
      "execution_count": 9,
      "outputs": [
        {
          "output_type": "stream",
          "text": [
            "_________________________________________________________________\n",
            "Layer (type)                 Output Shape              Param #   \n",
            "=================================================================\n",
            "conv2d (Conv2D)              (None, 32, 32, 32)        896       \n",
            "_________________________________________________________________\n",
            "conv2d_1 (Conv2D)            (None, 32, 32, 32)        9248      \n",
            "_________________________________________________________________\n",
            "max_pooling2d (MaxPooling2D) (None, 16, 16, 32)        0         \n",
            "_________________________________________________________________\n",
            "conv2d_2 (Conv2D)            (None, 16, 16, 64)        18496     \n",
            "_________________________________________________________________\n",
            "conv2d_3 (Conv2D)            (None, 16, 16, 64)        36928     \n",
            "_________________________________________________________________\n",
            "max_pooling2d_1 (MaxPooling2 (None, 8, 8, 64)          0         \n",
            "_________________________________________________________________\n",
            "flatten (Flatten)            (None, 4096)              0         \n",
            "_________________________________________________________________\n",
            "dense (Dense)                (None, 128)               524416    \n",
            "_________________________________________________________________\n",
            "dense_1 (Dense)              (None, 10)                1290      \n",
            "=================================================================\n",
            "Total params: 591,274\n",
            "Trainable params: 591,274\n",
            "Non-trainable params: 0\n",
            "_________________________________________________________________\n"
          ],
          "name": "stdout"
        }
      ]
    },
    {
      "cell_type": "markdown",
      "metadata": {
        "id": "MPU6Ud7lcghB",
        "colab_type": "text"
      },
      "source": [
        "## Compiling the model"
      ]
    },
    {
      "cell_type": "code",
      "metadata": {
        "id": "Lb57eK_Rceo5",
        "colab_type": "code",
        "colab": {}
      },
      "source": [
        "model.compile(optimizer = 'Adam',\n",
        "             loss = 'sparse_categorical_crossentropy',\n",
        "             metrics = ['sparse_categorical_accuracy'])"
      ],
      "execution_count": 0,
      "outputs": []
    },
    {
      "cell_type": "markdown",
      "metadata": {
        "id": "H5_V7aiIdDlT",
        "colab_type": "text"
      },
      "source": [
        "### Training model"
      ]
    },
    {
      "cell_type": "code",
      "metadata": {
        "id": "sNSjgirFdCvQ",
        "colab_type": "code",
        "colab": {
          "base_uri": "https://localhost:8080/",
          "height": 390
        },
        "outputId": "5f4469be-9214-4a11-f106-471f5669ebec"
      },
      "source": [
        "model.fit(X_train, y_train, batch_size = 128, epochs = 10)"
      ],
      "execution_count": 11,
      "outputs": [
        {
          "output_type": "stream",
          "text": [
            "Epoch 1/10\n",
            "50000/50000 [==============================] - 14s 287us/sample - loss: 14.4970 - sparse_categorical_accuracy: 0.1001\n",
            "Epoch 2/10\n",
            "50000/50000 [==============================] - 11s 221us/sample - loss: 14.5063 - sparse_categorical_accuracy: 0.1000\n",
            "Epoch 3/10\n",
            "50000/50000 [==============================] - 11s 220us/sample - loss: 14.5063 - sparse_categorical_accuracy: 0.1000\n",
            "Epoch 4/10\n",
            "50000/50000 [==============================] - 11s 219us/sample - loss: 14.5063 - sparse_categorical_accuracy: 0.1000\n",
            "Epoch 5/10\n",
            "50000/50000 [==============================] - 11s 220us/sample - loss: 14.5063 - sparse_categorical_accuracy: 0.1000\n",
            "Epoch 6/10\n",
            "50000/50000 [==============================] - 11s 220us/sample - loss: 14.5063 - sparse_categorical_accuracy: 0.1000\n",
            "Epoch 7/10\n",
            "50000/50000 [==============================] - 11s 222us/sample - loss: 14.5063 - sparse_categorical_accuracy: 0.1000\n",
            "Epoch 8/10\n",
            "50000/50000 [==============================] - 11s 222us/sample - loss: 14.5063 - sparse_categorical_accuracy: 0.1000\n",
            "Epoch 9/10\n",
            "50000/50000 [==============================] - 11s 220us/sample - loss: 14.5063 - sparse_categorical_accuracy: 0.1000\n",
            "Epoch 10/10\n",
            "50000/50000 [==============================] - 11s 221us/sample - loss: 14.5063 - sparse_categorical_accuracy: 0.1000\n"
          ],
          "name": "stdout"
        },
        {
          "output_type": "execute_result",
          "data": {
            "text/plain": [
              "<tensorflow.python.keras.callbacks.History at 0x7ff17528cc88>"
            ]
          },
          "metadata": {
            "tags": []
          },
          "execution_count": 11
        }
      ]
    },
    {
      "cell_type": "markdown",
      "metadata": {
        "id": "RTTOmIGKduhT",
        "colab_type": "text"
      },
      "source": [
        "### model evaluation"
      ]
    },
    {
      "cell_type": "code",
      "metadata": {
        "id": "JO-QnL1TdKKY",
        "colab_type": "code",
        "colab": {
          "base_uri": "https://localhost:8080/",
          "height": 34
        },
        "outputId": "bb82dc1e-e4e5-40cf-9cbe-3eb188dd298f"
      },
      "source": [
        "test_loss, test_accuracy = model.evaluate(X_test, y_test)"
      ],
      "execution_count": 12,
      "outputs": [
        {
          "output_type": "stream",
          "text": [
            "10000/10000 [==============================] - 1s 139us/sample - loss: 14.5063 - sparse_categorical_accuracy: 0.1000\n"
          ],
          "name": "stdout"
        }
      ]
    },
    {
      "cell_type": "code",
      "metadata": {
        "id": "JIu1G-Cnd3u2",
        "colab_type": "code",
        "colab": {
          "base_uri": "https://localhost:8080/",
          "height": 34
        },
        "outputId": "4a132950-44ee-4cef-83c6-2d1c0ced3910"
      },
      "source": [
        "print(f\"test accuracy : {test_accuracy*100}%\")"
      ],
      "execution_count": 13,
      "outputs": [
        {
          "output_type": "stream",
          "text": [
            "test accuracy : 10.000000149011612%\n"
          ],
          "name": "stdout"
        }
      ]
    },
    {
      "cell_type": "markdown",
      "metadata": {
        "id": "hnp7S3f4fn5O",
        "colab_type": "text"
      },
      "source": [
        "## Saving Model for Production"
      ]
    },
    {
      "cell_type": "markdown",
      "metadata": {
        "id": "sHlUrmv5fuCK",
        "colab_type": "text"
      },
      "source": [
        "###Creating the directory for the model"
      ]
    },
    {
      "cell_type": "code",
      "metadata": {
        "id": "pxWxAGoPeBZo",
        "colab_type": "code",
        "colab": {}
      },
      "source": [
        "MODEL_DIR = \"model/\"\n",
        "version = 1"
      ],
      "execution_count": 0,
      "outputs": []
    },
    {
      "cell_type": "code",
      "metadata": {
        "id": "Uvt8Y44xg26O",
        "colab_type": "code",
        "colab": {
          "base_uri": "https://localhost:8080/",
          "height": 34
        },
        "outputId": "32eb0226-a3d4-463a-f4ea-0d9aa1e5f072"
      },
      "source": [
        "export_path = os.path.join(MODEL_DIR, str(version))\n",
        "export_path"
      ],
      "execution_count": 15,
      "outputs": [
        {
          "output_type": "execute_result",
          "data": {
            "text/plain": [
              "'model/1'"
            ]
          },
          "metadata": {
            "tags": []
          },
          "execution_count": 15
        }
      ]
    },
    {
      "cell_type": "code",
      "metadata": {
        "id": "zu0I8KJ7hIy-",
        "colab_type": "code",
        "colab": {}
      },
      "source": [
        "if os.path.isdir(export_path):\n",
        "  !rm - r (export_path):"
      ],
      "execution_count": 0,
      "outputs": []
    },
    {
      "cell_type": "markdown",
      "metadata": {
        "id": "6WJfR2zchRlH",
        "colab_type": "text"
      },
      "source": [
        "### Saving the model for the TensorFlow Serving"
      ]
    },
    {
      "cell_type": "code",
      "metadata": {
        "id": "PpEf0w6ahQV_",
        "colab_type": "code",
        "colab": {
          "base_uri": "https://localhost:8080/",
          "height": 196
        },
        "outputId": "8cbca9a6-526e-4d9f-df31-d54b6e8787e1"
      },
      "source": [
        "tf.saved_model.simple_save(tf.keras.backend.get_session(), export_dir=export_path, inputs={\"input_image\":model.input}, outputs={t.name:t for t in model.outputs})"
      ],
      "execution_count": 17,
      "outputs": [
        {
          "output_type": "stream",
          "text": [
            "WARNING:tensorflow:From <ipython-input-17-f70a5d463003>:1: simple_save (from tensorflow.python.saved_model.simple_save) is deprecated and will be removed in a future version.\n",
            "Instructions for updating:\n",
            "This function will only be available through the v1 compatibility library as tf.compat.v1.saved_model.simple_save.\n",
            "WARNING:tensorflow:From /usr/local/lib/python3.6/dist-packages/tensorflow/python/saved_model/signature_def_utils_impl.py:205: build_tensor_info (from tensorflow.python.saved_model.utils_impl) is deprecated and will be removed in a future version.\n",
            "Instructions for updating:\n",
            "This function will only be available through the v1 compatibility library as tf.compat.v1.saved_model.utils.build_tensor_info or tf.compat.v1.saved_model.build_tensor_info.\n",
            "INFO:tensorflow:Assets added to graph.\n",
            "INFO:tensorflow:No assets to write.\n",
            "INFO:tensorflow:SavedModel written to: model/1/saved_model.pb\n"
          ],
          "name": "stdout"
        }
      ]
    },
    {
      "cell_type": "markdown",
      "metadata": {
        "id": "IoIiTWpQzBVr",
        "colab_type": "text"
      },
      "source": [
        "##Setting up the production environment "
      ]
    },
    {
      "cell_type": "markdown",
      "metadata": {
        "id": "uPdKBuP1zGw2",
        "colab_type": "text"
      },
      "source": [
        "### Exporing the MODEL_DIR to enviornment variables. "
      ]
    },
    {
      "cell_type": "code",
      "metadata": {
        "id": "4ovvM6QRjqvm",
        "colab_type": "code",
        "colab": {}
      },
      "source": [
        "os.environ['Model_DIR'] = os.path.abspath(MODEL_DIR)"
      ],
      "execution_count": 0,
      "outputs": []
    },
    {
      "cell_type": "markdown",
      "metadata": {
        "id": "arDZrHHY5PdB",
        "colab_type": "text"
      },
      "source": [
        "###Running TensorFlow Serving REST API"
      ]
    },
    {
      "cell_type": "code",
      "metadata": {
        "id": "mgdLpFDe5a2w",
        "colab_type": "code",
        "colab": {
          "base_uri": "https://localhost:8080/",
          "height": 34
        },
        "outputId": "4c98abfb-01f7-4547-b71e-28d5a061dbe2"
      },
      "source": [
        "%%bash --bg\n",
        "nohup tensorflow_model_server --rest_api_port=8501 --model_name=cifar10 --model_base_path=\"${MODEL_DIR}\" >server.log 2>&1"
      ],
      "execution_count": 19,
      "outputs": [
        {
          "output_type": "stream",
          "text": [
            "Starting job # 0 in a separate thread.\n"
          ],
          "name": "stdout"
        }
      ]
    },
    {
      "cell_type": "code",
      "metadata": {
        "id": "RChV_e8I557a",
        "colab_type": "code",
        "colab": {
          "base_uri": "https://localhost:8080/",
          "height": 54
        },
        "outputId": "77bd2f91-5caa-436b-ec29-7edd3237c1aa"
      },
      "source": [
        "!tail server.log"
      ],
      "execution_count": 20,
      "outputs": [
        {
          "output_type": "stream",
          "text": [
            "Failed to start server. Error: Invalid argument: Both server_options.model_base_path and server_options.model_config_file are empty!\n"
          ],
          "name": "stdout"
        }
      ]
    },
    {
      "cell_type": "markdown",
      "metadata": {
        "id": "tVmKESB_7ts5",
        "colab_type": "text"
      },
      "source": [
        "## Create the first POST request"
      ]
    },
    {
      "cell_type": "code",
      "metadata": {
        "id": "FMA8x_BJ58n0",
        "colab_type": "code",
        "colab": {
          "base_uri": "https://localhost:8080/",
          "height": 34
        },
        "outputId": "a0286213-02fc-4a03-b09a-0b31a799dfe0"
      },
      "source": [
        "random_image = np.random.randint(0,len(X_test))\n",
        "random_image"
      ],
      "execution_count": 21,
      "outputs": [
        {
          "output_type": "execute_result",
          "data": {
            "text/plain": [
              "6505"
            ]
          },
          "metadata": {
            "tags": []
          },
          "execution_count": 21
        }
      ]
    },
    {
      "cell_type": "markdown",
      "metadata": {
        "id": "MX444UAF8CGe",
        "colab_type": "text"
      },
      "source": [
        "### Creating the JSON data object"
      ]
    },
    {
      "cell_type": "code",
      "metadata": {
        "id": "woRwof8I8FfA",
        "colab_type": "code",
        "colab": {}
      },
      "source": [
        "data = json.dumps({\"signature_name\":\"serving_default\", \"instances\":[X_test[random_image].tolist()]})"
      ],
      "execution_count": 0,
      "outputs": []
    },
    {
      "cell_type": "code",
      "metadata": {
        "id": "daLOfQIXCHmk",
        "colab_type": "code",
        "colab": {
          "base_uri": "https://localhost:8080/",
          "height": 54
        },
        "outputId": "53f18b3d-e389-4aee-80fd-a01e484b94c9"
      },
      "source": [
        "data"
      ],
      "execution_count": 23,
      "outputs": [
        {
          "output_type": "execute_result",
          "data": {
            "text/plain": [
              "'{\"signature_name\": \"serving_default\", \"instances\": [[[[161, 134, 80], [156, 127, 75], [142, 116, 70], [138, 118, 73], [150, 135, 81], [135, 126, 69], [142, 128, 73], [150, 128, 75], [156, 126, 77], [162, 131, 80], [173, 146, 85], [163, 140, 79], [145, 126, 71], [129, 114, 67], [124, 110, 67], [136, 113, 73], [144, 118, 79], [127, 106, 67], [111, 96, 61], [100, 87, 56], [98, 85, 55], [114, 101, 70], [106, 94, 63], [109, 97, 62], [122, 110, 64], [143, 130, 74], [161, 146, 87], [149, 132, 77], [131, 118, 70], [120, 110, 67], [112, 104, 69], [97, 92, 65]], [[165, 136, 78], [170, 140, 79], [158, 132, 76], [141, 121, 71], [140, 124, 80], [127, 116, 70], [124, 109, 64], [128, 106, 63], [135, 109, 66], [141, 118, 71], [137, 117, 70], [129, 113, 65], [119, 107, 59], [110, 99, 55], [108, 94, 56], [119, 98, 66], [122, 102, 73], [102, 90, 61], [83, 76, 48], [76, 71, 44], [82, 78, 50], [90, 87, 59], [86, 83, 55], [95, 92, 61], [105, 102, 63], [118, 113, 64], [128, 121, 69], [115, 107, 60], [109, 103, 63], [98, 96, 59], [92, 93, 59], [83, 86, 58]], [[137, 118, 65], [148, 131, 72], [140, 126, 73], [114, 103, 61], [100, 91, 58], [100, 90, 62], [98, 85, 56], [110, 93, 59], [122, 104, 67], [119, 102, 66], [95, 80, 50], [93, 81, 53], [90, 81, 50], [87, 79, 47], [90, 79, 52], [102, 88, 64], [95, 82, 60], [89, 79, 57], [74, 68, 46], [68, 65, 42], [75, 74, 50], [80, 81, 57], [74, 76, 51], [82, 83, 56], [90, 90, 59], [98, 98, 61], [106, 106, 64], [101, 99, 59], [102, 100, 64], [92, 91, 58], [84, 86, 55], [77, 82, 55]], [[116, 104, 58], [117, 109, 60], [108, 102, 60], [84, 80, 49], [77, 75, 50], [76, 70, 50], [79, 71, 48], [102, 91, 61], [119, 106, 72], [108, 93, 63], [78, 64, 44], [78, 68, 49], [67, 60, 38], [65, 58, 35], [75, 67, 46], [84, 76, 55], [75, 67, 46], [75, 68, 47], [70, 63, 43], [66, 61, 41], [69, 67, 46], [73, 76, 54], [69, 72, 48], [76, 77, 50], [85, 86, 56], [94, 96, 61], [100, 102, 64], [98, 99, 60], [97, 95, 59], [90, 88, 55], [84, 84, 55], [78, 82, 57]], [[117, 104, 63], [104, 92, 56], [89, 82, 51], [74, 71, 45], [69, 71, 49], [60, 59, 43], [65, 61, 43], [85, 78, 52], [95, 87, 56], [83, 73, 46], [74, 65, 49], [66, 60, 45], [56, 53, 34], [55, 53, 33], [62, 59, 41], [66, 62, 45], [58, 55, 37], [64, 61, 43], [67, 62, 43], [68, 63, 43], [69, 67, 46], [66, 68, 46], [64, 68, 44], [79, 80, 53], [94, 94, 64], [100, 101, 67], [95, 96, 58], [93, 94, 55], [87, 84, 48], [82, 80, 47], [79, 80, 50], [74, 78, 53]], [[105, 96, 63], [90, 83, 54], [76, 70, 47], [65, 64, 44], [58, 62, 43], [58, 59, 45], [58, 58, 42], [65, 64, 42], [69, 67, 43], [63, 61, 40], [58, 55, 41], [51, 49, 36], [52, 52, 37], [54, 54, 38], [53, 54, 39], [53, 54, 39], [49, 50, 34], [54, 55, 39], [59, 59, 41], [61, 61, 41], [60, 62, 40], [60, 65, 41], [58, 64, 38], [67, 73, 45], [80, 85, 54], [87, 90, 57], [83, 84, 48], [81, 82, 44], [74, 75, 40], [72, 72, 40], [71, 72, 44], [66, 69, 46]], [[80, 79, 54], [72, 71, 45], [62, 61, 39], [57, 57, 40], [56, 59, 42], [55, 57, 41], [53, 56, 39], [55, 58, 41], [54, 59, 42], [48, 54, 38], [43, 46, 32], [43, 42, 30], [51, 49, 37], [54, 54, 40], [51, 53, 37], [49, 51, 35], [48, 50, 34], [50, 53, 36], [50, 55, 37], [52, 58, 38], [56, 63, 41], [58, 66, 40], [59, 68, 40], [62, 71, 43], [72, 79, 50], [82, 86, 55], [84, 86, 52], [79, 80, 45], [71, 75, 42], [71, 75, 45], [69, 73, 46], [61, 64, 43]], [[71, 71, 47], [62, 62, 36], [52, 52, 30], [50, 50, 34], [50, 52, 35], [46, 49, 32], [48, 51, 34], [51, 54, 37], [49, 54, 38], [42, 49, 34], [42, 46, 32], [47, 47, 34], [53, 51, 39], [55, 52, 39], [54, 51, 36], [55, 53, 37], [58, 56, 41], [56, 54, 38], [58, 58, 42], [70, 72, 54], [80, 83, 62], [62, 65, 41], [78, 81, 54], [80, 80, 55], [84, 83, 57], [88, 87, 58], [83, 84, 51], [71, 73, 37], [82, 82, 50], [77, 78, 49], [66, 71, 44], [56, 62, 41]], [[65, 65, 42], [54, 54, 29], [46, 46, 25], [46, 47, 30], [43, 46, 29], [42, 46, 29], [46, 49, 32], [49, 53, 36], [48, 53, 37], [47, 53, 38], [68, 70, 56], [62, 60, 48], [59, 55, 43], [65, 58, 46], [73, 65, 51], [75, 67, 53], [87, 81, 66], [68, 63, 48], [73, 71, 55], [90, 88, 70], [96, 93, 72], [78, 74, 50], [107, 101, 76], [108, 100, 76], [100, 91, 67], [89, 85, 56], [79, 78, 45], [65, 66, 31], [88, 84, 53], [78, 77, 48], [63, 68, 40], [54, 63, 40]], [[46, 51, 33], [46, 47, 28], [47, 47, 27], [49, 50, 30], [43, 48, 30], [39, 45, 27], [46, 52, 34], [47, 54, 36], [46, 52, 34], [54, 56, 41], [90, 83, 70], [91, 81, 69], [86, 78, 65], [83, 75, 59], [78, 69, 52], [68, 61, 43], [68, 66, 46], [56, 58, 37], [68, 71, 49], [91, 89, 66], [109, 98, 74], [118, 103, 76], [116, 106, 76], [102, 96, 69], [92, 85, 58], [86, 78, 47], [78, 73, 42], [70, 69, 39], [92, 87, 53], [79, 79, 44], [64, 69, 39], [58, 64, 41]], [[46, 51, 35], [48, 50, 32], [51, 51, 31], [50, 51, 30], [40, 47, 28], [37, 44, 26], [46, 53, 35], [47, 55, 36], [45, 51, 34], [50, 51, 35], [72, 62, 50], [103, 90, 79], [77, 69, 55], [51, 49, 31], [43, 45, 23], [40, 44, 21], [44, 50, 26], [55, 61, 37], [79, 78, 54], [105, 96, 74], [119, 107, 84], [103, 95, 69], [75, 78, 49], [77, 78, 51], [89, 85, 56], [93, 85, 53], [83, 76, 46], [76, 74, 47], [91, 86, 53], [78, 79, 46], [65, 70, 41], [60, 64, 44]], [[47, 52, 36], [50, 52, 33], [54, 54, 34], [54, 55, 34], [43, 49, 30], [45, 52, 33], [48, 55, 37], [48, 55, 37], [48, 54, 37], [55, 56, 40], [75, 65, 53], [99, 86, 75], [69, 62, 47], [46, 46, 27], [45, 50, 27], [49, 51, 28], [62, 61, 39], [73, 70, 49], [87, 82, 59], [91, 84, 61], [83, 76, 55], [70, 69, 50], [68, 76, 55], [75, 78, 54], [85, 81, 53], [91, 83, 51], [85, 78, 49], [72, 70, 44], [93, 87, 59], [82, 82, 54], [64, 68, 45], [54, 57, 41]], [[55, 58, 37], [58, 59, 37], [62, 62, 39], [60, 61, 37], [51, 55, 31], [44, 55, 32], [44, 58, 37], [47, 59, 40], [52, 60, 44], [63, 66, 54], [80, 78, 67], [97, 90, 75], [96, 87, 67], [82, 76, 53], [70, 66, 44], [77, 69, 45], [93, 81, 58], [88, 79, 56], [77, 73, 49], [73, 71, 46], [75, 70, 50], [67, 63, 47], [72, 71, 55], [73, 71, 51], [79, 75, 50], [85, 78, 52], [81, 74, 50], [70, 66, 43], [86, 84, 60], [80, 80, 57], [65, 66, 45], [55, 54, 39]], [[76, 76, 51], [75, 75, 49], [70, 70, 45], [58, 61, 38], [46, 54, 35], [44, 57, 34], [55, 66, 42], [65, 70, 47], [72, 72, 52], [79, 76, 58], [81, 80, 64], [89, 82, 61], [115, 99, 73], [117, 96, 71], [107, 86, 62], [122, 100, 72], [112, 97, 69], [86, 80, 55], [77, 74, 49], [79, 75, 52], [82, 77, 57], [72, 66, 50], [74, 68, 52], [82, 76, 58], [86, 82, 62], [82, 77, 57], [69, 66, 45], [64, 63, 42], [65, 67, 45], [62, 64, 42], [59, 57, 36], [56, 53, 35]], [[77, 77, 52], [82, 82, 56], [76, 76, 51], [63, 63, 40], [72, 72, 50], [110, 103, 66], [143, 128, 86], [159, 138, 97], [159, 137, 99], [152, 132, 95], [138, 122, 93], [126, 107, 80], [131, 103, 77], [135, 98, 72], [140, 97, 71], [152, 112, 83], [124, 98, 71], [88, 77, 54], [74, 69, 46], [80, 76, 53], [89, 84, 64], [77, 71, 54], [70, 63, 48], [80, 73, 55], [77, 72, 52], [62, 63, 41], [51, 56, 33], [51, 60, 35], [49, 55, 31], [53, 56, 33], [58, 57, 36], [62, 58, 40]], [[74, 73, 47], [81, 81, 55], [87, 87, 61], [106, 97, 66], [166, 139, 92], [202, 170, 102], [226, 192, 119], [234, 201, 133], [232, 201, 140], [227, 197, 140], [216, 191, 146], [188, 160, 127], [156, 121, 92], [141, 100, 70], [141, 96, 65], [135, 90, 61], [111, 74, 53], [91, 67, 51], [76, 63, 44], [77, 71, 49], [85, 81, 61], [65, 61, 45], [60, 56, 42], [62, 58, 42], [60, 60, 40], [52, 59, 35], [43, 57, 30], [42, 58, 31], [56, 63, 39], [68, 69, 48], [72, 70, 50], [69, 66, 48]], [[73, 72, 44], [68, 68, 44], [78, 76, 53], [115, 101, 73], [185, 147, 101], [231, 197, 125], [245, 214, 132], [245, 216, 135], [243, 213, 137], [241, 212, 138], [232, 204, 144], [173, 144, 101], [132, 102, 70], [103, 74, 48], [85, 58, 35], [78, 52, 36], [69, 46, 37], [66, 47, 41], [64, 52, 39], [65, 58, 39], [65, 62, 45], [54, 55, 41], [46, 49, 38], [45, 50, 36], [49, 56, 35], [49, 62, 33], [43, 60, 28], [42, 58, 32], [61, 64, 42], [69, 64, 45], [70, 66, 46], [66, 67, 48]], [[68, 71, 45], [72, 71, 46], [83, 77, 53], [106, 92, 65], [141, 115, 75], [198, 163, 101], [224, 184, 111], [229, 188, 115], [230, 191, 119], [233, 198, 124], [219, 183, 117], [172, 143, 95], [130, 109, 79], [91, 74, 58], [62, 47, 39], [53, 40, 35], [49, 40, 38], [50, 43, 40], [53, 49, 39], [55, 53, 37], [56, 54, 38], [57, 55, 39], [47, 46, 31], [51, 52, 36], [58, 63, 39], [59, 69, 36], [54, 67, 32], [52, 64, 34], [69, 68, 43], [77, 68, 47], [79, 71, 49], [75, 72, 51]], [[71, 71, 48], [78, 78, 51], [85, 86, 55], [90, 88, 54], [103, 89, 49], [143, 110, 61], [151, 110, 61], [149, 113, 67], [161, 132, 85], [194, 166, 108], [204, 167, 106], [183, 150, 100], [133, 110, 77], [91, 73, 58], [65, 48, 43], [45, 32, 27], [47, 37, 31], [50, 45, 37], [50, 49, 38], [47, 48, 34], [49, 48, 33], [66, 62, 44], [66, 60, 42], [71, 67, 47], [79, 80, 52], [80, 86, 49], [69, 78, 39], [66, 74, 41], [83, 79, 51], [97, 85, 59], [105, 93, 68], [101, 94, 70]], [[73, 73, 48], [82, 85, 55], [88, 95, 59], [88, 93, 54], [95, 86, 47], [111, 83, 50], [90, 59, 34], [72, 51, 30], [74, 61, 39], [95, 80, 50], [117, 94, 60], [114, 89, 58], [90, 68, 44], [71, 52, 34], [60, 43, 30], [45, 31, 21], [48, 38, 25], [59, 55, 37], [54, 55, 37], [46, 49, 32], [49, 48, 31], [65, 60, 42], [70, 63, 45], [79, 71, 48], [96, 92, 60], [104, 107, 65], [91, 99, 55], [74, 82, 44], [76, 72, 44], [78, 69, 44], [91, 81, 56], [98, 91, 68]], [[78, 72, 47], [86, 84, 54], [91, 93, 59], [88, 92, 57], [81, 81, 50], [75, 58, 38], [67, 49, 35], [72, 63, 50], [78, 75, 59], [74, 67, 47], [83, 73, 54], [88, 73, 55], [77, 60, 42], [70, 53, 35], [64, 50, 32], [49, 36, 25], [63, 54, 40], [72, 69, 46], [65, 67, 40], [55, 59, 32], [56, 56, 31], [66, 63, 39], [72, 65, 43], [85, 76, 53], [100, 94, 62], [107, 109, 67], [100, 108, 64], [77, 87, 48], [73, 70, 43], [69, 61, 38], [77, 69, 46], [87, 79, 59]], [[68, 62, 38], [71, 69, 39], [74, 77, 43], [69, 75, 42], [60, 64, 39], [59, 47, 28], [64, 52, 35], [76, 74, 52], [83, 87, 62], [79, 79, 50], [70, 66, 38], [77, 69, 43], [75, 65, 39], [73, 59, 36], [66, 52, 34], [54, 42, 30], [68, 59, 45], [63, 60, 38], [55, 57, 30], [48, 52, 26], [50, 51, 25], [62, 59, 35], [63, 56, 35], [73, 63, 44], [90, 84, 57], [97, 98, 62], [84, 92, 53], [70, 78, 45], [73, 69, 43], [78, 70, 47], [88, 80, 57], [94, 87, 66]], [[59, 61, 34], [59, 64, 33], [61, 69, 35], [62, 69, 35], [69, 67, 37], [86, 67, 41], [81, 61, 35], [78, 67, 38], [80, 78, 46], [84, 80, 47], [78, 70, 37], [81, 70, 41], [76, 66, 40], [71, 60, 38], [62, 51, 34], [48, 38, 24], [52, 45, 30], [52, 48, 29], [48, 48, 29], [46, 46, 29], [47, 46, 30], [54, 50, 35], [54, 48, 34], [62, 55, 37], [73, 69, 44], [75, 77, 45], [61, 69, 35], [55, 64, 32], [64, 63, 37], [71, 65, 41], [78, 71, 48], [79, 74, 52]], [[58, 62, 36], [58, 63, 35], [62, 67, 38], [68, 70, 40], [84, 75, 43], [113, 87, 53], [111, 81, 49], [104, 81, 50], [109, 91, 59], [127, 107, 70], [131, 106, 68], [117, 95, 64], [90, 75, 53], [68, 59, 42], [54, 48, 33], [40, 34, 19], [42, 35, 21], [47, 42, 27], [49, 46, 31], [51, 49, 34], [53, 51, 36], [52, 50, 35], [48, 46, 30], [53, 51, 30], [59, 59, 34], [59, 62, 36], [51, 59, 30], [48, 57, 29], [57, 61, 34], [63, 60, 35], [67, 61, 37], [65, 62, 40]], [[61, 65, 39], [58, 62, 35], [62, 65, 37], [73, 70, 42], [98, 81, 49], [138, 104, 66], [146, 108, 68], [140, 108, 67], [143, 116, 74], [164, 134, 89], [165, 133, 89], [141, 116, 83], [102, 87, 66], [71, 63, 50], [52, 46, 35], [38, 32, 21], [40, 34, 23], [45, 39, 28], [48, 44, 31], [52, 50, 35], [55, 53, 38], [49, 47, 32], [44, 42, 26], [47, 45, 26], [51, 50, 30], [50, 54, 32], [46, 53, 30], [45, 55, 30], [55, 59, 33], [60, 58, 33], [63, 58, 33], [61, 58, 36]], [[64, 66, 41], [62, 64, 38], [63, 64, 38], [78, 71, 43], [123, 97, 65], [176, 134, 93], [195, 149, 101], [192, 152, 100], [189, 154, 100], [196, 159, 106], [186, 150, 103], [149, 123, 89], [108, 93, 73], [73, 65, 54], [50, 43, 36], [41, 34, 27], [43, 36, 30], [44, 39, 31], [48, 45, 33], [56, 54, 38], [61, 59, 43], [50, 48, 32], [44, 43, 26], [49, 46, 30], [50, 49, 32], [47, 49, 32], [44, 49, 30], [44, 51, 30], [51, 55, 30], [58, 56, 32], [60, 56, 32], [58, 56, 33]], [[68, 64, 44], [71, 67, 46], [73, 67, 46], [85, 72, 48], [136, 106, 75], [184, 143, 100], [203, 158, 108], [202, 161, 107], [198, 160, 105], [196, 160, 106], [179, 153, 107], [131, 111, 81], [99, 82, 64], [73, 61, 47], [57, 48, 33], [56, 44, 32], [50, 42, 32], [45, 44, 31], [48, 48, 32], [57, 56, 37], [62, 61, 41], [53, 52, 32], [48, 47, 27], [55, 53, 34], [56, 55, 35], [51, 51, 31], [46, 47, 27], [48, 49, 28], [48, 48, 28], [52, 51, 30], [54, 52, 31], [53, 52, 31]], [[64, 60, 40], [66, 62, 42], [67, 63, 43], [73, 65, 42], [104, 86, 56], [140, 113, 74], [163, 133, 90], [169, 139, 96], [165, 138, 96], [162, 136, 95], [149, 134, 96], [111, 98, 71], [94, 78, 57], [87, 68, 46], [83, 64, 37], [83, 59, 36], [73, 54, 33], [62, 53, 32], [56, 53, 32], [56, 55, 34], [59, 58, 36], [54, 53, 32], [52, 51, 29], [57, 56, 35], [60, 59, 38], [57, 56, 35], [51, 50, 28], [51, 50, 28], [52, 51, 28], [51, 51, 28], [48, 47, 27], [46, 45, 28]], [[53, 56, 34], [55, 58, 36], [57, 61, 38], [57, 60, 36], [62, 63, 35], [82, 73, 41], [102, 90, 57], [108, 96, 68], [106, 95, 71], [105, 92, 69], [95, 89, 63], [82, 76, 51], [86, 75, 51], [91, 74, 49], [94, 73, 46], [100, 76, 52], [85, 65, 43], [68, 58, 36], [58, 55, 33], [56, 54, 33], [56, 55, 34], [52, 51, 30], [53, 52, 31], [56, 55, 34], [60, 59, 38], [61, 60, 39], [55, 54, 33], [54, 54, 30], [62, 63, 33], [59, 59, 32], [51, 50, 30], [46, 44, 31]], [[44, 47, 28], [44, 48, 28], [47, 52, 31], [49, 55, 33], [45, 54, 29], [49, 53, 27], [58, 59, 35], [60, 62, 40], [61, 62, 43], [66, 65, 45], [64, 64, 42], [67, 64, 41], [79, 71, 49], [82, 72, 48], [81, 69, 45], [91, 78, 55], [79, 68, 46], [63, 58, 36], [55, 53, 31], [54, 53, 32], [55, 54, 33], [52, 51, 30], [55, 54, 33], [56, 56, 34], [61, 61, 36], [63, 63, 37], [58, 58, 32], [57, 56, 32], [69, 68, 36], [62, 64, 33], [50, 55, 30], [44, 47, 31]], [[43, 46, 29], [40, 43, 26], [41, 44, 27], [42, 46, 28], [36, 43, 25], [37, 44, 25], [43, 50, 31], [45, 52, 33], [47, 53, 33], [54, 58, 37], [61, 61, 41], [70, 67, 48], [72, 66, 47], [66, 60, 40], [61, 57, 34], [66, 62, 39], [65, 61, 39], [60, 56, 34], [55, 53, 31], [53, 52, 31], [55, 54, 33], [54, 53, 32], [56, 54, 34], [58, 58, 37], [63, 63, 37], [64, 64, 35], [58, 58, 31], [57, 55, 33], [68, 66, 35], [58, 63, 31], [46, 55, 28], [42, 50, 31]], [[47, 50, 33], [42, 45, 28], [40, 43, 26], [39, 43, 27], [34, 40, 26], [33, 39, 26], [38, 44, 30], [40, 46, 32], [41, 47, 32], [47, 51, 34], [60, 60, 45], [72, 68, 54], [63, 58, 44], [52, 48, 32], [47, 47, 28], [49, 50, 30], [53, 53, 34], [54, 54, 34], [55, 55, 35], [57, 56, 36], [60, 59, 38], [65, 64, 43], [64, 63, 44], [67, 65, 48], [72, 71, 50], [73, 72, 48], [66, 66, 44], [65, 62, 45], [75, 72, 47], [65, 68, 42], [53, 62, 40], [49, 56, 42]]]]}'"
            ]
          },
          "metadata": {
            "tags": []
          },
          "execution_count": 23
        }
      ]
    },
    {
      "cell_type": "markdown",
      "metadata": {
        "id": "4r2UYAdUCJ95",
        "colab_type": "text"
      },
      "source": [
        "Sending the first POST request to the model"
      ]
    },
    {
      "cell_type": "code",
      "metadata": {
        "id": "mjFUnOJGALm8",
        "colab_type": "code",
        "colab": {}
      },
      "source": [
        "headers = {\"content-type\":\"application/json\"}"
      ],
      "execution_count": 0,
      "outputs": []
    },
    {
      "cell_type": "code",
      "metadata": {
        "id": "teKSh4iDCUoX",
        "colab_type": "code",
        "colab": {
          "base_uri": "https://localhost:8080/",
          "height": 638
        },
        "outputId": "a93620d5-7ca4-42eb-c02a-3a87736ed760"
      },
      "source": [
        "json_resposne = requests.post(url=\"http://localhost:8501/v1/models/cifar10:predict\", data=data, headers = headers)"
      ],
      "execution_count": 25,
      "outputs": [
        {
          "output_type": "error",
          "ename": "ConnectionError",
          "evalue": "ignored",
          "traceback": [
            "\u001b[0;31m---------------------------------------------------------------------------\u001b[0m",
            "\u001b[0;31mConnectionRefusedError\u001b[0m                    Traceback (most recent call last)",
            "\u001b[0;32m/usr/local/lib/python3.6/dist-packages/urllib3/connection.py\u001b[0m in \u001b[0;36m_new_conn\u001b[0;34m(self)\u001b[0m\n\u001b[1;32m    158\u001b[0m             conn = connection.create_connection(\n\u001b[0;32m--> 159\u001b[0;31m                 (self._dns_host, self.port), self.timeout, **extra_kw)\n\u001b[0m\u001b[1;32m    160\u001b[0m \u001b[0;34m\u001b[0m\u001b[0m\n",
            "\u001b[0;32m/usr/local/lib/python3.6/dist-packages/urllib3/util/connection.py\u001b[0m in \u001b[0;36mcreate_connection\u001b[0;34m(address, timeout, source_address, socket_options)\u001b[0m\n\u001b[1;32m     79\u001b[0m     \u001b[0;32mif\u001b[0m \u001b[0merr\u001b[0m \u001b[0;32mis\u001b[0m \u001b[0;32mnot\u001b[0m \u001b[0;32mNone\u001b[0m\u001b[0;34m:\u001b[0m\u001b[0;34m\u001b[0m\u001b[0;34m\u001b[0m\u001b[0m\n\u001b[0;32m---> 80\u001b[0;31m         \u001b[0;32mraise\u001b[0m \u001b[0merr\u001b[0m\u001b[0;34m\u001b[0m\u001b[0;34m\u001b[0m\u001b[0m\n\u001b[0m\u001b[1;32m     81\u001b[0m \u001b[0;34m\u001b[0m\u001b[0m\n",
            "\u001b[0;32m/usr/local/lib/python3.6/dist-packages/urllib3/util/connection.py\u001b[0m in \u001b[0;36mcreate_connection\u001b[0;34m(address, timeout, source_address, socket_options)\u001b[0m\n\u001b[1;32m     69\u001b[0m                 \u001b[0msock\u001b[0m\u001b[0;34m.\u001b[0m\u001b[0mbind\u001b[0m\u001b[0;34m(\u001b[0m\u001b[0msource_address\u001b[0m\u001b[0;34m)\u001b[0m\u001b[0;34m\u001b[0m\u001b[0;34m\u001b[0m\u001b[0m\n\u001b[0;32m---> 70\u001b[0;31m             \u001b[0msock\u001b[0m\u001b[0;34m.\u001b[0m\u001b[0mconnect\u001b[0m\u001b[0;34m(\u001b[0m\u001b[0msa\u001b[0m\u001b[0;34m)\u001b[0m\u001b[0;34m\u001b[0m\u001b[0;34m\u001b[0m\u001b[0m\n\u001b[0m\u001b[1;32m     71\u001b[0m             \u001b[0;32mreturn\u001b[0m \u001b[0msock\u001b[0m\u001b[0;34m\u001b[0m\u001b[0;34m\u001b[0m\u001b[0m\n",
            "\u001b[0;31mConnectionRefusedError\u001b[0m: [Errno 111] Connection refused",
            "\nDuring handling of the above exception, another exception occurred:\n",
            "\u001b[0;31mNewConnectionError\u001b[0m                        Traceback (most recent call last)",
            "\u001b[0;32m/usr/local/lib/python3.6/dist-packages/urllib3/connectionpool.py\u001b[0m in \u001b[0;36murlopen\u001b[0;34m(self, method, url, body, headers, retries, redirect, assert_same_host, timeout, pool_timeout, release_conn, chunked, body_pos, **response_kw)\u001b[0m\n\u001b[1;32m    599\u001b[0m                                                   \u001b[0mbody\u001b[0m\u001b[0;34m=\u001b[0m\u001b[0mbody\u001b[0m\u001b[0;34m,\u001b[0m \u001b[0mheaders\u001b[0m\u001b[0;34m=\u001b[0m\u001b[0mheaders\u001b[0m\u001b[0;34m,\u001b[0m\u001b[0;34m\u001b[0m\u001b[0;34m\u001b[0m\u001b[0m\n\u001b[0;32m--> 600\u001b[0;31m                                                   chunked=chunked)\n\u001b[0m\u001b[1;32m    601\u001b[0m \u001b[0;34m\u001b[0m\u001b[0m\n",
            "\u001b[0;32m/usr/local/lib/python3.6/dist-packages/urllib3/connectionpool.py\u001b[0m in \u001b[0;36m_make_request\u001b[0;34m(self, conn, method, url, timeout, chunked, **httplib_request_kw)\u001b[0m\n\u001b[1;32m    353\u001b[0m         \u001b[0;32melse\u001b[0m\u001b[0;34m:\u001b[0m\u001b[0;34m\u001b[0m\u001b[0;34m\u001b[0m\u001b[0m\n\u001b[0;32m--> 354\u001b[0;31m             \u001b[0mconn\u001b[0m\u001b[0;34m.\u001b[0m\u001b[0mrequest\u001b[0m\u001b[0;34m(\u001b[0m\u001b[0mmethod\u001b[0m\u001b[0;34m,\u001b[0m \u001b[0murl\u001b[0m\u001b[0;34m,\u001b[0m \u001b[0;34m**\u001b[0m\u001b[0mhttplib_request_kw\u001b[0m\u001b[0;34m)\u001b[0m\u001b[0;34m\u001b[0m\u001b[0;34m\u001b[0m\u001b[0m\n\u001b[0m\u001b[1;32m    355\u001b[0m \u001b[0;34m\u001b[0m\u001b[0m\n",
            "\u001b[0;32m/usr/lib/python3.6/http/client.py\u001b[0m in \u001b[0;36mrequest\u001b[0;34m(self, method, url, body, headers, encode_chunked)\u001b[0m\n\u001b[1;32m   1238\u001b[0m         \u001b[0;34m\"\"\"Send a complete request to the server.\"\"\"\u001b[0m\u001b[0;34m\u001b[0m\u001b[0;34m\u001b[0m\u001b[0m\n\u001b[0;32m-> 1239\u001b[0;31m         \u001b[0mself\u001b[0m\u001b[0;34m.\u001b[0m\u001b[0m_send_request\u001b[0m\u001b[0;34m(\u001b[0m\u001b[0mmethod\u001b[0m\u001b[0;34m,\u001b[0m \u001b[0murl\u001b[0m\u001b[0;34m,\u001b[0m \u001b[0mbody\u001b[0m\u001b[0;34m,\u001b[0m \u001b[0mheaders\u001b[0m\u001b[0;34m,\u001b[0m \u001b[0mencode_chunked\u001b[0m\u001b[0;34m)\u001b[0m\u001b[0;34m\u001b[0m\u001b[0;34m\u001b[0m\u001b[0m\n\u001b[0m\u001b[1;32m   1240\u001b[0m \u001b[0;34m\u001b[0m\u001b[0m\n",
            "\u001b[0;32m/usr/lib/python3.6/http/client.py\u001b[0m in \u001b[0;36m_send_request\u001b[0;34m(self, method, url, body, headers, encode_chunked)\u001b[0m\n\u001b[1;32m   1284\u001b[0m             \u001b[0mbody\u001b[0m \u001b[0;34m=\u001b[0m \u001b[0m_encode\u001b[0m\u001b[0;34m(\u001b[0m\u001b[0mbody\u001b[0m\u001b[0;34m,\u001b[0m \u001b[0;34m'body'\u001b[0m\u001b[0;34m)\u001b[0m\u001b[0;34m\u001b[0m\u001b[0;34m\u001b[0m\u001b[0m\n\u001b[0;32m-> 1285\u001b[0;31m         \u001b[0mself\u001b[0m\u001b[0;34m.\u001b[0m\u001b[0mendheaders\u001b[0m\u001b[0;34m(\u001b[0m\u001b[0mbody\u001b[0m\u001b[0;34m,\u001b[0m \u001b[0mencode_chunked\u001b[0m\u001b[0;34m=\u001b[0m\u001b[0mencode_chunked\u001b[0m\u001b[0;34m)\u001b[0m\u001b[0;34m\u001b[0m\u001b[0;34m\u001b[0m\u001b[0m\n\u001b[0m\u001b[1;32m   1286\u001b[0m \u001b[0;34m\u001b[0m\u001b[0m\n",
            "\u001b[0;32m/usr/lib/python3.6/http/client.py\u001b[0m in \u001b[0;36mendheaders\u001b[0;34m(self, message_body, encode_chunked)\u001b[0m\n\u001b[1;32m   1233\u001b[0m             \u001b[0;32mraise\u001b[0m \u001b[0mCannotSendHeader\u001b[0m\u001b[0;34m(\u001b[0m\u001b[0;34m)\u001b[0m\u001b[0;34m\u001b[0m\u001b[0;34m\u001b[0m\u001b[0m\n\u001b[0;32m-> 1234\u001b[0;31m         \u001b[0mself\u001b[0m\u001b[0;34m.\u001b[0m\u001b[0m_send_output\u001b[0m\u001b[0;34m(\u001b[0m\u001b[0mmessage_body\u001b[0m\u001b[0;34m,\u001b[0m \u001b[0mencode_chunked\u001b[0m\u001b[0;34m=\u001b[0m\u001b[0mencode_chunked\u001b[0m\u001b[0;34m)\u001b[0m\u001b[0;34m\u001b[0m\u001b[0;34m\u001b[0m\u001b[0m\n\u001b[0m\u001b[1;32m   1235\u001b[0m \u001b[0;34m\u001b[0m\u001b[0m\n",
            "\u001b[0;32m/usr/lib/python3.6/http/client.py\u001b[0m in \u001b[0;36m_send_output\u001b[0;34m(self, message_body, encode_chunked)\u001b[0m\n\u001b[1;32m   1025\u001b[0m         \u001b[0;32mdel\u001b[0m \u001b[0mself\u001b[0m\u001b[0;34m.\u001b[0m\u001b[0m_buffer\u001b[0m\u001b[0;34m[\u001b[0m\u001b[0;34m:\u001b[0m\u001b[0;34m]\u001b[0m\u001b[0;34m\u001b[0m\u001b[0;34m\u001b[0m\u001b[0m\n\u001b[0;32m-> 1026\u001b[0;31m         \u001b[0mself\u001b[0m\u001b[0;34m.\u001b[0m\u001b[0msend\u001b[0m\u001b[0;34m(\u001b[0m\u001b[0mmsg\u001b[0m\u001b[0;34m)\u001b[0m\u001b[0;34m\u001b[0m\u001b[0;34m\u001b[0m\u001b[0m\n\u001b[0m\u001b[1;32m   1027\u001b[0m \u001b[0;34m\u001b[0m\u001b[0m\n",
            "\u001b[0;32m/usr/lib/python3.6/http/client.py\u001b[0m in \u001b[0;36msend\u001b[0;34m(self, data)\u001b[0m\n\u001b[1;32m    963\u001b[0m             \u001b[0;32mif\u001b[0m \u001b[0mself\u001b[0m\u001b[0;34m.\u001b[0m\u001b[0mauto_open\u001b[0m\u001b[0;34m:\u001b[0m\u001b[0;34m\u001b[0m\u001b[0;34m\u001b[0m\u001b[0m\n\u001b[0;32m--> 964\u001b[0;31m                 \u001b[0mself\u001b[0m\u001b[0;34m.\u001b[0m\u001b[0mconnect\u001b[0m\u001b[0;34m(\u001b[0m\u001b[0;34m)\u001b[0m\u001b[0;34m\u001b[0m\u001b[0;34m\u001b[0m\u001b[0m\n\u001b[0m\u001b[1;32m    965\u001b[0m             \u001b[0;32melse\u001b[0m\u001b[0;34m:\u001b[0m\u001b[0;34m\u001b[0m\u001b[0;34m\u001b[0m\u001b[0m\n",
            "\u001b[0;32m/usr/local/lib/python3.6/dist-packages/urllib3/connection.py\u001b[0m in \u001b[0;36mconnect\u001b[0;34m(self)\u001b[0m\n\u001b[1;32m    180\u001b[0m     \u001b[0;32mdef\u001b[0m \u001b[0mconnect\u001b[0m\u001b[0;34m(\u001b[0m\u001b[0mself\u001b[0m\u001b[0;34m)\u001b[0m\u001b[0;34m:\u001b[0m\u001b[0;34m\u001b[0m\u001b[0;34m\u001b[0m\u001b[0m\n\u001b[0;32m--> 181\u001b[0;31m         \u001b[0mconn\u001b[0m \u001b[0;34m=\u001b[0m \u001b[0mself\u001b[0m\u001b[0;34m.\u001b[0m\u001b[0m_new_conn\u001b[0m\u001b[0;34m(\u001b[0m\u001b[0;34m)\u001b[0m\u001b[0;34m\u001b[0m\u001b[0;34m\u001b[0m\u001b[0m\n\u001b[0m\u001b[1;32m    182\u001b[0m         \u001b[0mself\u001b[0m\u001b[0;34m.\u001b[0m\u001b[0m_prepare_conn\u001b[0m\u001b[0;34m(\u001b[0m\u001b[0mconn\u001b[0m\u001b[0;34m)\u001b[0m\u001b[0;34m\u001b[0m\u001b[0;34m\u001b[0m\u001b[0m\n",
            "\u001b[0;32m/usr/local/lib/python3.6/dist-packages/urllib3/connection.py\u001b[0m in \u001b[0;36m_new_conn\u001b[0;34m(self)\u001b[0m\n\u001b[1;32m    167\u001b[0m             raise NewConnectionError(\n\u001b[0;32m--> 168\u001b[0;31m                 self, \"Failed to establish a new connection: %s\" % e)\n\u001b[0m\u001b[1;32m    169\u001b[0m \u001b[0;34m\u001b[0m\u001b[0m\n",
            "\u001b[0;31mNewConnectionError\u001b[0m: <urllib3.connection.HTTPConnection object at 0x7ff15cf805f8>: Failed to establish a new connection: [Errno 111] Connection refused",
            "\nDuring handling of the above exception, another exception occurred:\n",
            "\u001b[0;31mMaxRetryError\u001b[0m                             Traceback (most recent call last)",
            "\u001b[0;32m/usr/local/lib/python3.6/dist-packages/requests/adapters.py\u001b[0m in \u001b[0;36msend\u001b[0;34m(self, request, stream, timeout, verify, cert, proxies)\u001b[0m\n\u001b[1;32m    448\u001b[0m                     \u001b[0mretries\u001b[0m\u001b[0;34m=\u001b[0m\u001b[0mself\u001b[0m\u001b[0;34m.\u001b[0m\u001b[0mmax_retries\u001b[0m\u001b[0;34m,\u001b[0m\u001b[0;34m\u001b[0m\u001b[0;34m\u001b[0m\u001b[0m\n\u001b[0;32m--> 449\u001b[0;31m                     \u001b[0mtimeout\u001b[0m\u001b[0;34m=\u001b[0m\u001b[0mtimeout\u001b[0m\u001b[0;34m\u001b[0m\u001b[0;34m\u001b[0m\u001b[0m\n\u001b[0m\u001b[1;32m    450\u001b[0m                 )\n",
            "\u001b[0;32m/usr/local/lib/python3.6/dist-packages/urllib3/connectionpool.py\u001b[0m in \u001b[0;36murlopen\u001b[0;34m(self, method, url, body, headers, retries, redirect, assert_same_host, timeout, pool_timeout, release_conn, chunked, body_pos, **response_kw)\u001b[0m\n\u001b[1;32m    637\u001b[0m             retries = retries.increment(method, url, error=e, _pool=self,\n\u001b[0;32m--> 638\u001b[0;31m                                         _stacktrace=sys.exc_info()[2])\n\u001b[0m\u001b[1;32m    639\u001b[0m             \u001b[0mretries\u001b[0m\u001b[0;34m.\u001b[0m\u001b[0msleep\u001b[0m\u001b[0;34m(\u001b[0m\u001b[0;34m)\u001b[0m\u001b[0;34m\u001b[0m\u001b[0;34m\u001b[0m\u001b[0m\n",
            "\u001b[0;32m/usr/local/lib/python3.6/dist-packages/urllib3/util/retry.py\u001b[0m in \u001b[0;36mincrement\u001b[0;34m(self, method, url, response, error, _pool, _stacktrace)\u001b[0m\n\u001b[1;32m    398\u001b[0m         \u001b[0;32mif\u001b[0m \u001b[0mnew_retry\u001b[0m\u001b[0;34m.\u001b[0m\u001b[0mis_exhausted\u001b[0m\u001b[0;34m(\u001b[0m\u001b[0;34m)\u001b[0m\u001b[0;34m:\u001b[0m\u001b[0;34m\u001b[0m\u001b[0;34m\u001b[0m\u001b[0m\n\u001b[0;32m--> 399\u001b[0;31m             \u001b[0;32mraise\u001b[0m \u001b[0mMaxRetryError\u001b[0m\u001b[0;34m(\u001b[0m\u001b[0m_pool\u001b[0m\u001b[0;34m,\u001b[0m \u001b[0murl\u001b[0m\u001b[0;34m,\u001b[0m \u001b[0merror\u001b[0m \u001b[0;32mor\u001b[0m \u001b[0mResponseError\u001b[0m\u001b[0;34m(\u001b[0m\u001b[0mcause\u001b[0m\u001b[0;34m)\u001b[0m\u001b[0;34m)\u001b[0m\u001b[0;34m\u001b[0m\u001b[0;34m\u001b[0m\u001b[0m\n\u001b[0m\u001b[1;32m    400\u001b[0m \u001b[0;34m\u001b[0m\u001b[0m\n",
            "\u001b[0;31mMaxRetryError\u001b[0m: HTTPConnectionPool(host='localhost', port=8501): Max retries exceeded with url: /v1/models/cifar10:predict (Caused by NewConnectionError('<urllib3.connection.HTTPConnection object at 0x7ff15cf805f8>: Failed to establish a new connection: [Errno 111] Connection refused',))",
            "\nDuring handling of the above exception, another exception occurred:\n",
            "\u001b[0;31mConnectionError\u001b[0m                           Traceback (most recent call last)",
            "\u001b[0;32m<ipython-input-25-069dea84bd49>\u001b[0m in \u001b[0;36m<module>\u001b[0;34m()\u001b[0m\n\u001b[0;32m----> 1\u001b[0;31m \u001b[0mjson_resposne\u001b[0m \u001b[0;34m=\u001b[0m \u001b[0mrequests\u001b[0m\u001b[0;34m.\u001b[0m\u001b[0mpost\u001b[0m\u001b[0;34m(\u001b[0m\u001b[0murl\u001b[0m\u001b[0;34m=\u001b[0m\u001b[0;34m\"http://localhost:8501/v1/models/cifar10:predict\"\u001b[0m\u001b[0;34m,\u001b[0m \u001b[0mdata\u001b[0m\u001b[0;34m=\u001b[0m\u001b[0mdata\u001b[0m\u001b[0;34m,\u001b[0m \u001b[0mheaders\u001b[0m \u001b[0;34m=\u001b[0m \u001b[0mheaders\u001b[0m\u001b[0;34m)\u001b[0m\u001b[0;34m\u001b[0m\u001b[0;34m\u001b[0m\u001b[0m\n\u001b[0m",
            "\u001b[0;32m/usr/local/lib/python3.6/dist-packages/requests/api.py\u001b[0m in \u001b[0;36mpost\u001b[0;34m(url, data, json, **kwargs)\u001b[0m\n\u001b[1;32m    114\u001b[0m     \"\"\"\n\u001b[1;32m    115\u001b[0m \u001b[0;34m\u001b[0m\u001b[0m\n\u001b[0;32m--> 116\u001b[0;31m     \u001b[0;32mreturn\u001b[0m \u001b[0mrequest\u001b[0m\u001b[0;34m(\u001b[0m\u001b[0;34m'post'\u001b[0m\u001b[0;34m,\u001b[0m \u001b[0murl\u001b[0m\u001b[0;34m,\u001b[0m \u001b[0mdata\u001b[0m\u001b[0;34m=\u001b[0m\u001b[0mdata\u001b[0m\u001b[0;34m,\u001b[0m \u001b[0mjson\u001b[0m\u001b[0;34m=\u001b[0m\u001b[0mjson\u001b[0m\u001b[0;34m,\u001b[0m \u001b[0;34m**\u001b[0m\u001b[0mkwargs\u001b[0m\u001b[0;34m)\u001b[0m\u001b[0;34m\u001b[0m\u001b[0;34m\u001b[0m\u001b[0m\n\u001b[0m\u001b[1;32m    117\u001b[0m \u001b[0;34m\u001b[0m\u001b[0m\n\u001b[1;32m    118\u001b[0m \u001b[0;34m\u001b[0m\u001b[0m\n",
            "\u001b[0;32m/usr/local/lib/python3.6/dist-packages/requests/api.py\u001b[0m in \u001b[0;36mrequest\u001b[0;34m(method, url, **kwargs)\u001b[0m\n\u001b[1;32m     58\u001b[0m     \u001b[0;31m# cases, and look like a memory leak in others.\u001b[0m\u001b[0;34m\u001b[0m\u001b[0;34m\u001b[0m\u001b[0;34m\u001b[0m\u001b[0m\n\u001b[1;32m     59\u001b[0m     \u001b[0;32mwith\u001b[0m \u001b[0msessions\u001b[0m\u001b[0;34m.\u001b[0m\u001b[0mSession\u001b[0m\u001b[0;34m(\u001b[0m\u001b[0;34m)\u001b[0m \u001b[0;32mas\u001b[0m \u001b[0msession\u001b[0m\u001b[0;34m:\u001b[0m\u001b[0;34m\u001b[0m\u001b[0;34m\u001b[0m\u001b[0m\n\u001b[0;32m---> 60\u001b[0;31m         \u001b[0;32mreturn\u001b[0m \u001b[0msession\u001b[0m\u001b[0;34m.\u001b[0m\u001b[0mrequest\u001b[0m\u001b[0;34m(\u001b[0m\u001b[0mmethod\u001b[0m\u001b[0;34m=\u001b[0m\u001b[0mmethod\u001b[0m\u001b[0;34m,\u001b[0m \u001b[0murl\u001b[0m\u001b[0;34m=\u001b[0m\u001b[0murl\u001b[0m\u001b[0;34m,\u001b[0m \u001b[0;34m**\u001b[0m\u001b[0mkwargs\u001b[0m\u001b[0;34m)\u001b[0m\u001b[0;34m\u001b[0m\u001b[0;34m\u001b[0m\u001b[0m\n\u001b[0m\u001b[1;32m     61\u001b[0m \u001b[0;34m\u001b[0m\u001b[0m\n\u001b[1;32m     62\u001b[0m \u001b[0;34m\u001b[0m\u001b[0m\n",
            "\u001b[0;32m/usr/local/lib/python3.6/dist-packages/requests/sessions.py\u001b[0m in \u001b[0;36mrequest\u001b[0;34m(self, method, url, params, data, headers, cookies, files, auth, timeout, allow_redirects, proxies, hooks, stream, verify, cert, json)\u001b[0m\n\u001b[1;32m    531\u001b[0m         }\n\u001b[1;32m    532\u001b[0m         \u001b[0msend_kwargs\u001b[0m\u001b[0;34m.\u001b[0m\u001b[0mupdate\u001b[0m\u001b[0;34m(\u001b[0m\u001b[0msettings\u001b[0m\u001b[0;34m)\u001b[0m\u001b[0;34m\u001b[0m\u001b[0;34m\u001b[0m\u001b[0m\n\u001b[0;32m--> 533\u001b[0;31m         \u001b[0mresp\u001b[0m \u001b[0;34m=\u001b[0m \u001b[0mself\u001b[0m\u001b[0;34m.\u001b[0m\u001b[0msend\u001b[0m\u001b[0;34m(\u001b[0m\u001b[0mprep\u001b[0m\u001b[0;34m,\u001b[0m \u001b[0;34m**\u001b[0m\u001b[0msend_kwargs\u001b[0m\u001b[0;34m)\u001b[0m\u001b[0;34m\u001b[0m\u001b[0;34m\u001b[0m\u001b[0m\n\u001b[0m\u001b[1;32m    534\u001b[0m \u001b[0;34m\u001b[0m\u001b[0m\n\u001b[1;32m    535\u001b[0m         \u001b[0;32mreturn\u001b[0m \u001b[0mresp\u001b[0m\u001b[0;34m\u001b[0m\u001b[0;34m\u001b[0m\u001b[0m\n",
            "\u001b[0;32m/usr/local/lib/python3.6/dist-packages/requests/sessions.py\u001b[0m in \u001b[0;36msend\u001b[0;34m(self, request, **kwargs)\u001b[0m\n\u001b[1;32m    644\u001b[0m \u001b[0;34m\u001b[0m\u001b[0m\n\u001b[1;32m    645\u001b[0m         \u001b[0;31m# Send the request\u001b[0m\u001b[0;34m\u001b[0m\u001b[0;34m\u001b[0m\u001b[0;34m\u001b[0m\u001b[0m\n\u001b[0;32m--> 646\u001b[0;31m         \u001b[0mr\u001b[0m \u001b[0;34m=\u001b[0m \u001b[0madapter\u001b[0m\u001b[0;34m.\u001b[0m\u001b[0msend\u001b[0m\u001b[0;34m(\u001b[0m\u001b[0mrequest\u001b[0m\u001b[0;34m,\u001b[0m \u001b[0;34m**\u001b[0m\u001b[0mkwargs\u001b[0m\u001b[0;34m)\u001b[0m\u001b[0;34m\u001b[0m\u001b[0;34m\u001b[0m\u001b[0m\n\u001b[0m\u001b[1;32m    647\u001b[0m \u001b[0;34m\u001b[0m\u001b[0m\n\u001b[1;32m    648\u001b[0m         \u001b[0;31m# Total elapsed time of the request (approximately)\u001b[0m\u001b[0;34m\u001b[0m\u001b[0;34m\u001b[0m\u001b[0;34m\u001b[0m\u001b[0m\n",
            "\u001b[0;32m/usr/local/lib/python3.6/dist-packages/requests/adapters.py\u001b[0m in \u001b[0;36msend\u001b[0;34m(self, request, stream, timeout, verify, cert, proxies)\u001b[0m\n\u001b[1;32m    514\u001b[0m                 \u001b[0;32mraise\u001b[0m \u001b[0mSSLError\u001b[0m\u001b[0;34m(\u001b[0m\u001b[0me\u001b[0m\u001b[0;34m,\u001b[0m \u001b[0mrequest\u001b[0m\u001b[0;34m=\u001b[0m\u001b[0mrequest\u001b[0m\u001b[0;34m)\u001b[0m\u001b[0;34m\u001b[0m\u001b[0;34m\u001b[0m\u001b[0m\n\u001b[1;32m    515\u001b[0m \u001b[0;34m\u001b[0m\u001b[0m\n\u001b[0;32m--> 516\u001b[0;31m             \u001b[0;32mraise\u001b[0m \u001b[0mConnectionError\u001b[0m\u001b[0;34m(\u001b[0m\u001b[0me\u001b[0m\u001b[0;34m,\u001b[0m \u001b[0mrequest\u001b[0m\u001b[0;34m=\u001b[0m\u001b[0mrequest\u001b[0m\u001b[0;34m)\u001b[0m\u001b[0;34m\u001b[0m\u001b[0;34m\u001b[0m\u001b[0m\n\u001b[0m\u001b[1;32m    517\u001b[0m \u001b[0;34m\u001b[0m\u001b[0m\n\u001b[1;32m    518\u001b[0m         \u001b[0;32mexcept\u001b[0m \u001b[0mClosedPoolError\u001b[0m \u001b[0;32mas\u001b[0m \u001b[0me\u001b[0m\u001b[0;34m:\u001b[0m\u001b[0;34m\u001b[0m\u001b[0;34m\u001b[0m\u001b[0m\n",
            "\u001b[0;31mConnectionError\u001b[0m: HTTPConnectionPool(host='localhost', port=8501): Max retries exceeded with url: /v1/models/cifar10:predict (Caused by NewConnectionError('<urllib3.connection.HTTPConnection object at 0x7ff15cf805f8>: Failed to establish a new connection: [Errno 111] Connection refused',))"
          ]
        }
      ]
    },
    {
      "cell_type": "code",
      "metadata": {
        "id": "DwO_sZm3DluZ",
        "colab_type": "code",
        "colab": {}
      },
      "source": [
        "json_response"
      ],
      "execution_count": 0,
      "outputs": []
    },
    {
      "cell_type": "code",
      "metadata": {
        "id": "_Cx2YkbbDncO",
        "colab_type": "code",
        "colab": {}
      },
      "source": [
        "predictions = json.loads(json_response.text)['predictions']"
      ],
      "execution_count": 0,
      "outputs": []
    },
    {
      "cell_type": "code",
      "metadata": {
        "id": "-sAgHdSgDtrn",
        "colab_type": "code",
        "colab": {}
      },
      "source": [
        "predictions"
      ],
      "execution_count": 0,
      "outputs": []
    },
    {
      "cell_type": "code",
      "metadata": {
        "id": "v9cBmESEDvNL",
        "colab_type": "code",
        "colab": {}
      },
      "source": [
        "plt.imshow(X_test[random_image])"
      ],
      "execution_count": 0,
      "outputs": []
    },
    {
      "cell_type": "code",
      "metadata": {
        "id": "64J63apcDzaS",
        "colab_type": "code",
        "colab": {}
      },
      "source": [
        "predictions"
      ],
      "execution_count": 0,
      "outputs": []
    },
    {
      "cell_type": "code",
      "metadata": {
        "id": "OVZsssG9D3EW",
        "colab_type": "code",
        "colab": {}
      },
      "source": [
        "ply.imshow(X_test[ransom_image])"
      ],
      "execution_count": 0,
      "outputs": []
    },
    {
      "cell_type": "code",
      "metadata": {
        "id": "jII1k5LxD7m-",
        "colab_type": "code",
        "colab": {}
      },
      "source": [
        "class_names[np.argmax(predictions[0])]"
      ],
      "execution_count": 0,
      "outputs": []
    },
    {
      "cell_type": "markdown",
      "metadata": {
        "id": "gpeUMSI7EjC8",
        "colab_type": "text"
      },
      "source": [
        "## Sending POST request to a specific model"
      ]
    },
    {
      "cell_type": "code",
      "metadata": {
        "id": "JeHreF26EALb",
        "colab_type": "code",
        "colab": {}
      },
      "source": [
        "specific_json_response = requests.post(url=\"http://localhost:8501/v1/model/cifar10/versions/1:predict\",data=data,headers=headers)"
      ],
      "execution_count": 0,
      "outputs": []
    },
    {
      "cell_type": "code",
      "metadata": {
        "id": "P-4S9g4DE5jy",
        "colab_type": "code",
        "colab": {}
      },
      "source": [
        "specific_json_response"
      ],
      "execution_count": 0,
      "outputs": []
    }
  ]
}