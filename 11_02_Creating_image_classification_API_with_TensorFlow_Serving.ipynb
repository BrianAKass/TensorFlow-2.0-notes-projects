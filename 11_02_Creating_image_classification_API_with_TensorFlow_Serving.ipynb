{
  "nbformat": 4,
  "nbformat_minor": 0,
  "metadata": {
    "colab": {
      "name": "11-02 Creating image classification API with TensorFlow Serving.ipynb",
      "version": "0.3.2",
      "provenance": []
    },
    "kernelspec": {
      "name": "python3",
      "display_name": "Python 3"
    },
    "accelerator": "GPU"
  },
  "cells": [
    {
      "cell_type": "markdown",
      "metadata": {
        "id": "KMna0CAEBbfi",
        "colab_type": "text"
      },
      "source": [
        "## Install dependencies and setting up GPU Env"
      ]
    },
    {
      "cell_type": "code",
      "metadata": {
        "id": "CE_sdq3qBUk3",
        "colab_type": "code",
        "colab": {
          "base_uri": "https://localhost:8080/",
          "height": 125
        },
        "outputId": "3af894d6-1ac9-4400-d9ca-e1fdad4c8479"
      },
      "source": [
        "!echo \"deb [arch=amd64] http://storage.googleapis.com/tensorflow-serving-apt stable tensorflow-model-server tensorflow-model-server-universal\" | sudo tee /etc/apt/sources.list.d/tensorflow-serving.list && curl https://storage.googleapis.com/tensorflow-serving-apt/tensorflow-serving.release.pub.gpg | sudo apt-key add -"
      ],
      "execution_count": 1,
      "outputs": [
        {
          "output_type": "stream",
          "text": [
            "deb [arch=amd64] http://storage.googleapis.com/tensorflow-serving-apt stable tensorflow-model-server tensorflow-model-server-universal\n",
            "  % Total    % Received % Xferd  Average Speed   Time    Time     Time  Current\n",
            "                                 Dload  Upload   Total   Spent    Left  Speed\n",
            "\r  0     0    0     0    0     0      0      0 --:--:-- --:--:-- --:--:--     0\r100  2943  100  2943    0     0  18987      0 --:--:-- --:--:-- --:--:-- 18987\n",
            "OK\n"
          ],
          "name": "stdout"
        }
      ]
    },
    {
      "cell_type": "code",
      "metadata": {
        "id": "snI4EqHEBtI1",
        "colab_type": "code",
        "colab": {
          "base_uri": "https://localhost:8080/",
          "height": 443
        },
        "outputId": "c7970011-975a-4b6c-966a-1ab5aa985a7c"
      },
      "source": [
        "!apt-get update & apt-get install tensorflow-model-server"
      ],
      "execution_count": 2,
      "outputs": [
        {
          "output_type": "stream",
          "text": [
            "\rReading package lists... 0%\r\r0% [Working]\rReading package lists... 0%\r\rReading package lists... 0%\r\r            \rGet:1 http://security.ubuntu.com/ubuntu bionic-security InRelease [88.7 kB]\n",
            "\r0% [Connecting to archive.ubuntu.com (91.189.88.24)] [1 InRelease 2,586 B/88.7 \r                                                                               \rHit:2 http://ppa.launchpad.net/graphics-drivers/ppa/ubuntu bionic InRelease\n",
            "\r0% [Waiting for headers] [1 InRelease 25.8 kB/88.7 kB 29%] [Connecting to cloud\r                                                                               \rHit:3 http://archive.ubuntu.com/ubuntu bionic InRelease\n",
            "\r                                                                               \rGet:4 http://archive.ubuntu.com/ubuntu bionic-updates InRelease [88.7 kB]\n",
            "\r0% [4 InRelease 5,497 B/88.7 kB 6%] [1 InRelease 25.8 kB/88.7 kB 29%] [Connecte\r                                                                               \rGet:5 http://ppa.launchpad.net/marutter/c2d4u3.5/ubuntu bionic InRelease [15.4 kB]\n",
            "\r0% [4 InRelease 5,497 B/88.7 kB 6%] [1 InRelease 28.6 kB/88.7 kB 32%] [Connecte\r0% [4 InRelease 8,393 B/88.7 kB 9%] [1 InRelease 31.5 kB/88.7 kB 36%] [Connecte\r0% [2 InRelease gpgv 21.3 kB] [4 InRelease 20.0 kB/88.7 kB 23%] [1 InRelease 54\r0% [2 InRelease gpgv 21.3 kB] [4 InRelease 46.0 kB/88.7 kB 52%] [Connected to c\r0% [2 InRelease gpgv 21.3 kB] [Waiting for headers] [Connected to cloud.r-proje\r                                                                               \rGet:6 http://archive.ubuntu.com/ubuntu bionic-backports InRelease [74.6 kB]\n",
            "\r0% [2 InRelease gpgv 21.3 kB] [6 InRelease 12.7 kB/74.6 kB 17%] [Connected to c\r0% [2 InRelease gpgv 21.3 kB] [Connected to cloud.r-project.org (13.224.106.121\rReading package lists... 7%\r\rReading package lists... 7%\r\r                                                                               \rHit:7 http://storage.googleapis.com/tensorflow-serving-apt stable InRelease\n",
            "\r                                                                               \r0% [2 InRelease gpgv 21.3 kB] [Waiting for headers] [Waiting for headers]\r                                                                         \rHit:8 https://cloud.r-project.org/bin/linux/ubuntu bionic-cran35/ InRelease\n",
            "\r                                                                         \r0% [2 InRelease gpgv 21.3 kB] [Waiting for headers]\rReading package lists... 7%\r\rReading package lists... 7%\r\r                                                   \rIgn:9 https://developer.download.nvidia.com/compute/cuda/repos/ubuntu1804/x86_64  InRelease\n",
            "Ign:10 https://developer.download.nvidia.com/compute/machine-learning/repos/ubuntu1804/x86_64  InRelease\n",
            "Hit:11 https://developer.download.nvidia.com/compute/cuda/repos/ubuntu1804/x86_64  Release\n",
            "Hit:12 https://developer.download.nvidia.com/compute/machine-learning/repos/ubuntu1804/x86_64  Release\n",
            "Get:13 http://ppa.launchpad.net/marutter/c2d4u3.5/ubuntu bionic/main Sources [1,672 kB]\n",
            "Get:14 http://ppa.launchpad.net/marutter/c2d4u3.5/ubuntu bionic/main amd64 Packages [802 kB]\n",
            "Reading package lists... Done\n",
            "Building dependency tree       \n",
            "Reading state information... Done\n",
            "tensorflow-model-server is already the newest version (1.14.0).\n",
            "0% [7 InRelease gpgv 3,012 B]The following package was automatically installed and is no longer required:\n",
            "  libnvidia-common-410\n",
            "Use 'apt autoremove' to remove it.\n",
            "0% [8 InRelease gpgv 3,626 B]0 upgraded, 0 newly installed, 0 to remove and 39 not upgraded.\n",
            "Fetched 2,742 kB in 3s (923 kB/s)\n",
            "Reading package lists... Done\n"
          ],
          "name": "stdout"
        }
      ]
    },
    {
      "cell_type": "code",
      "metadata": {
        "id": "2pXEyuFMB0e9",
        "colab_type": "code",
        "colab": {
          "base_uri": "https://localhost:8080/",
          "height": 374
        },
        "outputId": "f1de8ee8-7ed3-4286-8bc7-b7ad1afd3321"
      },
      "source": [
        "!pip install tensorflow-gpu==1.13.1"
      ],
      "execution_count": 3,
      "outputs": [
        {
          "output_type": "stream",
          "text": [
            "Requirement already satisfied: tensorflow-gpu==1.13.1 in /usr/local/lib/python3.6/dist-packages (1.13.1)\n",
            "Requirement already satisfied: numpy>=1.13.3 in /usr/local/lib/python3.6/dist-packages (from tensorflow-gpu==1.13.1) (1.16.4)\n",
            "Requirement already satisfied: six>=1.10.0 in /usr/local/lib/python3.6/dist-packages (from tensorflow-gpu==1.13.1) (1.12.0)\n",
            "Requirement already satisfied: protobuf>=3.6.1 in /usr/local/lib/python3.6/dist-packages (from tensorflow-gpu==1.13.1) (3.7.1)\n",
            "Requirement already satisfied: termcolor>=1.1.0 in /usr/local/lib/python3.6/dist-packages (from tensorflow-gpu==1.13.1) (1.1.0)\n",
            "Requirement already satisfied: tensorflow-estimator<1.14.0rc0,>=1.13.0 in /usr/local/lib/python3.6/dist-packages (from tensorflow-gpu==1.13.1) (1.13.0)\n",
            "Requirement already satisfied: gast>=0.2.0 in /usr/local/lib/python3.6/dist-packages (from tensorflow-gpu==1.13.1) (0.2.2)\n",
            "Requirement already satisfied: grpcio>=1.8.6 in /usr/local/lib/python3.6/dist-packages (from tensorflow-gpu==1.13.1) (1.15.0)\n",
            "Requirement already satisfied: astor>=0.6.0 in /usr/local/lib/python3.6/dist-packages (from tensorflow-gpu==1.13.1) (0.8.0)\n",
            "Requirement already satisfied: keras-applications>=1.0.6 in /usr/local/lib/python3.6/dist-packages (from tensorflow-gpu==1.13.1) (1.0.8)\n",
            "Requirement already satisfied: absl-py>=0.1.6 in /usr/local/lib/python3.6/dist-packages (from tensorflow-gpu==1.13.1) (0.7.1)\n",
            "Requirement already satisfied: keras-preprocessing>=1.0.5 in /usr/local/lib/python3.6/dist-packages (from tensorflow-gpu==1.13.1) (1.1.0)\n",
            "Requirement already satisfied: wheel>=0.26 in /usr/local/lib/python3.6/dist-packages (from tensorflow-gpu==1.13.1) (0.33.4)\n",
            "Requirement already satisfied: tensorboard<1.14.0,>=1.13.0 in /usr/local/lib/python3.6/dist-packages (from tensorflow-gpu==1.13.1) (1.13.1)\n",
            "Requirement already satisfied: setuptools in /usr/local/lib/python3.6/dist-packages (from protobuf>=3.6.1->tensorflow-gpu==1.13.1) (41.0.1)\n",
            "Requirement already satisfied: mock>=2.0.0 in /usr/local/lib/python3.6/dist-packages (from tensorflow-estimator<1.14.0rc0,>=1.13.0->tensorflow-gpu==1.13.1) (3.0.5)\n",
            "Requirement already satisfied: h5py in /usr/local/lib/python3.6/dist-packages (from keras-applications>=1.0.6->tensorflow-gpu==1.13.1) (2.8.0)\n",
            "Requirement already satisfied: markdown>=2.6.8 in /usr/local/lib/python3.6/dist-packages (from tensorboard<1.14.0,>=1.13.0->tensorflow-gpu==1.13.1) (3.1.1)\n",
            "Requirement already satisfied: werkzeug>=0.11.15 in /usr/local/lib/python3.6/dist-packages (from tensorboard<1.14.0,>=1.13.0->tensorflow-gpu==1.13.1) (0.15.5)\n"
          ],
          "name": "stdout"
        }
      ]
    },
    {
      "cell_type": "code",
      "metadata": {
        "id": "j2oEsIDTB_Rd",
        "colab_type": "code",
        "colab": {
          "base_uri": "https://localhost:8080/",
          "height": 105
        },
        "outputId": "57213fee-72b5-49b3-bc13-1da64434940f"
      },
      "source": [
        "!pip install requests"
      ],
      "execution_count": 4,
      "outputs": [
        {
          "output_type": "stream",
          "text": [
            "Requirement already satisfied: requests in /usr/local/lib/python3.6/dist-packages (2.21.0)\n",
            "Requirement already satisfied: urllib3<1.25,>=1.21.1 in /usr/local/lib/python3.6/dist-packages (from requests) (1.24.3)\n",
            "Requirement already satisfied: certifi>=2017.4.17 in /usr/local/lib/python3.6/dist-packages (from requests) (2019.6.16)\n",
            "Requirement already satisfied: chardet<3.1.0,>=3.0.2 in /usr/local/lib/python3.6/dist-packages (from requests) (3.0.4)\n",
            "Requirement already satisfied: idna<2.9,>=2.5 in /usr/local/lib/python3.6/dist-packages (from requests) (2.8)\n"
          ],
          "name": "stdout"
        }
      ]
    },
    {
      "cell_type": "markdown",
      "metadata": {
        "id": "hpG_HP-EDIqY",
        "colab_type": "text"
      },
      "source": [
        "## Imports"
      ]
    },
    {
      "cell_type": "code",
      "metadata": {
        "id": "k8Q0xv5JDHls",
        "colab_type": "code",
        "colab": {
          "base_uri": "https://localhost:8080/",
          "height": 34
        },
        "outputId": "c39b3b3a-76da-4462-ef21-4e202e8f45e3"
      },
      "source": [
        "import os\n",
        "import json\n",
        "import random\n",
        "import requests\n",
        "import subprocess\n",
        "import numpy as np\n",
        "import tensorflow as tf\n",
        "import matplotlib.pyplot as plt\n",
        "\n",
        "from tensorflow.keras.datasets import cifar10\n",
        "\n",
        "%matplotlib inline\n",
        "tf.__version__"
      ],
      "execution_count": 5,
      "outputs": [
        {
          "output_type": "execute_result",
          "data": {
            "text/plain": [
              "'1.13.1'"
            ]
          },
          "metadata": {
            "tags": []
          },
          "execution_count": 5
        }
      ]
    },
    {
      "cell_type": "markdown",
      "metadata": {
        "id": "j44AL6HkRYjE",
        "colab_type": "text"
      },
      "source": [
        "## Dataset Preprocessing"
      ]
    },
    {
      "cell_type": "markdown",
      "metadata": {
        "id": "FC7pAklSRcPh",
        "colab_type": "text"
      },
      "source": [
        "load the dataset"
      ]
    },
    {
      "cell_type": "code",
      "metadata": {
        "id": "YvTJT7n7Doos",
        "colab_type": "code",
        "colab": {}
      },
      "source": [
        "(X_train,y_train), (X_test, y_test) = cifar10.load_data()"
      ],
      "execution_count": 0,
      "outputs": []
    },
    {
      "cell_type": "code",
      "metadata": {
        "id": "gznRB30AUd_q",
        "colab_type": "code",
        "colab": {}
      },
      "source": [
        "class_names = ['airplane', 'automobile', 'bird', 'cat', 'deer', 'dog', 'frog', 'horse', 'ship', 'truck']"
      ],
      "execution_count": 0,
      "outputs": []
    },
    {
      "cell_type": "markdown",
      "metadata": {
        "id": "Am7MRu_6NXEX",
        "colab_type": "text"
      },
      "source": [
        "### Image normalization"
      ]
    },
    {
      "cell_type": "code",
      "metadata": {
        "id": "i4YQ9J3TNaFS",
        "colab_type": "code",
        "colab": {}
      },
      "source": [
        "X_train = X_train / 255.0\n",
        "X_test = X_test / 255.0"
      ],
      "execution_count": 0,
      "outputs": []
    },
    {
      "cell_type": "code",
      "metadata": {
        "id": "54UcvqZzNhfW",
        "colab_type": "code",
        "colab": {
          "base_uri": "https://localhost:8080/",
          "height": 34
        },
        "outputId": "0d901c73-34b3-4797-d683-f9d1683cbcd1"
      },
      "source": [
        "X_train.shape"
      ],
      "execution_count": 9,
      "outputs": [
        {
          "output_type": "execute_result",
          "data": {
            "text/plain": [
              "(50000, 32, 32, 3)"
            ]
          },
          "metadata": {
            "tags": []
          },
          "execution_count": 9
        }
      ]
    },
    {
      "cell_type": "markdown",
      "metadata": {
        "id": "760CbdmYVmFu",
        "colab_type": "text"
      },
      "source": [
        "## Defining the model\n",
        "Using \n"
      ]
    },
    {
      "cell_type": "code",
      "metadata": {
        "id": "haBTXWnEa7Kj",
        "colab_type": "code",
        "colab": {
          "base_uri": "https://localhost:8080/",
          "height": 90
        },
        "outputId": "9c6ce2e1-56a6-4ae2-8beb-b36c773d48b3"
      },
      "source": [
        "model = tf.keras.models.Sequential()\n",
        "model.add(tf.keras.layers.Conv2D(filters = 32, kernel_size = 3, padding = \"same\", activation = \"relu\", input_shape = [32, 32 , 3]))\n",
        "model.add(tf.keras.layers.Conv2D(filters = 32, kernel_size = 3, padding = \"same\", activation = \"relu\"))\n",
        "model.add(tf.keras.layers.MaxPool2D(pool_size = 2, strides = 2, padding = \"valid\"))\n",
        "model.add(tf.keras.layers.Conv2D(filters = 64, kernel_size = 3, padding = \"same\", activation = \"relu\"))\n",
        "model.add(tf.keras.layers.Conv2D(filters = 64, kernel_size = 3, padding = \"same\", activation = \"relu\"))\n",
        "model.add(tf.keras.layers.MaxPool2D(pool_size = 2, strides = 2, padding = \"valid\"))\n",
        "model.add(tf.keras.layers.Flatten())\n",
        "model.add(tf.keras.layers.Dense(units=128, activation=\"relu\"))\n",
        "model.add(tf.keras.layers.Dense(units=10, activation=\"softmax\"))"
      ],
      "execution_count": 10,
      "outputs": [
        {
          "output_type": "stream",
          "text": [
            "WARNING:tensorflow:From /usr/local/lib/python3.6/dist-packages/tensorflow/python/ops/resource_variable_ops.py:435: colocate_with (from tensorflow.python.framework.ops) is deprecated and will be removed in a future version.\n",
            "Instructions for updating:\n",
            "Colocations handled automatically by placer.\n"
          ],
          "name": "stdout"
        }
      ]
    },
    {
      "cell_type": "code",
      "metadata": {
        "id": "KSeHdWsJe08q",
        "colab_type": "code",
        "colab": {
          "base_uri": "https://localhost:8080/",
          "height": 461
        },
        "outputId": "d7e5b987-23be-4c24-e790-4d2100e932c0"
      },
      "source": [
        "model.summary()"
      ],
      "execution_count": 11,
      "outputs": [
        {
          "output_type": "stream",
          "text": [
            "_________________________________________________________________\n",
            "Layer (type)                 Output Shape              Param #   \n",
            "=================================================================\n",
            "conv2d (Conv2D)              (None, 32, 32, 32)        896       \n",
            "_________________________________________________________________\n",
            "conv2d_1 (Conv2D)            (None, 32, 32, 32)        9248      \n",
            "_________________________________________________________________\n",
            "max_pooling2d (MaxPooling2D) (None, 16, 16, 32)        0         \n",
            "_________________________________________________________________\n",
            "conv2d_2 (Conv2D)            (None, 16, 16, 64)        18496     \n",
            "_________________________________________________________________\n",
            "conv2d_3 (Conv2D)            (None, 16, 16, 64)        36928     \n",
            "_________________________________________________________________\n",
            "max_pooling2d_1 (MaxPooling2 (None, 8, 8, 64)          0         \n",
            "_________________________________________________________________\n",
            "flatten (Flatten)            (None, 4096)              0         \n",
            "_________________________________________________________________\n",
            "dense (Dense)                (None, 128)               524416    \n",
            "_________________________________________________________________\n",
            "dense_1 (Dense)              (None, 10)                1290      \n",
            "=================================================================\n",
            "Total params: 591,274\n",
            "Trainable params: 591,274\n",
            "Non-trainable params: 0\n",
            "_________________________________________________________________\n"
          ],
          "name": "stdout"
        }
      ]
    },
    {
      "cell_type": "markdown",
      "metadata": {
        "id": "MPU6Ud7lcghB",
        "colab_type": "text"
      },
      "source": [
        "## Compiling the model"
      ]
    },
    {
      "cell_type": "code",
      "metadata": {
        "id": "Lb57eK_Rceo5",
        "colab_type": "code",
        "colab": {}
      },
      "source": [
        "model.compile(optimizer = 'Adam',\n",
        "             loss = 'sparse_categorical_crossentropy',\n",
        "             metrics = ['sparse_categorical_accuracy'])"
      ],
      "execution_count": 0,
      "outputs": []
    },
    {
      "cell_type": "markdown",
      "metadata": {
        "id": "H5_V7aiIdDlT",
        "colab_type": "text"
      },
      "source": [
        "### Training model"
      ]
    },
    {
      "cell_type": "code",
      "metadata": {
        "id": "sNSjgirFdCvQ",
        "colab_type": "code",
        "colab": {
          "base_uri": "https://localhost:8080/",
          "height": 390
        },
        "outputId": "c30cb191-b56c-45ab-d65b-1a1037c3dfd7"
      },
      "source": [
        "model.fit(X_train, y_train, batch_size = 128, epochs = 10)"
      ],
      "execution_count": 13,
      "outputs": [
        {
          "output_type": "stream",
          "text": [
            "Epoch 1/10\n",
            "50000/50000 [==============================] - 14s 278us/sample - loss: 1.4912 - sparse_categorical_accuracy: 0.4628\n",
            "Epoch 2/10\n",
            "50000/50000 [==============================] - 12s 232us/sample - loss: 1.0351 - sparse_categorical_accuracy: 0.6376\n",
            "Epoch 3/10\n",
            "50000/50000 [==============================] - 12s 231us/sample - loss: 0.8523 - sparse_categorical_accuracy: 0.7029\n",
            "Epoch 4/10\n",
            "50000/50000 [==============================] - 12s 230us/sample - loss: 0.7375 - sparse_categorical_accuracy: 0.7444\n",
            "Epoch 5/10\n",
            "50000/50000 [==============================] - 12s 230us/sample - loss: 0.6444 - sparse_categorical_accuracy: 0.7751\n",
            "Epoch 6/10\n",
            "50000/50000 [==============================] - 11s 230us/sample - loss: 0.5579 - sparse_categorical_accuracy: 0.8059\n",
            "Epoch 7/10\n",
            "50000/50000 [==============================] - 11s 230us/sample - loss: 0.4872 - sparse_categorical_accuracy: 0.8302\n",
            "Epoch 8/10\n",
            "50000/50000 [==============================] - 12s 230us/sample - loss: 0.4153 - sparse_categorical_accuracy: 0.8533\n",
            "Epoch 9/10\n",
            "50000/50000 [==============================] - 12s 231us/sample - loss: 0.3480 - sparse_categorical_accuracy: 0.8768\n",
            "Epoch 10/10\n",
            "50000/50000 [==============================] - 12s 232us/sample - loss: 0.2889 - sparse_categorical_accuracy: 0.8978\n"
          ],
          "name": "stdout"
        },
        {
          "output_type": "execute_result",
          "data": {
            "text/plain": [
              "<tensorflow.python.keras.callbacks.History at 0x7f0338ab0320>"
            ]
          },
          "metadata": {
            "tags": []
          },
          "execution_count": 13
        }
      ]
    },
    {
      "cell_type": "markdown",
      "metadata": {
        "id": "RTTOmIGKduhT",
        "colab_type": "text"
      },
      "source": [
        "### model evaluation"
      ]
    },
    {
      "cell_type": "code",
      "metadata": {
        "id": "JO-QnL1TdKKY",
        "colab_type": "code",
        "colab": {
          "base_uri": "https://localhost:8080/",
          "height": 34
        },
        "outputId": "4003bb8f-d037-4cdf-838a-23187a24ccb7"
      },
      "source": [
        "test_loss, test_accuracy = model.evaluate(X_test, y_test)"
      ],
      "execution_count": 14,
      "outputs": [
        {
          "output_type": "stream",
          "text": [
            "10000/10000 [==============================] - 2s 153us/sample - loss: 0.8734 - sparse_categorical_accuracy: 0.7491\n"
          ],
          "name": "stdout"
        }
      ]
    },
    {
      "cell_type": "code",
      "metadata": {
        "id": "JIu1G-Cnd3u2",
        "colab_type": "code",
        "colab": {
          "base_uri": "https://localhost:8080/",
          "height": 34
        },
        "outputId": "68d5f979-ba4e-4099-b458-2bf89aae226a"
      },
      "source": [
        "print(f\"test accuracy : {test_accuracy*100}%\")"
      ],
      "execution_count": 15,
      "outputs": [
        {
          "output_type": "stream",
          "text": [
            "test accuracy : 74.91000294685364%\n"
          ],
          "name": "stdout"
        }
      ]
    },
    {
      "cell_type": "markdown",
      "metadata": {
        "id": "hnp7S3f4fn5O",
        "colab_type": "text"
      },
      "source": [
        "## Saving Model for Production"
      ]
    },
    {
      "cell_type": "markdown",
      "metadata": {
        "id": "sHlUrmv5fuCK",
        "colab_type": "text"
      },
      "source": [
        "###Creating the directory for the model"
      ]
    },
    {
      "cell_type": "code",
      "metadata": {
        "id": "pxWxAGoPeBZo",
        "colab_type": "code",
        "colab": {}
      },
      "source": [
        "MODEL_DIR = \"model/\"\n",
        "version = 1"
      ],
      "execution_count": 0,
      "outputs": []
    },
    {
      "cell_type": "code",
      "metadata": {
        "id": "Uvt8Y44xg26O",
        "colab_type": "code",
        "colab": {
          "base_uri": "https://localhost:8080/",
          "height": 34
        },
        "outputId": "804e1569-1d7f-45c3-cebd-4f9a801e6085"
      },
      "source": [
        "export_path = os.path.join(MODEL_DIR, str(version))\n",
        "export_path"
      ],
      "execution_count": 17,
      "outputs": [
        {
          "output_type": "execute_result",
          "data": {
            "text/plain": [
              "'model/1'"
            ]
          },
          "metadata": {
            "tags": []
          },
          "execution_count": 17
        }
      ]
    },
    {
      "cell_type": "code",
      "metadata": {
        "id": "zu0I8KJ7hIy-",
        "colab_type": "code",
        "colab": {}
      },
      "source": [
        "if os.path.isdir(export_path):\n",
        "  !rm -r {export_path}"
      ],
      "execution_count": 0,
      "outputs": []
    },
    {
      "cell_type": "markdown",
      "metadata": {
        "id": "6WJfR2zchRlH",
        "colab_type": "text"
      },
      "source": [
        "### Saving the model for the TensorFlow Serving"
      ]
    },
    {
      "cell_type": "code",
      "metadata": {
        "id": "PpEf0w6ahQV_",
        "colab_type": "code",
        "colab": {
          "base_uri": "https://localhost:8080/",
          "height": 70
        },
        "outputId": "342ff6c0-2f08-43f9-f3a9-a9f5fc7e48ab"
      },
      "source": [
        "tf.saved_model.simple_save(tf.keras.backend.get_session(), export_dir=export_path, inputs={\"input_image\":model.input}, outputs={t.name:t for t in model.outputs})"
      ],
      "execution_count": 22,
      "outputs": [
        {
          "output_type": "stream",
          "text": [
            "INFO:tensorflow:Assets added to graph.\n",
            "INFO:tensorflow:No assets to write.\n",
            "INFO:tensorflow:SavedModel written to: model/1/saved_model.pb\n"
          ],
          "name": "stdout"
        }
      ]
    },
    {
      "cell_type": "markdown",
      "metadata": {
        "id": "IoIiTWpQzBVr",
        "colab_type": "text"
      },
      "source": [
        "##Setting up the production environment "
      ]
    },
    {
      "cell_type": "markdown",
      "metadata": {
        "id": "uPdKBuP1zGw2",
        "colab_type": "text"
      },
      "source": [
        "### Exporing the MODEL_DIR to enviornment variables. "
      ]
    },
    {
      "cell_type": "code",
      "metadata": {
        "id": "4ovvM6QRjqvm",
        "colab_type": "code",
        "colab": {}
      },
      "source": [
        "os.environ['MODEL_DIR'] = os.path.abspath(MODEL_DIR)"
      ],
      "execution_count": 0,
      "outputs": []
    },
    {
      "cell_type": "markdown",
      "metadata": {
        "id": "arDZrHHY5PdB",
        "colab_type": "text"
      },
      "source": [
        "###Running TensorFlow Serving REST API"
      ]
    },
    {
      "cell_type": "code",
      "metadata": {
        "id": "mgdLpFDe5a2w",
        "colab_type": "code",
        "colab": {
          "base_uri": "https://localhost:8080/",
          "height": 34
        },
        "outputId": "8cf35876-7528-48a5-e25a-24a9b0fc1981"
      },
      "source": [
        "%%bash --bg\n",
        "nohup tensorflow_model_server --rest_api_port=8501 --model_name=cifar10 --model_base_path=\"${MODEL_DIR}\" >server.log 2>&1"
      ],
      "execution_count": 27,
      "outputs": [
        {
          "output_type": "stream",
          "text": [
            "Starting job # 2 in a separate thread.\n"
          ],
          "name": "stdout"
        }
      ]
    },
    {
      "cell_type": "code",
      "metadata": {
        "id": "RChV_e8I557a",
        "colab_type": "code",
        "colab": {
          "base_uri": "https://localhost:8080/",
          "height": 214
        },
        "outputId": "c449d46f-7776-4078-a509-695f6f44b01e"
      },
      "source": [
        "!tail server.log"
      ],
      "execution_count": 28,
      "outputs": [
        {
          "output_type": "stream",
          "text": [
            "2019-08-10 01:58:52.140426: I external/org_tensorflow/tensorflow/cc/saved_model/reader.cc:31] Reading SavedModel from: /content/model/1\n",
            "2019-08-10 01:58:52.144183: I external/org_tensorflow/tensorflow/cc/saved_model/reader.cc:54] Reading meta graph with tags { serve }\n",
            "2019-08-10 01:58:52.148143: I external/org_tensorflow/tensorflow/core/platform/cpu_feature_guard.cc:142] Your CPU supports instructions that this TensorFlow binary was not compiled to use: AVX2 FMA\n",
            "2019-08-10 01:58:52.169722: I external/org_tensorflow/tensorflow/cc/saved_model/loader.cc:202] Restoring SavedModel bundle.\n",
            "2019-08-10 01:58:52.208864: I external/org_tensorflow/tensorflow/cc/saved_model/loader.cc:311] SavedModel load for tags { serve }; Status: success. Took 68420 microseconds.\n",
            "2019-08-10 01:58:52.208967: I tensorflow_serving/servables/tensorflow/saved_model_warmup.cc:103] No warmup data file found at /content/model/1/assets.extra/tf_serving_warmup_requests\n",
            "2019-08-10 01:58:52.209082: I tensorflow_serving/core/loader_harness.cc:86] Successfully loaded servable version {name: cifar10 version: 1}\n",
            "2019-08-10 01:58:52.210588: I tensorflow_serving/model_servers/server.cc:324] Running gRPC ModelServer at 0.0.0.0:8500 ...\n",
            "2019-08-10 01:58:52.211276: I tensorflow_serving/model_servers/server.cc:344] Exporting HTTP/REST API at:localhost:8501 ...\n",
            "[evhttp_server.cc : 239] RAW: Entering the event loop ...\n"
          ],
          "name": "stdout"
        }
      ]
    },
    {
      "cell_type": "markdown",
      "metadata": {
        "id": "tVmKESB_7ts5",
        "colab_type": "text"
      },
      "source": [
        "## Create the first POST request"
      ]
    },
    {
      "cell_type": "code",
      "metadata": {
        "id": "FMA8x_BJ58n0",
        "colab_type": "code",
        "colab": {
          "base_uri": "https://localhost:8080/",
          "height": 34
        },
        "outputId": "1ba92710-eea3-456a-d385-27f432901081"
      },
      "source": [
        "random_image = np.random.randint(0,len(X_test))\n",
        "random_image"
      ],
      "execution_count": 29,
      "outputs": [
        {
          "output_type": "execute_result",
          "data": {
            "text/plain": [
              "5496"
            ]
          },
          "metadata": {
            "tags": []
          },
          "execution_count": 29
        }
      ]
    },
    {
      "cell_type": "markdown",
      "metadata": {
        "id": "MX444UAF8CGe",
        "colab_type": "text"
      },
      "source": [
        "### Creating the JSON data object"
      ]
    },
    {
      "cell_type": "code",
      "metadata": {
        "id": "woRwof8I8FfA",
        "colab_type": "code",
        "colab": {}
      },
      "source": [
        "data = json.dumps({\"signature_name\":\"serving_default\", \"instances\":[X_test[random_image].tolist()]})"
      ],
      "execution_count": 0,
      "outputs": []
    },
    {
      "cell_type": "code",
      "metadata": {
        "id": "daLOfQIXCHmk",
        "colab_type": "code",
        "colab": {
          "base_uri": "https://localhost:8080/",
          "height": 54
        },
        "outputId": "c9ed68db-9577-4219-c448-b618c359acd3"
      },
      "source": [
        "data"
      ],
      "execution_count": 31,
      "outputs": [
        {
          "output_type": "execute_result",
          "data": {
            "text/plain": [
              "'{\"signature_name\": \"serving_default\", \"instances\": [[[[1.0, 0.984313725490196, 0.8784313725490196], [0.9803921568627451, 0.9647058823529412, 0.8588235294117647], [0.984313725490196, 0.9686274509803922, 0.8627450980392157], [0.984313725490196, 0.9686274509803922, 0.8666666666666667], [0.9803921568627451, 0.9607843137254902, 0.8705882352941177], [0.9764705882352941, 0.9607843137254902, 0.8705882352941177], [0.9764705882352941, 0.9607843137254902, 0.8666666666666667], [0.9803921568627451, 0.9607843137254902, 0.8705882352941177], [0.9686274509803922, 0.9529411764705882, 0.8588235294117647], [0.9686274509803922, 0.9490196078431372, 0.8588235294117647], [0.9803921568627451, 0.9607843137254902, 0.8745098039215686], [0.984313725490196, 0.9647058823529412, 0.8784313725490196], [0.9803921568627451, 0.9607843137254902, 0.8823529411764706], [0.9803921568627451, 0.9647058823529412, 0.8784313725490196], [0.984313725490196, 0.9686274509803922, 0.8666666666666667], [0.9803921568627451, 0.9647058823529412, 0.8666666666666667], [0.984313725490196, 0.9647058823529412, 0.8705882352941177], [0.984313725490196, 0.9686274509803922, 0.8666666666666667], [0.984313725490196, 0.9686274509803922, 0.8666666666666667], [0.984313725490196, 0.9647058823529412, 0.8705882352941177], [0.984313725490196, 0.9647058823529412, 0.8705882352941177], [0.984313725490196, 0.9647058823529412, 0.8705882352941177], [0.984313725490196, 0.9647058823529412, 0.8745098039215686], [0.984313725490196, 0.9647058823529412, 0.8745098039215686], [0.984313725490196, 0.9647058823529412, 0.8784313725490196], [0.984313725490196, 0.9647058823529412, 0.8784313725490196], [0.984313725490196, 0.9647058823529412, 0.8784313725490196], [0.984313725490196, 0.9647058823529412, 0.8784313725490196], [0.984313725490196, 0.9647058823529412, 0.8784313725490196], [0.984313725490196, 0.9647058823529412, 0.8784313725490196], [0.9803921568627451, 0.9607843137254902, 0.8784313725490196], [1.0, 0.9803921568627451, 0.8941176470588236]], [[1.0, 0.9882352941176471, 0.8823529411764706], [0.984313725490196, 0.9647058823529412, 0.8784313725490196], [0.984313725490196, 0.9686274509803922, 0.8862745098039215], [0.984313725490196, 0.9686274509803922, 0.8823529411764706], [0.9803921568627451, 0.9647058823529412, 0.8901960784313725], [0.9725490196078431, 0.9607843137254902, 0.8705882352941177], [0.9725490196078431, 0.9686274509803922, 0.8352941176470589], [0.9411764705882353, 0.9411764705882353, 0.7686274509803922], [0.8588235294117647, 0.8627450980392157, 0.6745098039215687], [0.8980392156862745, 0.8980392156862745, 0.7333333333333333], [0.9411764705882353, 0.9411764705882353, 0.792156862745098], [0.9450980392156862, 0.9372549019607843, 0.8156862745098039], [0.9568627450980393, 0.9450980392156862, 0.8470588235294118], [0.984313725490196, 0.9725490196078431, 0.8745098039215686], [0.9882352941176471, 0.9803921568627451, 0.8666666666666667], [0.9921568627450981, 0.984313725490196, 0.8705882352941177], [0.9882352941176471, 0.9764705882352941, 0.8745098039215686], [0.984313725490196, 0.9725490196078431, 0.8705882352941177], [0.984313725490196, 0.9686274509803922, 0.8823529411764706], [0.9882352941176471, 0.9647058823529412, 0.8941176470588236], [0.9882352941176471, 0.9686274509803922, 0.8862745098039215], [0.9882352941176471, 0.9686274509803922, 0.8823529411764706], [0.9882352941176471, 0.9686274509803922, 0.8745098039215686], [0.9882352941176471, 0.9686274509803922, 0.8784313725490196], [0.9882352941176471, 0.9686274509803922, 0.8823529411764706], [0.9882352941176471, 0.9686274509803922, 0.8823529411764706], [0.9882352941176471, 0.9686274509803922, 0.8823529411764706], [0.9882352941176471, 0.9686274509803922, 0.8823529411764706], [0.9882352941176471, 0.9686274509803922, 0.8823529411764706], [0.9882352941176471, 0.9686274509803922, 0.8823529411764706], [0.984313725490196, 0.9647058823529412, 0.8784313725490196], [1.0, 0.984313725490196, 0.8980392156862745]], [[1.0, 0.9882352941176471, 0.8901960784313725], [0.984313725490196, 0.9647058823529412, 0.8901960784313725], [0.9882352941176471, 0.9686274509803922, 0.8823529411764706], [0.9764705882352941, 0.9647058823529412, 0.8549019607843137], [0.9568627450980393, 0.9568627450980393, 0.8313725490196079], [0.9019607843137255, 0.9098039215686274, 0.7490196078431373], [0.807843137254902, 0.8274509803921568, 0.6078431372549019], [0.7294117647058823, 0.7568627450980392, 0.48627450980392156], [0.6549019607843137, 0.6901960784313725, 0.3843137254901961], [0.7098039215686275, 0.7450980392156863, 0.43529411764705883], [0.7490196078431373, 0.7803921568627451, 0.49411764705882355], [0.7529411764705882, 0.7764705882352941, 0.5294117647058824], [0.8274509803921568, 0.8470588235294118, 0.6352941176470588], [0.8745098039215686, 0.8901960784313725, 0.6980392156862745], [0.8627450980392157, 0.8784313725490196, 0.6901960784313725], [0.8705882352941177, 0.8823529411764706, 0.7019607843137254], [0.8666666666666667, 0.8745098039215686, 0.7098039215686275], [0.8941176470588236, 0.9058823529411765, 0.7450980392156863], [0.9647058823529412, 0.9607843137254902, 0.8392156862745098], [0.9882352941176471, 0.9686274509803922, 0.8901960784313725], [0.9882352941176471, 0.9725490196078431, 0.8862745098039215], [0.9921568627450981, 0.9725490196078431, 0.8862745098039215], [0.9882352941176471, 0.9725490196078431, 0.8784313725490196], [0.9882352941176471, 0.9686274509803922, 0.8784313725490196], [0.9882352941176471, 0.9686274509803922, 0.8823529411764706], [0.9882352941176471, 0.9686274509803922, 0.8823529411764706], [0.9882352941176471, 0.9686274509803922, 0.8823529411764706], [0.9882352941176471, 0.9686274509803922, 0.8823529411764706], [0.9882352941176471, 0.9686274509803922, 0.8823529411764706], [0.9882352941176471, 0.9686274509803922, 0.8823529411764706], [0.9882352941176471, 0.9686274509803922, 0.8823529411764706], [1.0, 0.9882352941176471, 0.8980392156862745]], [[1.0, 0.9882352941176471, 0.8901960784313725], [0.984313725490196, 0.9647058823529412, 0.8823529411764706], [0.9803921568627451, 0.9647058823529412, 0.8470588235294118], [0.9058823529411765, 0.9058823529411765, 0.7254901960784313], [0.792156862745098, 0.8196078431372549, 0.5686274509803921], [0.6941176470588235, 0.7372549019607844, 0.4470588235294118], [0.5882352941176471, 0.6352941176470588, 0.30980392156862746], [0.5607843137254902, 0.6078431372549019, 0.25098039215686274], [0.5529411764705883, 0.6078431372549019, 0.2196078431372549], [0.5647058823529412, 0.6235294117647059, 0.21176470588235294], [0.5764705882352941, 0.6313725490196078, 0.23921568627450981], [0.5882352941176471, 0.6392156862745098, 0.2823529411764706], [0.6313725490196078, 0.6784313725490196, 0.34901960784313724], [0.6235294117647059, 0.6666666666666666, 0.3568627450980392], [0.5882352941176471, 0.6274509803921569, 0.3215686274509804], [0.5882352941176471, 0.6274509803921569, 0.33725490196078434], [0.6196078431372549, 0.6549019607843137, 0.3843137254901961], [0.7176470588235294, 0.7529411764705882, 0.49019607843137253], [0.9215686274509803, 0.9333333333333333, 0.7372549019607844], [0.984313725490196, 0.9725490196078431, 0.8470588235294118], [0.9764705882352941, 0.9607843137254902, 0.8470588235294118], [0.9882352941176471, 0.9725490196078431, 0.8705882352941177], [0.9882352941176471, 0.9686274509803922, 0.8823529411764706], [0.9882352941176471, 0.9686274509803922, 0.8823529411764706], [0.9882352941176471, 0.9686274509803922, 0.8823529411764706], [0.9882352941176471, 0.9686274509803922, 0.8823529411764706], [0.9882352941176471, 0.9686274509803922, 0.8823529411764706], [0.9882352941176471, 0.9686274509803922, 0.8823529411764706], [0.9882352941176471, 0.9686274509803922, 0.8823529411764706], [0.9882352941176471, 0.9686274509803922, 0.8823529411764706], [0.9882352941176471, 0.9686274509803922, 0.8823529411764706], [1.0, 0.984313725490196, 0.8980392156862745]], [[1.0, 0.9882352941176471, 0.8941176470588236], [0.984313725490196, 0.9647058823529412, 0.8705882352941177], [0.9294117647058824, 0.9215686274509803, 0.7607843137254902], [0.7490196078431373, 0.7647058823529411, 0.5019607843137255], [0.6078431372549019, 0.6549019607843137, 0.2823529411764706], [0.5607843137254902, 0.615686274509804, 0.2196078431372549], [0.5372549019607843, 0.592156862745098, 0.19215686274509805], [0.5372549019607843, 0.6, 0.1843137254901961], [0.5294117647058824, 0.596078431372549, 0.16862745098039217], [0.5411764705882353, 0.6039215686274509, 0.1803921568627451], [0.5568627450980392, 0.615686274509804, 0.20392156862745098], [0.5607843137254902, 0.615686274509804, 0.22745098039215686], [0.5411764705882353, 0.596078431372549, 0.2196078431372549], [0.5254901960784314, 0.5843137254901961, 0.2], [0.5137254901960784, 0.5725490196078431, 0.17254901960784313], [0.5098039215686274, 0.5686274509803921, 0.1803921568627451], [0.5372549019607843, 0.5882352941176471, 0.2235294117647059], [0.592156862745098, 0.6431372549019608, 0.2901960784313726], [0.7411764705882353, 0.7686274509803922, 0.49411764705882355], [0.8470588235294118, 0.8470588235294118, 0.6627450980392157], [0.9294117647058824, 0.9215686274509803, 0.7647058823529411], [0.984313725490196, 0.9686274509803922, 0.8509803921568627], [0.9882352941176471, 0.9686274509803922, 0.8862745098039215], [0.9882352941176471, 0.9686274509803922, 0.8901960784313725], [0.9882352941176471, 0.9686274509803922, 0.8862745098039215], [0.9882352941176471, 0.9686274509803922, 0.8862745098039215], [0.9882352941176471, 0.9686274509803922, 0.8862745098039215], [0.9882352941176471, 0.9686274509803922, 0.8823529411764706], [0.9882352941176471, 0.9686274509803922, 0.8823529411764706], [0.9882352941176471, 0.9686274509803922, 0.8823529411764706], [0.9882352941176471, 0.9686274509803922, 0.8823529411764706], [1.0, 0.984313725490196, 0.8980392156862745]], [[1.0, 0.984313725490196, 0.9137254901960784], [0.9490196078431372, 0.9450980392156862, 0.8274509803921568], [0.792156862745098, 0.8156862745098039, 0.5647058823529412], [0.6, 0.6431372549019608, 0.27450980392156865], [0.5764705882352941, 0.6235294117647059, 0.17647058823529413], [0.5490196078431373, 0.5764705882352941, 0.1803921568627451], [0.5333333333333333, 0.5529411764705883, 0.20784313725490197], [0.5450980392156862, 0.6039215686274509, 0.21176470588235294], [0.5254901960784314, 0.6039215686274509, 0.17254901960784313], [0.5254901960784314, 0.5607843137254902, 0.1843137254901961], [0.5333333333333333, 0.5764705882352941, 0.20392156862745098], [0.5490196078431373, 0.6, 0.21568627450980393], [0.5372549019607843, 0.5882352941176471, 0.18823529411764706], [0.5294117647058824, 0.5843137254901961, 0.17254901960784313], [0.5411764705882353, 0.6, 0.19215686274509805], [0.5372549019607843, 0.596078431372549, 0.1843137254901961], [0.5333333333333333, 0.592156862745098, 0.19215686274509805], [0.5450980392156862, 0.6, 0.2235294117647059], [0.5529411764705883, 0.6, 0.27058823529411763], [0.6509803921568628, 0.6823529411764706, 0.4117647058823529], [0.7647058823529411, 0.7843137254901961, 0.5490196078431373], [0.8666666666666667, 0.8705882352941177, 0.6980392156862745], [0.9254901960784314, 0.9098039215686274, 0.803921568627451], [0.9686274509803922, 0.9450980392156862, 0.8627450980392157], [0.9882352941176471, 0.9607843137254902, 0.8862745098039215], [0.9882352941176471, 0.9607843137254902, 0.8901960784313725], [0.9882352941176471, 0.9607843137254902, 0.8901960784313725], [0.9882352941176471, 0.9647058823529412, 0.8862745098039215], [0.984313725490196, 0.9647058823529412, 0.8784313725490196], [0.9803921568627451, 0.9607843137254902, 0.8745098039215686], [0.984313725490196, 0.9647058823529412, 0.8784313725490196], [1.0, 0.984313725490196, 0.8980392156862745]], [[1.0, 0.9764705882352941, 0.9137254901960784], [0.9254901960784314, 0.9294117647058824, 0.792156862745098], [0.7333333333333333, 0.7725490196078432, 0.47058823529411764], [0.5725490196078431, 0.6313725490196078, 0.2235294117647059], [0.6078431372549019, 0.6549019607843137, 0.2], [0.6039215686274509, 0.615686274509804, 0.23921568627450981], [0.5843137254901961, 0.5764705882352941, 0.27450980392156865], [0.5725490196078431, 0.6, 0.2549019607843137], [0.5607843137254902, 0.596078431372549, 0.21568627450980393], [0.5058823529411764, 0.49019607843137253, 0.18823529411764706], [0.4980392156862745, 0.5019607843137255, 0.19607843137254902], [0.5490196078431373, 0.5843137254901961, 0.24705882352941178], [0.5333333333333333, 0.5803921568627451, 0.21568627450980393], [0.5372549019607843, 0.5882352941176471, 0.20784313725490197], [0.5450980392156862, 0.6039215686274509, 0.20784313725490197], [0.5529411764705883, 0.611764705882353, 0.2], [0.5490196078431373, 0.6078431372549019, 0.20392156862745098], [0.5450980392156862, 0.596078431372549, 0.2235294117647059], [0.5372549019607843, 0.592156862745098, 0.23921568627450981], [0.5607843137254902, 0.615686274509804, 0.2784313725490196], [0.5843137254901961, 0.6313725490196078, 0.3137254901960784], [0.6941176470588235, 0.7215686274509804, 0.4588235294117647], [0.8470588235294118, 0.8549019607843137, 0.6549019607843137], [0.9254901960784314, 0.9215686274509803, 0.7568627450980392], [0.9529411764705882, 0.9450980392156862, 0.796078431372549], [0.9686274509803922, 0.9568627450980393, 0.8392156862745098], [0.984313725490196, 0.9686274509803922, 0.8784313725490196], [0.9803921568627451, 0.9647058823529412, 0.8862745098039215], [0.9803921568627451, 0.9607843137254902, 0.8823529411764706], [0.9803921568627451, 0.9607843137254902, 0.8745098039215686], [0.9803921568627451, 0.9607843137254902, 0.8745098039215686], [1.0, 0.984313725490196, 0.8980392156862745]], [[0.996078431372549, 0.9803921568627451, 0.8980392156862745], [0.9058823529411765, 0.9137254901960784, 0.7411764705882353], [0.6901960784313725, 0.7372549019607844, 0.4117647058823529], [0.5764705882352941, 0.6352941176470588, 0.23921568627450981], [0.5843137254901961, 0.6313725490196078, 0.20392156862745098], [0.5843137254901961, 0.6039215686274509, 0.22745098039215686], [0.6078431372549019, 0.596078431372549, 0.28627450980392155], [0.611764705882353, 0.596078431372549, 0.29411764705882354], [0.5686274509803921, 0.5333333333333333, 0.23921568627450981], [0.5333333333333333, 0.45098039215686275, 0.20392156862745098], [0.5176470588235295, 0.48627450980392156, 0.21176470588235294], [0.5607843137254902, 0.596078431372549, 0.27450980392156865], [0.5490196078431373, 0.6, 0.26666666666666666], [0.5686274509803921, 0.6196078431372549, 0.27058823529411763], [0.5607843137254902, 0.6196078431372549, 0.2235294117647059], [0.5686274509803921, 0.6274509803921569, 0.2196078431372549], [0.5568627450980392, 0.615686274509804, 0.21568627450980393], [0.5333333333333333, 0.5882352941176471, 0.21568627450980393], [0.5294117647058824, 0.5882352941176471, 0.2235294117647059], [0.5450980392156862, 0.615686274509804, 0.23137254901960785], [0.5686274509803921, 0.6313725490196078, 0.24705882352941178], [0.6235294117647059, 0.6705882352941176, 0.30980392156862746], [0.7019607843137254, 0.7372549019607844, 0.4117647058823529], [0.7137254901960784, 0.7411764705882353, 0.4470588235294118], [0.7411764705882353, 0.7647058823529411, 0.49411764705882355], [0.8392156862745098, 0.8549019607843137, 0.6352941176470588], [0.9490196078431372, 0.9529411764705882, 0.8], [0.9764705882352941, 0.9725490196078431, 0.8784313725490196], [0.9803921568627451, 0.9647058823529412, 0.8823529411764706], [0.9803921568627451, 0.9607843137254902, 0.8745098039215686], [0.9803921568627451, 0.9607843137254902, 0.8745098039215686], [1.0, 0.984313725490196, 0.8980392156862745]], [[1.0, 0.984313725490196, 0.8823529411764706], [0.8, 0.8117647058823529, 0.6], [0.596078431372549, 0.6431372549019608, 0.29411764705882354], [0.5647058823529412, 0.6196078431372549, 0.23529411764705882], [0.5686274509803921, 0.615686274509804, 0.2235294117647059], [0.5725490196078431, 0.6039215686274509, 0.22745098039215686], [0.5803921568627451, 0.5803921568627451, 0.25882352941176473], [0.4823529411764706, 0.44313725490196076, 0.19607843137254902], [0.5215686274509804, 0.4392156862745098, 0.2196078431372549], [0.6470588235294118, 0.5372549019607843, 0.26666666666666666], [0.615686274509804, 0.5843137254901961, 0.25098039215686274], [0.5647058823529412, 0.6196078431372549, 0.24313725490196078], [0.5490196078431373, 0.615686274509804, 0.24705882352941178], [0.5607843137254902, 0.615686274509804, 0.25098039215686274], [0.5725490196078431, 0.6313725490196078, 0.23529411764705882], [0.5843137254901961, 0.6431372549019608, 0.23137254901960785], [0.5686274509803921, 0.6274509803921569, 0.22745098039215686], [0.5490196078431373, 0.6, 0.23137254901960785], [0.5294117647058824, 0.596078431372549, 0.21568627450980393], [0.5411764705882353, 0.6235294117647059, 0.20784313725490197], [0.5764705882352941, 0.6549019607843137, 0.2196078431372549], [0.5490196078431373, 0.6196078431372549, 0.18823529411764706], [0.5529411764705883, 0.611764705882353, 0.20392156862745098], [0.5568627450980392, 0.611764705882353, 0.2196078431372549], [0.5607843137254902, 0.611764705882353, 0.23921568627450981], [0.6549019607843137, 0.6980392156862745, 0.3764705882352941], [0.8352941176470589, 0.8666666666666667, 0.6352941176470588], [0.9529411764705882, 0.9686274509803922, 0.8274509803921568], [0.984313725490196, 0.9764705882352941, 0.8823529411764706], [0.984313725490196, 0.9647058823529412, 0.8784313725490196], [0.984313725490196, 0.9647058823529412, 0.8784313725490196], [1.0, 0.984313725490196, 0.8980392156862745]], [[0.9764705882352941, 0.9647058823529412, 0.8431372549019608], [0.7372549019607844, 0.7568627450980392, 0.5058823529411764], [0.5568627450980392, 0.6078431372549019, 0.23921568627450981], [0.5568627450980392, 0.6078431372549019, 0.23529411764705882], [0.5803921568627451, 0.6196078431372549, 0.25882352941176473], [0.596078431372549, 0.6431372549019608, 0.2627450980392157], [0.5568627450980392, 0.5803921568627451, 0.24705882352941178], [0.34901960784313724, 0.3215686274509804, 0.12156862745098039], [0.5176470588235295, 0.43529411764705883, 0.27450980392156865], [0.7098039215686275, 0.6196078431372549, 0.3176470588235294], [0.6274509803921569, 0.6313725490196078, 0.23921568627450981], [0.5568627450980392, 0.6431372549019608, 0.21176470588235294], [0.5568627450980392, 0.6352941176470588, 0.23921568627450981], [0.5686274509803921, 0.6196078431372549, 0.25098039215686274], [0.5803921568627451, 0.6352941176470588, 0.24313725490196078], [0.5568627450980392, 0.615686274509804, 0.20392156862745098], [0.5450980392156862, 0.6039215686274509, 0.20392156862745098], [0.5529411764705883, 0.6039215686274509, 0.23137254901960785], [0.5450980392156862, 0.615686274509804, 0.23921568627450981], [0.5137254901960784, 0.6, 0.18823529411764706], [0.5490196078431373, 0.6352941176470588, 0.2], [0.5333333333333333, 0.6078431372549019, 0.17647058823529413], [0.5568627450980392, 0.6196078431372549, 0.20784313725490197], [0.5372549019607843, 0.6039215686274509, 0.20392156862745098], [0.5215686274509804, 0.596078431372549, 0.18823529411764706], [0.5490196078431373, 0.6196078431372549, 0.22745098039215686], [0.6078431372549019, 0.6666666666666666, 0.3568627450980392], [0.7450980392156863, 0.7843137254901961, 0.5725490196078431], [0.9490196078431372, 0.9490196078431372, 0.8313725490196079], [0.9882352941176471, 0.9647058823529412, 0.8823529411764706], [0.984313725490196, 0.9647058823529412, 0.8784313725490196], [1.0, 0.984313725490196, 0.8980392156862745]], [[0.9607843137254902, 0.9529411764705882, 0.8156862745098039], [0.7647058823529411, 0.788235294117647, 0.5098039215686274], [0.5882352941176471, 0.6431372549019608, 0.2549019607843137], [0.6039215686274509, 0.6509803921568628, 0.28627450980392155], [0.6431372549019608, 0.6745098039215687, 0.3333333333333333], [0.6352941176470588, 0.6862745098039216, 0.30980392156862746], [0.6, 0.6549019607843137, 0.30196078431372547], [0.3568627450980392, 0.3607843137254902, 0.1607843137254902], [0.49019607843137253, 0.42745098039215684, 0.29411764705882354], [0.7098039215686275, 0.6392156862745098, 0.34509803921568627], [0.6, 0.6313725490196078, 0.23529411764705882], [0.5450980392156862, 0.6509803921568628, 0.2196078431372549], [0.5529411764705883, 0.6235294117647059, 0.25098039215686274], [0.5764705882352941, 0.615686274509804, 0.26666666666666666], [0.6078431372549019, 0.6666666666666666, 0.27058823529411763], [0.5803921568627451, 0.6392156862745098, 0.23137254901960785], [0.5529411764705883, 0.6078431372549019, 0.21176470588235294], [0.5372549019607843, 0.5882352941176471, 0.2196078431372549], [0.5568627450980392, 0.6274509803921569, 0.25882352941176473], [0.5176470588235295, 0.611764705882353, 0.2196078431372549], [0.5137254901960784, 0.6, 0.19215686274509805], [0.5254901960784314, 0.6039215686274509, 0.20392156862745098], [0.5490196078431373, 0.611764705882353, 0.23529411764705882], [0.5372549019607843, 0.6078431372549019, 0.23137254901960785], [0.5176470588235295, 0.6, 0.2], [0.5254901960784314, 0.611764705882353, 0.2], [0.5137254901960784, 0.592156862745098, 0.23137254901960785], [0.6078431372549019, 0.6705882352941176, 0.39215686274509803], [0.9058823529411765, 0.9137254901960784, 0.7686274509803922], [0.9882352941176471, 0.9686274509803922, 0.8823529411764706], [0.9882352941176471, 0.9686274509803922, 0.8823529411764706], [1.0, 0.9882352941176471, 0.8980392156862745]], [[0.9764705882352941, 0.9647058823529412, 0.8313725490196079], [0.7843137254901961, 0.807843137254902, 0.5294117647058824], [0.6078431372549019, 0.6627450980392157, 0.27058823529411763], [0.6196078431372549, 0.6705882352941176, 0.29411764705882354], [0.6627450980392157, 0.6901960784313725, 0.34901960784313724], [0.6470588235294118, 0.6862745098039216, 0.32941176470588235], [0.6274509803921569, 0.7019607843137254, 0.34509803921568627], [0.4392156862745098, 0.4627450980392157, 0.2], [0.6274509803921569, 0.5529411764705883, 0.34901960784313724], [0.7098039215686275, 0.6392156862745098, 0.3333333333333333], [0.611764705882353, 0.6313725490196078, 0.26666666666666666], [0.5607843137254902, 0.6352941176470588, 0.2549019607843137], [0.5686274509803921, 0.6235294117647059, 0.27450980392156865], [0.5882352941176471, 0.6313725490196078, 0.2784313725490196], [0.592156862745098, 0.6705882352941176, 0.27058823529411763], [0.5686274509803921, 0.6235294117647059, 0.2549019607843137], [0.5411764705882353, 0.5882352941176471, 0.23921568627450981], [0.5098039215686274, 0.5607843137254902, 0.21176470588235294], [0.5058823529411764, 0.5764705882352941, 0.2235294117647059], [0.5019607843137255, 0.592156862745098, 0.23921568627450981], [0.4745098039215686, 0.5686274509803921, 0.2], [0.4823529411764706, 0.5764705882352941, 0.20784313725490197], [0.5058823529411764, 0.592156862745098, 0.23921568627450981], [0.5254901960784314, 0.596078431372549, 0.24313725490196078], [0.5450980392156862, 0.615686274509804, 0.24313725490196078], [0.5215686274509804, 0.6, 0.2235294117647059], [0.5019607843137255, 0.5803921568627451, 0.2235294117647059], [0.5529411764705883, 0.6352941176470588, 0.3058823529411765], [0.8666666666666667, 0.8862745098039215, 0.6980392156862745], [0.9882352941176471, 0.9686274509803922, 0.8823529411764706], [0.984313725490196, 0.9647058823529412, 0.8784313725490196], [1.0, 0.9921568627450981, 0.8784313725490196]], [[0.9882352941176471, 0.9725490196078431, 0.8549019607843137], [0.788235294117647, 0.8117647058823529, 0.5450980392156862], [0.6039215686274509, 0.6588235294117647, 0.26666666666666666], [0.592156862745098, 0.6470588235294118, 0.2627450980392157], [0.6313725490196078, 0.6666666666666666, 0.3176470588235294], [0.592156862745098, 0.6274509803921569, 0.27450980392156865], [0.5843137254901961, 0.6509803921568628, 0.2980392156862745], [0.4627450980392157, 0.4627450980392157, 0.1843137254901961], [0.6352941176470588, 0.5294117647058824, 0.2980392156862745], [0.6901960784313725, 0.6313725490196078, 0.32941176470588235], [0.5843137254901961, 0.6078431372549019, 0.27058823529411763], [0.5568627450980392, 0.6352941176470588, 0.27450980392156865], [0.5333333333333333, 0.611764705882353, 0.25098039215686274], [0.5725490196078431, 0.6470588235294118, 0.27450980392156865], [0.5607843137254902, 0.6431372549019608, 0.2627450980392157], [0.5529411764705883, 0.6078431372549019, 0.2627450980392157], [0.5215686274509804, 0.5607843137254902, 0.23137254901960785], [0.49411764705882355, 0.5568627450980392, 0.2], [0.47058823529411764, 0.5450980392156862, 0.1843137254901961], [0.45098039215686275, 0.5294117647058824, 0.1843137254901961], [0.4470588235294118, 0.5333333333333333, 0.17647058823529413], [0.45098039215686275, 0.5450980392156862, 0.1803921568627451], [0.4666666666666667, 0.5647058823529412, 0.19607843137254902], [0.5019607843137255, 0.5803921568627451, 0.20392156862745098], [0.5411764705882353, 0.6, 0.22745098039215686], [0.4980392156862745, 0.5686274509803921, 0.19607843137254902], [0.4549019607843137, 0.5333333333333333, 0.16862745098039217], [0.5019607843137255, 0.5803921568627451, 0.22745098039215686], [0.7803921568627451, 0.803921568627451, 0.5764705882352941], [0.9803921568627451, 0.9607843137254902, 0.8627450980392157], [0.9882352941176471, 0.9686274509803922, 0.8823529411764706], [1.0, 0.9921568627450981, 0.8705882352941177]], [[1.0, 0.9882352941176471, 0.8823529411764706], [0.8117647058823529, 0.8313725490196079, 0.5843137254901961], [0.6078431372549019, 0.6588235294117647, 0.2823529411764706], [0.5725490196078431, 0.6313725490196078, 0.24313725490196078], [0.592156862745098, 0.6392156862745098, 0.26666666666666666], [0.5882352941176471, 0.6235294117647059, 0.2627450980392157], [0.5725490196078431, 0.6235294117647059, 0.27058823529411763], [0.47058823529411764, 0.43529411764705883, 0.16862745098039217], [0.6549019607843137, 0.5098039215686274, 0.30196078431372547], [0.6784313725490196, 0.596078431372549, 0.34901960784313724], [0.5803921568627451, 0.5803921568627451, 0.28627450980392155], [0.5568627450980392, 0.615686274509804, 0.2823529411764706], [0.5294117647058824, 0.6039215686274509, 0.24705882352941178], [0.5529411764705883, 0.6196078431372549, 0.26666666666666666], [0.5411764705882353, 0.596078431372549, 0.25882352941176473], [0.5725490196078431, 0.6078431372549019, 0.2823529411764706], [0.5333333333333333, 0.5686274509803921, 0.23529411764705882], [0.4823529411764706, 0.5450980392156862, 0.17647058823529413], [0.4980392156862745, 0.5647058823529412, 0.19607843137254902], [0.48627450980392156, 0.5333333333333333, 0.18823529411764706], [0.49411764705882355, 0.5450980392156862, 0.19607843137254902], [0.5019607843137255, 0.5686274509803921, 0.2], [0.49019607843137253, 0.5764705882352941, 0.1843137254901961], [0.5176470588235295, 0.592156862745098, 0.18823529411764706], [0.5294117647058824, 0.5882352941176471, 0.1843137254901961], [0.4980392156862745, 0.5686274509803921, 0.16862745098039217], [0.47843137254901963, 0.5529411764705883, 0.1607843137254902], [0.4823529411764706, 0.5607843137254902, 0.1803921568627451], [0.7098039215686275, 0.7372549019607844, 0.47058823529411764], [0.9686274509803922, 0.9529411764705882, 0.8235294117647058], [0.9921568627450981, 0.9725490196078431, 0.8784313725490196], [1.0, 0.9921568627450981, 0.8705882352941177]], [[1.0, 0.9921568627450981, 0.8941176470588236], [0.8156862745098039, 0.8313725490196079, 0.6078431372549019], [0.6, 0.6509803921568628, 0.28627450980392155], [0.5843137254901961, 0.6431372549019608, 0.24705882352941178], [0.5764705882352941, 0.6274509803921569, 0.24313725490196078], [0.6078431372549019, 0.6470588235294118, 0.26666666666666666], [0.5686274509803921, 0.615686274509804, 0.2627450980392157], [0.4745098039215686, 0.43137254901960786, 0.17254901960784313], [0.7019607843137254, 0.5294117647058824, 0.3411764705882353], [0.7058823529411765, 0.5607843137254902, 0.3686274509803922], [0.6196078431372549, 0.5294117647058824, 0.2980392156862745], [0.6039215686274509, 0.5568627450980392, 0.28627450980392155], [0.5568627450980392, 0.5294117647058824, 0.23137254901960785], [0.5647058823529412, 0.5490196078431373, 0.2549019607843137], [0.5333333333333333, 0.5254901960784314, 0.24705882352941178], [0.5647058823529412, 0.5529411764705883, 0.25882352941176473], [0.5333333333333333, 0.5294117647058824, 0.21568627450980393], [0.45098039215686275, 0.47843137254901963, 0.1411764705882353], [0.47058823529411764, 0.4980392156862745, 0.16470588235294117], [0.5137254901960784, 0.5058823529411764, 0.19607843137254902], [0.5372549019607843, 0.5137254901960784, 0.21568627450980393], [0.5450980392156862, 0.5490196078431373, 0.2196078431372549], [0.5137254901960784, 0.5647058823529412, 0.1803921568627451], [0.5058823529411764, 0.5686274509803921, 0.15294117647058825], [0.5294117647058824, 0.5882352941176471, 0.16470588235294117], [0.5411764705882353, 0.6039215686274509, 0.18823529411764706], [0.5254901960784314, 0.596078431372549, 0.1843137254901961], [0.4980392156862745, 0.5725490196078431, 0.16862745098039217], [0.6745098039215687, 0.7098039215686275, 0.396078431372549], [0.9372549019607843, 0.9294117647058824, 0.7686274509803922], [0.9882352941176471, 0.9725490196078431, 0.8705882352941177], [1.0, 0.9921568627450981, 0.8745098039215686]], [[1.0, 0.9882352941176471, 0.8980392156862745], [0.8274509803921568, 0.8392156862745098, 0.6352941176470588], [0.6196078431372549, 0.6705882352941176, 0.3137254901960784], [0.5764705882352941, 0.6392156862745098, 0.23921568627450981], [0.5647058823529412, 0.615686274509804, 0.21568627450980393], [0.6, 0.6431372549019608, 0.24705882352941178], [0.5803921568627451, 0.6392156862745098, 0.27450980392156865], [0.43529411764705883, 0.41568627450980394, 0.15294117647058825], [0.6235294117647059, 0.4745098039215686, 0.28627450980392155], [0.6509803921568628, 0.47843137254901963, 0.30980392156862746], [0.596078431372549, 0.43529411764705883, 0.25098039215686274], [0.6509803921568628, 0.4980392156862745, 0.29411764705882354], [0.6313725490196078, 0.48627450980392156, 0.27058823529411763], [0.5882352941176471, 0.4588235294117647, 0.24313725490196078], [0.5764705882352941, 0.47843137254901963, 0.25882352941176473], [0.5529411764705883, 0.4549019607843137, 0.21568627450980393], [0.5215686274509804, 0.4392156862745098, 0.1843137254901961], [0.42745098039215684, 0.3803921568627451, 0.12549019607843137], [0.38823529411764707, 0.33725490196078434, 0.08627450980392157], [0.4549019607843137, 0.36470588235294116, 0.12941176470588237], [0.4588235294117647, 0.34901960784313724, 0.1411764705882353], [0.5764705882352941, 0.5058823529411764, 0.2549019607843137], [0.6431372549019608, 0.6392156862745098, 0.3058823529411765], [0.5098039215686274, 0.5490196078431373, 0.1450980392156863], [0.5607843137254902, 0.611764705882353, 0.18823529411764706], [0.5647058823529412, 0.6235294117647059, 0.20392156862745098], [0.5294117647058824, 0.596078431372549, 0.1843137254901961], [0.5215686274509804, 0.5882352941176471, 0.1803921568627451], [0.6, 0.6392156862745098, 0.29411764705882354], [0.8509803921568627, 0.8470588235294118, 0.6549019607843137], [0.984313725490196, 0.9686274509803922, 0.8627450980392157], [1.0, 0.9882352941176471, 0.8784313725490196]], [[1.0, 0.984313725490196, 0.9019607843137255], [0.9098039215686274, 0.9176470588235294, 0.7333333333333333], [0.7019607843137254, 0.7490196078431373, 0.4117647058823529], [0.5647058823529412, 0.6235294117647059, 0.2196078431372549], [0.5529411764705883, 0.6, 0.1843137254901961], [0.5843137254901961, 0.6313725490196078, 0.22745098039215686], [0.6, 0.6745098039215687, 0.2901960784313726], [0.45098039215686275, 0.4666666666666667, 0.1843137254901961], [0.5490196078431373, 0.44313725490196076, 0.25098039215686274], [0.5686274509803921, 0.42745098039215684, 0.24705882352941178], [0.5725490196078431, 0.40784313725490196, 0.23529411764705882], [0.6627450980392157, 0.47843137254901963, 0.30980392156862746], [0.6745098039215687, 0.47843137254901963, 0.3137254901960784], [0.6039215686274509, 0.41568627450980394, 0.25098039215686274], [0.6352941176470588, 0.4588235294117647, 0.28627450980392155], [0.6392156862745098, 0.4627450980392157, 0.27058823529411763], [0.5764705882352941, 0.4196078431372549, 0.2235294117647059], [0.4392156862745098, 0.3215686274509804, 0.1450980392156863], [0.39215686274509803, 0.27450980392156865, 0.10588235294117647], [0.49411764705882355, 0.3411764705882353, 0.17647058823529413], [0.5333333333333333, 0.35294117647058826, 0.2196078431372549], [0.6392156862745098, 0.5019607843137255, 0.3215686274509804], [0.8, 0.7568627450980392, 0.4745098039215686], [0.5607843137254902, 0.5803921568627451, 0.2], [0.5843137254901961, 0.6274509803921569, 0.21568627450980393], [0.5647058823529412, 0.615686274509804, 0.20784313725490197], [0.5294117647058824, 0.5882352941176471, 0.18823529411764706], [0.5137254901960784, 0.5764705882352941, 0.1803921568627451], [0.5333333333333333, 0.5725490196078431, 0.21176470588235294], [0.7607843137254902, 0.7647058823529411, 0.5411764705882353], [0.9725490196078431, 0.9607843137254902, 0.8470588235294118], [1.0, 0.9921568627450981, 0.8823529411764706]], [[1.0, 0.984313725490196, 0.8901960784313725], [0.9803921568627451, 0.9764705882352941, 0.8352941176470589], [0.8, 0.8274509803921568, 0.5490196078431373], [0.5843137254901961, 0.6392156862745098, 0.20784313725490197], [0.5529411764705883, 0.6039215686274509, 0.16862745098039217], [0.5686274509803921, 0.6196078431372549, 0.23137254901960785], [0.6431372549019608, 0.7176470588235294, 0.28627450980392155], [0.5333333333333333, 0.5686274509803921, 0.23137254901960785], [0.403921568627451, 0.34509803921568627, 0.19607843137254902], [0.5019607843137255, 0.3803921568627451, 0.23921568627450981], [0.592156862745098, 0.4470588235294118, 0.30196078431372547], [0.6470588235294118, 0.48627450980392156, 0.3058823529411765], [0.6549019607843137, 0.47843137254901963, 0.2980392156862745], [0.6, 0.4196078431372549, 0.2549019607843137], [0.6313725490196078, 0.44313725490196076, 0.27058823529411763], [0.7019607843137254, 0.5019607843137255, 0.3137254901960784], [0.6431372549019608, 0.4666666666666667, 0.2549019607843137], [0.4549019607843137, 0.32941176470588235, 0.1568627450980392], [0.4117647058823529, 0.27450980392156865, 0.13725490196078433], [0.5686274509803921, 0.396078431372549, 0.24705882352941178], [0.7058823529411765, 0.5019607843137255, 0.36470588235294116], [0.7176470588235294, 0.5372549019607843, 0.3607843137254902], [0.807843137254902, 0.7372549019607844, 0.47058823529411764], [0.6, 0.6196078431372549, 0.24313725490196078], [0.5764705882352941, 0.6196078431372549, 0.20392156862745098], [0.5450980392156862, 0.6, 0.18823529411764706], [0.5254901960784314, 0.592156862745098, 0.19215686274509805], [0.5137254901960784, 0.592156862745098, 0.2], [0.5019607843137255, 0.5647058823529412, 0.18823529411764706], [0.6705882352941176, 0.7098039215686275, 0.4117647058823529], [0.9372549019607843, 0.9490196078431372, 0.7725490196078432], [0.996078431372549, 0.9882352941176471, 0.9019607843137255]], [[1.0, 0.984313725490196, 0.8784313725490196], [0.9882352941176471, 0.9764705882352941, 0.8627450980392157], [0.8470588235294118, 0.8627450980392157, 0.6352941176470588], [0.6078431372549019, 0.6588235294117647, 0.23921568627450981], [0.5647058823529412, 0.6235294117647059, 0.18823529411764706], [0.5647058823529412, 0.6274509803921569, 0.25098039215686274], [0.615686274509804, 0.6901960784313725, 0.24313725490196078], [0.5058823529411764, 0.5450980392156862, 0.18823529411764706], [0.30196078431372547, 0.26666666666666666, 0.13333333333333333], [0.47058823529411764, 0.36470588235294116, 0.25098039215686274], [0.592156862745098, 0.4470588235294118, 0.3176470588235294], [0.6745098039215687, 0.5058823529411764, 0.30980392156862746], [0.6509803921568628, 0.4666666666666667, 0.25098039215686274], [0.615686274509804, 0.43529411764705883, 0.25098039215686274], [0.6274509803921569, 0.4588235294117647, 0.27450980392156865], [0.7019607843137254, 0.5019607843137255, 0.3176470588235294], [0.7019607843137254, 0.5176470588235295, 0.2901960784313726], [0.48627450980392156, 0.34901960784313724, 0.1607843137254902], [0.396078431372549, 0.25882352941176473, 0.12549019607843137], [0.592156862745098, 0.4392156862745098, 0.2901960784313726], [0.7411764705882353, 0.5764705882352941, 0.40784313725490196], [0.7411764705882353, 0.5803921568627451, 0.3607843137254902], [0.6784313725490196, 0.6352941176470588, 0.3215686274509804], [0.5686274509803921, 0.6274509803921569, 0.2196078431372549], [0.5686274509803921, 0.6313725490196078, 0.19607843137254902], [0.5607843137254902, 0.6274509803921569, 0.2], [0.5568627450980392, 0.6313725490196078, 0.20392156862745098], [0.5568627450980392, 0.6352941176470588, 0.21568627450980393], [0.5333333333333333, 0.6039215686274509, 0.21176470588235294], [0.596078431372549, 0.6509803921568628, 0.30196078431372547], [0.8117647058823529, 0.8392156862745098, 0.6078431372549019], [0.984313725490196, 0.9803921568627451, 0.8862745098039215]], [[1.0, 0.984313725490196, 0.8784313725490196], [0.9921568627450981, 0.9803921568627451, 0.8705882352941177], [0.8784313725490196, 0.8901960784313725, 0.6901960784313725], [0.611764705882353, 0.6588235294117647, 0.2901960784313726], [0.5568627450980392, 0.6196078431372549, 0.2196078431372549], [0.5490196078431373, 0.6235294117647059, 0.25882352941176473], [0.5764705882352941, 0.6588235294117647, 0.24313725490196078], [0.48627450980392156, 0.5372549019607843, 0.19215686274509805], [0.2823529411764706, 0.27058823529411763, 0.09803921568627451], [0.42745098039215684, 0.34901960784313724, 0.21568627450980393], [0.6, 0.4627450980392157, 0.3215686274509804], [0.7450980392156863, 0.5529411764705883, 0.34509803921568627], [0.7137254901960784, 0.49411764705882355, 0.2627450980392157], [0.6313725490196078, 0.4392156862745098, 0.23529411764705882], [0.6196078431372549, 0.47058823529411764, 0.2784313725490196], [0.7098039215686275, 0.5176470588235295, 0.33725490196078434], [0.7450980392156863, 0.5490196078431373, 0.32941176470588235], [0.5686274509803921, 0.403921568627451, 0.20784313725490197], [0.4549019607843137, 0.3058823529411765, 0.16862745098039217], [0.6039215686274509, 0.4627450980392157, 0.3254901960784314], [0.7098039215686275, 0.5725490196078431, 0.396078431372549], [0.7176470588235294, 0.596078431372549, 0.34509803921568627], [0.6313725490196078, 0.6235294117647059, 0.2549019607843137], [0.5294117647058824, 0.611764705882353, 0.17647058823529413], [0.5529411764705883, 0.6392156862745098, 0.19607843137254902], [0.5686274509803921, 0.6431372549019608, 0.19607843137254902], [0.5764705882352941, 0.6431372549019608, 0.19215686274509805], [0.592156862745098, 0.6549019607843137, 0.19607843137254902], [0.5725490196078431, 0.6352941176470588, 0.2235294117647059], [0.5607843137254902, 0.6235294117647059, 0.25098039215686274], [0.6901960784313725, 0.7254901960784313, 0.4627450980392157], [0.9490196078431372, 0.9529411764705882, 0.8274509803921568]], [[1.0, 0.9882352941176471, 0.8745098039215686], [0.9882352941176471, 0.9764705882352941, 0.8705882352941177], [0.8980392156862745, 0.9019607843137255, 0.7411764705882353], [0.6431372549019608, 0.6823529411764706, 0.3803921568627451], [0.5254901960784314, 0.592156862745098, 0.23529411764705882], [0.5176470588235295, 0.6, 0.25098039215686274], [0.5215686274509804, 0.611764705882353, 0.23921568627450981], [0.5333333333333333, 0.592156862745098, 0.2627450980392157], [0.3803921568627451, 0.39215686274509803, 0.16470588235294117], [0.3411764705882353, 0.2901960784313726, 0.12156862745098039], [0.5568627450980392, 0.42745098039215684, 0.2627450980392157], [0.7411764705882353, 0.5568627450980392, 0.3254901960784314], [0.6941176470588235, 0.4980392156862745, 0.23921568627450981], [0.5843137254901961, 0.43529411764705883, 0.19607843137254902], [0.5764705882352941, 0.4666666666666667, 0.24313725490196078], [0.6392156862745098, 0.4823529411764706, 0.2784313725490196], [0.7215686274509804, 0.5529411764705883, 0.30980392156862746], [0.611764705882353, 0.4745098039215686, 0.23921568627450981], [0.5215686274509804, 0.37254901960784315, 0.20784313725490197], [0.6039215686274509, 0.4549019607843137, 0.3058823529411765], [0.7176470588235294, 0.5843137254901961, 0.396078431372549], [0.7686274509803922, 0.6352941176470588, 0.37254901960784315], [0.6549019607843137, 0.615686274509804, 0.24705882352941178], [0.5294117647058824, 0.6039215686274509, 0.17254901960784313], [0.5254901960784314, 0.6196078431372549, 0.1843137254901961], [0.5607843137254902, 0.6392156862745098, 0.19215686274509805], [0.5882352941176471, 0.6509803921568628, 0.19607843137254902], [0.6352941176470588, 0.6901960784313725, 0.23137254901960785], [0.5882352941176471, 0.6470588235294118, 0.23529411764705882], [0.5490196078431373, 0.611764705882353, 0.22745098039215686], [0.611764705882353, 0.6509803921568628, 0.3607843137254902], [0.8980392156862745, 0.9058823529411765, 0.7568627450980392]], [[1.0, 0.9882352941176471, 0.8745098039215686], [0.9803921568627451, 0.9686274509803922, 0.8745098039215686], [0.9411764705882353, 0.9372549019607843, 0.8196078431372549], [0.7647058823529411, 0.792156862745098, 0.5568627450980392], [0.5137254901960784, 0.5843137254901961, 0.27058823529411763], [0.47058823529411764, 0.5647058823529412, 0.23137254901960785], [0.47843137254901963, 0.5725490196078431, 0.24313725490196078], [0.4980392156862745, 0.5686274509803921, 0.25098039215686274], [0.4823529411764706, 0.5215686274509804, 0.22745098039215686], [0.3803921568627451, 0.34901960784313724, 0.12156862745098039], [0.5764705882352941, 0.47058823529411764, 0.2627450980392157], [0.7058823529411765, 0.5725490196078431, 0.3058823529411765], [0.5176470588235295, 0.4235294117647059, 0.13725490196078433], [0.4117647058823529, 0.3607843137254902, 0.08627450980392157], [0.44313725490196076, 0.3843137254901961, 0.10588235294117647], [0.49019607843137253, 0.39215686274509803, 0.1411764705882353], [0.6352941176470588, 0.5372549019607843, 0.23921568627450981], [0.5411764705882353, 0.48627450980392156, 0.17254901960784313], [0.5019607843137255, 0.43137254901960786, 0.17254901960784313], [0.5450980392156862, 0.45098039215686275, 0.2196078431372549], [0.6588235294117647, 0.5647058823529412, 0.3254901960784314], [0.7803921568627451, 0.6549019607843137, 0.39215686274509803], [0.6823529411764706, 0.6078431372549019, 0.28627450980392155], [0.5764705882352941, 0.611764705882353, 0.2235294117647059], [0.5411764705882353, 0.615686274509804, 0.20784313725490197], [0.5607843137254902, 0.6274509803921569, 0.2196078431372549], [0.596078431372549, 0.6588235294117647, 0.24313725490196078], [0.6, 0.6627450980392157, 0.24705882352941178], [0.5686274509803921, 0.6313725490196078, 0.24313725490196078], [0.5333333333333333, 0.596078431372549, 0.21568627450980393], [0.6196078431372549, 0.6588235294117647, 0.3607843137254902], [0.9294117647058824, 0.9372549019607843, 0.7843137254901961]], [[1.0, 0.9882352941176471, 0.8745098039215686], [0.9803921568627451, 0.9686274509803922, 0.8784313725490196], [0.9686274509803922, 0.9607843137254902, 0.8666666666666667], [0.8431372549019608, 0.8627450980392157, 0.6745098039215687], [0.5411764705882353, 0.615686274509804, 0.32941176470588235], [0.45098039215686275, 0.5490196078431373, 0.2235294117647059], [0.4588235294117647, 0.5529411764705883, 0.24313725490196078], [0.4588235294117647, 0.5333333333333333, 0.2235294117647059], [0.5098039215686274, 0.5568627450980392, 0.21568627450980393], [0.48627450980392156, 0.4627450980392157, 0.1843137254901961], [0.6352941176470588, 0.5529411764705883, 0.3058823529411765], [0.6470588235294118, 0.5725490196078431, 0.27450980392156865], [0.49019607843137253, 0.5019607843137255, 0.1843137254901961], [0.4745098039215686, 0.5176470588235295, 0.2], [0.5372549019607843, 0.5254901960784314, 0.19607843137254902], [0.5294117647058824, 0.48627450980392156, 0.18823529411764706], [0.596078431372549, 0.5725490196078431, 0.2196078431372549], [0.5568627450980392, 0.5882352941176471, 0.2], [0.5607843137254902, 0.592156862745098, 0.23137254901960785], [0.5450980392156862, 0.5607843137254902, 0.2235294117647059], [0.5254901960784314, 0.5294117647058824, 0.2235294117647059], [0.6705882352941176, 0.6078431372549019, 0.3333333333333333], [0.6196078431372549, 0.5725490196078431, 0.2823529411764706], [0.5215686274509804, 0.5411764705882353, 0.19607843137254902], [0.5411764705882353, 0.5882352941176471, 0.21568627450980393], [0.5490196078431373, 0.6039215686274509, 0.23921568627450981], [0.5411764705882353, 0.6039215686274509, 0.24313725490196078], [0.5254901960784314, 0.596078431372549, 0.23921568627450981], [0.5372549019607843, 0.6039215686274509, 0.24705882352941178], [0.5137254901960784, 0.5725490196078431, 0.2], [0.6313725490196078, 0.6705882352941176, 0.37254901960784315], [0.9490196078431372, 0.9529411764705882, 0.807843137254902]], [[1.0, 0.9882352941176471, 0.8784313725490196], [0.984313725490196, 0.9686274509803922, 0.8666666666666667], [0.9647058823529412, 0.9568627450980393, 0.8352941176470589], [0.8352941176470589, 0.8431372549019608, 0.6588235294117647], [0.5529411764705883, 0.611764705882353, 0.32941176470588235], [0.4549019607843137, 0.5254901960784314, 0.19215686274509805], [0.4666666666666667, 0.5294117647058824, 0.19215686274509805], [0.4980392156862745, 0.5490196078431373, 0.20392156862745098], [0.5294117647058824, 0.5568627450980392, 0.19607843137254902], [0.5333333333333333, 0.5215686274509804, 0.19607843137254902], [0.5764705882352941, 0.5372549019607843, 0.25098039215686274], [0.5686274509803921, 0.5411764705882353, 0.23921568627450981], [0.5294117647058824, 0.5490196078431373, 0.20392156862745098], [0.5333333333333333, 0.5764705882352941, 0.20392156862745098], [0.5843137254901961, 0.6078431372549019, 0.23137254901960785], [0.5529411764705883, 0.5725490196078431, 0.20784313725490197], [0.5647058823529412, 0.6039215686274509, 0.21176470588235294], [0.5529411764705883, 0.6235294117647059, 0.21176470588235294], [0.5215686274509804, 0.592156862745098, 0.1843137254901961], [0.5725490196078431, 0.6392156862745098, 0.23137254901960785], [0.5137254901960784, 0.5725490196078431, 0.19215686274509805], [0.5411764705882353, 0.5647058823529412, 0.2235294117647059], [0.5529411764705883, 0.5686274509803921, 0.2627450980392157], [0.47843137254901963, 0.5098039215686274, 0.19215686274509805], [0.5058823529411764, 0.5490196078431373, 0.20784313725490197], [0.5294117647058824, 0.5803921568627451, 0.23529411764705882], [0.5058823529411764, 0.5607843137254902, 0.2235294117647059], [0.49411764705882355, 0.5490196078431373, 0.22745098039215686], [0.5450980392156862, 0.592156862745098, 0.23921568627450981], [0.5254901960784314, 0.5686274509803921, 0.18823529411764706], [0.6509803921568628, 0.6784313725490196, 0.37254901960784315], [0.9607843137254902, 0.9607843137254902, 0.796078431372549]], [[1.0, 0.9882352941176471, 0.8862745098039215], [0.984313725490196, 0.9686274509803922, 0.8588235294117647], [0.9686274509803922, 0.9568627450980393, 0.8196078431372549], [0.807843137254902, 0.8117647058823529, 0.6235294117647059], [0.5490196078431373, 0.592156862745098, 0.3058823529411765], [0.49019607843137253, 0.5372549019607843, 0.2], [0.5215686274509804, 0.5607843137254902, 0.19607843137254902], [0.5529411764705883, 0.5803921568627451, 0.21568627450980393], [0.5568627450980392, 0.5725490196078431, 0.21568627450980393], [0.5411764705882353, 0.5450980392156862, 0.1843137254901961], [0.5529411764705883, 0.5490196078431373, 0.22745098039215686], [0.5333333333333333, 0.5294117647058824, 0.2235294117647059], [0.5686274509803921, 0.5686274509803921, 0.21568627450980393], [0.5607843137254902, 0.5764705882352941, 0.1803921568627451], [0.5490196078431373, 0.592156862745098, 0.1843137254901961], [0.5529411764705883, 0.6039215686274509, 0.19215686274509805], [0.5568627450980392, 0.615686274509804, 0.20392156862745098], [0.5254901960784314, 0.592156862745098, 0.1803921568627451], [0.5294117647058824, 0.596078431372549, 0.1843137254901961], [0.5215686274509804, 0.5803921568627451, 0.17254901960784313], [0.5294117647058824, 0.5882352941176471, 0.17647058823529413], [0.5372549019607843, 0.592156862745098, 0.20392156862745098], [0.5137254901960784, 0.5647058823529412, 0.21176470588235294], [0.5098039215686274, 0.5607843137254902, 0.21568627450980393], [0.5215686274509804, 0.5725490196078431, 0.21176470588235294], [0.5176470588235295, 0.5725490196078431, 0.19215686274509805], [0.5215686274509804, 0.5764705882352941, 0.2], [0.5333333333333333, 0.5843137254901961, 0.2235294117647059], [0.5647058823529412, 0.6039215686274509, 0.20784313725490197], [0.6, 0.6274509803921569, 0.2549019607843137], [0.792156862745098, 0.803921568627451, 0.5333333333333333], [0.9882352941176471, 0.9803921568627451, 0.8274509803921568]], [[1.0, 0.9882352941176471, 0.8862745098039215], [0.984313725490196, 0.9725490196078431, 0.8666666666666667], [0.9647058823529412, 0.9529411764705882, 0.8274509803921568], [0.7450980392156863, 0.7450980392156863, 0.5686274509803921], [0.5411764705882353, 0.5764705882352941, 0.27058823529411763], [0.5411764705882353, 0.5882352941176471, 0.2196078431372549], [0.5372549019607843, 0.5803921568627451, 0.19215686274509805], [0.5686274509803921, 0.6039215686274509, 0.2196078431372549], [0.5843137254901961, 0.611764705882353, 0.23137254901960785], [0.5686274509803921, 0.592156862745098, 0.19215686274509805], [0.5686274509803921, 0.5843137254901961, 0.2196078431372549], [0.5411764705882353, 0.5529411764705883, 0.2196078431372549], [0.5568627450980392, 0.5725490196078431, 0.21568627450980393], [0.6078431372549019, 0.6313725490196078, 0.24313725490196078], [0.592156862745098, 0.6352941176470588, 0.2235294117647059], [0.5686274509803921, 0.6196078431372549, 0.20784313725490197], [0.5803921568627451, 0.6431372549019608, 0.2235294117647059], [0.5333333333333333, 0.6039215686274509, 0.1843137254901961], [0.5529411764705883, 0.615686274509804, 0.21568627450980393], [0.5411764705882353, 0.6, 0.21176470588235294], [0.5294117647058824, 0.592156862745098, 0.1803921568627451], [0.5568627450980392, 0.615686274509804, 0.20392156862745098], [0.5294117647058824, 0.5882352941176471, 0.19215686274509805], [0.5411764705882353, 0.6, 0.20392156862745098], [0.5372549019607843, 0.6, 0.1803921568627451], [0.5294117647058824, 0.596078431372549, 0.15294117647058825], [0.5333333333333333, 0.6, 0.1568627450980392], [0.5450980392156862, 0.6039215686274509, 0.17647058823529413], [0.5607843137254902, 0.6078431372549019, 0.1843137254901961], [0.6627450980392157, 0.6862745098039216, 0.35294117647058826], [0.8901960784313725, 0.8862745098039215, 0.6980392156862745], [1.0, 0.9882352941176471, 0.8862745098039215]], [[1.0, 0.9882352941176471, 0.8862745098039215], [0.984313725490196, 0.9686274509803922, 0.8705882352941177], [0.984313725490196, 0.9686274509803922, 0.8588235294117647], [0.8823529411764706, 0.8784313725490196, 0.7098039215686275], [0.6392156862745098, 0.6705882352941176, 0.33725490196078434], [0.5647058823529412, 0.611764705882353, 0.20392156862745098], [0.5647058823529412, 0.615686274509804, 0.1843137254901961], [0.5725490196078431, 0.6235294117647059, 0.1803921568627451], [0.6078431372549019, 0.6588235294117647, 0.2196078431372549], [0.592156862745098, 0.6313725490196078, 0.2], [0.5843137254901961, 0.6235294117647059, 0.2196078431372549], [0.5764705882352941, 0.6078431372549019, 0.22745098039215686], [0.5725490196078431, 0.6039215686274509, 0.22745098039215686], [0.5843137254901961, 0.6196078431372549, 0.2235294117647059], [0.5725490196078431, 0.6196078431372549, 0.2], [0.5843137254901961, 0.6352941176470588, 0.21568627450980393], [0.5882352941176471, 0.6509803921568628, 0.22745098039215686], [0.5529411764705883, 0.6235294117647059, 0.19215686274509805], [0.5490196078431373, 0.611764705882353, 0.21176470588235294], [0.5529411764705883, 0.6078431372549019, 0.22745098039215686], [0.5450980392156862, 0.6078431372549019, 0.18823529411764706], [0.5490196078431373, 0.611764705882353, 0.17647058823529413], [0.5450980392156862, 0.6078431372549019, 0.17647058823529413], [0.5450980392156862, 0.6078431372549019, 0.17254901960784313], [0.5333333333333333, 0.6039215686274509, 0.14901960784313725], [0.5411764705882353, 0.611764705882353, 0.1411764705882353], [0.5372549019607843, 0.6078431372549019, 0.1450980392156863], [0.5333333333333333, 0.596078431372549, 0.1607843137254902], [0.5764705882352941, 0.615686274509804, 0.22745098039215686], [0.8, 0.807843137254902, 0.5450980392156862], [0.9725490196078431, 0.9568627450980393, 0.8352941176470589], [1.0, 0.984313725490196, 0.9176470588235294]], [[1.0, 0.9882352941176471, 0.8862745098039215], [0.9803921568627451, 0.9647058823529412, 0.8745098039215686], [0.9882352941176471, 0.9725490196078431, 0.8745098039215686], [0.9607843137254902, 0.9490196078431372, 0.807843137254902], [0.7333333333333333, 0.7450980392156863, 0.4666666666666667], [0.5803921568627451, 0.6078431372549019, 0.24705882352941178], [0.5568627450980392, 0.6078431372549019, 0.18823529411764706], [0.5568627450980392, 0.6235294117647059, 0.16470588235294117], [0.5882352941176471, 0.6549019607843137, 0.19607843137254902], [0.5764705882352941, 0.6352941176470588, 0.19607843137254902], [0.5843137254901961, 0.6392156862745098, 0.21176470588235294], [0.5607843137254902, 0.615686274509804, 0.19215686274509805], [0.5607843137254902, 0.611764705882353, 0.19607843137254902], [0.5686274509803921, 0.6196078431372549, 0.19607843137254902], [0.5725490196078431, 0.6196078431372549, 0.19607843137254902], [0.5764705882352941, 0.6274509803921569, 0.2], [0.592156862745098, 0.6549019607843137, 0.2235294117647059], [0.5450980392156862, 0.6196078431372549, 0.1803921568627451], [0.5490196078431373, 0.615686274509804, 0.2], [0.5529411764705883, 0.611764705882353, 0.20784313725490197], [0.5568627450980392, 0.6196078431372549, 0.1843137254901961], [0.5568627450980392, 0.6235294117647059, 0.17254901960784313], [0.5568627450980392, 0.6235294117647059, 0.1803921568627451], [0.5529411764705883, 0.6196078431372549, 0.1843137254901961], [0.5411764705882353, 0.6039215686274509, 0.16862745098039217], [0.5411764705882353, 0.6078431372549019, 0.17647058823529413], [0.5372549019607843, 0.596078431372549, 0.2], [0.5686274509803921, 0.615686274509804, 0.27058823529411763], [0.7568627450980392, 0.7764705882352941, 0.5058823529411764], [0.9568627450980393, 0.9529411764705882, 0.7764705882352941], [0.9921568627450981, 0.9764705882352941, 0.8705882352941177], [1.0, 0.984313725490196, 0.9058823529411765]], [[1.0, 0.9882352941176471, 0.8862745098039215], [0.984313725490196, 0.9647058823529412, 0.8823529411764706], [0.9882352941176471, 0.9686274509803922, 0.8784313725490196], [0.9686274509803922, 0.9529411764705882, 0.8392156862745098], [0.8784313725490196, 0.8705882352941177, 0.7058823529411765], [0.7725490196078432, 0.7803921568627451, 0.5411764705882353], [0.6666666666666666, 0.6980392156862745, 0.3764705882352941], [0.5882352941176471, 0.6431372549019608, 0.25882352941176473], [0.5490196078431373, 0.611764705882353, 0.2], [0.5411764705882353, 0.6039215686274509, 0.1843137254901961], [0.5490196078431373, 0.615686274509804, 0.17647058823529413], [0.5411764705882353, 0.611764705882353, 0.1568627450980392], [0.5333333333333333, 0.6, 0.1450980392156863], [0.5568627450980392, 0.615686274509804, 0.17254901960784313], [0.5843137254901961, 0.6313725490196078, 0.2], [0.5568627450980392, 0.611764705882353, 0.1803921568627451], [0.5803921568627451, 0.6470588235294118, 0.20784313725490197], [0.5647058823529412, 0.6392156862745098, 0.19607843137254902], [0.5450980392156862, 0.611764705882353, 0.1843137254901961], [0.5568627450980392, 0.6196078431372549, 0.19215686274509805], [0.6, 0.6666666666666666, 0.21568627450980393], [0.5843137254901961, 0.6509803921568628, 0.19607843137254902], [0.5882352941176471, 0.6509803921568628, 0.21176470588235294], [0.5686274509803921, 0.6274509803921569, 0.21568627450980393], [0.5607843137254902, 0.615686274509804, 0.22745098039215686], [0.6313725490196078, 0.6784313725490196, 0.3215686274509804], [0.7137254901960784, 0.7529411764705882, 0.4549019607843137], [0.7803921568627451, 0.807843137254902, 0.5803921568627451], [0.9333333333333333, 0.9333333333333333, 0.792156862745098], [0.9882352941176471, 0.9725490196078431, 0.8666666666666667], [0.984313725490196, 0.9686274509803922, 0.8509803921568627], [1.0, 0.9921568627450981, 0.8784313725490196]], [[1.0, 0.9882352941176471, 0.8941176470588236], [0.9882352941176471, 0.9686274509803922, 0.8823529411764706], [0.9882352941176471, 0.9686274509803922, 0.8823529411764706], [0.9882352941176471, 0.9686274509803922, 0.8784313725490196], [0.9882352941176471, 0.9725490196078431, 0.8745098039215686], [0.984313725490196, 0.9725490196078431, 0.8470588235294118], [0.9411764705882353, 0.9450980392156862, 0.7607843137254902], [0.8, 0.8196078431372549, 0.5686274509803921], [0.6313725490196078, 0.6627450980392157, 0.35294117647058826], [0.5686274509803921, 0.611764705882353, 0.23529411764705882], [0.5686274509803921, 0.615686274509804, 0.21176470588235294], [0.5607843137254902, 0.611764705882353, 0.1843137254901961], [0.5490196078431373, 0.6039215686274509, 0.1607843137254902], [0.5647058823529412, 0.611764705882353, 0.1803921568627451], [0.5764705882352941, 0.611764705882353, 0.21568627450980393], [0.5568627450980392, 0.6, 0.19215686274509805], [0.5647058823529412, 0.611764705882353, 0.1843137254901961], [0.5568627450980392, 0.611764705882353, 0.16862745098039217], [0.5333333333333333, 0.5843137254901961, 0.15294117647058825], [0.5568627450980392, 0.6039215686274509, 0.1803921568627451], [0.592156862745098, 0.6392156862745098, 0.21176470588235294], [0.596078431372549, 0.6431372549019608, 0.21568627450980393], [0.5843137254901961, 0.6313725490196078, 0.21176470588235294], [0.5607843137254902, 0.6039215686274509, 0.22745098039215686], [0.6627450980392157, 0.6901960784313725, 0.38823529411764707], [0.8627450980392157, 0.8784313725490196, 0.6549019607843137], [0.9568627450980393, 0.9607843137254902, 0.8], [0.9686274509803922, 0.9647058823529412, 0.8392156862745098], [0.9803921568627451, 0.9647058823529412, 0.8784313725490196], [0.9882352941176471, 0.9686274509803922, 0.8823529411764706], [0.9882352941176471, 0.9725490196078431, 0.8666666666666667], [1.0, 0.9921568627450981, 0.8823529411764706]], [[1.0, 0.984313725490196, 0.8941176470588236], [0.984313725490196, 0.9647058823529412, 0.8784313725490196], [0.9882352941176471, 0.9686274509803922, 0.8823529411764706], [0.984313725490196, 0.9647058823529412, 0.8784313725490196], [0.984313725490196, 0.9686274509803922, 0.8745098039215686], [0.9882352941176471, 0.9686274509803922, 0.8823529411764706], [0.9921568627450981, 0.9764705882352941, 0.8745098039215686], [0.9764705882352941, 0.9647058823529412, 0.8196078431372549], [0.8862745098039215, 0.8862745098039215, 0.6862745098039216], [0.8313725490196079, 0.8352941176470589, 0.6], [0.8235294117647058, 0.8352941176470589, 0.5803921568627451], [0.7607843137254902, 0.7725490196078432, 0.4980392156862745], [0.7529411764705882, 0.7686274509803922, 0.4666666666666667], [0.7843137254901961, 0.8, 0.5058823529411764], [0.7764705882352941, 0.788235294117647, 0.5176470588235295], [0.7568627450980392, 0.7686274509803922, 0.4823529411764706], [0.7215686274509804, 0.7411764705882353, 0.42745098039215684], [0.6431372549019608, 0.6627450980392157, 0.3254901960784314], [0.6470588235294118, 0.6666666666666666, 0.3411764705882353], [0.7411764705882353, 0.7607843137254902, 0.4549019607843137], [0.7803921568627451, 0.796078431372549, 0.49019607843137253], [0.7176470588235294, 0.7372549019607844, 0.43137254901960786], [0.7019607843137254, 0.7215686274509804, 0.41568627450980394], [0.7098039215686275, 0.7215686274509804, 0.43529411764705883], [0.807843137254902, 0.807843137254902, 0.592156862745098], [0.9725490196078431, 0.9607843137254902, 0.8313725490196079], [0.9921568627450981, 0.9725490196078431, 0.8901960784313725], [0.9882352941176471, 0.9686274509803922, 0.8784313725490196], [0.9882352941176471, 0.9686274509803922, 0.8784313725490196], [0.9882352941176471, 0.9686274509803922, 0.8823529411764706], [0.984313725490196, 0.9647058823529412, 0.8784313725490196], [1.0, 0.984313725490196, 0.8980392156862745]], [[1.0, 0.9803921568627451, 0.8901960784313725], [0.9803921568627451, 0.9607843137254902, 0.8745098039215686], [0.984313725490196, 0.9647058823529412, 0.8784313725490196], [0.984313725490196, 0.9647058823529412, 0.8745098039215686], [0.984313725490196, 0.9686274509803922, 0.8705882352941177], [0.984313725490196, 0.9647058823529412, 0.8784313725490196], [0.9803921568627451, 0.9607843137254902, 0.8784313725490196], [0.9803921568627451, 0.9686274509803922, 0.8627450980392157], [0.9764705882352941, 0.9647058823529412, 0.8509803921568627], [0.9764705882352941, 0.9607843137254902, 0.8705882352941177], [0.9764705882352941, 0.9607843137254902, 0.8627450980392157], [0.9607843137254902, 0.9490196078431372, 0.8352941176470589], [0.9725490196078431, 0.9607843137254902, 0.8313725490196079], [0.9803921568627451, 0.9686274509803922, 0.8392156862745098], [0.9686274509803922, 0.9568627450980393, 0.8352941176470589], [0.9607843137254902, 0.9529411764705882, 0.8156862745098039], [0.9411764705882353, 0.9333333333333333, 0.7803921568627451], [0.8980392156862745, 0.8901960784313725, 0.7254901960784313], [0.9137254901960784, 0.9058823529411765, 0.7450980392156863], [0.9647058823529412, 0.9568627450980393, 0.8117647058823529], [0.9764705882352941, 0.9647058823529412, 0.8196078431372549], [0.9372549019607843, 0.9294117647058824, 0.7843137254901961], [0.9333333333333333, 0.9215686274509803, 0.7764705882352941], [0.9411764705882353, 0.9372549019607843, 0.7725490196078432], [0.9568627450980393, 0.9490196078431372, 0.796078431372549], [0.9764705882352941, 0.9607843137254902, 0.8627450980392157], [0.9803921568627451, 0.9607843137254902, 0.8823529411764706], [0.984313725490196, 0.9647058823529412, 0.8666666666666667], [0.984313725490196, 0.9647058823529412, 0.8705882352941177], [0.984313725490196, 0.9647058823529412, 0.8784313725490196], [0.9803921568627451, 0.9607843137254902, 0.8784313725490196], [1.0, 0.9803921568627451, 0.8941176470588236]]]]}'"
            ]
          },
          "metadata": {
            "tags": []
          },
          "execution_count": 31
        }
      ]
    },
    {
      "cell_type": "markdown",
      "metadata": {
        "id": "4r2UYAdUCJ95",
        "colab_type": "text"
      },
      "source": [
        "Sending the first POST request to the model"
      ]
    },
    {
      "cell_type": "code",
      "metadata": {
        "id": "mjFUnOJGALm8",
        "colab_type": "code",
        "colab": {}
      },
      "source": [
        "headers = {\"content-type\":\"application/json\"}"
      ],
      "execution_count": 0,
      "outputs": []
    },
    {
      "cell_type": "code",
      "metadata": {
        "id": "teKSh4iDCUoX",
        "colab_type": "code",
        "colab": {}
      },
      "source": [
        "json_response = requests.post(url=\"http://localhost:8501/v1/models/cifar10:predict\", data=data, headers = headers)"
      ],
      "execution_count": 0,
      "outputs": []
    },
    {
      "cell_type": "code",
      "metadata": {
        "id": "DwO_sZm3DluZ",
        "colab_type": "code",
        "colab": {
          "base_uri": "https://localhost:8080/",
          "height": 34
        },
        "outputId": "2857339f-8aba-46a0-c3d6-6fd54d7f30dd"
      },
      "source": [
        "json_response"
      ],
      "execution_count": 39,
      "outputs": [
        {
          "output_type": "execute_result",
          "data": {
            "text/plain": [
              "<Response [200]>"
            ]
          },
          "metadata": {
            "tags": []
          },
          "execution_count": 39
        }
      ]
    },
    {
      "cell_type": "code",
      "metadata": {
        "id": "_Cx2YkbbDncO",
        "colab_type": "code",
        "colab": {}
      },
      "source": [
        "predictions = json.loads(json_response.text)['predictions']"
      ],
      "execution_count": 0,
      "outputs": []
    },
    {
      "cell_type": "code",
      "metadata": {
        "id": "-sAgHdSgDtrn",
        "colab_type": "code",
        "colab": {}
      },
      "source": [
        "predictions"
      ],
      "execution_count": 0,
      "outputs": []
    },
    {
      "cell_type": "code",
      "metadata": {
        "id": "v9cBmESEDvNL",
        "colab_type": "code",
        "colab": {
          "base_uri": "https://localhost:8080/",
          "height": 286
        },
        "outputId": "0c252f0b-08ad-4f09-bca7-93c4536eb411"
      },
      "source": [
        "plt.imshow(X_test[random_image])"
      ],
      "execution_count": 41,
      "outputs": [
        {
          "output_type": "execute_result",
          "data": {
            "text/plain": [
              "<matplotlib.image.AxesImage at 0x7f03307702e8>"
            ]
          },
          "metadata": {
            "tags": []
          },
          "execution_count": 41
        },
        {
          "output_type": "display_data",
          "data": {
            "image/png": "[encoded data removed]",
            "text/plain": [
              "<Figure size 432x288 with 1 Axes>"
            ]
          },
          "metadata": {
            "tags": []
          }
        }
      ]
    },
    {
      "cell_type": "code",
      "metadata": {
        "id": "64J63apcDzaS",
        "colab_type": "code",
        "colab": {
          "base_uri": "https://localhost:8080/",
          "height": 194
        },
        "outputId": "a0c4b497-73f6-4845-9bbf-4dd229a12293"
      },
      "source": [
        "predictions"
      ],
      "execution_count": 42,
      "outputs": [
        {
          "output_type": "execute_result",
          "data": {
            "text/plain": [
              "[[1.61403179e-07,\n",
              "  1.01464093e-06,\n",
              "  0.00240701158,\n",
              "  0.0925114751,\n",
              "  0.338968158,\n",
              "  0.00175551232,\n",
              "  0.564325273,\n",
              "  2.47274547e-05,\n",
              "  8.18497369e-07,\n",
              "  5.76138336e-06]]"
            ]
          },
          "metadata": {
            "tags": []
          },
          "execution_count": 42
        }
      ]
    },
    {
      "cell_type": "code",
      "metadata": {
        "id": "OVZsssG9D3EW",
        "colab_type": "code",
        "colab": {
          "base_uri": "https://localhost:8080/",
          "height": 286
        },
        "outputId": "f625a46d-e9b3-4404-abbd-8e9238e7adcc"
      },
      "source": [
        "plt.imshow(X_test[random_image])"
      ],
      "execution_count": 46,
      "outputs": [
        {
          "output_type": "execute_result",
          "data": {
            "text/plain": [
              "<matplotlib.image.AxesImage at 0x7f0330641160>"
            ]
          },
          "metadata": {
            "tags": []
          },
          "execution_count": 46
        },
        {
          "output_type": "display_data",
          "data": {
            "image/png": "[encoded data removed]",
            "text/plain": [
              "<Figure size 432x288 with 1 Axes>"
            ]
          },
          "metadata": {
            "tags": []
          }
        }
      ]
    },
    {
      "cell_type": "code",
      "metadata": {
        "id": "jII1k5LxD7m-",
        "colab_type": "code",
        "colab": {
          "base_uri": "https://localhost:8080/",
          "height": 34
        },
        "outputId": "c9ea6fc4-365c-4bc5-c8e2-1d80c3b64939"
      },
      "source": [
        "class_names[np.argmax(predictions[0])]"
      ],
      "execution_count": 47,
      "outputs": [
        {
          "output_type": "execute_result",
          "data": {
            "text/plain": [
              "'frog'"
            ]
          },
          "metadata": {
            "tags": []
          },
          "execution_count": 47
        }
      ]
    },
    {
      "cell_type": "markdown",
      "metadata": {
        "id": "gpeUMSI7EjC8",
        "colab_type": "text"
      },
      "source": [
        "## Sending POST request to a specific model"
      ]
    },
    {
      "cell_type": "code",
      "metadata": {
        "id": "JeHreF26EALb",
        "colab_type": "code",
        "colab": {}
      },
      "source": [
        "specific_json_response = requests.post(url=\"http://localhost:8501/v1/model/cifar10/versions/1:predict\",data=data,headers=headers)"
      ],
      "execution_count": 0,
      "outputs": []
    },
    {
      "cell_type": "code",
      "metadata": {
        "id": "P-4S9g4DE5jy",
        "colab_type": "code",
        "colab": {
          "base_uri": "https://localhost:8080/",
          "height": 34
        },
        "outputId": "99712954-c6e6-49a6-e88c-794f2901596c"
      },
      "source": [
        "specific_json_response"
      ],
      "execution_count": 49,
      "outputs": [
        {
          "output_type": "execute_result",
          "data": {
            "text/plain": [
              "<Response [400]>"
            ]
          },
          "metadata": {
            "tags": []
          },
          "execution_count": 49
        }
      ]
    }
  ]
}