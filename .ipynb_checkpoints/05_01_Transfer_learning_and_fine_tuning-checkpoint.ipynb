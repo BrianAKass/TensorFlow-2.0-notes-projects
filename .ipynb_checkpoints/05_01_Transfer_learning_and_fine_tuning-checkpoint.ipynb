{
 "cells": [
  {
   "cell_type": "markdown",
   "metadata": {
    "colab_type": "text",
    "id": "n99JhrQmiY4g"
   },
   "source": [
    "## Install dependencies and setting up GPU enviornment"
   ]
  },
  {
   "cell_type": "code",
   "execution_count": null,
   "metadata": {
    "colab": {
     "base_uri": "https://localhost:8080/",
     "height": 534
    },
    "colab_type": "code",
    "id": "tZx3Gjj5TAGM",
    "outputId": "5337f07b-9054-4326-db99-e51248f24059"
   },
   "outputs": [
    {
     "name": "stdout",
     "output_type": "stream",
     "text": [
      "Collecting tensorflow==2.0.0-beta1\n",
      "  Using cached https://files.pythonhosted.org/packages/24/2c/373d2847538fdd65742ad19df23946e0d0a8f1df7f5f0c6bce6e9b293088/tensorflow-2.0.0b1-cp37-cp37m-win_amd64.whl\n",
      "Requirement already satisfied: gast>=0.2.0 in c:\\users\\corvus\\anaconda3\\envs\\gputest\\lib\\site-packages (from tensorflow==2.0.0-beta1) (0.2.2)\n",
      "Requirement already satisfied: protobuf>=3.6.1 in c:\\users\\corvus\\anaconda3\\envs\\gputest\\lib\\site-packages (from tensorflow==2.0.0-beta1) (3.9.1)\n",
      "Requirement already satisfied: tb-nightly<1.14.0a20190604,>=1.14.0a20190603 in c:\\users\\corvus\\anaconda3\\envs\\gputest\\lib\\site-packages (from tensorflow==2.0.0-beta1) (1.14.0a20190603)\n",
      "Requirement already satisfied: tf-estimator-nightly<1.14.0.dev2019060502,>=1.14.0.dev2019060501 in c:\\users\\corvus\\anaconda3\\envs\\gputest\\lib\\site-packages (from tensorflow==2.0.0-beta1) (1.14.0.dev2019060501)\n",
      "Requirement already satisfied: keras-applications>=1.0.6 in c:\\users\\corvus\\anaconda3\\envs\\gputest\\lib\\site-packages (from tensorflow==2.0.0-beta1) (1.0.8)\n",
      "Requirement already satisfied: numpy<2.0,>=1.14.5 in c:\\users\\corvus\\anaconda3\\envs\\gputest\\lib\\site-packages (from tensorflow==2.0.0-beta1) (1.17.0)\n",
      "Requirement already satisfied: wheel>=0.26 in c:\\users\\corvus\\anaconda3\\envs\\gputest\\lib\\site-packages (from tensorflow==2.0.0-beta1) (0.33.4)\n",
      "Requirement already satisfied: absl-py>=0.7.0 in c:\\users\\corvus\\anaconda3\\envs\\gputest\\lib\\site-packages (from tensorflow==2.0.0-beta1) (0.7.1)\n",
      "Requirement already satisfied: termcolor>=1.1.0 in c:\\users\\corvus\\anaconda3\\envs\\gputest\\lib\\site-packages (from tensorflow==2.0.0-beta1) (1.1.0)\n",
      "Requirement already satisfied: grpcio>=1.8.6 in c:\\users\\corvus\\anaconda3\\envs\\gputest\\lib\\site-packages (from tensorflow==2.0.0-beta1) (1.22.0)\n",
      "Requirement already satisfied: six>=1.10.0 in c:\\users\\corvus\\anaconda3\\envs\\gputest\\lib\\site-packages (from tensorflow==2.0.0-beta1) (1.12.0)\n",
      "Requirement already satisfied: astor>=0.6.0 in c:\\users\\corvus\\anaconda3\\envs\\gputest\\lib\\site-packages (from tensorflow==2.0.0-beta1) (0.8.0)\n",
      "Requirement already satisfied: google-pasta>=0.1.6 in c:\\users\\corvus\\anaconda3\\envs\\gputest\\lib\\site-packages (from tensorflow==2.0.0-beta1) (0.1.7)\n",
      "Requirement already satisfied: keras-preprocessing>=1.0.5 in c:\\users\\corvus\\anaconda3\\envs\\gputest\\lib\\site-packages (from tensorflow==2.0.0-beta1) (1.1.0)\n",
      "Requirement already satisfied: wrapt>=1.11.1 in c:\\users\\corvus\\anaconda3\\envs\\gputest\\lib\\site-packages (from tensorflow==2.0.0-beta1) (1.11.2)\n",
      "Requirement already satisfied: setuptools in c:\\users\\corvus\\anaconda3\\envs\\gputest\\lib\\site-packages (from protobuf>=3.6.1->tensorflow==2.0.0-beta1) (41.0.1)\n",
      "Requirement already satisfied: markdown>=2.6.8 in c:\\users\\corvus\\anaconda3\\envs\\gputest\\lib\\site-packages (from tb-nightly<1.14.0a20190604,>=1.14.0a20190603->tensorflow==2.0.0-beta1) (3.1.1)\n",
      "Requirement already satisfied: werkzeug>=0.11.15 in c:\\users\\corvus\\anaconda3\\envs\\gputest\\lib\\site-packages (from tb-nightly<1.14.0a20190604,>=1.14.0a20190603->tensorflow==2.0.0-beta1) (0.15.5)\n",
      "Requirement already satisfied: h5py in c:\\users\\corvus\\anaconda3\\envs\\gputest\\lib\\site-packages (from keras-applications>=1.0.6->tensorflow==2.0.0-beta1) (2.9.0)\n",
      "Installing collected packages: tensorflow\n"
     ]
    },
    {
     "name": "stderr",
     "output_type": "stream",
     "text": [
      "ERROR: Could not install packages due to an EnvironmentError: [WinError 5] Access is denied: 'C:\\\\Users\\\\Corvus\\\\Anaconda3\\\\envs\\\\gputest\\\\Lib\\\\site-packages\\\\tensorflow\\\\python\\\\_pywrap_tensorflow_internal.pyd'\n",
      "Consider using the `--user` option or check the permissions.\n",
      "\n"
     ]
    }
   ],
   "source": [
    "!pip install tensorflow==2.0.0-beta1 \n",
    "!pip install tqdm"
   ]
  },
  {
   "cell_type": "code",
   "execution_count": null,
   "metadata": {
    "colab": {
     "base_uri": "https://localhost:8080/",
     "height": 125
    },
    "colab_type": "code",
    "id": "9xrue1-QQR29",
    "outputId": "4b294dc3-e9cb-44e7-a5c7-a33b3b805620"
   },
   "outputs": [],
   "source": [
    "from google.colab import drive\n",
    "drive.mount('/content/drive')"
   ]
  },
  {
   "cell_type": "code",
   "execution_count": null,
   "metadata": {
    "colab": {
     "base_uri": "https://localhost:8080/",
     "height": 212
    },
    "colab_type": "code",
    "id": "E4NjZuqKkBzb",
    "outputId": "6a11476f-8923-46cd-f03b-9e775eeafb29"
   },
   "outputs": [],
   "source": [
    "!wget --no-check-certificate \\\n",
    "  https://storage.googleapis.com/mledu-datasets/cats_and_dogs_filtered.zip \\\n",
    "  -O ./cats_and_dogs_filtered.zip"
   ]
  },
  {
   "cell_type": "markdown",
   "metadata": {
    "colab_type": "text",
    "id": "p9OADe-giSSJ"
   },
   "source": []
  },
  {
   "cell_type": "markdown",
   "metadata": {
    "colab_type": "text",
    "id": "ZQD4W5bgkbmO"
   },
   "source": [
    "## Dataset Preprocessing"
   ]
  },
  {
   "cell_type": "markdown",
   "metadata": {
    "colab_type": "text",
    "id": "3MDM1SBkkgae"
   },
   "source": [
    "### Import project dependenceies"
   ]
  },
  {
   "cell_type": "code",
   "execution_count": null,
   "metadata": {
    "colab": {
     "base_uri": "https://localhost:8080/",
     "height": 34
    },
    "colab_type": "code",
    "id": "DVNd3wr9kk7K",
    "outputId": "03eac2cf-5915-404b-8a1a-3abc8ea9e3a6"
   },
   "outputs": [],
   "source": [
    "import os\n",
    "import zipfile \n",
    "import numpy as np\n",
    "import tensorflow as tf\n",
    "import matplotlib.pyplot as plt\n",
    "\n",
    "from tqdm import tqdm_notebook\n",
    "from tensorflow.keras.preprocessing.image import ImageDataGenerator\n",
    "\n",
    "%matplotlib inline\n",
    "tf.__version__"
   ]
  },
  {
   "cell_type": "markdown",
   "metadata": {
    "colab_type": "text",
    "id": "Svfa1siclBmx"
   },
   "source": [
    "### Unzipping the Dogs vs Cats dataset\n",
    "  "
   ]
  },
  {
   "cell_type": "code",
   "execution_count": null,
   "metadata": {
    "colab": {},
    "colab_type": "code",
    "id": "qa18GZkqlASy"
   },
   "outputs": [],
   "source": [
    "dataset_path = './cats_and_dogs_filtered.zip'"
   ]
  },
  {
   "cell_type": "code",
   "execution_count": null,
   "metadata": {
    "colab": {},
    "colab_type": "code",
    "id": "_n9j3h2clNA0"
   },
   "outputs": [],
   "source": [
    "zip_object = zipfile.ZipFile(file=dataset_path, mode='r')"
   ]
  },
  {
   "cell_type": "code",
   "execution_count": null,
   "metadata": {
    "colab": {},
    "colab_type": "code",
    "id": "p7jm4U3Ds39_"
   },
   "outputs": [],
   "source": [
    "zip_object.extractall(\"./\")"
   ]
  },
  {
   "cell_type": "code",
   "execution_count": null,
   "metadata": {
    "colab": {},
    "colab_type": "code",
    "id": "HWen9LIXs-VX"
   },
   "outputs": [],
   "source": [
    "zip_object.close()"
   ]
  },
  {
   "cell_type": "markdown",
   "metadata": {
    "colab_type": "text",
    "id": "wO3F9N8YtCAJ"
   },
   "source": [
    "### Setting up dataset paths"
   ]
  },
  {
   "cell_type": "code",
   "execution_count": null,
   "metadata": {
    "colab": {},
    "colab_type": "code",
    "id": "Nf7nH5DLtAR-"
   },
   "outputs": [],
   "source": [
    "dataset_path_new = \"./cats_and_dogs_filtered/\""
   ]
  },
  {
   "cell_type": "code",
   "execution_count": null,
   "metadata": {
    "colab": {},
    "colab_type": "code",
    "id": "t4aP0yRV9GbU"
   },
   "outputs": [],
   "source": [
    "train_dir = os.path.join(dataset_path_new, \"train\")\n",
    "validation_dir = os.path.join(dataset_path_new, \"validation\")"
   ]
  },
  {
   "cell_type": "markdown",
   "metadata": {
    "colab_type": "text",
    "id": "YNYfCWIG9d5I"
   },
   "source": [
    "## Building the model"
   ]
  },
  {
   "cell_type": "markdown",
   "metadata": {
    "colab_type": "text",
    "id": "0xYT377S9hPl"
   },
   "source": [
    "### Loading the pre-trained model (MobileNetV2)"
   ]
  },
  {
   "cell_type": "code",
   "execution_count": null,
   "metadata": {
    "colab": {},
    "colab_type": "code",
    "id": "mYVsC31J8-g8"
   },
   "outputs": [],
   "source": [
    "IMG_SHAPE = (128, 128, 3)"
   ]
  },
  {
   "cell_type": "code",
   "execution_count": null,
   "metadata": {
    "colab": {
     "base_uri": "https://localhost:8080/",
     "height": 72
    },
    "colab_type": "code",
    "id": "cS8QVWuI9CBr",
    "outputId": "34c28613-1421-497a-cbbd-0f21a67aae65"
   },
   "outputs": [],
   "source": [
    "base_model = tf.keras.applications.MobileNetV2(input_shape = IMG_SHAPE, include_top=False, weights = \"imagenet\")"
   ]
  },
  {
   "cell_type": "code",
   "execution_count": null,
   "metadata": {
    "colab": {
     "base_uri": "https://localhost:8080/",
     "height": 1000
    },
    "colab_type": "code",
    "id": "CvcuJpF2-tqg",
    "outputId": "3eae45b2-7f92-4537-e264-1262896f44ed"
   },
   "outputs": [],
   "source": [
    "base_model.summary()"
   ]
  },
  {
   "cell_type": "markdown",
   "metadata": {
    "colab_type": "text",
    "id": "Uufl768e-5RQ"
   },
   "source": [
    "### Freezing the base model"
   ]
  },
  {
   "cell_type": "code",
   "execution_count": null,
   "metadata": {
    "colab": {},
    "colab_type": "code",
    "id": "bWE5MxvU-xQi"
   },
   "outputs": [],
   "source": [
    "base_model.trainable = False"
   ]
  },
  {
   "cell_type": "markdown",
   "metadata": {
    "colab_type": "text",
    "id": "O3VJSDCD_Al1"
   },
   "source": [
    "### Defining the custom head for our network"
   ]
  },
  {
   "cell_type": "code",
   "execution_count": null,
   "metadata": {
    "colab": {
     "base_uri": "https://localhost:8080/",
     "height": 34
    },
    "colab_type": "code",
    "id": "VjH2n3fD_AS6",
    "outputId": "2507d5a0-0346-45fb-f11b-c583023cf27f"
   },
   "outputs": [],
   "source": [
    "base_model.output"
   ]
  },
  {
   "cell_type": "code",
   "execution_count": null,
   "metadata": {
    "colab": {},
    "colab_type": "code",
    "id": "ZPWsolMn_F5K"
   },
   "outputs": [],
   "source": [
    "global_average_layer = tf.keras.layers.GlobalAveragePooling2D()(base_model.output)"
   ]
  },
  {
   "cell_type": "code",
   "execution_count": null,
   "metadata": {
    "colab": {
     "base_uri": "https://localhost:8080/",
     "height": 34
    },
    "colab_type": "code",
    "id": "3Ee5xpOv_OMy",
    "outputId": "38654a74-755e-4d48-a93c-9910b7a67067"
   },
   "outputs": [],
   "source": [
    "global_average_layer"
   ]
  },
  {
   "cell_type": "code",
   "execution_count": null,
   "metadata": {
    "colab": {},
    "colab_type": "code",
    "id": "dpguvO1r_QqM"
   },
   "outputs": [],
   "source": [
    "prediction_layer = tf.keras.layers.Dense(units=1, activation='sigmoid')(global_average_layer)"
   ]
  },
  {
   "cell_type": "markdown",
   "metadata": {
    "colab_type": "text",
    "id": "2keRQm98_7Dm"
   },
   "source": [
    "### Defining the model"
   ]
  },
  {
   "cell_type": "code",
   "execution_count": null,
   "metadata": {
    "colab": {},
    "colab_type": "code",
    "id": "yxJ9Ywy3_3fp"
   },
   "outputs": [],
   "source": [
    "model = tf.keras.models.Model(inputs=base_model.input, outputs=prediction_layer)"
   ]
  },
  {
   "cell_type": "code",
   "execution_count": null,
   "metadata": {
    "colab": {
     "base_uri": "https://localhost:8080/",
     "height": 1000
    },
    "colab_type": "code",
    "id": "rkdRHBN6AGqy",
    "outputId": "c986a3b0-cd9e-434d-f0a8-b3c5f7779452"
   },
   "outputs": [],
   "source": [
    "model.summary()"
   ]
  },
  {
   "cell_type": "markdown",
   "metadata": {
    "colab_type": "text",
    "id": "Goe6T4oIAPct"
   },
   "source": [
    "### Compiling the model"
   ]
  },
  {
   "cell_type": "code",
   "execution_count": null,
   "metadata": {
    "colab": {},
    "colab_type": "code",
    "id": "pyPI7IUgANwS"
   },
   "outputs": [],
   "source": [
    "model.compile(optimizer = tf.keras.optimizers.RMSprop(lr=0.0001), loss=\"binary_crossentropy\",metrics=[\"accuracy\"])"
   ]
  },
  {
   "cell_type": "markdown",
   "metadata": {
    "colab_type": "text",
    "id": "gYfl7Yx0Dw3A"
   },
   "source": [
    "### Creating Data Generators\n",
    "Resizing images\n",
    "    \n",
    "    Big pre-trained architecture support only certain input sizes.\n",
    "    \n",
    "for example: MobileNet (architecture that we use) supports (96,96),(128,128),160,160),(192,192),(224,224)."
   ]
  },
  {
   "cell_type": "code",
   "execution_count": null,
   "metadata": {
    "colab": {},
    "colab_type": "code",
    "id": "mF23UzfaEQrz"
   },
   "outputs": [],
   "source": [
    "data_gen_train = ImageDataGenerator(rescale = 1/255.)\n",
    "data_gen_valid = ImageDataGenerator(rescale = 1/255.)"
   ]
  },
  {
   "cell_type": "code",
   "execution_count": null,
   "metadata": {
    "colab": {
     "base_uri": "https://localhost:8080/",
     "height": 34
    },
    "colab_type": "code",
    "id": "vrun7YiREaqX",
    "outputId": "70094631-cde8-4b12-9bc6-cc60a03c42ae"
   },
   "outputs": [],
   "source": [
    "train_generator =data_gen_train.flow_from_directory(train_dir, target_size=(128,128), batch_size=128,class_mode =\"binary\")"
   ]
  },
  {
   "cell_type": "code",
   "execution_count": null,
   "metadata": {
    "colab": {
     "base_uri": "https://localhost:8080/",
     "height": 34
    },
    "colab_type": "code",
    "id": "qpvp-eUwFLMv",
    "outputId": "aa18983a-8581-4dd8-ae7c-870abfad47ab"
   },
   "outputs": [],
   "source": [
    "valid_generator =data_gen_train.flow_from_directory(validation_dir, target_size=(128,128), batch_size=128,class_mode =\"binary\")"
   ]
  },
  {
   "cell_type": "markdown",
   "metadata": {
    "colab_type": "text",
    "id": "Q861eYRTFRai"
   },
   "source": [
    "### Training the model"
   ]
  },
  {
   "cell_type": "code",
   "execution_count": null,
   "metadata": {
    "colab": {
     "base_uri": "https://localhost:8080/",
     "height": 303
    },
    "colab_type": "code",
    "id": "QTCNZJOjFPYf",
    "outputId": "69095c59-77e5-4e9b-a9c8-2ad7034e308d"
   },
   "outputs": [],
   "source": [
    "model.fit_generator(train_generator, epochs = 5,validation_data=valid_generator)"
   ]
  },
  {
   "cell_type": "markdown",
   "metadata": {
    "colab_type": "text",
    "id": "ZO2z7VqBFnIB"
   },
   "source": [
    "### Transfer learning model evaluation"
   ]
  },
  {
   "cell_type": "code",
   "execution_count": null,
   "metadata": {
    "colab": {},
    "colab_type": "code",
    "id": "1YxNe8keFaTv"
   },
   "outputs": [],
   "source": [
    "valid_loss, valid_accuracy = model.evaluate_generator(valid_generator)"
   ]
  },
  {
   "cell_type": "code",
   "execution_count": null,
   "metadata": {
    "colab": {
     "base_uri": "https://localhost:8080/",
     "height": 34
    },
    "colab_type": "code",
    "id": "Ra8Q3HGWF_xL",
    "outputId": "d9749051-71e4-4711-dcf9-a7c44e3b3e2d"
   },
   "outputs": [],
   "source": [
    "print(f\"accuracy after Transfer Learning: {valid_accuracy*100}%\")"
   ]
  },
  {
   "cell_type": "markdown",
   "metadata": {
    "colab_type": "text",
    "id": "jjeuiRaVGTXe"
   },
   "source": [
    "## Fine Tuning\n",
    "\n",
    "there are a few pointers: \n",
    "  * DO NOT use Fine tuning on the whole network; only a few top layers are enough. In most cases, they are more specialized. the goal of fine-tuning is to adopt that specific part of the network for our custom (new) dataset.\n",
    "  * Start with the fine tuning AFTER you have finished with the transfer learning step. If we try to perfom Fine tuning immedieately, gradients will be much different between our custom head layer and a few unfrozen layers from the base model. "
   ]
  },
  {
   "cell_type": "markdown",
   "metadata": {
    "colab_type": "text",
    "id": "xxXDl-SpIB7J"
   },
   "source": [
    "### Un-freeze a few top layers from the model"
   ]
  },
  {
   "cell_type": "code",
   "execution_count": null,
   "metadata": {
    "colab": {},
    "colab_type": "code",
    "id": "SBaXuSaUIH3h"
   },
   "outputs": [],
   "source": [
    "base_model.trainable = True"
   ]
  },
  {
   "cell_type": "code",
   "execution_count": null,
   "metadata": {
    "colab": {
     "base_uri": "https://localhost:8080/",
     "height": 34
    },
    "colab_type": "code",
    "id": "7NZ9KOZ_IKp6",
    "outputId": "b72a68e7-3e41-4be5-9b37-86303666cd2f"
   },
   "outputs": [],
   "source": [
    "print(f\"number of layers in base model : {len(base_model.layers)}\")"
   ]
  },
  {
   "cell_type": "code",
   "execution_count": null,
   "metadata": {
    "colab": {},
    "colab_type": "code",
    "id": "5nnsW6dIIWxC"
   },
   "outputs": [],
   "source": [
    "fine_tune_at = 100"
   ]
  },
  {
   "cell_type": "code",
   "execution_count": null,
   "metadata": {
    "colab": {},
    "colab_type": "code",
    "id": "rNdYxpI6IZXa"
   },
   "outputs": [],
   "source": [
    "for layer in base_model.layers[:fine_tune_at]:\n",
    "    layer.trainable = False"
   ]
  },
  {
   "cell_type": "markdown",
   "metadata": {
    "colab_type": "text",
    "id": "FIl6mnhGIk9j"
   },
   "source": [
    "### Compiling the model for fine-tuning"
   ]
  },
  {
   "cell_type": "code",
   "execution_count": null,
   "metadata": {
    "colab": {},
    "colab_type": "code",
    "id": "VYw8iosPIj4v"
   },
   "outputs": [],
   "source": [
    "model.compile(optimizer=tf.keras.optimizers.RMSprop(lr=0.0001),\n",
    "             loss='binary_crossentropy',\n",
    "             metrics=['accuracy'])"
   ]
  },
  {
   "cell_type": "markdown",
   "metadata": {
    "colab_type": "text",
    "id": "NNAyWsTkI3Nz"
   },
   "source": [
    "### Fine Tuning"
   ]
  },
  {
   "cell_type": "code",
   "execution_count": null,
   "metadata": {
    "colab": {
     "base_uri": "https://localhost:8080/",
     "height": 232
    },
    "colab_type": "code",
    "id": "k7sEBjr9OOAg",
    "outputId": "17e0be2f-6921-4f2d-8f73-8cb6db3510a8"
   },
   "outputs": [],
   "source": [
    "model.fit_generator(train_generator,\n",
    "                   epochs = 5,\n",
    "                   validation_data=valid_generator)"
   ]
  },
  {
   "cell_type": "markdown",
   "metadata": {
    "colab_type": "text",
    "id": "kRRCQ4_SOYal"
   },
   "source": [
    "### Evaluating the fine tuned model"
   ]
  },
  {
   "cell_type": "code",
   "execution_count": null,
   "metadata": {
    "colab": {},
    "colab_type": "code",
    "id": "FIEqBI_LOw18"
   },
   "outputs": [],
   "source": [
    "valid_loss, valid_accuracy = model.evaluate_generator(valid_generator)"
   ]
  },
  {
   "cell_type": "code",
   "execution_count": null,
   "metadata": {
    "colab": {
     "base_uri": "https://localhost:8080/",
     "height": 34
    },
    "colab_type": "code",
    "id": "ien8NvwnOyKx",
    "outputId": "df5056e0-4d28-4879-a112-6769080b4444"
   },
   "outputs": [],
   "source": [
    "print(f\"Validation accuracy after fine tuning : {valid_accuracy*100}%\")"
   ]
  }
 ],
 "metadata": {
  "accelerator": "GPU",
  "colab": {
   "name": "05-01 Transfer learning and fine tuning.ipynb",
   "provenance": [],
   "version": "0.3.2"
  },
  "kernelspec": {
   "display_name": "Python 3",
   "language": "python",
   "name": "python3"
  },
  "language_info": {
   "codemirror_mode": {
    "name": "ipython",
    "version": 3
   },
   "file_extension": ".py",
   "mimetype": "text/x-python",
   "name": "python",
   "nbconvert_exporter": "python",
   "pygments_lexer": "ipython3",
   "version": "3.7.3"
  }
 },
 "nbformat": 4,
 "nbformat_minor": 1
}
