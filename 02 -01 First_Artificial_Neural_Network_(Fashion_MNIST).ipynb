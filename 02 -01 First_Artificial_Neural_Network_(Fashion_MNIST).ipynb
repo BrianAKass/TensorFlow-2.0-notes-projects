{
  "nbformat": 4,
  "nbformat_minor": 0,
  "metadata": {
    "colab": {
      "name": "First Artificial Neural Network (Fashion MNIST).ipynb",
      "version": "0.3.2",
      "provenance": [],
      "collapsed_sections": []
    },
    "kernelspec": {
      "name": "python3",
      "display_name": "Python 3"
    }
  },
  "cells": [
    {
      "cell_type": "code",
      "metadata": {
        "id": "5Ni_SDF0hbyl",
        "colab_type": "code",
        "colab": {}
      },
      "source": [
        "#  pip install tensorflow==2.0.0-beta1 "
      ],
      "execution_count": 0,
      "outputs": []
    },
    {
      "cell_type": "markdown",
      "metadata": {
        "id": "JE_bVJY8iJaR",
        "colab_type": "text"
      },
      "source": [
        "# Importing stuff"
      ]
    },
    {
      "cell_type": "code",
      "metadata": {
        "id": "tzW2kJFThs2a",
        "colab_type": "code",
        "colab": {}
      },
      "source": [
        "import tensorflow as tf\n",
        "import numpy as np\n",
        "import datetime\n",
        "from tensorflow.keras.datasets import fashion_mnist"
      ],
      "execution_count": 0,
      "outputs": []
    },
    {
      "cell_type": "code",
      "metadata": {
        "id": "6eWrgI4ch8bp",
        "colab_type": "code",
        "colab": {
          "base_uri": "https://localhost:8080/",
          "height": 34
        },
        "outputId": "28d23761-c8e0-4761-cc35-186407d8714a"
      },
      "source": [
        "tf.__version__"
      ],
      "execution_count": 3,
      "outputs": [
        {
          "output_type": "execute_result",
          "data": {
            "text/plain": [
              "'2.0.0-beta1'"
            ]
          },
          "metadata": {
            "tags": []
          },
          "execution_count": 3
        }
      ]
    },
    {
      "cell_type": "markdown",
      "metadata": {
        "id": "RoXSy2IpiOeZ",
        "colab_type": "text"
      },
      "source": [
        "## Data Preprocessing"
      ]
    },
    {
      "cell_type": "markdown",
      "metadata": {
        "id": "wrDJ81zaiWy6",
        "colab_type": "text"
      },
      "source": [
        "**Loading Dataset**"
      ]
    },
    {
      "cell_type": "code",
      "metadata": {
        "id": "r_QEajapiGqR",
        "colab_type": "code",
        "colab": {}
      },
      "source": [
        "(X_train, y_train),(X_test,y_test) = fashion_mnist.load_data()"
      ],
      "execution_count": 0,
      "outputs": []
    },
    {
      "cell_type": "markdown",
      "metadata": {
        "id": "WR4FkcrRi6Ak",
        "colab_type": "text"
      },
      "source": [
        "## Normalizing with images\n",
        "\n",
        "We divide each pixel of the image in the training and test sets by the maximum number of pixels(255). In this way each pixel will be in the range [0,1]. By normalizing images we make sure that our model (ANN) trains faster. "
      ]
    },
    {
      "cell_type": "code",
      "metadata": {
        "id": "-TW3uu8Ri0sD",
        "colab_type": "code",
        "colab": {}
      },
      "source": [
        "X_train = X_train / 255.0"
      ],
      "execution_count": 0,
      "outputs": []
    },
    {
      "cell_type": "code",
      "metadata": {
        "id": "vfpwq-iMj8RX",
        "colab_type": "code",
        "colab": {}
      },
      "source": [
        "X_test = X_test / 255.0"
      ],
      "execution_count": 0,
      "outputs": []
    },
    {
      "cell_type": "markdown",
      "metadata": {
        "id": "iqj1GMAokCGE",
        "colab_type": "text"
      },
      "source": [
        "## Reshaping the Dataset\n",
        "\n",
        "Since we are building a fully connected network, we reshape the training set and the test set to be into the vector format. "
      ]
    },
    {
      "cell_type": "code",
      "metadata": {
        "id": "QVXIyLFgkFDv",
        "colab_type": "code",
        "colab": {}
      },
      "source": [
        "# Since each images dimension is 28*28, we reshape the full dataset to [-1 (all elements),height*width]\n",
        "X_train = X_train.reshape(-1,28*28)"
      ],
      "execution_count": 0,
      "outputs": []
    },
    {
      "cell_type": "code",
      "metadata": {
        "id": "k5pVVUxHk-HQ",
        "colab_type": "code",
        "colab": {
          "base_uri": "https://localhost:8080/",
          "height": 34
        },
        "outputId": "7ec604b7-4a01-43c8-f176-199430b3c0d1"
      },
      "source": [
        "X_train.shape"
      ],
      "execution_count": 8,
      "outputs": [
        {
          "output_type": "execute_result",
          "data": {
            "text/plain": [
              "(60000, 784)"
            ]
          },
          "metadata": {
            "tags": []
          },
          "execution_count": 8
        }
      ]
    },
    {
      "cell_type": "code",
      "metadata": {
        "id": "lcckPPZvlMm-",
        "colab_type": "code",
        "colab": {}
      },
      "source": [
        "#and we reshape the test too\n",
        "X_test = X_test.reshape(-1,28*28)"
      ],
      "execution_count": 0,
      "outputs": []
    },
    {
      "cell_type": "code",
      "metadata": {
        "id": "D73Xa3DhlS3m",
        "colab_type": "code",
        "colab": {
          "base_uri": "https://localhost:8080/",
          "height": 34
        },
        "outputId": "24487806-173e-49a5-dbdb-adde44cc6cc8"
      },
      "source": [
        "X_test.shape"
      ],
      "execution_count": 10,
      "outputs": [
        {
          "output_type": "execute_result",
          "data": {
            "text/plain": [
              "(10000, 784)"
            ]
          },
          "metadata": {
            "tags": []
          },
          "execution_count": 10
        }
      ]
    },
    {
      "cell_type": "markdown",
      "metadata": {
        "id": "xagpet-Yld8g",
        "colab_type": "text"
      },
      "source": [
        "## Building an Artificial Neural Network\n",
        "\n",
        "### Defining a model\n",
        " Simply define an object of the Sequential model."
      ]
    },
    {
      "cell_type": "code",
      "metadata": {
        "id": "bG2YLXidlikH",
        "colab_type": "code",
        "colab": {}
      },
      "source": [
        "model = tf.keras.models.Sequential()"
      ],
      "execution_count": 0,
      "outputs": []
    },
    {
      "cell_type": "code",
      "metadata": {
        "id": "pkaH-lsXlyaf",
        "colab_type": "code",
        "colab": {
          "base_uri": "https://localhost:8080/",
          "height": 34
        },
        "outputId": "a9475af0-b93d-4b09-9712-7652d6b68ec0"
      },
      "source": [
        "model"
      ],
      "execution_count": 12,
      "outputs": [
        {
          "output_type": "execute_result",
          "data": {
            "text/plain": [
              "<tensorflow.python.keras.engine.sequential.Sequential at 0x7f07edad8a20>"
            ]
          },
          "metadata": {
            "tags": []
          },
          "execution_count": 12
        }
      ]
    },
    {
      "cell_type": "markdown",
      "metadata": {
        "id": "nN9ge9tHl0ks",
        "colab_type": "text"
      },
      "source": [
        "## Adding a first fully-connected hidden layer\n",
        "Layer hyper-parameters:\n",
        "  * Number of units/neurons:128\n",
        "  * activation function :ReLU\n",
        "  * input_shape:(784,)"
      ]
    },
    {
      "cell_type": "code",
      "metadata": {
        "id": "RfX8ilAYlzDv",
        "colab_type": "code",
        "colab": {}
      },
      "source": [
        "model.add(tf.keras.layers.Dense(units=128,activation='relu', input_shape=(784,)))"
      ],
      "execution_count": 0,
      "outputs": []
    },
    {
      "cell_type": "code",
      "metadata": {
        "id": "7p21X8Xfmfce",
        "colab_type": "code",
        "colab": {}
      },
      "source": [
        "#second layer \n",
        "model.add(tf.keras.layers.Dense(units=64,activation='relu'))"
      ],
      "execution_count": 0,
      "outputs": []
    },
    {
      "cell_type": "markdown",
      "metadata": {
        "colab_type": "text",
        "id": "ZQYiOfXCXBTX"
      },
      "source": [
        "## Adding a second layer with Dropout\n",
        "\n",
        "Dropout is a Regularization technique where we Randomly set neurons in a layer to zero. That way while training those Neurons won't be updated. Because some percentage of neurons won't be updated, the whole training process is long, and we have less chance for overfitting. "
      ]
    },
    {
      "cell_type": "code",
      "metadata": {
        "colab_type": "code",
        "id": "0d4n0NCsW6zc",
        "colab": {}
      },
      "source": [
        "model.add(tf.keras.layers.Dropout(0.3))"
      ],
      "execution_count": 0,
      "outputs": []
    },
    {
      "cell_type": "markdown",
      "metadata": {
        "id": "ppQi9VrznYg9",
        "colab_type": "text"
      },
      "source": [
        "## Adding the output layer\n",
        "\n",
        "  * units: number of classes (10 in the Fashion MNIST dataset)\n",
        "  * activation: softmax\n"
      ]
    },
    {
      "cell_type": "code",
      "metadata": {
        "id": "x8Q3FSjRnVXm",
        "colab_type": "code",
        "colab": {}
      },
      "source": [
        "model.add(tf.keras.layers.Dense(units=10, activation='softmax'))"
      ],
      "execution_count": 0,
      "outputs": []
    },
    {
      "cell_type": "markdown",
      "metadata": {
        "id": "nTCi9kwFpvCr",
        "colab_type": "text"
      },
      "source": [
        "## Compile the model\n",
        "\n",
        "Before the model is ready for training, it needs a few more settings. These are added durring the model's compile step.\n",
        "  \n",
        "  * Loss function - Measures how accurate the model is  durring training. Goal is minimize function to steer model in the right direction.\n",
        "  \n",
        "  * Optimizer -  this is how model is updated based on the data it sees and it's loss function. \n",
        "  \n",
        "  * Metrics - used to monitor training and testing steps. Following example uses accuracy.  Fraction of the images that are correctly classified. "
      ]
    },
    {
      "cell_type": "code",
      "metadata": {
        "id": "g5BgZf77oaVq",
        "colab_type": "code",
        "colab": {}
      },
      "source": [
        "model.compile(optimizer='Adam',\n",
        "             loss='sparse_categorical_crossentropy',\n",
        "             metrics = ['sparse_categorical_accuracy'])"
      ],
      "execution_count": 0,
      "outputs": []
    },
    {
      "cell_type": "code",
      "metadata": {
        "id": "9UMeAcowsOTP",
        "colab_type": "code",
        "colab": {
          "base_uri": "https://localhost:8080/",
          "height": 289
        },
        "outputId": "a49bf694-f2fc-44c5-c3fb-06eb81b3a435"
      },
      "source": [
        "model.summary()"
      ],
      "execution_count": 18,
      "outputs": [
        {
          "output_type": "stream",
          "text": [
            "Model: \"sequential\"\n",
            "_________________________________________________________________\n",
            "Layer (type)                 Output Shape              Param #   \n",
            "=================================================================\n",
            "dense (Dense)                (None, 128)               100480    \n",
            "_________________________________________________________________\n",
            "dense_1 (Dense)              (None, 64)                8256      \n",
            "_________________________________________________________________\n",
            "dropout (Dropout)            (None, 64)                0         \n",
            "_________________________________________________________________\n",
            "dense_2 (Dense)              (None, 10)                650       \n",
            "=================================================================\n",
            "Total params: 109,386\n",
            "Trainable params: 109,386\n",
            "Non-trainable params: 0\n",
            "_________________________________________________________________\n"
          ],
          "name": "stdout"
        }
      ]
    },
    {
      "cell_type": "code",
      "metadata": {
        "id": "ycvwueCin23m",
        "colab_type": "code",
        "colab": {
          "base_uri": "https://localhost:8080/",
          "height": 581
        },
        "outputId": "4d45cad2-8a01-4013-d0cc-2c323f91788a"
      },
      "source": [
        "model.fit(X_train, y_train, epochs=15)"
      ],
      "execution_count": 22,
      "outputs": [
        {
          "output_type": "stream",
          "text": [
            "Train on 60000 samples\n",
            "Epoch 1/15\n",
            "60000/60000 [==============================] - 6s 94us/sample - loss: 0.2579 - sparse_categorical_accuracy: 0.9037\n",
            "Epoch 2/15\n",
            "60000/60000 [==============================] - 5s 90us/sample - loss: 0.2512 - sparse_categorical_accuracy: 0.9054\n",
            "Epoch 3/15\n",
            "60000/60000 [==============================] - 5s 90us/sample - loss: 0.2460 - sparse_categorical_accuracy: 0.9077\n",
            "Epoch 4/15\n",
            "60000/60000 [==============================] - 5s 91us/sample - loss: 0.2386 - sparse_categorical_accuracy: 0.9100\n",
            "Epoch 5/15\n",
            "60000/60000 [==============================] - 5s 90us/sample - loss: 0.2325 - sparse_categorical_accuracy: 0.9124\n",
            "Epoch 6/15\n",
            "60000/60000 [==============================] - 6s 92us/sample - loss: 0.2282 - sparse_categorical_accuracy: 0.9134\n",
            "Epoch 7/15\n",
            "60000/60000 [==============================] - 5s 91us/sample - loss: 0.2223 - sparse_categorical_accuracy: 0.9156\n",
            "Epoch 8/15\n",
            "60000/60000 [==============================] - 5s 91us/sample - loss: 0.2184 - sparse_categorical_accuracy: 0.9186\n",
            "Epoch 9/15\n",
            "60000/60000 [==============================] - 5s 91us/sample - loss: 0.2167 - sparse_categorical_accuracy: 0.9172\n",
            "Epoch 10/15\n",
            "60000/60000 [==============================] - 5s 91us/sample - loss: 0.2101 - sparse_categorical_accuracy: 0.9195\n",
            "Epoch 11/15\n",
            "60000/60000 [==============================] - 5s 91us/sample - loss: 0.2063 - sparse_categorical_accuracy: 0.9205\n",
            "Epoch 12/15\n",
            "60000/60000 [==============================] - 5s 90us/sample - loss: 0.2048 - sparse_categorical_accuracy: 0.9225\n",
            "Epoch 13/15\n",
            "60000/60000 [==============================] - 5s 91us/sample - loss: 0.2009 - sparse_categorical_accuracy: 0.9230\n",
            "Epoch 14/15\n",
            "60000/60000 [==============================] - 6s 92us/sample - loss: 0.1965 - sparse_categorical_accuracy: 0.9251\n",
            "Epoch 15/15\n",
            "60000/60000 [==============================] - 5s 91us/sample - loss: 0.1920 - sparse_categorical_accuracy: 0.9269\n"
          ],
          "name": "stdout"
        },
        {
          "output_type": "execute_result",
          "data": {
            "text/plain": [
              "<tensorflow.python.keras.callbacks.History at 0x7f07e8515128>"
            ]
          },
          "metadata": {
            "tags": []
          },
          "execution_count": 22
        }
      ]
    },
    {
      "cell_type": "markdown",
      "metadata": {
        "id": "FEAAc42esoA2",
        "colab_type": "text"
      },
      "source": [
        "### Model Evaluation and prediction"
      ]
    },
    {
      "cell_type": "code",
      "metadata": {
        "id": "EeVu1JYwoOo-",
        "colab_type": "code",
        "colab": {
          "base_uri": "https://localhost:8080/",
          "height": 54
        },
        "outputId": "a47bf579-fd67-4688-9fcf-921c6f22395d"
      },
      "source": [
        "test_loss, test_accuracy = model.evaluate(X_test, y_test)"
      ],
      "execution_count": 23,
      "outputs": [
        {
          "output_type": "stream",
          "text": [
            "10000/10000 [==============================] - 0s 42us/sample - loss: 0.3572 - sparse_categorical_accuracy: 0.8921\n"
          ],
          "name": "stdout"
        }
      ]
    },
    {
      "cell_type": "code",
      "metadata": {
        "id": "k7mOkrS5s3js",
        "colab_type": "code",
        "colab": {
          "base_uri": "https://localhost:8080/",
          "height": 34
        },
        "outputId": "123a2807-89d0-45ca-de19-f6825e15a8ab"
      },
      "source": [
        "print(f'Test Accuracy is {test_accuracy}')"
      ],
      "execution_count": 24,
      "outputs": [
        {
          "output_type": "stream",
          "text": [
            "Test Accuracy is 0.8920999765396118\n"
          ],
          "name": "stdout"
        }
      ]
    },
    {
      "cell_type": "code",
      "metadata": {
        "id": "SB1D6AHabQlK",
        "colab_type": "code",
        "colab": {}
      },
      "source": [
        ""
      ],
      "execution_count": 0,
      "outputs": []
    }
  ]
}