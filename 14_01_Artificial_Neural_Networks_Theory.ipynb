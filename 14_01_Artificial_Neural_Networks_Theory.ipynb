{
  "nbformat": 4,
  "nbformat_minor": 0,
  "metadata": {
    "colab": {
      "name": "14-01 Artificial Neural Networks Theory.ipynb",
      "version": "0.3.2",
      "provenance": []
    },
    "kernelspec": {
      "name": "python3",
      "display_name": "Python 3"
    },
    "accelerator": "GPU"
  },
  "cells": [
    {
      "cell_type": "markdown",
      "metadata": {
        "id": "sX0iNgFBdp01",
        "colab_type": "text"
      },
      "source": [
        "## Things we will learn:\n",
        "\n",
        " * The Neuron\n",
        " \n",
        " * Activation Function\n",
        " \n",
        " * How do Neural Networks work? (example)\n",
        " \n",
        " * Gradient Descent\n",
        " \n",
        " * Stochastic Gradient Descent\n",
        " \n",
        " * Backpropagation\n",
        " \n",
        " \n",
        " "
      ]
    },
    {
      "cell_type": "markdown",
      "metadata": {
        "id": "qJkSxzvBek5W",
        "colab_type": "text"
      },
      "source": [
        "## The Neuron\n",
        "\n",
        "![alt text](https://i.imgur.com/yBbaK2V.png)\n",
        "\n",
        "* dendrites act like a receiver\n",
        "\n",
        "* axons act as the transmitter\n",
        "\n",
        "* By itself, useless\n",
        "\n",
        "* In groups, can do a lot \n",
        "\n",
        "\n",
        "![alt text](https://i.imgur.com/6I6W04h.png)\n",
        "\n",
        "* visual example signal being passed is a synapse.\n",
        "\n",
        "## How do we replicate that in ML?\n",
        "\n",
        "![alt text](https://i.imgur.com/nIeHdO5.png)\n",
        "\n",
        "* See the family resemblence? \n",
        "  \n",
        "![alt text](https://i.imgur.com/UkJW2HV.png)\n",
        "  \n",
        "![alt text](https://i.imgur.com/w1TJJ7b.png)\n",
        "  \n",
        "  \n",
        "## More reading:\n",
        "\n",
        "**Efficient BackProp**\n",
        "By Yann LeChun et al. (1998)\n",
        "\n",
        "http://yann.lecun.com/exdb/publis/pdf/lecun-98b.pdf\n",
        "\n",
        "\n",
        "### Output value :\n",
        "\n",
        "Can be:\n",
        "  * Continuous (price)\n",
        "  \n",
        "  * Binary (will exit yes/no)\n",
        "  \n",
        "  * Categorical so it might look like bellow. \n",
        "\n",
        "  \n",
        "![alt text](https://i.imgur.com/ClOT5kp.png)\n",
        "  \n",
        "  for both the input and output we have the same single observation. \n",
        "  \n",
        "  \n",
        "###The \"Synapses\"\n",
        "\n",
        "They are the wieghts in our inputs. \n",
        "\n",
        "\n",
        "  \n",
        "![alt text](https://i.imgur.com/1KnXRNh.png)\n",
        "\n",
        "## So what's going on in the neuron?\n",
        "\n",
        "* first step is it's adding all the values \n",
        "\n",
        "![alt text](https://i.imgur.com/MWqLQvU.png)\n",
        "\n",
        "* then an activation function\n",
        "\n",
        "![alt text](https://i.imgur.com/qI5rqvY.png)\n",
        "\n",
        "* finally it passes on to the next neuron down the line \n",
        "\n",
        "![alt text](https://i.imgur.com/s29kDkg.png)\n",
        "\n"
      ]
    },
    {
      "cell_type": "markdown",
      "metadata": {
        "id": "EHKaNpOiuSKy",
        "colab_type": "text"
      },
      "source": [
        "# "
      ]
    }
  ]
}