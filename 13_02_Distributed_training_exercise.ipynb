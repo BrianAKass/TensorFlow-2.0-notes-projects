{
  "nbformat": 4,
  "nbformat_minor": 0,
  "metadata": {
    "colab": {
      "name": "13-02 Distributed training exercise.ipynb",
      "version": "0.3.2",
      "provenance": []
    },
    "kernelspec": {
      "name": "python3",
      "display_name": "Python 3"
    },
    "accelerator": "GPU"
  },
  "cells": [
    {
      "cell_type": "markdown",
      "metadata": {
        "id": "8C4EDOrWb6IP",
        "colab_type": "text"
      },
      "source": [
        "## Step 1 Install Dependencis "
      ]
    },
    {
      "cell_type": "code",
      "metadata": {
        "id": "_ejTYXqCbV3h",
        "colab_type": "code",
        "colab": {}
      },
      "source": [
        "!pip install -q tensorflow-gpu==2.0.0-beta1"
      ],
      "execution_count": 0,
      "outputs": []
    },
    {
      "cell_type": "markdown",
      "metadata": {
        "id": "DTUgok7Yd67-",
        "colab_type": "text"
      },
      "source": [
        "## Step 2 Imports"
      ]
    },
    {
      "cell_type": "code",
      "metadata": {
        "id": "q4bCAsPvcUyR",
        "colab_type": "code",
        "colab": {
          "base_uri": "https://localhost:8080/",
          "height": 34
        },
        "outputId": "48fd2e0e-ff00-4265-f84b-15ce1a4dcb5d"
      },
      "source": [
        "import time\n",
        "import numpy as np\n",
        "import tensorflow as tf\n",
        "tf.__version__"
      ],
      "execution_count": 2,
      "outputs": [
        {
          "output_type": "execute_result",
          "data": {
            "text/plain": [
              "'2.0.0-beta1'"
            ]
          },
          "metadata": {
            "tags": []
          },
          "execution_count": 2
        }
      ]
    },
    {
      "cell_type": "markdown",
      "metadata": {
        "id": "L6Li6vpBd5ho",
        "colab_type": "text"
      },
      "source": [
        "## Step 3 Dataset Preprocessing"
      ]
    },
    {
      "cell_type": "markdown",
      "metadata": {
        "id": "lKMPOBUzduCL",
        "colab_type": "text"
      },
      "source": [
        "### Loading the MNIST Dataset"
      ]
    },
    {
      "cell_type": "code",
      "metadata": {
        "id": "66yWvZqGc9LE",
        "colab_type": "code",
        "colab": {}
      },
      "source": [
        "(X_train,y_train),(X_test,y_test) = tf.keras.datasets.mnist.load_data()"
      ],
      "execution_count": 0,
      "outputs": []
    },
    {
      "cell_type": "markdown",
      "metadata": {
        "id": "sEEaJL5Ndxng",
        "colab_type": "text"
      },
      "source": [
        "### Image Normalization"
      ]
    },
    {
      "cell_type": "code",
      "metadata": {
        "id": "GuHTs-aQeZ7f",
        "colab_type": "code",
        "colab": {}
      },
      "source": [
        "X_train = X_train / 255.\n",
        "X_test = X_test / 255."
      ],
      "execution_count": 0,
      "outputs": []
    },
    {
      "cell_type": "code",
      "metadata": {
        "id": "gMgqRUXQe3y5",
        "colab_type": "code",
        "colab": {
          "base_uri": "https://localhost:8080/",
          "height": 34
        },
        "outputId": "cb72cd03-6cc5-4183-f7cd-1fec39824d8b"
      },
      "source": [
        "X_train.shape"
      ],
      "execution_count": 5,
      "outputs": [
        {
          "output_type": "execute_result",
          "data": {
            "text/plain": [
              "(60000, 28, 28)"
            ]
          },
          "metadata": {
            "tags": []
          },
          "execution_count": 5
        }
      ]
    },
    {
      "cell_type": "markdown",
      "metadata": {
        "id": "L4ZWtuONeaqv",
        "colab_type": "text"
      },
      "source": [
        "### Dataset reshaping"
      ]
    },
    {
      "cell_type": "code",
      "metadata": {
        "id": "WXxf5xDieeC5",
        "colab_type": "code",
        "colab": {}
      },
      "source": [
        "X_train = X_train.reshape(-1,28*28)\n",
        "X_test = X_test.reshape(-1,28*28)"
      ],
      "execution_count": 0,
      "outputs": []
    },
    {
      "cell_type": "code",
      "metadata": {
        "id": "W3edcafgfMHo",
        "colab_type": "code",
        "colab": {
          "base_uri": "https://localhost:8080/",
          "height": 34
        },
        "outputId": "619ba2a3-6b9c-4c16-fed0-2f2291d8a81f"
      },
      "source": [
        "X_train.shape"
      ],
      "execution_count": 7,
      "outputs": [
        {
          "output_type": "execute_result",
          "data": {
            "text/plain": [
              "(60000, 784)"
            ]
          },
          "metadata": {
            "tags": []
          },
          "execution_count": 7
        }
      ]
    },
    {
      "cell_type": "markdown",
      "metadata": {
        "id": "Mpl_jkHlfYKt",
        "colab_type": "text"
      },
      "source": [
        "## Step 4 Distributed Training"
      ]
    },
    {
      "cell_type": "markdown",
      "metadata": {
        "id": "cXIp6-AafgSn",
        "colab_type": "text"
      },
      "source": [
        "### Defining a non distributed model"
      ]
    },
    {
      "cell_type": "code",
      "metadata": {
        "id": "ayqRRmE3fPaE",
        "colab_type": "code",
        "colab": {}
      },
      "source": [
        "model_normal = tf.keras.models.Sequential()"
      ],
      "execution_count": 0,
      "outputs": []
    },
    {
      "cell_type": "markdown",
      "metadata": {
        "id": "4rqPovaWnUHd",
        "colab_type": "text"
      },
      "source": [
        "### Building the non distributed model"
      ]
    },
    {
      "cell_type": "code",
      "metadata": {
        "id": "K539C57VnIIE",
        "colab_type": "code",
        "colab": {}
      },
      "source": [
        "model_normal.add(tf.keras.layers.Dense(units=128, activation = 'relu', input_shape=(784,)))"
      ],
      "execution_count": 0,
      "outputs": []
    },
    {
      "cell_type": "code",
      "metadata": {
        "id": "Np1AQKX9oXSC",
        "colab_type": "code",
        "colab": {}
      },
      "source": [
        "model_normal.add(tf.keras.layers.Dropout(rate=0.2))"
      ],
      "execution_count": 0,
      "outputs": []
    },
    {
      "cell_type": "code",
      "metadata": {
        "id": "ph9mD081olG0",
        "colab_type": "code",
        "colab": {}
      },
      "source": [
        "#output layer. must have same number of units as classes in dataset\n",
        "model_normal.add(tf.keras.layers.Dense(units = 10, activation = 'softmax'))"
      ],
      "execution_count": 0,
      "outputs": []
    },
    {
      "cell_type": "markdown",
      "metadata": {
        "id": "7tN986Hwovol",
        "colab_type": "text"
      },
      "source": [
        "### Compile the model"
      ]
    },
    {
      "cell_type": "code",
      "metadata": {
        "id": "BfaqCEQ3ozGl",
        "colab_type": "code",
        "colab": {
          "base_uri": "https://localhost:8080/",
          "height": 255
        },
        "outputId": "d5516d48-9aa1-4e02-b77b-c5e6e109f391"
      },
      "source": [
        "model_normal.compile(optimizer = 'adam', loss = 'sparse_categorical_crossentropy', metrics = ['sparse_categorical_accuracy'])\n",
        "model_normal.summary()"
      ],
      "execution_count": 12,
      "outputs": [
        {
          "output_type": "stream",
          "text": [
            "Model: \"sequential\"\n",
            "_________________________________________________________________\n",
            "Layer (type)                 Output Shape              Param #   \n",
            "=================================================================\n",
            "dense (Dense)                (None, 128)               100480    \n",
            "_________________________________________________________________\n",
            "dropout (Dropout)            (None, 128)               0         \n",
            "_________________________________________________________________\n",
            "dense_1 (Dense)              (None, 10)                1290      \n",
            "=================================================================\n",
            "Total params: 101,770\n",
            "Trainable params: 101,770\n",
            "Non-trainable params: 0\n",
            "_________________________________________________________________\n"
          ],
          "name": "stdout"
        }
      ]
    },
    {
      "cell_type": "markdown",
      "metadata": {
        "id": "5Eg7vBQ0pi3d",
        "colab_type": "text"
      },
      "source": [
        "### Defining the Distributed Strategy"
      ]
    },
    {
      "cell_type": "code",
      "metadata": {
        "id": "GTTDFvM0pTpx",
        "colab_type": "code",
        "colab": {}
      },
      "source": [
        "distribute = tf.distribute.MirroredStrategy()"
      ],
      "execution_count": 0,
      "outputs": []
    },
    {
      "cell_type": "markdown",
      "metadata": {
        "id": "QJVfotFg9lE-",
        "colab_type": "text"
      },
      "source": [
        "### Defining a Distributed Model"
      ]
    },
    {
      "cell_type": "code",
      "metadata": {
        "id": "FpadQnE_9kyu",
        "colab_type": "code",
        "colab": {}
      },
      "source": [
        "with distribute.scope():\n",
        "  model_distributed = tf.keras.models.Sequential()\n",
        "  model_distributed.add(tf.keras.layers.Dense(units=128, activation='relu', input_shape=(784,)))\n",
        "  model_distributed.add(tf.keras.layers.Dropout(rate = 0.2))\n",
        "  model_distributed.add(tf.keras.layers.Dense(units=10, activation = 'softmax'))\n",
        "  model_distributed.compile(optimizer = 'adam', loss = 'sparse_categorical_crossentropy', metrics = ['sparse_categorical_accuracy'])"
      ],
      "execution_count": 0,
      "outputs": []
    },
    {
      "cell_type": "markdown",
      "metadata": {
        "id": "tbt5e64B-9Tc",
        "colab_type": "text"
      },
      "source": [
        "##Speed comparison for proof of concept. "
      ]
    },
    {
      "cell_type": "code",
      "metadata": {
        "id": "EIXB8Jsi-zY5",
        "colab_type": "code",
        "colab": {
          "base_uri": "https://localhost:8080/",
          "height": 411
        },
        "outputId": "cf95663f-f65d-4e15-aa89-d57735092739"
      },
      "source": [
        "start_time = time.time()\n",
        "model_distributed.fit(X_train,y_train, epochs = 10, batch_size=25)\n",
        "print(f\"Distributed training took: {time.time()-start_time}\")"
      ],
      "execution_count": 15,
      "outputs": [
        {
          "output_type": "stream",
          "text": [
            "Train on 2400 steps\n",
            "Epoch 1/10\n",
            "2400/2400 [==============================] - 14s 6ms/step - loss: 0.2785 - sparse_categorical_accuracy: 0.9191\n",
            "Epoch 2/10\n",
            "2400/2400 [==============================] - 10s 4ms/step - loss: 0.1388 - sparse_categorical_accuracy: 0.9584\n",
            "Epoch 3/10\n",
            "2400/2400 [==============================] - 11s 4ms/step - loss: 0.1059 - sparse_categorical_accuracy: 0.9672\n",
            "Epoch 4/10\n",
            "2400/2400 [==============================] - 11s 5ms/step - loss: 0.0871 - sparse_categorical_accuracy: 0.9729\n",
            "Epoch 5/10\n",
            "2400/2400 [==============================] - 11s 4ms/step - loss: 0.0746 - sparse_categorical_accuracy: 0.9758\n",
            "Epoch 6/10\n",
            "2400/2400 [==============================] - 11s 4ms/step - loss: 0.0642 - sparse_categorical_accuracy: 0.9797\n",
            "Epoch 7/10\n",
            "2400/2400 [==============================] - 10s 4ms/step - loss: 0.0578 - sparse_categorical_accuracy: 0.9807\n",
            "Epoch 8/10\n",
            "2400/2400 [==============================] - 11s 4ms/step - loss: 0.0527 - sparse_categorical_accuracy: 0.9833\n",
            "Epoch 9/10\n",
            "2400/2400 [==============================] - 10s 4ms/step - loss: 0.0478 - sparse_categorical_accuracy: 0.9843\n",
            "Epoch 10/10\n",
            "2400/2400 [==============================] - 10s 4ms/step - loss: 0.0427 - sparse_categorical_accuracy: 0.9857\n",
            "Distributed training took: 110.29052472114563\n"
          ],
          "name": "stdout"
        }
      ]
    },
    {
      "cell_type": "code",
      "metadata": {
        "id": "ae1rP9Qa_Pr8",
        "colab_type": "code",
        "colab": {
          "base_uri": "https://localhost:8080/",
          "height": 479
        },
        "outputId": "ef85ad40-b29d-4362-9b8f-d4967189e78b"
      },
      "source": [
        "start_time = time.time()\n",
        "model_normal.fit(X_train,y_train, epochs = 10, batch_size=25)\n",
        "print(f\"Nomal training took: {time.time()-start_time}\")"
      ],
      "execution_count": 16,
      "outputs": [
        {
          "output_type": "stream",
          "text": [
            "WARNING: Logging before flag parsing goes to stderr.\n",
            "W0813 17:28:11.423160 140708692191104 deprecation.py:323] From /usr/local/lib/python3.6/dist-packages/tensorflow/python/ops/math_grad.py:1250: add_dispatch_support.<locals>.wrapper (from tensorflow.python.ops.array_ops) is deprecated and will be removed in a future version.\n",
            "Instructions for updating:\n",
            "Use tf.where in 2.0, which has the same broadcast rule as np.where\n"
          ],
          "name": "stderr"
        },
        {
          "output_type": "stream",
          "text": [
            "Train on 60000 samples\n",
            "Epoch 1/10\n",
            "60000/60000 [==============================] - 12s 202us/sample - loss: 0.2807 - sparse_categorical_accuracy: 0.9176\n",
            "Epoch 2/10\n",
            "60000/60000 [==============================] - 13s 222us/sample - loss: 0.1370 - sparse_categorical_accuracy: 0.9585\n",
            "Epoch 3/10\n",
            "60000/60000 [==============================] - 13s 209us/sample - loss: 0.1027 - sparse_categorical_accuracy: 0.9687\n",
            "Epoch 4/10\n",
            "60000/60000 [==============================] - 12s 204us/sample - loss: 0.0851 - sparse_categorical_accuracy: 0.9733\n",
            "Epoch 5/10\n",
            "60000/60000 [==============================] - 12s 206us/sample - loss: 0.0740 - sparse_categorical_accuracy: 0.9768\n",
            "Epoch 6/10\n",
            "60000/60000 [==============================] - 12s 204us/sample - loss: 0.0636 - sparse_categorical_accuracy: 0.9793\n",
            "Epoch 7/10\n",
            "60000/60000 [==============================] - 12s 200us/sample - loss: 0.0577 - sparse_categorical_accuracy: 0.9811\n",
            "Epoch 8/10\n",
            "60000/60000 [==============================] - 12s 203us/sample - loss: 0.0535 - sparse_categorical_accuracy: 0.9822\n",
            "Epoch 9/10\n",
            "60000/60000 [==============================] - 12s 200us/sample - loss: 0.0458 - sparse_categorical_accuracy: 0.9840\n",
            "Epoch 10/10\n",
            "60000/60000 [==============================] - 12s 200us/sample - loss: 0.0443 - sparse_categorical_accuracy: 0.9848\n",
            "Nomal training took: 123.63989973068237\n"
          ],
          "name": "stdout"
        }
      ]
    }
  ]
}