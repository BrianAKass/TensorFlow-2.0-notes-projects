{
  "nbformat": 4,
  "nbformat_minor": 0,
  "metadata": {
    "colab": {
      "name": "04-02 Building a Recurrent Neural network in Tensorflow 2.0.ipynb",
      "version": "0.3.2",
      "provenance": []
    },
    "kernelspec": {
      "name": "python3",
      "display_name": "Python 3"
    },
    "accelerator": "GPU"
  },
  "cells": [
    {
      "cell_type": "markdown",
      "metadata": {
        "id": "pyQ3w2D2RzPr",
        "colab_type": "text"
      },
      "source": [
        "## Installing Dependencies and setting up a GPU enviornment\n",
        "\n"
      ]
    },
    {
      "cell_type": "code",
      "metadata": {
        "id": "fucaq-rHMMUO",
        "colab_type": "code",
        "colab": {}
      },
      "source": [
        "#!pip install -q tensorflow-gpu==2.0.0-beta1"
      ],
      "execution_count": 0,
      "outputs": []
    },
    {
      "cell_type": "markdown",
      "metadata": {
        "id": "-oMeI195SdjX",
        "colab_type": "text"
      },
      "source": [
        "## Importing the  libraries"
      ]
    },
    {
      "cell_type": "code",
      "metadata": {
        "id": "XySOjum5SE8w",
        "colab_type": "code",
        "colab": {}
      },
      "source": [
        "import tensorflow as tf\n",
        "from tensorflow.keras.datasets import imdb \n",
        "import numpy as np"
      ],
      "execution_count": 0,
      "outputs": []
    },
    {
      "cell_type": "code",
      "metadata": {
        "id": "55GHUpEgS2ii",
        "colab_type": "code",
        "outputId": "8f248203-7505-4e10-c651-009d04fe9ab9",
        "colab": {
          "base_uri": "https://localhost:8080/",
          "height": 34
        }
      },
      "source": [
        "tf.__version__"
      ],
      "execution_count": 3,
      "outputs": [
        {
          "output_type": "execute_result",
          "data": {
            "text/plain": [
              "'2.0.0-beta1'"
            ]
          },
          "metadata": {
            "tags": []
          },
          "execution_count": 3
        }
      ]
    },
    {
      "cell_type": "markdown",
      "metadata": {
        "id": "HD3mTReBTNVg",
        "colab_type": "text"
      },
      "source": [
        "## Step 3 Data Processing"
      ]
    },
    {
      "cell_type": "markdown",
      "metadata": {
        "id": "9eH90eHkTScQ",
        "colab_type": "text"
      },
      "source": [
        "### Setting up the dataset parameters"
      ]
    },
    {
      "cell_type": "code",
      "metadata": {
        "id": "NKjENqfZTEoK",
        "colab_type": "code",
        "colab": {}
      },
      "source": [
        "number_of_words = 20000\n",
        "max_len = 100"
      ],
      "execution_count": 0,
      "outputs": []
    },
    {
      "cell_type": "markdown",
      "metadata": {
        "id": "006n-XQjTzax",
        "colab_type": "text"
      },
      "source": [
        "### Loading the IMDB dataset"
      ]
    },
    {
      "cell_type": "code",
      "metadata": {
        "id": "xoy2lwwvT9xK",
        "colab_type": "code",
        "colab": {}
      },
      "source": [
        "# # imdb wouldnt load d\n",
        "\n",
        "# import numpy as np\n",
        "# # save np.load\n",
        "# np_load_old = np.load\n",
        "\n",
        "# # modify the default parameters of np.load\n",
        "# np.load = lambda *a,**k: np_load_old(*a, allow_pickle=True, **k)\n",
        "\n",
        "# call load_data with allow_pickle implicitly set to true\n",
        "(X_train, y_train), (X_test, y_test) = imdb.load_data(num_words=number_of_words)\n",
        "\n",
        "# # restore np.load for future normal usage\n",
        "# np.load = np_load_old"
      ],
      "execution_count": 0,
      "outputs": []
    },
    {
      "cell_type": "markdown",
      "metadata": {
        "id": "SBOkcFdzUm-c",
        "colab_type": "text"
      },
      "source": [
        "### Padding all sequences to be the same length"
      ]
    },
    {
      "cell_type": "code",
      "metadata": {
        "id": "5-mBtlabUt6p",
        "colab_type": "code",
        "colab": {}
      },
      "source": [
        "X_train = tf.keras.preprocessing.sequence.pad_sequences(X_train, maxlen=max_len)"
      ],
      "execution_count": 0,
      "outputs": []
    },
    {
      "cell_type": "code",
      "metadata": {
        "id": "_Edlpt-sV4fG",
        "colab_type": "code",
        "colab": {}
      },
      "source": [
        "X_test = tf.keras.preprocessing.sequence.pad_sequences(X_test, maxlen=max_len)"
      ],
      "execution_count": 0,
      "outputs": []
    },
    {
      "cell_type": "markdown",
      "metadata": {
        "id": "UKBBAWZ2iUBO",
        "colab_type": "text"
      },
      "source": [
        "## Building a Recurrent Neural Network"
      ]
    },
    {
      "cell_type": "markdown",
      "metadata": {
        "id": "NbILvdCuifqW",
        "colab_type": "text"
      },
      "source": [
        "### Defining the model"
      ]
    },
    {
      "cell_type": "code",
      "metadata": {
        "id": "UKVzZhu4iaAY",
        "colab_type": "code",
        "colab": {}
      },
      "source": [
        "model = tf.keras.Sequential()"
      ],
      "execution_count": 0,
      "outputs": []
    },
    {
      "cell_type": "markdown",
      "metadata": {
        "id": "niRdsn93iixS",
        "colab_type": "text"
      },
      "source": [
        "### Adding the embedding layer"
      ]
    },
    {
      "cell_type": "code",
      "metadata": {
        "id": "v7THrdkQilKP",
        "colab_type": "code",
        "colab": {}
      },
      "source": [
        "model.add(tf.keras.layers.Embedding(input_dim=number_of_words,output_dim=128,input_shape = (X_train.shape[1],)))"
      ],
      "execution_count": 0,
      "outputs": []
    },
    {
      "cell_type": "markdown",
      "metadata": {
        "colab_type": "text",
        "id": "rX1KC-AiG-Pa"
      },
      "source": [
        "### Add Dropout layer\n",
        "\n"
      ]
    },
    {
      "cell_type": "code",
      "metadata": {
        "colab_type": "code",
        "id": "VvZiky0iG-Pb",
        "outputId": "5931c5c0-e3f0-4231-e7e0-bb91634b7b4c",
        "colab": {
          "base_uri": "https://localhost:8080/",
          "height": 72
        }
      },
      "source": [
        "model.add(tf.keras.layers.Dropout(0.9))"
      ],
      "execution_count": 10,
      "outputs": [
        {
          "output_type": "stream",
          "text": [
            "WARNING: Logging before flag parsing goes to stderr.\n",
            "W0806 14:07:56.139035 140598775900032 nn_ops.py:4220] Large dropout rate: 0.9 (>0.5). In TensorFlow 2.x, dropout() uses dropout rate instead of keep_prob. Please ensure that this is intended.\n"
          ],
          "name": "stderr"
        }
      ]
    },
    {
      "cell_type": "markdown",
      "metadata": {
        "id": "x4KuFvoMi8yO",
        "colab_type": "text"
      },
      "source": [
        "### Adding the LSTM layer\n",
        "  * units: 128\n",
        "  * activation: tanh"
      ]
    },
    {
      "cell_type": "code",
      "metadata": {
        "id": "CkM_f7tIjAN_",
        "colab_type": "code",
        "colab": {}
      },
      "source": [
        "model.add(tf.keras.layers.LSTM(units=128,activation ='tanh'))"
      ],
      "execution_count": 0,
      "outputs": []
    },
    {
      "cell_type": "markdown",
      "metadata": {
        "colab_type": "text",
        "id": "-W--3ZFrNjYY"
      },
      "source": [
        "### Add Dropout layer\n",
        "\n"
      ]
    },
    {
      "cell_type": "code",
      "metadata": {
        "colab_type": "code",
        "id": "-S86zEQ5NjYg",
        "colab": {}
      },
      "source": [
        "model.add(tf.keras.layers.Dropout(0.1))"
      ],
      "execution_count": 0,
      "outputs": []
    },
    {
      "cell_type": "markdown",
      "metadata": {
        "id": "m5x7cOLSjcbC",
        "colab_type": "text"
      },
      "source": [
        "### Adding the output layer\n",
        "  * Units: 1\n",
        "  * Activation: sigmoid"
      ]
    },
    {
      "cell_type": "code",
      "metadata": {
        "id": "0puVVEvWjYd_",
        "colab_type": "code",
        "colab": {}
      },
      "source": [
        "model.add(tf.keras.layers.Dense(units = 1, activation='sigmoid'))"
      ],
      "execution_count": 0,
      "outputs": []
    },
    {
      "cell_type": "markdown",
      "metadata": {
        "id": "os_rxKqMjx-q",
        "colab_type": "text"
      },
      "source": [
        "## Compiling the model"
      ]
    },
    {
      "cell_type": "code",
      "metadata": {
        "id": "a_J_ShvpjvkP",
        "colab_type": "code",
        "colab": {}
      },
      "source": [
        "model.compile(optimizer='rmsprop', loss='binary_crossentropy', metrics=['accuracy'])"
      ],
      "execution_count": 0,
      "outputs": []
    },
    {
      "cell_type": "code",
      "metadata": {
        "id": "lL0frW26kBz-",
        "colab_type": "code",
        "outputId": "80925fbe-d7a3-4c58-897d-79a32e7226ef",
        "colab": {
          "base_uri": "https://localhost:8080/",
          "height": 336
        }
      },
      "source": [
        "model.summary()"
      ],
      "execution_count": 15,
      "outputs": [
        {
          "output_type": "stream",
          "text": [
            "Model: \"sequential\"\n",
            "_________________________________________________________________\n",
            "Layer (type)                 Output Shape              Param #   \n",
            "=================================================================\n",
            "embedding (Embedding)        (None, 100, 128)          2560000   \n",
            "_________________________________________________________________\n",
            "dropout (Dropout)            (None, 100, 128)          0         \n",
            "_________________________________________________________________\n",
            "lstm (LSTM)                  (None, 128)               131584    \n",
            "_________________________________________________________________\n",
            "dropout_1 (Dropout)          (None, 128)               0         \n",
            "_________________________________________________________________\n",
            "dense (Dense)                (None, 1)                 129       \n",
            "=================================================================\n",
            "Total params: 2,691,713\n",
            "Trainable params: 2,691,713\n",
            "Non-trainable params: 0\n",
            "_________________________________________________________________\n"
          ],
          "name": "stdout"
        }
      ]
    },
    {
      "cell_type": "code",
      "metadata": {
        "id": "JDSLK5q9kC5X",
        "colab_type": "code",
        "outputId": "71494559-75bc-4b3b-db9f-4d9e0b8ae4c8",
        "colab": {
          "base_uri": "https://localhost:8080/",
          "height": 481
        }
      },
      "source": [
        "model.fit(X_train,y_train,epochs = 10,)"
      ],
      "execution_count": 16,
      "outputs": [
        {
          "output_type": "stream",
          "text": [
            "W0806 14:07:58.029136 140598775900032 deprecation.py:323] From /usr/local/lib/python3.6/dist-packages/tensorflow/python/ops/math_grad.py:1250: add_dispatch_support.<locals>.wrapper (from tensorflow.python.ops.array_ops) is deprecated and will be removed in a future version.\n",
            "Instructions for updating:\n",
            "Use tf.where in 2.0, which has the same broadcast rule as np.where\n"
          ],
          "name": "stderr"
        },
        {
          "output_type": "stream",
          "text": [
            "Train on 25000 samples\n",
            "Epoch 1/10\n",
            "25000/25000 [==============================] - 28s 1ms/sample - loss: 0.5410 - accuracy: 0.7195\n",
            "Epoch 2/10\n",
            "25000/25000 [==============================] - 30s 1ms/sample - loss: 0.4002 - accuracy: 0.8254\n",
            "Epoch 3/10\n",
            "25000/25000 [==============================] - 26s 1ms/sample - loss: 0.3614 - accuracy: 0.8433\n",
            "Epoch 4/10\n",
            "25000/25000 [==============================] - 27s 1ms/sample - loss: 0.3416 - accuracy: 0.8538\n",
            "Epoch 5/10\n",
            "25000/25000 [==============================] - 35s 1ms/sample - loss: 0.3251 - accuracy: 0.8626\n",
            "Epoch 6/10\n",
            "25000/25000 [==============================] - 35s 1ms/sample - loss: 0.3150 - accuracy: 0.8672\n",
            "Epoch 7/10\n",
            "25000/25000 [==============================] - 34s 1ms/sample - loss: 0.3078 - accuracy: 0.8732\n",
            "Epoch 8/10\n",
            "25000/25000 [==============================] - 36s 1ms/sample - loss: 0.2995 - accuracy: 0.8753\n",
            "Epoch 9/10\n",
            "25000/25000 [==============================] - 34s 1ms/sample - loss: 0.2926 - accuracy: 0.8776\n",
            "Epoch 10/10\n",
            "25000/25000 [==============================] - 36s 1ms/sample - loss: 0.2888 - accuracy: 0.8813\n"
          ],
          "name": "stdout"
        },
        {
          "output_type": "execute_result",
          "data": {
            "text/plain": [
              "<tensorflow.python.keras.callbacks.History at 0x7fdf3a5df4a8>"
            ]
          },
          "metadata": {
            "tags": []
          },
          "execution_count": 16
        }
      ]
    },
    {
      "cell_type": "code",
      "metadata": {
        "id": "xLCXuM_zkM4f",
        "colab_type": "code",
        "outputId": "4d8932ee-ef59-42d1-c11c-bbe0d2da832b",
        "colab": {
          "base_uri": "https://localhost:8080/",
          "height": 52
        }
      },
      "source": [
        "test_loss, test_accuracy = model.evaluate(X_test,y_test)\n",
        "print(f'Test Accuracy : {test_accuracy*100}%')"
      ],
      "execution_count": 17,
      "outputs": [
        {
          "output_type": "stream",
          "text": [
            "25000/25000 [==============================] - 8s 335us/sample - loss: 0.3280 - accuracy: 0.8616\n",
            "Test Accuracy : 86.15999817848206%\n"
          ],
          "name": "stdout"
        }
      ]
    },
    {
      "cell_type": "code",
      "metadata": {
        "id": "sSse5izmkZPm",
        "colab_type": "code",
        "colab": {}
      },
      "source": [
        ""
      ],
      "execution_count": 0,
      "outputs": []
    }
  ]
}