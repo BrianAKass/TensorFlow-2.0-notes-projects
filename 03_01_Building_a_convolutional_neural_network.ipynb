{
  "nbformat": 4,
  "nbformat_minor": 0,
  "metadata": {
    "colab": {
      "name": "03-01 Building a convolutional neural network.ipynb",
      "version": "0.3.2",
      "provenance": []
    },
    "kernelspec": {
      "name": "python3",
      "display_name": "Python 3"
    },
    "accelerator": "GPU"
  },
  "cells": [
    {
      "cell_type": "markdown",
      "metadata": {
        "id": "pdvsoK5SsD-7",
        "colab_type": "text"
      },
      "source": [
        "# Install 2.0 and GPU setup"
      ]
    },
    {
      "cell_type": "code",
      "metadata": {
        "id": "Ovd9NWa-qL0V",
        "colab_type": "code",
        "outputId": "8fa0dd0e-c75e-4cf0-ff1a-1e12be48d688",
        "colab": {
          "base_uri": "https://localhost:8080/",
          "height": 513
        }
      },
      "source": [
        "pip install tensorflow-gpu==2.0.0-beta1 \n"
      ],
      "execution_count": 1,
      "outputs": [
        {
          "output_type": "stream",
          "text": [
            "Collecting tensorflow-gpu==2.0.0-beta1\n",
            "\u001b[?25l  Downloading https://files.pythonhosted.org/packages/2b/53/e18c5e7a2263d3581a979645a185804782e59b8e13f42b9c3c3cfb5bb503/tensorflow_gpu-2.0.0b1-cp36-cp36m-manylinux1_x86_64.whl (348.9MB)\n",
            "\u001b[K     |████████████████████████████████| 348.9MB 35kB/s \n",
            "\u001b[?25hRequirement already satisfied: keras-preprocessing>=1.0.5 in /usr/local/lib/python3.6/dist-packages (from tensorflow-gpu==2.0.0-beta1) (1.1.0)\n",
            "Requirement already satisfied: numpy<2.0,>=1.14.5 in /usr/local/lib/python3.6/dist-packages (from tensorflow-gpu==2.0.0-beta1) (1.16.4)\n",
            "Requirement already satisfied: six>=1.10.0 in /usr/local/lib/python3.6/dist-packages (from tensorflow-gpu==2.0.0-beta1) (1.12.0)\n",
            "Requirement already satisfied: gast>=0.2.0 in /usr/local/lib/python3.6/dist-packages (from tensorflow-gpu==2.0.0-beta1) (0.2.2)\n",
            "Collecting tb-nightly<1.14.0a20190604,>=1.14.0a20190603 (from tensorflow-gpu==2.0.0-beta1)\n",
            "\u001b[?25l  Downloading https://files.pythonhosted.org/packages/a4/96/571b875cd81dda9d5dfa1422a4f9d749e67c0a8d4f4f0b33a4e5f5f35e27/tb_nightly-1.14.0a20190603-py3-none-any.whl (3.1MB)\n",
            "\u001b[K     |████████████████████████████████| 3.1MB 36.6MB/s \n",
            "\u001b[?25hRequirement already satisfied: keras-applications>=1.0.6 in /usr/local/lib/python3.6/dist-packages (from tensorflow-gpu==2.0.0-beta1) (1.0.8)\n",
            "Requirement already satisfied: wheel>=0.26 in /usr/local/lib/python3.6/dist-packages (from tensorflow-gpu==2.0.0-beta1) (0.33.4)\n",
            "Requirement already satisfied: grpcio>=1.8.6 in /usr/local/lib/python3.6/dist-packages (from tensorflow-gpu==2.0.0-beta1) (1.15.0)\n",
            "Requirement already satisfied: absl-py>=0.7.0 in /usr/local/lib/python3.6/dist-packages (from tensorflow-gpu==2.0.0-beta1) (0.7.1)\n",
            "Requirement already satisfied: wrapt>=1.11.1 in /usr/local/lib/python3.6/dist-packages (from tensorflow-gpu==2.0.0-beta1) (1.11.2)\n",
            "Requirement already satisfied: protobuf>=3.6.1 in /usr/local/lib/python3.6/dist-packages (from tensorflow-gpu==2.0.0-beta1) (3.7.1)\n",
            "Requirement already satisfied: astor>=0.6.0 in /usr/local/lib/python3.6/dist-packages (from tensorflow-gpu==2.0.0-beta1) (0.8.0)\n",
            "Requirement already satisfied: termcolor>=1.1.0 in /usr/local/lib/python3.6/dist-packages (from tensorflow-gpu==2.0.0-beta1) (1.1.0)\n",
            "Collecting tf-estimator-nightly<1.14.0.dev2019060502,>=1.14.0.dev2019060501 (from tensorflow-gpu==2.0.0-beta1)\n",
            "\u001b[?25l  Downloading https://files.pythonhosted.org/packages/32/dd/99c47dd007dcf10d63fd895611b063732646f23059c618a373e85019eb0e/tf_estimator_nightly-1.14.0.dev2019060501-py2.py3-none-any.whl (496kB)\n",
            "\u001b[K     |████████████████████████████████| 501kB 52.1MB/s \n",
            "\u001b[?25hRequirement already satisfied: google-pasta>=0.1.6 in /usr/local/lib/python3.6/dist-packages (from tensorflow-gpu==2.0.0-beta1) (0.1.7)\n",
            "Requirement already satisfied: setuptools>=41.0.0 in /usr/local/lib/python3.6/dist-packages (from tb-nightly<1.14.0a20190604,>=1.14.0a20190603->tensorflow-gpu==2.0.0-beta1) (41.0.1)\n",
            "Requirement already satisfied: werkzeug>=0.11.15 in /usr/local/lib/python3.6/dist-packages (from tb-nightly<1.14.0a20190604,>=1.14.0a20190603->tensorflow-gpu==2.0.0-beta1) (0.15.5)\n",
            "Requirement already satisfied: markdown>=2.6.8 in /usr/local/lib/python3.6/dist-packages (from tb-nightly<1.14.0a20190604,>=1.14.0a20190603->tensorflow-gpu==2.0.0-beta1) (3.1.1)\n",
            "Requirement already satisfied: h5py in /usr/local/lib/python3.6/dist-packages (from keras-applications>=1.0.6->tensorflow-gpu==2.0.0-beta1) (2.8.0)\n",
            "Installing collected packages: tb-nightly, tf-estimator-nightly, tensorflow-gpu\n",
            "Successfully installed tb-nightly-1.14.0a20190603 tensorflow-gpu-2.0.0b1 tf-estimator-nightly-1.14.0.dev2019060501\n"
          ],
          "name": "stdout"
        }
      ]
    },
    {
      "cell_type": "markdown",
      "metadata": {
        "id": "3i_o30m_snKR",
        "colab_type": "text"
      },
      "source": [
        "## Imports"
      ]
    },
    {
      "cell_type": "code",
      "metadata": {
        "id": "LNk7X0qBskq_",
        "colab_type": "code",
        "outputId": "2ffd08a0-45f6-4224-a506-c015ed93e48c",
        "colab": {
          "base_uri": "https://localhost:8080/",
          "height": 34
        }
      },
      "source": [
        "import tensorflow as tf\n",
        "import matplotlib.pyplot as plt\n",
        "from tensorflow.keras.datasets import cifar10\n",
        "\n",
        "%matplotlib inline\n",
        "tf.__version__"
      ],
      "execution_count": 2,
      "outputs": [
        {
          "output_type": "execute_result",
          "data": {
            "text/plain": [
              "'2.0.0-beta1'"
            ]
          },
          "metadata": {
            "tags": []
          },
          "execution_count": 2
        }
      ]
    },
    {
      "cell_type": "markdown",
      "metadata": {
        "id": "Ytyv2iYItt4q",
        "colab_type": "text"
      },
      "source": [
        "# Data Preprocessing\n"
      ]
    },
    {
      "cell_type": "markdown",
      "metadata": {
        "id": "er4oefottzHn",
        "colab_type": "text"
      },
      "source": [
        "### Loading the Cifar10 Dataset"
      ]
    },
    {
      "cell_type": "code",
      "metadata": {
        "id": "E1RHma8CtyYL",
        "colab_type": "code",
        "outputId": "2fa05e5f-f4ad-4914-9179-fd493952c921",
        "colab": {
          "base_uri": "https://localhost:8080/",
          "height": 187
        }
      },
      "source": [
        "#setting classnames in dataset\n",
        "\n",
        "class_names = 'airplane automobile bird cat deer dog frog horse ship truck'.split(' ')\n",
        "class_names"
      ],
      "execution_count": 3,
      "outputs": [
        {
          "output_type": "execute_result",
          "data": {
            "text/plain": [
              "['airplane',\n",
              " 'automobile',\n",
              " 'bird',\n",
              " 'cat',\n",
              " 'deer',\n",
              " 'dog',\n",
              " 'frog',\n",
              " 'horse',\n",
              " 'ship',\n",
              " 'truck']"
            ]
          },
          "metadata": {
            "tags": []
          },
          "execution_count": 3
        }
      ]
    },
    {
      "cell_type": "code",
      "metadata": {
        "id": "ceWZHHYxuIiU",
        "colab_type": "code",
        "colab": {
          "base_uri": "https://localhost:8080/",
          "height": 51
        },
        "outputId": "b960ffaf-249b-4dbb-bfe4-ad487695171b"
      },
      "source": [
        "# load dataset\n",
        "(X_train, y_train),(X_test,y_test) = cifar10.load_data()"
      ],
      "execution_count": 4,
      "outputs": [
        {
          "output_type": "stream",
          "text": [
            "Downloading data from https://www.cs.toronto.edu/~kriz/cifar-10-python.tar.gz\n",
            "170500096/170498071 [==============================] - 9s 0us/step\n"
          ],
          "name": "stdout"
        }
      ]
    },
    {
      "cell_type": "markdown",
      "metadata": {
        "id": "zQ_0CbSJvQ93",
        "colab_type": "text"
      },
      "source": [
        "### Image Normalization"
      ]
    },
    {
      "cell_type": "code",
      "metadata": {
        "id": "wNS-O_k2vNVM",
        "colab_type": "code",
        "colab": {}
      },
      "source": [
        "X_train = X_train / 255.0"
      ],
      "execution_count": 0,
      "outputs": []
    },
    {
      "cell_type": "code",
      "metadata": {
        "id": "mnBclVM_vYDT",
        "colab_type": "code",
        "outputId": "9aaf7014-9bbc-417a-fefc-db206c124da4",
        "colab": {
          "base_uri": "https://localhost:8080/",
          "height": 34
        }
      },
      "source": [
        "X_train.shape"
      ],
      "execution_count": 6,
      "outputs": [
        {
          "output_type": "execute_result",
          "data": {
            "text/plain": [
              "(50000, 32, 32, 3)"
            ]
          },
          "metadata": {
            "tags": []
          },
          "execution_count": 6
        }
      ]
    },
    {
      "cell_type": "code",
      "metadata": {
        "id": "5CPsBUvfvaBr",
        "colab_type": "code",
        "colab": {}
      },
      "source": [
        "X_test = X_test / 255.0"
      ],
      "execution_count": 0,
      "outputs": []
    },
    {
      "cell_type": "code",
      "metadata": {
        "id": "5uYG-a5zv4is",
        "colab_type": "code",
        "outputId": "52173e87-6060-4f86-dce9-05d2d6d9c6e8",
        "colab": {
          "base_uri": "https://localhost:8080/",
          "height": 286
        }
      },
      "source": [
        "plt.imshow(X_test[10])"
      ],
      "execution_count": 8,
      "outputs": [
        {
          "output_type": "execute_result",
          "data": {
            "text/plain": [
              "<matplotlib.image.AxesImage at 0x7f512a5a24a8>"
            ]
          },
          "metadata": {
            "tags": []
          },
          "execution_count": 8
        },
        {
          "output_type": "display_data",
          "data": {
            "image/png": "[encoded data removed]",
            "text/plain": [
              "<Figure size 432x288 with 1 Axes>"
            ]
          },
          "metadata": {
            "tags": []
          }
        }
      ]
    },
    {
      "cell_type": "markdown",
      "metadata": {
        "id": "b-kDMTOY2Obr",
        "colab_type": "text"
      },
      "source": [
        "## Building a Convolutional Neural Network"
      ]
    },
    {
      "cell_type": "markdown",
      "metadata": {
        "id": "0JFfu8262U-W",
        "colab_type": "text"
      },
      "source": [
        "### Defining the model\n",
        "  "
      ]
    },
    {
      "cell_type": "code",
      "metadata": {
        "id": "egTPNlEPv7qE",
        "colab_type": "code",
        "colab": {}
      },
      "source": [
        "model = tf.keras.models.Sequential()"
      ],
      "execution_count": 0,
      "outputs": []
    },
    {
      "cell_type": "markdown",
      "metadata": {
        "id": "M2OEfsfC2eOv",
        "colab_type": "text"
      },
      "source": [
        "### Adding the first convolutional layer\n",
        "\n",
        "  * filters: 32\n",
        "  * kernel_size: 3\n",
        "  *padding: same\n",
        "  * activation: relu\n",
        "  * input_shape: (32, 32, 3)"
      ]
    },
    {
      "cell_type": "code",
      "metadata": {
        "id": "UTm2kNwF2dNf",
        "colab_type": "code",
        "colab": {}
      },
      "source": [
        "model.add(tf.keras.layers.Conv2D(filters = 32, kernel_size=3, padding ='same', activation = 'relu', input_shape=[32,32,3]))"
      ],
      "execution_count": 0,
      "outputs": []
    },
    {
      "cell_type": "markdown",
      "metadata": {
        "id": "yCEBcLLB3BU9",
        "colab_type": "text"
      },
      "source": [
        "### Adding second convolutional layer and max-pooling layer\n",
        " \n",
        " CNN layer hyper-parameters:\n",
        "  * filters:32\n",
        "  * kernel_size: 3\n",
        "  * padding: same\n",
        "  * activation: relu\n",
        "  \n",
        "MaxPool layer hyper-parameters:\n",
        "  * pool_size: 2 \n",
        "  * strides: 2 \n",
        "  * padding: valid"
      ]
    },
    {
      "cell_type": "code",
      "metadata": {
        "id": "5uVaCqK73nz4",
        "colab_type": "code",
        "colab": {}
      },
      "source": [
        "model.add(tf.keras.layers.Conv2D(filters=32,kernel_size=3,padding='same',activation='relu'))"
      ],
      "execution_count": 0,
      "outputs": []
    },
    {
      "cell_type": "code",
      "metadata": {
        "id": "iXePjV4D35iI",
        "colab_type": "code",
        "colab": {}
      },
      "source": [
        "model.add(tf.keras.layers.MaxPool2D(pool_size=2,strides=2,padding='valid'))"
      ],
      "execution_count": 0,
      "outputs": []
    },
    {
      "cell_type": "markdown",
      "metadata": {
        "id": "1ntMU7dPFzOv",
        "colab_type": "text"
      },
      "source": [
        "### Extra Dropout layer"
      ]
    },
    {
      "cell_type": "code",
      "metadata": {
        "id": "2AdwylrYF3is",
        "colab_type": "code",
        "colab": {}
      },
      "source": [
        "model.add(tf.keras.layers.Dropout(rate=0.2))"
      ],
      "execution_count": 0,
      "outputs": []
    },
    {
      "cell_type": "markdown",
      "metadata": {
        "id": "7GcqIr1W4r04",
        "colab_type": "text"
      },
      "source": [
        "### Adding the third convolutional layer\n",
        "cnn layer hyper-parameters:\n",
        "  \n",
        "    filters: 64\n",
        "    kernel_size: 3\n",
        "    padding: same\n",
        "    activation: relu"
      ]
    },
    {
      "cell_type": "code",
      "metadata": {
        "id": "EkZTu0P-5t0D",
        "colab_type": "code",
        "colab": {}
      },
      "source": [
        "model.add(tf.keras.layers.Conv2D(filters = 64, kernel_size = 3, padding = 'same', activation = 'relu'))"
      ],
      "execution_count": 0,
      "outputs": []
    },
    {
      "cell_type": "markdown",
      "metadata": {
        "id": "tOeFaVT14bv9",
        "colab_type": "text"
      },
      "source": [
        "###Adding the forth convolutional layer and the max-pooling layer\n",
        "\n",
        "cnn layer hyper-parameters:\n",
        "\n",
        "    filters: 64\n",
        "    kernel-size: 3\n",
        "    padding: same\n",
        "    activation: relu\n",
        "    \n",
        "MaxPool layer hyper-parameters:\n",
        "\n",
        "    pool_size: 2\n",
        "    strides: 2 \n",
        "    padding: valid"
      ]
    },
    {
      "cell_type": "code",
      "metadata": {
        "id": "y1MpC4Ca4rJH",
        "colab_type": "code",
        "colab": {}
      },
      "source": [
        "model.add(tf.keras.layers.Conv2D(filters=64,kernel_size=3,padding='same',activation='relu'))\n"
      ],
      "execution_count": 0,
      "outputs": []
    },
    {
      "cell_type": "code",
      "metadata": {
        "id": "nGwgz-b86t5W",
        "colab_type": "code",
        "colab": {}
      },
      "source": [
        "model.add(tf.keras.layers.MaxPool2D(pool_size=2,strides=2,padding='valid'))"
      ],
      "execution_count": 0,
      "outputs": []
    },
    {
      "cell_type": "markdown",
      "metadata": {
        "colab_type": "text",
        "id": "vekl2XPLGGsr"
      },
      "source": [
        "### Extra Dropout layer"
      ]
    },
    {
      "cell_type": "code",
      "metadata": {
        "colab_type": "code",
        "id": "DHsp3BA3GGss",
        "colab": {}
      },
      "source": [
        "model.add(tf.keras.layers.Dropout(rate=0.2))"
      ],
      "execution_count": 0,
      "outputs": []
    },
    {
      "cell_type": "markdown",
      "metadata": {
        "id": "NJX8Kc1nGWoW",
        "colab_type": "text"
      },
      "source": [
        "### More Layers"
      ]
    },
    {
      "cell_type": "code",
      "metadata": {
        "id": "7rs3XATRGUyK",
        "colab_type": "code",
        "colab": {}
      },
      "source": [
        "model.add(tf.keras.layers.Conv2D(filters=128, kernel_size=3, padding=\"same\", activation=\"relu\"))\n",
        "model.add(tf.keras.layers.Conv2D(filters=128, kernel_size=3, padding=\"same\", activation=\"relu\"))"
      ],
      "execution_count": 0,
      "outputs": []
    },
    {
      "cell_type": "markdown",
      "metadata": {
        "id": "tjubz_1JG1mT",
        "colab_type": "text"
      },
      "source": [
        "### Extra Maxpool Layer"
      ]
    },
    {
      "cell_type": "code",
      "metadata": {
        "id": "-IDZ4cIAG4RF",
        "colab_type": "code",
        "colab": {}
      },
      "source": [
        "model.add(tf.keras.layers.MaxPool2D(pool_size=2, strides=2, padding='valid'))"
      ],
      "execution_count": 0,
      "outputs": []
    },
    {
      "cell_type": "markdown",
      "metadata": {
        "id": "_UUnoAgWOakT",
        "colab_type": "text"
      },
      "source": [
        "### Add Dropout layer"
      ]
    },
    {
      "cell_type": "code",
      "metadata": {
        "id": "dVuUOafYOhKI",
        "colab_type": "code",
        "colab": {}
      },
      "source": [
        "model.add(tf.keras.layers.Dropout(0.2))"
      ],
      "execution_count": 0,
      "outputs": []
    },
    {
      "cell_type": "markdown",
      "metadata": {
        "id": "_RmRxl7j7Cjw",
        "colab_type": "text"
      },
      "source": [
        "### Adding the flattening layer"
      ]
    },
    {
      "cell_type": "code",
      "metadata": {
        "id": "jGy619RE6_kW",
        "colab_type": "code",
        "colab": {}
      },
      "source": [
        "model.add(tf.keras.layers.Flatten())"
      ],
      "execution_count": 0,
      "outputs": []
    },
    {
      "cell_type": "code",
      "metadata": {
        "id": "KwcksFkL7PQP",
        "colab_type": "code",
        "colab": {}
      },
      "source": [
        "model.add(tf.keras.layers.Dense(units=256, activation='relu'))"
      ],
      "execution_count": 0,
      "outputs": []
    },
    {
      "cell_type": "markdown",
      "metadata": {
        "colab_type": "text",
        "id": "rX1KC-AiG-Pa"
      },
      "source": [
        "### Add Dropout layer"
      ]
    },
    {
      "cell_type": "code",
      "metadata": {
        "colab_type": "code",
        "id": "VvZiky0iG-Pb",
        "colab": {}
      },
      "source": [
        "model.add(tf.keras.layers.Dropout(0.2))"
      ],
      "execution_count": 0,
      "outputs": []
    },
    {
      "cell_type": "markdown",
      "metadata": {
        "id": "l_AkR-bC7Sg-",
        "colab_type": "text"
      },
      "source": [
        "### Adding the first fully-connected layer\n",
        "\n",
        "Dense layer hyper-parameters:\n",
        "\n",
        "  * units/neurons: 10 (number of classes)\n",
        "  * activation: softmax"
      ]
    },
    {
      "cell_type": "code",
      "metadata": {
        "id": "Y0WebpqAHKEt",
        "colab_type": "code",
        "colab": {}
      },
      "source": [
        "model.add(tf.keras.layers.Dense(units=10, activation='softmax'))"
      ],
      "execution_count": 0,
      "outputs": []
    },
    {
      "cell_type": "code",
      "metadata": {
        "id": "mvi_5NS174u4",
        "colab_type": "code",
        "outputId": "2fe98e8d-2a6e-4931-8e94-7b4092007b3b",
        "colab": {
          "base_uri": "https://localhost:8080/",
          "height": 697
        }
      },
      "source": [
        "model.summary()"
      ],
      "execution_count": 25,
      "outputs": [
        {
          "output_type": "stream",
          "text": [
            "Model: \"sequential\"\n",
            "_________________________________________________________________\n",
            "Layer (type)                 Output Shape              Param #   \n",
            "=================================================================\n",
            "conv2d (Conv2D)              (None, 32, 32, 32)        896       \n",
            "_________________________________________________________________\n",
            "conv2d_1 (Conv2D)            (None, 32, 32, 32)        9248      \n",
            "_________________________________________________________________\n",
            "max_pooling2d (MaxPooling2D) (None, 16, 16, 32)        0         \n",
            "_________________________________________________________________\n",
            "dropout (Dropout)            (None, 16, 16, 32)        0         \n",
            "_________________________________________________________________\n",
            "conv2d_2 (Conv2D)            (None, 16, 16, 64)        18496     \n",
            "_________________________________________________________________\n",
            "conv2d_3 (Conv2D)            (None, 16, 16, 64)        36928     \n",
            "_________________________________________________________________\n",
            "max_pooling2d_1 (MaxPooling2 (None, 8, 8, 64)          0         \n",
            "_________________________________________________________________\n",
            "dropout_1 (Dropout)          (None, 8, 8, 64)          0         \n",
            "_________________________________________________________________\n",
            "conv2d_4 (Conv2D)            (None, 8, 8, 128)         73856     \n",
            "_________________________________________________________________\n",
            "conv2d_5 (Conv2D)            (None, 8, 8, 128)         147584    \n",
            "_________________________________________________________________\n",
            "max_pooling2d_2 (MaxPooling2 (None, 4, 4, 128)         0         \n",
            "_________________________________________________________________\n",
            "dropout_2 (Dropout)          (None, 4, 4, 128)         0         \n",
            "_________________________________________________________________\n",
            "flatten (Flatten)            (None, 2048)              0         \n",
            "_________________________________________________________________\n",
            "dense (Dense)                (None, 256)               524544    \n",
            "_________________________________________________________________\n",
            "dropout_3 (Dropout)          (None, 256)               0         \n",
            "_________________________________________________________________\n",
            "dense_1 (Dense)              (None, 10)                2570      \n",
            "=================================================================\n",
            "Total params: 814,122\n",
            "Trainable params: 814,122\n",
            "Non-trainable params: 0\n",
            "_________________________________________________________________\n"
          ],
          "name": "stdout"
        }
      ]
    },
    {
      "cell_type": "markdown",
      "metadata": {
        "id": "7qc1yR3A8PGA",
        "colab_type": "text"
      },
      "source": [
        "### Compiling the model\n",
        "\n",
        "**sparse_categorical_accuracy**\n",
        "\n",
        "sparse_categorical_accuracy checks to see if the maximal true value is equal to the index of the maximal predicted value. \n",
        "\n",
        "https://stackoverflow.com/questions/44477489/keras-difference-between-categorical-accuracy-and-sparse-categorical-accuracy"
      ]
    },
    {
      "cell_type": "code",
      "metadata": {
        "id": "n2BaFDpR75ym",
        "colab_type": "code",
        "colab": {}
      },
      "source": [
        "model.compile(\n",
        "  loss='sparse_categorical_crossentropy',\n",
        "  optimizer = 'Adam',\n",
        "  metrics = ['sparse_categorical_accuracy']\n",
        ")"
      ],
      "execution_count": 0,
      "outputs": []
    },
    {
      "cell_type": "code",
      "metadata": {
        "id": "gXBmmsm49M-v",
        "colab_type": "code",
        "outputId": "a7940a7a-1ca3-405c-c8a4-27b331c06e8b",
        "colab": {
          "base_uri": "https://localhost:8080/",
          "height": 1000
        }
      },
      "source": [
        "model.fit(X_train,y_train,epochs=30, batch_size=128, validation_split=0.1)"
      ],
      "execution_count": 27,
      "outputs": [
        {
          "output_type": "stream",
          "text": [
            "WARNING: Logging before flag parsing goes to stderr.\n",
            "W0805 14:20:02.523020 139988359165824 deprecation.py:323] From /usr/local/lib/python3.6/dist-packages/tensorflow/python/ops/math_grad.py:1250: add_dispatch_support.<locals>.wrapper (from tensorflow.python.ops.array_ops) is deprecated and will be removed in a future version.\n",
            "Instructions for updating:\n",
            "Use tf.where in 2.0, which has the same broadcast rule as np.where\n"
          ],
          "name": "stderr"
        },
        {
          "output_type": "stream",
          "text": [
            "Train on 45000 samples, validate on 5000 samples\n",
            "Epoch 1/30\n",
            "45000/45000 [==============================] - 11s 238us/sample - loss: 1.6736 - sparse_categorical_accuracy: 0.3753 - val_loss: 1.2969 - val_sparse_categorical_accuracy: 0.5298\n",
            "Epoch 2/30\n",
            "45000/45000 [==============================] - 6s 144us/sample - loss: 1.2174 - sparse_categorical_accuracy: 0.5624 - val_loss: 1.0649 - val_sparse_categorical_accuracy: 0.6280\n",
            "Epoch 3/30\n",
            "45000/45000 [==============================] - 6s 143us/sample - loss: 1.0017 - sparse_categorical_accuracy: 0.6442 - val_loss: 0.8783 - val_sparse_categorical_accuracy: 0.6944\n",
            "Epoch 4/30\n",
            "45000/45000 [==============================] - 6s 144us/sample - loss: 0.8763 - sparse_categorical_accuracy: 0.6888 - val_loss: 0.8373 - val_sparse_categorical_accuracy: 0.7110\n",
            "Epoch 5/30\n",
            "45000/45000 [==============================] - 6s 143us/sample - loss: 0.7799 - sparse_categorical_accuracy: 0.7256 - val_loss: 0.7183 - val_sparse_categorical_accuracy: 0.7524\n",
            "Epoch 6/30\n",
            "45000/45000 [==============================] - 6s 144us/sample - loss: 0.7087 - sparse_categorical_accuracy: 0.7529 - val_loss: 0.7021 - val_sparse_categorical_accuracy: 0.7600\n",
            "Epoch 7/30\n",
            "45000/45000 [==============================] - 6s 144us/sample - loss: 0.6423 - sparse_categorical_accuracy: 0.7750 - val_loss: 0.6585 - val_sparse_categorical_accuracy: 0.7758\n",
            "Epoch 8/30\n",
            "45000/45000 [==============================] - 7s 146us/sample - loss: 0.6013 - sparse_categorical_accuracy: 0.7883 - val_loss: 0.6258 - val_sparse_categorical_accuracy: 0.7900\n",
            "Epoch 9/30\n",
            "45000/45000 [==============================] - 7s 147us/sample - loss: 0.5597 - sparse_categorical_accuracy: 0.8034 - val_loss: 0.6428 - val_sparse_categorical_accuracy: 0.7818\n",
            "Epoch 10/30\n",
            "45000/45000 [==============================] - 7s 145us/sample - loss: 0.5246 - sparse_categorical_accuracy: 0.8139 - val_loss: 0.5764 - val_sparse_categorical_accuracy: 0.8068\n",
            "Epoch 11/30\n",
            "45000/45000 [==============================] - 7s 144us/sample - loss: 0.4828 - sparse_categorical_accuracy: 0.8282 - val_loss: 0.5905 - val_sparse_categorical_accuracy: 0.8016\n",
            "Epoch 12/30\n",
            "45000/45000 [==============================] - 7s 145us/sample - loss: 0.4596 - sparse_categorical_accuracy: 0.8378 - val_loss: 0.6016 - val_sparse_categorical_accuracy: 0.8020\n",
            "Epoch 13/30\n",
            "45000/45000 [==============================] - 7s 144us/sample - loss: 0.4229 - sparse_categorical_accuracy: 0.8495 - val_loss: 0.5943 - val_sparse_categorical_accuracy: 0.8058\n",
            "Epoch 14/30\n",
            "45000/45000 [==============================] - 7s 146us/sample - loss: 0.4102 - sparse_categorical_accuracy: 0.8545 - val_loss: 0.5697 - val_sparse_categorical_accuracy: 0.8166\n",
            "Epoch 15/30\n",
            "45000/45000 [==============================] - 7s 145us/sample - loss: 0.3773 - sparse_categorical_accuracy: 0.8646 - val_loss: 0.5834 - val_sparse_categorical_accuracy: 0.8156\n",
            "Epoch 16/30\n",
            "45000/45000 [==============================] - 7s 145us/sample - loss: 0.3620 - sparse_categorical_accuracy: 0.8698 - val_loss: 0.5709 - val_sparse_categorical_accuracy: 0.8204\n",
            "Epoch 17/30\n",
            "45000/45000 [==============================] - 7s 145us/sample - loss: 0.3472 - sparse_categorical_accuracy: 0.8750 - val_loss: 0.5907 - val_sparse_categorical_accuracy: 0.8178\n",
            "Epoch 18/30\n",
            "45000/45000 [==============================] - 7s 146us/sample - loss: 0.3302 - sparse_categorical_accuracy: 0.8816 - val_loss: 0.6117 - val_sparse_categorical_accuracy: 0.8112\n",
            "Epoch 19/30\n",
            "45000/45000 [==============================] - 7s 147us/sample - loss: 0.3199 - sparse_categorical_accuracy: 0.8859 - val_loss: 0.6158 - val_sparse_categorical_accuracy: 0.8086\n",
            "Epoch 20/30\n",
            "45000/45000 [==============================] - 7s 145us/sample - loss: 0.3054 - sparse_categorical_accuracy: 0.8910 - val_loss: 0.5953 - val_sparse_categorical_accuracy: 0.8176\n",
            "Epoch 21/30\n",
            "45000/45000 [==============================] - 7s 145us/sample - loss: 0.2964 - sparse_categorical_accuracy: 0.8921 - val_loss: 0.6054 - val_sparse_categorical_accuracy: 0.8198\n",
            "Epoch 22/30\n",
            "45000/45000 [==============================] - 7s 145us/sample - loss: 0.2815 - sparse_categorical_accuracy: 0.8997 - val_loss: 0.6193 - val_sparse_categorical_accuracy: 0.8152\n",
            "Epoch 23/30\n",
            "45000/45000 [==============================] - 7s 146us/sample - loss: 0.2740 - sparse_categorical_accuracy: 0.9030 - val_loss: 0.6399 - val_sparse_categorical_accuracy: 0.8136\n",
            "Epoch 24/30\n",
            "45000/45000 [==============================] - 7s 146us/sample - loss: 0.2712 - sparse_categorical_accuracy: 0.9023 - val_loss: 0.6225 - val_sparse_categorical_accuracy: 0.8196\n",
            "Epoch 25/30\n",
            "45000/45000 [==============================] - 7s 146us/sample - loss: 0.2576 - sparse_categorical_accuracy: 0.9073 - val_loss: 0.6468 - val_sparse_categorical_accuracy: 0.8134\n",
            "Epoch 26/30\n",
            "45000/45000 [==============================] - 7s 146us/sample - loss: 0.2546 - sparse_categorical_accuracy: 0.9086 - val_loss: 0.6403 - val_sparse_categorical_accuracy: 0.8214\n",
            "Epoch 27/30\n",
            "45000/45000 [==============================] - 7s 146us/sample - loss: 0.2456 - sparse_categorical_accuracy: 0.9134 - val_loss: 0.6139 - val_sparse_categorical_accuracy: 0.8240\n",
            "Epoch 28/30\n",
            "45000/45000 [==============================] - 7s 146us/sample - loss: 0.2310 - sparse_categorical_accuracy: 0.9180 - val_loss: 0.6799 - val_sparse_categorical_accuracy: 0.8210\n",
            "Epoch 29/30\n",
            "45000/45000 [==============================] - 7s 145us/sample - loss: 0.2340 - sparse_categorical_accuracy: 0.9171 - val_loss: 0.6665 - val_sparse_categorical_accuracy: 0.8242\n",
            "Epoch 30/30\n",
            "45000/45000 [==============================] - 7s 146us/sample - loss: 0.2295 - sparse_categorical_accuracy: 0.9178 - val_loss: 0.6827 - val_sparse_categorical_accuracy: 0.8130\n"
          ],
          "name": "stdout"
        },
        {
          "output_type": "execute_result",
          "data": {
            "text/plain": [
              "<tensorflow.python.keras.callbacks.History at 0x7f50da02dd30>"
            ]
          },
          "metadata": {
            "tags": []
          },
          "execution_count": 27
        }
      ]
    },
    {
      "cell_type": "code",
      "metadata": {
        "id": "-RmfGFhd8xGe",
        "colab_type": "code",
        "outputId": "a515daeb-4553-4a1d-bc6b-0b209559bf12",
        "colab": {
          "base_uri": "https://localhost:8080/",
          "height": 54
        }
      },
      "source": [
        "test_loss, test_accuracy = model.evaluate(X_test, y_test)"
      ],
      "execution_count": 28,
      "outputs": [
        {
          "output_type": "stream",
          "text": [
            "10000/10000 [==============================] - 1s 100us/sample - loss: 0.7212 - sparse_categorical_accuracy: 0.8048\n"
          ],
          "name": "stdout"
        }
      ]
    },
    {
      "cell_type": "code",
      "metadata": {
        "id": "XpFHCpjQ88VG",
        "colab_type": "code",
        "outputId": "5a1c6f57-38b1-4c90-d45a-2f7d568b7dfa",
        "colab": {
          "base_uri": "https://localhost:8080/",
          "height": 34
        }
      },
      "source": [
        "print(f'Test accuracy: {test_accuracy}')"
      ],
      "execution_count": 29,
      "outputs": [
        {
          "output_type": "stream",
          "text": [
            "Test accuracy: 0.8047999739646912\n"
          ],
          "name": "stdout"
        }
      ]
    },
    {
      "cell_type": "code",
      "metadata": {
        "id": "M0OtpPiO9KIe",
        "colab_type": "code",
        "colab": {}
      },
      "source": [
        ""
      ],
      "execution_count": 0,
      "outputs": []
    }
  ]
}