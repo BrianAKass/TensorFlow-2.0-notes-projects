{
  "nbformat": 4,
  "nbformat_minor": 0,
  "metadata": {
    "colab": {
      "name": "03-01 Building a convolutional neural network.ipynb",
      "version": "0.3.2",
      "provenance": []
    },
    "kernelspec": {
      "name": "python3",
      "display_name": "Python 3"
    }
  },
  "cells": [
    {
      "cell_type": "code",
      "metadata": {
        "id": "Ovd9NWa-qL0V",
        "colab_type": "code",
        "colab": {}
      },
      "source": [
        " pip install tensorflow==2.0.0-beta1 "
      ],
      "execution_count": 0,
      "outputs": []
    },
    {
      "cell_type": "markdown",
      "metadata": {
        "id": "pdvsoK5SsD-7",
        "colab_type": "text"
      },
      "source": [
        ""
      ]
    }
  ]
}