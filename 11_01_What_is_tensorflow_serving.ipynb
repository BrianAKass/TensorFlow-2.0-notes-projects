{
  "nbformat": 4,
  "nbformat_minor": 0,
  "metadata": {
    "colab": {
      "name": "11-01 What is tensorflow serving.ipynb",
      "version": "0.3.2",
      "provenance": []
    },
    "kernelspec": {
      "name": "python3",
      "display_name": "Python 3"
    },
    "accelerator": "GPU"
  },
  "cells": [
    {
      "cell_type": "markdown",
      "metadata": {
        "id": "w3zwQtMYsTUu",
        "colab_type": "text"
      },
      "source": [
        "## What is tensorflow serving?\n",
        "\n",
        "  * extension of the TF library\n",
        "  * provides multiple services around the model itself.\n",
        "    - comparing all models\n",
        "    - version control of models\n",
        "    - ab testing\n",
        "    - and more!\n",
        "    \n",
        "  * On one side we have a trained model it could be any model\n",
        "  * TF serves the library that takes that model and creates a whole infrustructure around it and then we have an application on the other side. \n",
        " \n",
        " \n",
        " ![alt text](https://i.imgur.com/agtRbAO.png)\n",
        " \n",
        " * In short TFserving is our middle man and bridge in all this. \n",
        " \n",
        " \n",
        " ![alt text](https://i.imgur.com/oTwJxn7.png)\n",
        " \n",
        " \n",
        " ## Advantages of using TF Serving\n",
        "  * Scalability\n",
        "  * Low-latency\n",
        "  * Handles multiple models\n",
        "  * Handles multiple versions of the same model\n",
        "  \n",
        "  \n",
        "  ## Architecture of TensorFlow Serving\n",
        "  \n",
        "  ![alt text](https://i.imgur.com/fIiNEJL.png)\n",
        "  \n",
        "  What is the role of TF serving on the server side?\n",
        "  \n",
        "  split up into two dsections File system and TF Serving.\n",
        "  \n",
        "  Models are saved on file system could be the same model but different versions of it. Or totally differnet ones. we might need one model for one thing and a different one for others. This is where tf comes into play. \n",
        "  \n",
        "  Three main things we need to know on the TF serving side are pictured above. Servable handler which handles our model, version manager multiple models for different tasks are coordinated here. Which ones for whiich scenario. Finally model loader. Closest to file system. takes message from version manager on what model to load and will then reach to the file system and hand it the one it needs. "
      ]
    }
  ]
}